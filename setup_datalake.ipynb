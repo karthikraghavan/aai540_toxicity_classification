{
 "cells": [
  {
   "cell_type": "markdown",
   "id": "8abb31b8-2ea3-4850-8c0f-41660a451ec1",
   "metadata": {},
   "source": [
    "This code was borrowed from AAI 540 labs\n",
    "\n",
    "https://github.com/mechristenson/aai-540-labs.git"
   ]
  },
  {
   "cell_type": "markdown",
   "id": "f13af68f-2c5d-4f97-958f-11ac3408c16f",
   "metadata": {},
   "source": [
    "## Create S3 Bucket"
   ]
  },
  {
   "cell_type": "code",
   "execution_count": 1,
   "id": "ec76d1f8-faa4-4808-a017-9c9be3c52586",
   "metadata": {
    "execution": {
     "iopub.execute_input": "2025-09-12T01:52:17.837700Z",
     "iopub.status.busy": "2025-09-12T01:52:17.837345Z",
     "iopub.status.idle": "2025-09-12T01:52:25.444512Z",
     "shell.execute_reply": "2025-09-12T01:52:25.443859Z",
     "shell.execute_reply.started": "2025-09-12T01:52:17.837663Z"
    }
   },
   "outputs": [
    {
     "name": "stdout",
     "output_type": "stream",
     "text": [
      "Requirement already satisfied: boto3 in /opt/conda/lib/python3.12/site-packages (1.37.1)\n",
      "Collecting boto3\n",
      "  Downloading boto3-1.40.29-py3-none-any.whl.metadata (6.7 kB)\n",
      "Requirement already satisfied: botocore in /opt/conda/lib/python3.12/site-packages (1.37.1)\n",
      "Collecting botocore\n",
      "  Downloading botocore-1.40.29-py3-none-any.whl.metadata (5.7 kB)\n",
      "Collecting awscli\n",
      "  Downloading awscli-1.42.29-py3-none-any.whl.metadata (11 kB)\n",
      "Requirement already satisfied: jmespath<2.0.0,>=0.7.1 in /opt/conda/lib/python3.12/site-packages (from boto3) (1.0.1)\n",
      "Collecting s3transfer<0.15.0,>=0.14.0 (from boto3)\n",
      "  Downloading s3transfer-0.14.0-py3-none-any.whl.metadata (1.7 kB)\n",
      "Requirement already satisfied: python-dateutil<3.0.0,>=2.1 in /opt/conda/lib/python3.12/site-packages (from botocore) (2.9.0.post0)\n",
      "Requirement already satisfied: urllib3!=2.2.0,<3,>=1.25.4 in /opt/conda/lib/python3.12/site-packages (from botocore) (1.26.19)\n",
      "Requirement already satisfied: six>=1.5 in /opt/conda/lib/python3.12/site-packages (from python-dateutil<3.0.0,>=2.1->botocore) (1.17.0)\n",
      "Collecting docutils<=0.19,>=0.18.1 (from awscli)\n",
      "  Downloading docutils-0.19-py3-none-any.whl.metadata (2.7 kB)\n",
      "Requirement already satisfied: PyYAML<6.1,>=3.10 in /opt/conda/lib/python3.12/site-packages (from awscli) (6.0.2)\n",
      "Requirement already satisfied: colorama<0.4.7,>=0.2.5 in /opt/conda/lib/python3.12/site-packages (from awscli) (0.4.6)\n",
      "Collecting rsa<4.8,>=3.1.2 (from awscli)\n",
      "  Downloading rsa-4.7.2-py3-none-any.whl.metadata (3.6 kB)\n",
      "Requirement already satisfied: pyasn1>=0.1.3 in /opt/conda/lib/python3.12/site-packages (from rsa<4.8,>=3.1.2->awscli) (0.6.1)\n",
      "Downloading boto3-1.40.29-py3-none-any.whl (139 kB)\n",
      "Downloading botocore-1.40.29-py3-none-any.whl (14.0 MB)\n",
      "\u001b[2K   \u001b[90m━━━━━━━━━━━━━━━━━━━━━━━━━━━━━━━━━━━━━━━━\u001b[0m \u001b[32m14.0/14.0 MB\u001b[0m \u001b[31m191.2 MB/s\u001b[0m  \u001b[33m0:00:00\u001b[0m\n",
      "\u001b[?25hDownloading s3transfer-0.14.0-py3-none-any.whl (85 kB)\n",
      "Downloading awscli-1.42.29-py3-none-any.whl (4.7 MB)\n",
      "\u001b[2K   \u001b[90m━━━━━━━━━━━━━━━━━━━━━━━━━━━━━━━━━━━━━━━━\u001b[0m \u001b[32m4.7/4.7 MB\u001b[0m \u001b[31m160.0 MB/s\u001b[0m  \u001b[33m0:00:00\u001b[0m\n",
      "\u001b[?25hDownloading docutils-0.19-py3-none-any.whl (570 kB)\n",
      "\u001b[2K   \u001b[90m━━━━━━━━━━━━━━━━━━━━━━━━━━━━━━━━━━━━━━━━\u001b[0m \u001b[32m570.5/570.5 kB\u001b[0m \u001b[31m52.8 MB/s\u001b[0m  \u001b[33m0:00:00\u001b[0m\n",
      "\u001b[?25hDownloading rsa-4.7.2-py3-none-any.whl (34 kB)\n",
      "Installing collected packages: rsa, docutils, botocore, s3transfer, boto3, awscli\n",
      "\u001b[2K  Attempting uninstall: rsa\n",
      "\u001b[2K    Found existing installation: rsa 4.9.1\n",
      "\u001b[2K    Uninstalling rsa-4.9.1:\n",
      "\u001b[2K      Successfully uninstalled rsa-4.9.1\n",
      "\u001b[2K  Attempting uninstall: botocorem━━━━━━━━━━━━━━━━━━━━━━━━━━━━━━━━━\u001b[0m \u001b[32m1/6\u001b[0m [docutils]\n",
      "\u001b[2K    Found existing installation: botocore 1.37.1━━━━━━━━━━━━━━\u001b[0m \u001b[32m1/6\u001b[0m [docutils]\n",
      "\u001b[2K    Uninstalling botocore-1.37.1:0m\u001b[90m━━━━━━━━━━━━━━━━━━━━━━━━━━\u001b[0m \u001b[32m2/6\u001b[0m [botocore]\n",
      "\u001b[2K      Successfully uninstalled botocore-1.37.1━━━━━━━━━━━━━━━━\u001b[0m \u001b[32m2/6\u001b[0m [botocore]\n",
      "\u001b[2K  Attempting uninstall: s3transferm\u001b[90m━━━━━━━━━━━━━━━━━━━━━━━━━━\u001b[0m \u001b[32m2/6\u001b[0m [botocore]\n",
      "\u001b[2K    Found existing installation: s3transfer 0.11.3━━━━━━━━━━━━━━━━\u001b[0m \u001b[32m3/6\u001b[0m [s3transfer]\n",
      "\u001b[2K    Uninstalling s3transfer-0.11.3:[0m\u001b[90m━━━━━━━━━━━━━━━━━━━\u001b[0m \u001b[32m3/6\u001b[0m [s3transfer]\n",
      "\u001b[2K      Successfully uninstalled s3transfer-0.11.3━━━━━━━━━━━━━━\u001b[0m \u001b[32m3/6\u001b[0m [s3transfer]\n",
      "\u001b[2K  Attempting uninstall: boto3[90m╺\u001b[0m\u001b[90m━━━━━━━━━━━━━━━━━━━\u001b[0m \u001b[32m3/6\u001b[0m [s3transfer]\n",
      "\u001b[2K    Found existing installation: boto3 1.37.1━━━━━━━━━━━━━━━━━\u001b[0m \u001b[32m3/6\u001b[0m [s3transfer]\n",
      "\u001b[2K    Uninstalling boto3-1.37.1:90m╺\u001b[0m\u001b[90m━━━━━━━━━━━━━━━━━━━\u001b[0m \u001b[32m3/6\u001b[0m [s3transfer]\n",
      "\u001b[2K      Successfully uninstalled boto3-1.37.1━━━━━━━━━━━━━━━━━━━\u001b[0m \u001b[32m3/6\u001b[0m [s3transfer]\n",
      "\u001b[2K   \u001b[90m━━━━━━━━━━━━━━━━━━━━━━━━━━━━━━━━━━━━━━━━\u001b[0m \u001b[32m6/6\u001b[0m [awscli]2m5/6\u001b[0m [awscli]\n",
      "\u001b[1A\u001b[2K\u001b[31mERROR: pip's dependency resolver does not currently take into account all the packages that are installed. This behaviour is the source of the following dependency conflicts.\n",
      "autogluon-multimodal 1.4.0 requires nvidia-ml-py3<8.0,>=7.352.0, which is not installed.\n",
      "aiobotocore 2.21.1 requires botocore<1.37.2,>=1.37.0, but you have botocore 1.40.29 which is incompatible.\n",
      "autogluon-multimodal 1.4.0 requires transformers[sentencepiece]<4.50,>=4.38.0, but you have transformers 4.55.2 which is incompatible.\n",
      "autogluon-timeseries 1.4.0 requires transformers[sentencepiece]<4.50,>=4.38.0, but you have transformers 4.55.2 which is incompatible.\n",
      "sagemaker-studio-analytics-extension 0.2.0 requires sparkmagic==0.22.0, but you have sparkmagic 0.21.0 which is incompatible.\u001b[0m\u001b[31m\n",
      "\u001b[0mSuccessfully installed awscli-1.42.29 boto3-1.40.29 botocore-1.40.29 docutils-0.19 rsa-4.7.2 s3transfer-0.14.0\n",
      "Note: you may need to restart the kernel to use updated packages.\n"
     ]
    }
   ],
   "source": [
    "pip install --upgrade boto3 botocore awscli"
   ]
  },
  {
   "cell_type": "code",
   "execution_count": 2,
   "id": "b845fbfc-08c9-4efc-bc0b-db5f96c6facf",
   "metadata": {
    "execution": {
     "iopub.execute_input": "2025-09-12T01:52:40.857345Z",
     "iopub.status.busy": "2025-09-12T01:52:40.857058Z",
     "iopub.status.idle": "2025-09-12T01:52:43.819582Z",
     "shell.execute_reply": "2025-09-12T01:52:43.818795Z",
     "shell.execute_reply.started": "2025-09-12T01:52:40.857322Z"
    }
   },
   "outputs": [
    {
     "name": "stdout",
     "output_type": "stream",
     "text": [
      "sagemaker.config INFO - Not applying SDK defaults from location: /etc/xdg/sagemaker/config.yaml\n",
      "sagemaker.config INFO - Not applying SDK defaults from location: /home/sagemaker-user/.config/sagemaker/config.yaml\n"
     ]
    }
   ],
   "source": [
    "import boto3\n",
    "import sagemaker\n",
    "\n",
    "session = boto3.session.Session()\n",
    "region = session.region_name\n",
    "sagemaker_session = sagemaker.Session()\n",
    "bucket = sagemaker_session.default_bucket()\n",
    "\n",
    "s3 = boto3.Session().client(service_name=\"s3\", region_name=region)"
   ]
  },
  {
   "cell_type": "code",
   "execution_count": 3,
   "id": "cce119a4-3d07-4df2-a0db-d5504e21a392",
   "metadata": {
    "execution": {
     "iopub.execute_input": "2025-09-12T01:52:53.245370Z",
     "iopub.status.busy": "2025-09-12T01:52:53.245100Z",
     "iopub.status.idle": "2025-09-12T01:52:53.248598Z",
     "shell.execute_reply": "2025-09-12T01:52:53.247920Z",
     "shell.execute_reply.started": "2025-09-12T01:52:53.245349Z"
    }
   },
   "outputs": [],
   "source": [
    "setup_s3_bucket_passed = False"
   ]
  },
  {
   "cell_type": "code",
   "execution_count": 4,
   "id": "081b87f0-2817-4d21-bb3b-03db1bc29ad2",
   "metadata": {
    "execution": {
     "iopub.execute_input": "2025-09-12T01:53:00.028132Z",
     "iopub.status.busy": "2025-09-12T01:53:00.027828Z",
     "iopub.status.idle": "2025-09-12T01:53:00.046013Z",
     "shell.execute_reply": "2025-09-12T01:53:00.044897Z",
     "shell.execute_reply.started": "2025-09-12T01:53:00.028108Z"
    }
   },
   "outputs": [
    {
     "name": "stdout",
     "output_type": "stream",
     "text": [
      "Default bucket: sagemaker-us-east-1-590183687297\n"
     ]
    }
   ],
   "source": [
    "print(\"Default bucket: {}\".format(bucket))"
   ]
  },
  {
   "cell_type": "markdown",
   "id": "507dafcd-fe1e-4abf-9372-f30666136caa",
   "metadata": {},
   "source": [
    "Verify S3_BUCKET Bucket Creation"
   ]
  },
  {
   "cell_type": "code",
   "execution_count": 5,
   "id": "630e5650-f39e-4d65-a60d-3fa56dead63d",
   "metadata": {
    "execution": {
     "iopub.execute_input": "2025-09-12T01:53:30.945430Z",
     "iopub.status.busy": "2025-09-12T01:53:30.945152Z",
     "iopub.status.idle": "2025-09-12T01:53:30.996595Z",
     "shell.execute_reply": "2025-09-12T01:53:30.995931Z",
     "shell.execute_reply.started": "2025-09-12T01:53:30.945409Z"
    }
   },
   "outputs": [
    {
     "name": "stdout",
     "output_type": "stream",
     "text": [
      "{'ResponseMetadata': {'RequestId': 'ENWCNP07276K5ZSB', 'HostId': 'Tg05tJqfeO8P33BBFygDwHi+FlrvGRUDFvM89uM6DVBFbtCt8GexN0hCRra59gw62Ul3uMECRoM=', 'HTTPStatusCode': 200, 'HTTPHeaders': {'x-amz-id-2': 'Tg05tJqfeO8P33BBFygDwHi+FlrvGRUDFvM89uM6DVBFbtCt8GexN0hCRra59gw62Ul3uMECRoM=', 'x-amz-request-id': 'ENWCNP07276K5ZSB', 'date': 'Fri, 12 Sep 2025 01:53:31 GMT', 'x-amz-bucket-region': 'us-east-1', 'x-amz-access-point-alias': 'false', 'content-type': 'application/xml', 'transfer-encoding': 'chunked', 'server': 'AmazonS3'}, 'RetryAttempts': 0}, 'BucketRegion': 'us-east-1', 'AccessPointAlias': False}\n"
     ]
    }
   ],
   "source": [
    "from botocore.client import ClientError\n",
    "\n",
    "response = None\n",
    "\n",
    "try:\n",
    "    response = s3.head_bucket(Bucket=bucket)\n",
    "    print(response)\n",
    "    setup_s3_bucket_passed = True\n",
    "except ClientError as e:\n",
    "    print(\"[ERROR] Cannot find bucket {} in {} due to {}.\".format(bucket, response, e))"
   ]
  },
  {
   "cell_type": "code",
   "execution_count": 6,
   "id": "1fb2f0d1-af79-4552-9edf-502eb24c2ece",
   "metadata": {
    "execution": {
     "iopub.execute_input": "2025-09-12T01:53:44.628325Z",
     "iopub.status.busy": "2025-09-12T01:53:44.627939Z",
     "iopub.status.idle": "2025-09-12T01:53:44.633760Z",
     "shell.execute_reply": "2025-09-12T01:53:44.633075Z",
     "shell.execute_reply.started": "2025-09-12T01:53:44.628293Z"
    }
   },
   "outputs": [
    {
     "name": "stdout",
     "output_type": "stream",
     "text": [
      "Stored 'setup_s3_bucket_passed' (bool)\n"
     ]
    }
   ],
   "source": [
    "%store setup_s3_bucket_passed\n"
   ]
  },
  {
   "cell_type": "code",
   "execution_count": 7,
   "id": "693a9ec5-f03a-42d8-b6ed-c6eca8b52538",
   "metadata": {
    "execution": {
     "iopub.execute_input": "2025-09-12T01:53:50.025496Z",
     "iopub.status.busy": "2025-09-12T01:53:50.025225Z",
     "iopub.status.idle": "2025-09-12T01:53:50.030138Z",
     "shell.execute_reply": "2025-09-12T01:53:50.029435Z",
     "shell.execute_reply.started": "2025-09-12T01:53:50.025476Z"
    }
   },
   "outputs": [
    {
     "name": "stdout",
     "output_type": "stream",
     "text": [
      "Stored variables and their in-db values:\n",
      "setup_s3_bucket_passed             -> True\n"
     ]
    }
   ],
   "source": [
    "%store\n"
   ]
  },
  {
   "cell_type": "markdown",
   "id": "8f7c4f4d-cd99-46f4-acf4-8c33c4208a46",
   "metadata": {},
   "source": [
    "### Release Resources"
   ]
  },
  {
   "cell_type": "code",
   "execution_count": 8,
   "id": "c9560d26-b1b5-4111-8d45-a8b999f5fa65",
   "metadata": {
    "execution": {
     "iopub.execute_input": "2025-09-12T01:54:19.017755Z",
     "iopub.status.busy": "2025-09-12T01:54:19.017379Z",
     "iopub.status.idle": "2025-09-12T01:54:19.028918Z",
     "shell.execute_reply": "2025-09-12T01:54:19.026012Z",
     "shell.execute_reply.started": "2025-09-12T01:54:19.017723Z"
    }
   },
   "outputs": [
    {
     "data": {
      "text/html": [
       "\n",
       "<p><b>Shutting down your kernel for this notebook to release resources.</b></p>\n",
       "<button class=\"sm-command-button\" data-commandlinker-command=\"kernelmenu:shutdown\" style=\"display:none;\">Shutdown Kernel</button>\n",
       "        \n",
       "<script>\n",
       "try {\n",
       "    els = document.getElementsByClassName(\"sm-command-button\");\n",
       "    els[0].click();\n",
       "}\n",
       "catch(err) {\n",
       "    // NoOp\n",
       "}    \n",
       "</script>\n"
      ],
      "text/plain": [
       "<IPython.core.display.HTML object>"
      ]
     },
     "metadata": {},
     "output_type": "display_data"
    }
   ],
   "source": [
    "%%html\n",
    "\n",
    "<p><b>Shutting down your kernel for this notebook to release resources.</b></p>\n",
    "<button class=\"sm-command-button\" data-commandlinker-command=\"kernelmenu:shutdown\" style=\"display:none;\">Shutdown Kernel</button>\n",
    "        \n",
    "<script>\n",
    "try {\n",
    "    els = document.getElementsByClassName(\"sm-command-button\");\n",
    "    els[0].click();\n",
    "}\n",
    "catch(err) {\n",
    "    // NoOp\n",
    "}    \n",
    "</script>"
   ]
  },
  {
   "cell_type": "code",
   "execution_count": 1,
   "id": "7efc18c1-826a-4f70-9252-5327de1725b2",
   "metadata": {
    "execution": {
     "iopub.execute_input": "2025-09-12T01:54:29.021326Z",
     "iopub.status.busy": "2025-09-12T01:54:29.021058Z",
     "iopub.status.idle": "2025-09-12T01:54:29.029559Z",
     "shell.execute_reply": "2025-09-12T01:54:29.028872Z",
     "shell.execute_reply.started": "2025-09-12T01:54:29.021304Z"
    }
   },
   "outputs": [
    {
     "data": {
      "application/javascript": [
       "\n",
       "try {\n",
       "    Jupyter.notebook.save_checkpoint();\n",
       "    Jupyter.notebook.session.delete();\n",
       "}\n",
       "catch(err) {\n",
       "    // NoOp\n",
       "}\n"
      ],
      "text/plain": [
       "<IPython.core.display.Javascript object>"
      ]
     },
     "metadata": {},
     "output_type": "display_data"
    }
   ],
   "source": [
    "%%javascript\n",
    "\n",
    "try {\n",
    "    Jupyter.notebook.save_checkpoint();\n",
    "    Jupyter.notebook.session.delete();\n",
    "}\n",
    "catch(err) {\n",
    "    // NoOp\n",
    "}"
   ]
  },
  {
   "cell_type": "markdown",
   "id": "beab2d6a-cbb7-423b-af5c-3b48bd9e7413",
   "metadata": {},
   "source": [
    "## Set up Data lake"
   ]
  },
  {
   "cell_type": "code",
   "execution_count": 7,
   "id": "3bb15d17-8aa9-4fb5-9b91-4246de6220a2",
   "metadata": {
    "execution": {
     "iopub.execute_input": "2025-09-12T02:11:54.522025Z",
     "iopub.status.busy": "2025-09-12T02:11:54.521678Z",
     "iopub.status.idle": "2025-09-12T02:11:57.673168Z",
     "shell.execute_reply": "2025-09-12T02:11:57.672398Z",
     "shell.execute_reply.started": "2025-09-12T02:11:54.522000Z"
    }
   },
   "outputs": [
    {
     "name": "stdout",
     "output_type": "stream",
     "text": [
      "sagemaker.config INFO - Not applying SDK defaults from location: /etc/xdg/sagemaker/config.yaml\n",
      "sagemaker.config INFO - Not applying SDK defaults from location: /home/sagemaker-user/.config/sagemaker/config.yaml\n"
     ]
    }
   ],
   "source": [
    "import boto3\n",
    "import sagemaker\n",
    "import pandas as pd\n",
    "\n",
    "sess = sagemaker.Session()\n",
    "bucket = sess.default_bucket()\n",
    "role = sagemaker.get_execution_role()\n",
    "region = boto3.Session().region_name\n",
    "account_id = boto3.client(\"sts\").get_caller_identity().get(\"Account\")\n",
    "\n",
    "sm = boto3.Session().client(service_name=\"sagemaker\", region_name=region)"
   ]
  },
  {
   "cell_type": "markdown",
   "id": "e37b8cfa-481d-4f49-92d0-df12df250fc3",
   "metadata": {},
   "source": [
    "#### Set S3 Destination Folder"
   ]
  },
  {
   "cell_type": "code",
   "execution_count": 8,
   "id": "d56e7b6c-0530-48b9-a954-7e9b7a3fbaee",
   "metadata": {
    "execution": {
     "iopub.execute_input": "2025-09-12T02:12:03.971936Z",
     "iopub.status.busy": "2025-09-12T02:12:03.971665Z",
     "iopub.status.idle": "2025-09-12T02:12:03.976163Z",
     "shell.execute_reply": "2025-09-12T02:12:03.975285Z",
     "shell.execute_reply.started": "2025-09-12T02:12:03.971915Z"
    }
   },
   "outputs": [
    {
     "name": "stdout",
     "output_type": "stream",
     "text": [
      "s3://sagemaker-us-east-1-590183687297/amazon-reviews-pds/parquet\n"
     ]
    }
   ],
   "source": [
    "s3_private_path_parquet = \"s3://{}/amazon-reviews-pds/parquet\".format(bucket)\n",
    "print(s3_private_path_parquet)"
   ]
  },
  {
   "cell_type": "code",
   "execution_count": 2,
   "id": "2bb2aa1e-9f5a-4f0e-94a8-9100fa83047d",
   "metadata": {
    "execution": {
     "iopub.execute_input": "2025-09-12T01:57:33.636080Z",
     "iopub.status.busy": "2025-09-12T01:57:33.635813Z",
     "iopub.status.idle": "2025-09-12T01:57:33.639945Z",
     "shell.execute_reply": "2025-09-12T01:57:33.639070Z",
     "shell.execute_reply.started": "2025-09-12T01:57:33.636057Z"
    }
   },
   "outputs": [],
   "source": [
    "%store -r setup_s3_bucket_passed"
   ]
  },
  {
   "cell_type": "code",
   "execution_count": 4,
   "id": "acfd035d-746e-4b95-8a4d-e9f1134e6dde",
   "metadata": {
    "execution": {
     "iopub.execute_input": "2025-09-12T01:58:11.689164Z",
     "iopub.status.busy": "2025-09-12T01:58:11.688905Z",
     "iopub.status.idle": "2025-09-12T01:58:11.692281Z",
     "shell.execute_reply": "2025-09-12T01:58:11.691691Z",
     "shell.execute_reply.started": "2025-09-12T01:58:11.689143Z"
    }
   },
   "outputs": [],
   "source": [
    "try:\n",
    "    setup_s3_bucket_passed\n",
    "except NameError:\n",
    "    print(\"+++++++++++++++++++++++++++++++\")\n",
    "    print(\"[ERROR] YOU HAVE TO RUN ALL NOTEBOOKS IN THE SETUP FOLDER FIRST. You are missing Setup S3 Bucket.\")\n",
    "    print(\"+++++++++++++++++++++++++++++++\")\n"
   ]
  },
  {
   "cell_type": "code",
   "execution_count": 5,
   "id": "7c7f3517-1096-4ee5-9fe2-c2ddade67bed",
   "metadata": {
    "execution": {
     "iopub.execute_input": "2025-09-12T01:58:33.407276Z",
     "iopub.status.busy": "2025-09-12T01:58:33.406781Z",
     "iopub.status.idle": "2025-09-12T01:58:33.410922Z",
     "shell.execute_reply": "2025-09-12T01:58:33.410036Z",
     "shell.execute_reply.started": "2025-09-12T01:58:33.407245Z"
    }
   },
   "outputs": [],
   "source": [
    "if not setup_s3_bucket_passed:\n",
    "    print(\"+++++++++++++++++++++++++++++++++++++++++++++++++++++++++++++++\")\n",
    "    print(\"[ERROR] YOU HAVE TO RUN ALL NOTEBOOKS IN THE SETUP FOLDER FIRST. You are missing Setup S3 Bucket.\")\n",
    "    print(\"+++++++++++++++++++++++++++++++++++++++++++++++++++++++++++++++\")"
   ]
  },
  {
   "cell_type": "markdown",
   "id": "e554c494-9790-471a-b65e-f005dcd936d5",
   "metadata": {},
   "source": [
    "### Copy data from github to S3 bucket"
   ]
  },
  {
   "cell_type": "code",
   "execution_count": 9,
   "id": "08f5d13d-bc9f-4af3-b93d-fb1dbb350fac",
   "metadata": {
    "execution": {
     "iopub.execute_input": "2025-09-12T02:12:53.170081Z",
     "iopub.status.busy": "2025-09-12T02:12:53.169785Z",
     "iopub.status.idle": "2025-09-12T02:12:54.787287Z",
     "shell.execute_reply": "2025-09-12T02:12:54.786351Z",
     "shell.execute_reply.started": "2025-09-12T02:12:53.170059Z"
    }
   },
   "outputs": [
    {
     "name": "stdout",
     "output_type": "stream",
     "text": [
      "upload: civil/validation-00000-of-00001.parquet to s3://sagemaker-us-east-1-590183687297/amazon-reviews-pds/parquet/validation-00000-of-00001.parquet\n",
      "upload: civil/train-00000-of-00001.parquet to s3://sagemaker-us-east-1-590183687297/amazon-reviews-pds/parquet/train-00000-of-00001.parquet\n",
      "upload: civil/test-00000-of-00001.parquet to s3://sagemaker-us-east-1-590183687297/amazon-reviews-pds/parquet/test-00000-of-00001.parquet\n"
     ]
    }
   ],
   "source": [
    "!aws s3 cp --recursive /home/sagemaker-user/aai540_toxicity_classification/civil $s3_private_path_parquet/ --include \"*\"\n"
   ]
  },
  {
   "cell_type": "markdown",
   "id": "a26650d5-3e61-4fcd-8564-92b352adaf40",
   "metadata": {},
   "source": [
    "### List the files"
   ]
  },
  {
   "cell_type": "code",
   "execution_count": 10,
   "id": "5cc9638e-bc7e-41bd-bdfd-f995ee310f84",
   "metadata": {
    "execution": {
     "iopub.execute_input": "2025-09-12T02:13:37.180652Z",
     "iopub.status.busy": "2025-09-12T02:13:37.180293Z",
     "iopub.status.idle": "2025-09-12T02:13:37.187226Z",
     "shell.execute_reply": "2025-09-12T02:13:37.186303Z",
     "shell.execute_reply.started": "2025-09-12T02:13:37.180548Z"
    }
   },
   "outputs": [
    {
     "name": "stdout",
     "output_type": "stream",
     "text": [
      "s3://sagemaker-us-east-1-590183687297/amazon-reviews-pds/parquet\n"
     ]
    }
   ],
   "source": [
    "print(s3_private_path_parquet)"
   ]
  },
  {
   "cell_type": "code",
   "execution_count": 12,
   "id": "ca677098-c898-4475-a53c-640683623a63",
   "metadata": {
    "execution": {
     "iopub.execute_input": "2025-09-12T02:14:18.907726Z",
     "iopub.status.busy": "2025-09-12T02:14:18.907160Z",
     "iopub.status.idle": "2025-09-12T02:14:19.615185Z",
     "shell.execute_reply": "2025-09-12T02:14:19.614023Z",
     "shell.execute_reply.started": "2025-09-12T02:14:18.907689Z"
    }
   },
   "outputs": [
    {
     "name": "stdout",
     "output_type": "stream",
     "text": [
      "Note: AWS CLI version 2, the latest major version of the AWS CLI, is now stable and recommended for general use. For more information, see the AWS CLI version 2 installation instructions at: https://docs.aws.amazon.com/cli/latest/userguide/install-cliv2.html\n",
      "\n",
      "usage: aws [options] <command> <subcommand> [<subcommand> ...] [parameters]\n",
      "To see help text, you can run:\n",
      "\n",
      "  aws help\n",
      "  aws <command> help\n",
      "  aws <command> <subcommand> help\n",
      "aws: error: argument command: Invalid choice, valid choices are:\n",
      "\n",
      "accessanalyzer                           | account                                 \n",
      "acm                                      | acm-pca                                 \n",
      "aiops                                    | amp                                     \n",
      "amplify                                  | amplifybackend                          \n",
      "amplifyuibuilder                         | apigateway                              \n",
      "apigatewaymanagementapi                  | apigatewayv2                            \n",
      "appconfig                                | appconfigdata                           \n",
      "appfabric                                | appflow                                 \n",
      "appintegrations                          | application-autoscaling                 \n",
      "application-insights                     | application-signals                     \n",
      "applicationcostprofiler                  | appmesh                                 \n",
      "apprunner                                | appstream                               \n",
      "appsync                                  | apptest                                 \n",
      "arc-region-switch                        | arc-zonal-shift                         \n",
      "artifact                                 | athena                                  \n",
      "auditmanager                             | autoscaling                             \n",
      "autoscaling-plans                        | b2bi                                    \n",
      "backup                                   | backup-gateway                          \n",
      "backupsearch                             | batch                                   \n",
      "bcm-dashboards                           | bcm-data-exports                        \n",
      "bcm-pricing-calculator                   | bcm-recommended-actions                 \n",
      "bedrock                                  | bedrock-agent                           \n",
      "bedrock-agent-runtime                    | bedrock-agentcore                       \n",
      "bedrock-agentcore-control                | bedrock-data-automation                 \n",
      "bedrock-data-automation-runtime          | bedrock-runtime                         \n",
      "billing                                  | billingconductor                        \n",
      "braket                                   | budgets                                 \n",
      "ce                                       | chatbot                                 \n",
      "chime                                    | chime-sdk-identity                      \n",
      "chime-sdk-media-pipelines                | chime-sdk-meetings                      \n",
      "chime-sdk-messaging                      | chime-sdk-voice                         \n",
      "cleanrooms                               | cleanroomsml                            \n",
      "cloud9                                   | cloudcontrol                            \n",
      "clouddirectory                           | cloudformation                          \n",
      "cloudfront                               | cloudfront-keyvaluestore                \n",
      "cloudhsm                                 | cloudhsmv2                              \n",
      "cloudsearch                              | cloudsearchdomain                       \n",
      "cloudtrail                               | cloudtrail-data                         \n",
      "cloudwatch                               | codeartifact                            \n",
      "codebuild                                | codecatalyst                            \n",
      "codecommit                               | codeconnections                         \n",
      "codeguru-reviewer                        | codeguru-security                       \n",
      "codeguruprofiler                         | codepipeline                            \n",
      "codestar-connections                     | codestar-notifications                  \n",
      "cognito-identity                         | cognito-idp                             \n",
      "cognito-sync                             | comprehend                              \n",
      "comprehendmedical                        | compute-optimizer                       \n",
      "connect                                  | connect-contact-lens                    \n",
      "connectcampaigns                         | connectcampaignsv2                      \n",
      "connectcases                             | connectparticipant                      \n",
      "controlcatalog                           | controltower                            \n",
      "cost-optimization-hub                    | cur                                     \n",
      "customer-profiles                        | databrew                                \n",
      "dataexchange                             | datapipeline                            \n",
      "datasync                                 | datazone                                \n",
      "datazone_internal                        | dax                                     \n",
      "deadline                                 | detective                               \n",
      "devicefarm                               | devops-guru                             \n",
      "directconnect                            | discovery                               \n",
      "dlm                                      | dms                                     \n",
      "docdb                                    | docdb-elastic                           \n",
      "drs                                      | ds                                      \n",
      "ds-data                                  | dsql                                    \n",
      "dynamodb                                 | dynamodbstreams                         \n",
      "ebs                                      | ec2                                     \n",
      "ec2-instance-connect                     | ecr                                     \n",
      "ecr-public                               | ecs                                     \n",
      "efs                                      | eks                                     \n",
      "eks-auth                                 | elasticache                             \n",
      "elasticbeanstalk                         | elastictranscoder                       \n",
      "elb                                      | elbv2                                   \n",
      "emr                                      | emr-containers                          \n",
      "emr-serverless                           | entityresolution                        \n",
      "es                                       | events                                  \n",
      "evidently                                | evs                                     \n",
      "finspace                                 | finspace-data                           \n",
      "firehose                                 | fis                                     \n",
      "fms                                      | forecast                                \n",
      "forecastquery                            | frauddetector                           \n",
      "freetier                                 | fsx                                     \n",
      "gamelift                                 | gameliftstreams                         \n",
      "geo-maps                                 | geo-places                              \n",
      "geo-routes                               | glacier                                 \n",
      "globalaccelerator                        | glue                                    \n",
      "grafana                                  | greengrass                              \n",
      "greengrassv2                             | groundstation                           \n",
      "guardduty                                | health                                  \n",
      "healthlake                               | iam                                     \n",
      "identitystore                            | imagebuilder                            \n",
      "importexport                             | inspector                               \n",
      "inspector-scan                           | inspector2                              \n",
      "internetmonitor                          | invoicing                               \n",
      "iot                                      | iot-data                                \n",
      "iot-jobs-data                            | iot-managed-integrations                \n",
      "iotanalytics                             | iotdeviceadvisor                        \n",
      "iotevents                                | iotevents-data                          \n",
      "iotfleethub                              | iotfleetwise                            \n",
      "iotsecuretunneling                       | iotsitewise                             \n",
      "iotthingsgraph                           | iottwinmaker                            \n",
      "iotwireless                              | ivs                                     \n",
      "ivs-realtime                             | ivschat                                 \n",
      "kafka                                    | kafkaconnect                            \n",
      "kendra                                   | kendra-ranking                          \n",
      "keyspaces                                | keyspacesstreams                        \n",
      "kinesis                                  | kinesis-video-archived-media            \n",
      "kinesis-video-media                      | kinesis-video-signaling                 \n",
      "kinesis-video-webrtc-storage             | kinesisanalytics                        \n",
      "kinesisanalyticsv2                       | kinesisvideo                            \n",
      "kms                                      | lakeformation                           \n",
      "lambda                                   | launch-wizard                           \n",
      "lex-models                               | lex-runtime                             \n",
      "lexv2-models                             | lexv2-runtime                           \n",
      "license-manager                          | license-manager-linux-subscriptions     \n",
      "license-manager-user-subscriptions       | lightsail                               \n",
      "location                                 | logs                                    \n",
      "lookoutequipment                         | lookoutmetrics                          \n",
      "lookoutvision                            | m2                                      \n",
      "machinelearning                          | macie2                                  \n",
      "mailmanager                              | managedblockchain                       \n",
      "managedblockchain-query                  | marketplace-agreement                   \n",
      "marketplace-catalog                      | marketplace-deployment                  \n",
      "marketplace-entitlement                  | marketplace-reporting                   \n",
      "marketplacecommerceanalytics             | mediaconnect                            \n",
      "mediaconvert                             | medialive                               \n",
      "mediapackage                             | mediapackage-vod                        \n",
      "mediapackagev2                           | mediastore                              \n",
      "mediastore-data                          | mediatailor                             \n",
      "medical-imaging                          | memorydb                                \n",
      "meteringmarketplace                      | mgh                                     \n",
      "mgn                                      | migration-hub-refactor-spaces           \n",
      "migrationhub-config                      | migrationhuborchestrator                \n",
      "migrationhubstrategy                     | mpa                                     \n",
      "mq                                       | mturk                                   \n",
      "mwaa                                     | neptune                                 \n",
      "neptune-graph                            | neptunedata                             \n",
      "network-firewall                         | networkflowmonitor                      \n",
      "networkmanager                           | networkmonitor                          \n",
      "notifications                            | notificationscontacts                   \n",
      "oam                                      | observabilityadmin                      \n",
      "odb                                      | omics                                   \n",
      "opensearch                               | opensearchserverless                    \n",
      "organizations                            | osis                                    \n",
      "outposts                                 | panorama                                \n",
      "partnercentral-selling                   | payment-cryptography                    \n",
      "payment-cryptography-data                | pca-connector-ad                        \n",
      "pca-connector-scep                       | pcs                                     \n",
      "personalize                              | personalize-events                      \n",
      "personalize-runtime                      | pi                                      \n",
      "pinpoint                                 | pinpoint-email                          \n",
      "pinpoint-sms-voice                       | pinpoint-sms-voice-v2                   \n",
      "pipes                                    | polly                                   \n",
      "pricing                                  | proton                                  \n",
      "qapps                                    | qbusiness                               \n",
      "qconnect                                 | qldb                                    \n",
      "qldb-session                             | quicksight                              \n",
      "ram                                      | rbin                                    \n",
      "rds                                      | rds-data                                \n",
      "redshift                                 | redshift-data                           \n",
      "redshift-serverless                      | rekognition                             \n",
      "repostspace                              | resiliencehub                           \n",
      "resource-explorer-2                      | resource-groups                         \n",
      "resourcegroupstaggingapi                 | robomaker                               \n",
      "rolesanywhere                            | route53                                 \n",
      "route53-recovery-cluster                 | route53-recovery-control-config         \n",
      "route53-recovery-readiness               | route53domains                          \n",
      "route53profiles                          | route53resolver                         \n",
      "rum                                      | s3control                               \n",
      "s3outposts                               | s3tables                                \n",
      "s3vectors                                | sagemaker                               \n",
      "sagemaker-a2i-runtime                    | sagemaker-edge                          \n",
      "sagemaker-featurestore-runtime           | sagemaker-geospatial                    \n",
      "sagemaker-metrics                        | sagemaker-runtime                       \n",
      "savingsplans                             | scheduler                               \n",
      "schemas                                  | sdb                                     \n",
      "secretsmanager                           | security-ir                             \n",
      "securityhub                              | securitylake                            \n",
      "serverlessrepo                           | service-quotas                          \n",
      "servicecatalog                           | servicecatalog-appregistry              \n",
      "servicediscovery                         | ses                                     \n",
      "sesv2                                    | shield                                  \n",
      "signer                                   | simspaceweaver                          \n",
      "sms                                      | sms-voice                               \n",
      "snow-device-management                   | snowball                                \n",
      "sns                                      | socialmessaging                         \n",
      "sqs                                      | ssm                                     \n",
      "ssm-contacts                             | ssm-guiconnect                          \n",
      "ssm-incidents                            | ssm-quicksetup                          \n",
      "ssm-sap                                  | sso                                     \n",
      "sso-admin                                | sso-oidc                                \n",
      "stepfunctions                            | storagegateway                          \n",
      "sts                                      | supplychain                             \n",
      "support                                  | support-app                             \n",
      "swf                                      | synthetics                              \n",
      "taxsettings                              | textract                                \n",
      "timestream-influxdb                      | timestream-query                        \n",
      "timestream-write                         | tnb                                     \n",
      "transcribe                               | transfer                                \n",
      "translate                                | trustedadvisor                          \n",
      "verifiedpermissions                      | voice-id                                \n",
      "vpc-lattice                              | waf                                     \n",
      "waf-regional                             | wafv2                                   \n",
      "wellarchitected                          | wisdom                                  \n",
      "workdocs                                 | workmail                                \n",
      "workmailmessageflow                      | workspaces                              \n",
      "workspaces-instances                     | workspaces-thin-client                  \n",
      "workspaces-web                           | xray                                    \n",
      "s3api                                    | s3                                      \n",
      "configure                                | deploy                                  \n",
      "configservice                            | runtime.sagemaker                       \n",
      "history                                  | help                                    \n"
     ]
    }
   ],
   "source": [
    "!aws ls s3 s3_private_path_parquet"
   ]
  },
  {
   "cell_type": "code",
   "execution_count": null,
   "id": "133e1748-342f-4cd9-82a0-ba87dc6714e7",
   "metadata": {},
   "outputs": [],
   "source": []
  }
 ],
 "metadata": {
  "kernelspec": {
   "display_name": "Python 3 (ipykernel)",
   "language": "python",
   "name": "python3"
  },
  "language_info": {
   "codemirror_mode": {
    "name": "ipython",
    "version": 3
   },
   "file_extension": ".py",
   "mimetype": "text/x-python",
   "name": "python",
   "nbconvert_exporter": "python",
   "pygments_lexer": "ipython3",
   "version": "3.12.9"
  }
 },
 "nbformat": 4,
 "nbformat_minor": 5
}
