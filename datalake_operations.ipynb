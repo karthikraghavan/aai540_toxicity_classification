{
 "cells": [
  {
   "cell_type": "markdown",
   "id": "8abb31b8-2ea3-4850-8c0f-41660a451ec1",
   "metadata": {},
   "source": [
    "This code was borrowed from AAI 540 labs\n",
    "\n",
    "https://github.com/mechristenson/aai-540-labs.git"
   ]
  },
  {
   "cell_type": "markdown",
   "id": "f13af68f-2c5d-4f97-958f-11ac3408c16f",
   "metadata": {},
   "source": [
    "## Create S3 Bucket"
   ]
  },
  {
   "cell_type": "code",
   "execution_count": 1,
   "id": "ec76d1f8-faa4-4808-a017-9c9be3c52586",
   "metadata": {},
   "outputs": [],
   "source": [
    "#!pip install --upgrade boto3 botocore awscli"
   ]
  },
  {
   "cell_type": "code",
   "execution_count": 2,
   "id": "b845fbfc-08c9-4efc-bc0b-db5f96c6facf",
   "metadata": {},
   "outputs": [
    {
     "name": "stdout",
     "output_type": "stream",
     "text": [
      "sagemaker.config INFO - Not applying SDK defaults from location: /etc/xdg/sagemaker/config.yaml\n",
      "sagemaker.config INFO - Not applying SDK defaults from location: /home/sagemaker-user/.config/sagemaker/config.yaml\n"
     ]
    }
   ],
   "source": [
    "import boto3\n",
    "import sagemaker\n",
    "\n",
    "session = boto3.session.Session()\n",
    "region = session.region_name\n",
    "sagemaker_session = sagemaker.Session()\n",
    "bucket = sagemaker_session.default_bucket()\n",
    "\n",
    "s3 = boto3.Session().client(service_name=\"s3\", region_name=region)"
   ]
  },
  {
   "cell_type": "code",
   "execution_count": 3,
   "id": "cce119a4-3d07-4df2-a0db-d5504e21a392",
   "metadata": {
    "execution": {
     "iopub.execute_input": "2025-09-24T02:27:26.459810Z",
     "iopub.status.busy": "2025-09-24T02:27:26.459566Z",
     "iopub.status.idle": "2025-09-24T02:27:26.464219Z",
     "shell.execute_reply": "2025-09-24T02:27:26.463500Z",
     "shell.execute_reply.started": "2025-09-24T02:27:26.459784Z"
    }
   },
   "outputs": [],
   "source": [
    "setup_s3_bucket_passed = False"
   ]
  },
  {
   "cell_type": "code",
   "execution_count": 4,
   "id": "081b87f0-2817-4d21-bb3b-03db1bc29ad2",
   "metadata": {
    "execution": {
     "iopub.execute_input": "2025-09-24T02:27:26.470736Z",
     "iopub.status.busy": "2025-09-24T02:27:26.470321Z",
     "iopub.status.idle": "2025-09-24T02:27:26.476219Z",
     "shell.execute_reply": "2025-09-24T02:27:26.475432Z",
     "shell.execute_reply.started": "2025-09-24T02:27:26.470707Z"
    }
   },
   "outputs": [
    {
     "name": "stdout",
     "output_type": "stream",
     "text": [
      "Default bucket: sagemaker-us-east-1-590183687297\n"
     ]
    }
   ],
   "source": [
    "print(\"Default bucket: {}\".format(bucket))"
   ]
  },
  {
   "cell_type": "markdown",
   "id": "507dafcd-fe1e-4abf-9372-f30666136caa",
   "metadata": {},
   "source": [
    "Verify S3_BUCKET Bucket Creation"
   ]
  },
  {
   "cell_type": "code",
   "execution_count": 5,
   "id": "630e5650-f39e-4d65-a60d-3fa56dead63d",
   "metadata": {
    "execution": {
     "iopub.execute_input": "2025-09-24T02:27:26.485905Z",
     "iopub.status.busy": "2025-09-24T02:27:26.482887Z",
     "iopub.status.idle": "2025-09-24T02:27:26.564062Z",
     "shell.execute_reply": "2025-09-24T02:27:26.563338Z",
     "shell.execute_reply.started": "2025-09-24T02:27:26.485861Z"
    }
   },
   "outputs": [
    {
     "name": "stdout",
     "output_type": "stream",
     "text": [
      "{'ResponseMetadata': {'RequestId': '22A44Q29S48394A3', 'HostId': 'DilCGa8B3Vbn0czvhWbKof5c+yoq/EqUvkAnya5cC+rSEJISj6CEjbf5Oy/CGGsmRYaR2EKrhFJCStbALHMtUg==', 'HTTPStatusCode': 200, 'HTTPHeaders': {'x-amz-id-2': 'DilCGa8B3Vbn0czvhWbKof5c+yoq/EqUvkAnya5cC+rSEJISj6CEjbf5Oy/CGGsmRYaR2EKrhFJCStbALHMtUg==', 'x-amz-request-id': '22A44Q29S48394A3', 'date': 'Wed, 24 Sep 2025 02:27:27 GMT', 'x-amz-bucket-region': 'us-east-1', 'x-amz-access-point-alias': 'false', 'content-type': 'application/xml', 'transfer-encoding': 'chunked', 'server': 'AmazonS3'}, 'RetryAttempts': 0}, 'BucketRegion': 'us-east-1', 'AccessPointAlias': False}\n"
     ]
    }
   ],
   "source": [
    "from botocore.client import ClientError\n",
    "\n",
    "response = None\n",
    "\n",
    "try:\n",
    "    response = s3.head_bucket(Bucket=bucket)\n",
    "    print(response)\n",
    "    setup_s3_bucket_passed = True\n",
    "except ClientError as e:\n",
    "    print(\"[ERROR] Cannot find bucket {} in {} due to {}.\".format(bucket, response, e))"
   ]
  },
  {
   "cell_type": "code",
   "execution_count": 6,
   "id": "1fb2f0d1-af79-4552-9edf-502eb24c2ece",
   "metadata": {
    "execution": {
     "iopub.execute_input": "2025-09-24T02:27:26.565207Z",
     "iopub.status.busy": "2025-09-24T02:27:26.564905Z",
     "iopub.status.idle": "2025-09-24T02:27:26.573630Z",
     "shell.execute_reply": "2025-09-24T02:27:26.572573Z",
     "shell.execute_reply.started": "2025-09-24T02:27:26.565178Z"
    }
   },
   "outputs": [
    {
     "name": "stdout",
     "output_type": "stream",
     "text": [
      "Stored 'setup_s3_bucket_passed' (bool)\n"
     ]
    }
   ],
   "source": [
    "%store setup_s3_bucket_passed\n"
   ]
  },
  {
   "cell_type": "code",
   "execution_count": 7,
   "id": "693a9ec5-f03a-42d8-b6ed-c6eca8b52538",
   "metadata": {
    "execution": {
     "iopub.execute_input": "2025-09-24T02:27:26.575343Z",
     "iopub.status.busy": "2025-09-24T02:27:26.575127Z",
     "iopub.status.idle": "2025-09-24T02:27:26.582550Z",
     "shell.execute_reply": "2025-09-24T02:27:26.581673Z",
     "shell.execute_reply.started": "2025-09-24T02:27:26.575319Z"
    }
   },
   "outputs": [
    {
     "name": "stdout",
     "output_type": "stream",
     "text": [
      "Stored variables and their in-db values:\n",
      "ingest_create_athena_db_passed             -> True\n",
      "s3_private_path_csv                        -> 's3://sagemaker-us-east-1-590183687297/spotify_tra\n",
      "s3_private_path_parquet                    -> 's3://sagemaker-us-east-1-590183687297/toxicity_pd\n",
      "setup_s3_bucket_passed                     -> True\n"
     ]
    }
   ],
   "source": [
    "%store\n"
   ]
  },
  {
   "cell_type": "markdown",
   "id": "beab2d6a-cbb7-423b-af5c-3b48bd9e7413",
   "metadata": {},
   "source": [
    "## Set up Data lake"
   ]
  },
  {
   "cell_type": "code",
   "execution_count": 8,
   "id": "3bb15d17-8aa9-4fb5-9b91-4246de6220a2",
   "metadata": {
    "execution": {
     "iopub.execute_input": "2025-09-24T02:27:26.586047Z",
     "iopub.status.busy": "2025-09-24T02:27:26.585824Z",
     "iopub.status.idle": "2025-09-24T02:27:27.555412Z",
     "shell.execute_reply": "2025-09-24T02:27:27.554567Z",
     "shell.execute_reply.started": "2025-09-24T02:27:26.586028Z"
    }
   },
   "outputs": [],
   "source": [
    "import boto3\n",
    "import sagemaker\n",
    "import pandas as pd\n",
    "\n",
    "sess = sagemaker.Session()\n",
    "bucket = sess.default_bucket()\n",
    "role = sagemaker.get_execution_role()\n",
    "region = boto3.Session().region_name\n",
    "account_id = boto3.client(\"sts\").get_caller_identity().get(\"Account\")\n",
    "\n",
    "sm = boto3.Session().client(service_name=\"sagemaker\", region_name=region)"
   ]
  },
  {
   "cell_type": "markdown",
   "id": "e37b8cfa-481d-4f49-92d0-df12df250fc3",
   "metadata": {},
   "source": [
    "#### Set S3 Destination Folder"
   ]
  },
  {
   "cell_type": "code",
   "execution_count": 9,
   "id": "d56e7b6c-0530-48b9-a954-7e9b7a3fbaee",
   "metadata": {
    "execution": {
     "iopub.execute_input": "2025-09-24T02:27:27.561770Z",
     "iopub.status.busy": "2025-09-24T02:27:27.561303Z",
     "iopub.status.idle": "2025-09-24T02:27:27.566323Z",
     "shell.execute_reply": "2025-09-24T02:27:27.565439Z",
     "shell.execute_reply.started": "2025-09-24T02:27:27.561736Z"
    }
   },
   "outputs": [
    {
     "name": "stdout",
     "output_type": "stream",
     "text": [
      "s3://sagemaker-us-east-1-590183687297/toxicity_pds/parquet\n"
     ]
    }
   ],
   "source": [
    "s3_private_path_parquet = \"s3://{}/toxicity_pds/parquet\".format(bucket)\n",
    "print(s3_private_path_parquet)"
   ]
  },
  {
   "cell_type": "code",
   "execution_count": 10,
   "id": "396cefc7-4465-4fc8-88ba-19c587f19fa6",
   "metadata": {
    "execution": {
     "iopub.execute_input": "2025-09-24T02:27:27.568267Z",
     "iopub.status.busy": "2025-09-24T02:27:27.567435Z",
     "iopub.status.idle": "2025-09-24T02:27:27.573445Z",
     "shell.execute_reply": "2025-09-24T02:27:27.572375Z",
     "shell.execute_reply.started": "2025-09-24T02:27:27.568236Z"
    }
   },
   "outputs": [
    {
     "name": "stdout",
     "output_type": "stream",
     "text": [
      "Stored 's3_private_path_parquet' (str)\n"
     ]
    }
   ],
   "source": [
    "%store s3_private_path_parquet"
   ]
  },
  {
   "cell_type": "code",
   "execution_count": 11,
   "id": "2bb2aa1e-9f5a-4f0e-94a8-9100fa83047d",
   "metadata": {
    "execution": {
     "iopub.execute_input": "2025-09-24T02:27:27.577957Z",
     "iopub.status.busy": "2025-09-24T02:27:27.577291Z",
     "iopub.status.idle": "2025-09-24T02:27:27.587537Z",
     "shell.execute_reply": "2025-09-24T02:27:27.586190Z",
     "shell.execute_reply.started": "2025-09-24T02:27:27.577926Z"
    }
   },
   "outputs": [],
   "source": [
    "%store -r setup_s3_bucket_passed"
   ]
  },
  {
   "cell_type": "code",
   "execution_count": 12,
   "id": "acfd035d-746e-4b95-8a4d-e9f1134e6dde",
   "metadata": {
    "execution": {
     "iopub.execute_input": "2025-09-24T02:27:27.590249Z",
     "iopub.status.busy": "2025-09-24T02:27:27.589862Z",
     "iopub.status.idle": "2025-09-24T02:27:27.594646Z",
     "shell.execute_reply": "2025-09-24T02:27:27.593714Z",
     "shell.execute_reply.started": "2025-09-24T02:27:27.590222Z"
    }
   },
   "outputs": [],
   "source": [
    "try:\n",
    "    setup_s3_bucket_passed\n",
    "except NameError:\n",
    "    print(\"+++++++++++++++++++++++++++++++\")\n",
    "    print(\"[ERROR] YOU HAVE TO RUN ALL NOTEBOOKS IN THE SETUP FOLDER FIRST. You are missing Setup S3 Bucket.\")\n",
    "    print(\"+++++++++++++++++++++++++++++++\")\n"
   ]
  },
  {
   "cell_type": "code",
   "execution_count": 13,
   "id": "7c7f3517-1096-4ee5-9fe2-c2ddade67bed",
   "metadata": {
    "execution": {
     "iopub.execute_input": "2025-09-24T02:27:27.596258Z",
     "iopub.status.busy": "2025-09-24T02:27:27.595673Z",
     "iopub.status.idle": "2025-09-24T02:27:27.600820Z",
     "shell.execute_reply": "2025-09-24T02:27:27.599736Z",
     "shell.execute_reply.started": "2025-09-24T02:27:27.596204Z"
    }
   },
   "outputs": [],
   "source": [
    "if not setup_s3_bucket_passed:\n",
    "    print(\"+++++++++++++++++++++++++++++++++++++++++++++++++++++++++++++++\")\n",
    "    print(\"[ERROR] YOU HAVE TO RUN ALL NOTEBOOKS IN THE SETUP FOLDER FIRST. You are missing Setup S3 Bucket.\")\n",
    "    print(\"+++++++++++++++++++++++++++++++++++++++++++++++++++++++++++++++\")"
   ]
  },
  {
   "cell_type": "markdown",
   "id": "e554c494-9790-471a-b65e-f005dcd936d5",
   "metadata": {},
   "source": [
    "### Copy data from github to S3 bucket"
   ]
  },
  {
   "cell_type": "code",
   "execution_count": 14,
   "id": "08f5d13d-bc9f-4af3-b93d-fb1dbb350fac",
   "metadata": {
    "execution": {
     "iopub.execute_input": "2025-09-24T02:27:32.611256Z",
     "iopub.status.busy": "2025-09-24T02:27:32.610787Z",
     "iopub.status.idle": "2025-09-24T02:27:36.375184Z",
     "shell.execute_reply": "2025-09-24T02:27:36.374299Z",
     "shell.execute_reply.started": "2025-09-24T02:27:32.611223Z"
    }
   },
   "outputs": [
    {
     "name": "stdout",
     "output_type": "stream",
     "text": [
      "upload: civil/validation-00000-of-00001.parquet to s3://sagemaker-us-east-1-590183687297/toxicity_pds/parquet/validation-00000-of-00001.parquet\n",
      "upload: civil/test-00000-of-00001.parquet to s3://sagemaker-us-east-1-590183687297/toxicity_pds/parquet/test-00000-of-00001.parquet\n",
      "upload: civil/train-00000-of-00001.parquet to s3://sagemaker-us-east-1-590183687297/toxicity_pds/parquet/train-00000-of-00001.parquet\n"
     ]
    }
   ],
   "source": [
    "!aws s3 cp --recursive /home/sagemaker-user/aai540_toxicity_classification/civil $s3_private_path_parquet/ --include \"*\"\n"
   ]
  },
  {
   "cell_type": "markdown",
   "id": "a26650d5-3e61-4fcd-8564-92b352adaf40",
   "metadata": {},
   "source": [
    "### List the files"
   ]
  },
  {
   "cell_type": "code",
   "execution_count": 15,
   "id": "5cc9638e-bc7e-41bd-bdfd-f995ee310f84",
   "metadata": {
    "execution": {
     "iopub.execute_input": "2025-09-24T02:27:36.376912Z",
     "iopub.status.busy": "2025-09-24T02:27:36.376550Z",
     "iopub.status.idle": "2025-09-24T02:27:36.381295Z",
     "shell.execute_reply": "2025-09-24T02:27:36.380334Z",
     "shell.execute_reply.started": "2025-09-24T02:27:36.376876Z"
    }
   },
   "outputs": [
    {
     "name": "stdout",
     "output_type": "stream",
     "text": [
      "s3://sagemaker-us-east-1-590183687297/toxicity_pds/parquet\n"
     ]
    }
   ],
   "source": [
    "print(s3_private_path_parquet)"
   ]
  },
  {
   "cell_type": "code",
   "execution_count": 16,
   "id": "ca677098-c898-4475-a53c-640683623a63",
   "metadata": {
    "execution": {
     "iopub.execute_input": "2025-09-24T02:27:36.383318Z",
     "iopub.status.busy": "2025-09-24T02:27:36.382398Z",
     "iopub.status.idle": "2025-09-24T02:27:37.515594Z",
     "shell.execute_reply": "2025-09-24T02:27:37.514546Z",
     "shell.execute_reply.started": "2025-09-24T02:27:36.383289Z"
    }
   },
   "outputs": [
    {
     "name": "stdout",
     "output_type": "stream",
     "text": [
      "2025-09-24 02:27:35   34099179 test-00000-of-00001.parquet\n",
      "2025-09-24 02:27:35   68844404 train-00000-of-00001.parquet\n",
      "2025-09-24 02:27:35   11697541 validation-00000-of-00001.parquet\n"
     ]
    }
   ],
   "source": [
    "!aws s3 ls $s3_private_path_parquet/"
   ]
  },
  {
   "cell_type": "code",
   "execution_count": 17,
   "id": "c59ed846-a633-4748-ba43-a430448eaa16",
   "metadata": {
    "execution": {
     "iopub.execute_input": "2025-09-24T02:27:37.517287Z",
     "iopub.status.busy": "2025-09-24T02:27:37.517010Z",
     "iopub.status.idle": "2025-09-24T02:27:37.524234Z",
     "shell.execute_reply": "2025-09-24T02:27:37.523239Z",
     "shell.execute_reply.started": "2025-09-24T02:27:37.517242Z"
    }
   },
   "outputs": [
    {
     "name": "stdout",
     "output_type": "stream",
     "text": [
      "Stored variables and their in-db values:\n",
      "ingest_create_athena_db_passed             -> True\n",
      "s3_private_path_csv                        -> 's3://sagemaker-us-east-1-590183687297/spotify_tra\n",
      "s3_private_path_parquet                    -> 's3://sagemaker-us-east-1-590183687297/toxicity_pd\n",
      "setup_s3_bucket_passed                     -> True\n"
     ]
    }
   ],
   "source": [
    "%store"
   ]
  },
  {
   "cell_type": "markdown",
   "id": "ce588303-232f-4586-a4ac-cdc8f0a1faa9",
   "metadata": {
    "jp-MarkdownHeadingCollapsed": true
   },
   "source": [
    "## Create Athena Database Schema"
   ]
  },
  {
   "cell_type": "code",
   "execution_count": 17,
   "id": "de4e0b9c-004c-4b9b-a12a-67381dab79c4",
   "metadata": {
    "execution": {
     "iopub.execute_input": "2025-09-24T00:23:24.369363Z",
     "iopub.status.busy": "2025-09-24T00:23:24.368563Z",
     "iopub.status.idle": "2025-09-24T00:23:24.373256Z",
     "shell.execute_reply": "2025-09-24T00:23:24.372200Z",
     "shell.execute_reply.started": "2025-09-24T00:23:24.369328Z"
    }
   },
   "outputs": [],
   "source": [
    "ingest_create_athena_db_passed = False"
   ]
  },
  {
   "cell_type": "code",
   "execution_count": 18,
   "id": "eb624d71-f968-4e8d-912d-4275d6b69215",
   "metadata": {
    "execution": {
     "iopub.execute_input": "2025-09-24T00:23:24.375503Z",
     "iopub.status.busy": "2025-09-24T00:23:24.375239Z",
     "iopub.status.idle": "2025-09-24T00:23:24.380991Z",
     "shell.execute_reply": "2025-09-24T00:23:24.380228Z",
     "shell.execute_reply.started": "2025-09-24T00:23:24.375481Z"
    }
   },
   "outputs": [],
   "source": [
    "%store -r s3_private_path_parquet"
   ]
  },
  {
   "cell_type": "code",
   "execution_count": 19,
   "id": "05163bd8-592c-4231-9e98-5b1b90d2868d",
   "metadata": {
    "execution": {
     "iopub.execute_input": "2025-09-24T00:23:24.383262Z",
     "iopub.status.busy": "2025-09-24T00:23:24.382716Z",
     "iopub.status.idle": "2025-09-24T00:23:24.388253Z",
     "shell.execute_reply": "2025-09-24T00:23:24.387546Z",
     "shell.execute_reply.started": "2025-09-24T00:23:24.383237Z"
    }
   },
   "outputs": [],
   "source": [
    "try:\n",
    "    s3_private_path_parquet\n",
    "except NameError:\n",
    "    print(\"*****************************************************************************\")\n",
    "    print(\"[ERROR] PLEASE RE-RUN THE PREVIOUS COPY TSV TO S3 NOTEBOOK ******************\")\n",
    "    print(\"[ERROR] THIS NOTEBOOK WILL NOT RUN PROPERLY. ********************************\")\n",
    "    print(\"*****************************************************************************\")"
   ]
  },
  {
   "cell_type": "code",
   "execution_count": 20,
   "id": "cd49b362-c02c-49d7-8a72-c9ae4535ff06",
   "metadata": {
    "execution": {
     "iopub.execute_input": "2025-09-24T00:23:24.389709Z",
     "iopub.status.busy": "2025-09-24T00:23:24.389286Z",
     "iopub.status.idle": "2025-09-24T00:23:24.393826Z",
     "shell.execute_reply": "2025-09-24T00:23:24.392976Z",
     "shell.execute_reply.started": "2025-09-24T00:23:24.389678Z"
    }
   },
   "outputs": [
    {
     "name": "stdout",
     "output_type": "stream",
     "text": [
      "s3://sagemaker-us-east-1-590183687297/toxicity_pds/parquet\n"
     ]
    }
   ],
   "source": [
    "print(s3_private_path_parquet)"
   ]
  },
  {
   "cell_type": "markdown",
   "id": "67a0dcef-f7cb-4fde-b279-992f8cba2484",
   "metadata": {},
   "source": [
    "### Import PyAthena"
   ]
  },
  {
   "cell_type": "code",
   "execution_count": 21,
   "id": "989f3d87-dc19-467f-85df-9a432a489f81",
   "metadata": {
    "execution": {
     "iopub.execute_input": "2025-09-24T00:23:24.395280Z",
     "iopub.status.busy": "2025-09-24T00:23:24.394781Z",
     "iopub.status.idle": "2025-09-24T00:23:24.402031Z",
     "shell.execute_reply": "2025-09-24T00:23:24.400882Z",
     "shell.execute_reply.started": "2025-09-24T00:23:24.395246Z"
    }
   },
   "outputs": [],
   "source": [
    "from pyathena import connect"
   ]
  },
  {
   "cell_type": "markdown",
   "id": "e251cf5f-501e-4980-a0a8-61fd02b8cebf",
   "metadata": {},
   "source": [
    "### Create Athena Database"
   ]
  },
  {
   "cell_type": "code",
   "execution_count": 22,
   "id": "033212be-a545-4ab5-8fe8-f29b6bcea18a",
   "metadata": {
    "execution": {
     "iopub.execute_input": "2025-09-24T00:23:24.404800Z",
     "iopub.status.busy": "2025-09-24T00:23:24.404476Z",
     "iopub.status.idle": "2025-09-24T00:23:24.408108Z",
     "shell.execute_reply": "2025-09-24T00:23:24.407298Z",
     "shell.execute_reply.started": "2025-09-24T00:23:24.404773Z"
    }
   },
   "outputs": [],
   "source": [
    "database_name = \"aai540_toxicity_aws\""
   ]
  },
  {
   "cell_type": "code",
   "execution_count": 23,
   "id": "cbc337f9-8c98-4d72-ab0f-454ef7728e36",
   "metadata": {
    "execution": {
     "iopub.execute_input": "2025-09-24T00:23:24.409687Z",
     "iopub.status.busy": "2025-09-24T00:23:24.409186Z",
     "iopub.status.idle": "2025-09-24T00:23:24.413254Z",
     "shell.execute_reply": "2025-09-24T00:23:24.412470Z",
     "shell.execute_reply.started": "2025-09-24T00:23:24.409638Z"
    }
   },
   "outputs": [],
   "source": [
    "# Set S3 staging directory -- this is a temporary directory used for Athena queries\n",
    "s3_staging_dir = \"s3://{0}/athena/staging\".format(bucket)"
   ]
  },
  {
   "cell_type": "code",
   "execution_count": 24,
   "id": "3d0a3191-e984-49f3-a80f-afa73d1eaad5",
   "metadata": {
    "execution": {
     "iopub.execute_input": "2025-09-24T00:23:24.414574Z",
     "iopub.status.busy": "2025-09-24T00:23:24.414247Z",
     "iopub.status.idle": "2025-09-24T00:23:24.835787Z",
     "shell.execute_reply": "2025-09-24T00:23:24.834603Z",
     "shell.execute_reply.started": "2025-09-24T00:23:24.414543Z"
    }
   },
   "outputs": [],
   "source": [
    "conn = connect(region_name=region, s3_staging_dir=s3_staging_dir)"
   ]
  },
  {
   "cell_type": "code",
   "execution_count": 25,
   "id": "fd63c480-2018-444e-b485-28c9b51d49f4",
   "metadata": {
    "execution": {
     "iopub.execute_input": "2025-09-24T00:23:24.837662Z",
     "iopub.status.busy": "2025-09-24T00:23:24.837419Z",
     "iopub.status.idle": "2025-09-24T00:23:24.846099Z",
     "shell.execute_reply": "2025-09-24T00:23:24.845332Z",
     "shell.execute_reply.started": "2025-09-24T00:23:24.837641Z"
    }
   },
   "outputs": [
    {
     "name": "stdout",
     "output_type": "stream",
     "text": [
      "CREATE DATABASE IF NOT EXISTS aai540_toxicity_aws\n"
     ]
    }
   ],
   "source": [
    "statement = \"CREATE DATABASE IF NOT EXISTS {}\".format(database_name)\n",
    "print(statement)"
   ]
  },
  {
   "cell_type": "code",
   "execution_count": 26,
   "id": "beac33dd-1b76-490c-ac34-2dce9cf07e42",
   "metadata": {
    "execution": {
     "iopub.execute_input": "2025-09-24T00:23:24.847688Z",
     "iopub.status.busy": "2025-09-24T00:23:24.847233Z",
     "iopub.status.idle": "2025-09-24T00:23:26.397467Z",
     "shell.execute_reply": "2025-09-24T00:23:26.396762Z",
     "shell.execute_reply.started": "2025-09-24T00:23:24.847656Z"
    }
   },
   "outputs": [
    {
     "name": "stderr",
     "output_type": "stream",
     "text": [
      "/tmp/ipykernel_264/3803073958.py:3: UserWarning: pandas only supports SQLAlchemy connectable (engine/connection) or database string URI or sqlite3 DBAPI2 connection. Other DBAPI2 objects are not tested. Please consider using SQLAlchemy.\n",
      "  pd.read_sql(statement, conn)\n"
     ]
    },
    {
     "data": {
      "text/html": [
       "<div>\n",
       "<style scoped>\n",
       "    .dataframe tbody tr th:only-of-type {\n",
       "        vertical-align: middle;\n",
       "    }\n",
       "\n",
       "    .dataframe tbody tr th {\n",
       "        vertical-align: top;\n",
       "    }\n",
       "\n",
       "    .dataframe thead th {\n",
       "        text-align: right;\n",
       "    }\n",
       "</style>\n",
       "<table border=\"1\" class=\"dataframe\">\n",
       "  <thead>\n",
       "    <tr style=\"text-align: right;\">\n",
       "      <th></th>\n",
       "    </tr>\n",
       "  </thead>\n",
       "  <tbody>\n",
       "  </tbody>\n",
       "</table>\n",
       "</div>"
      ],
      "text/plain": [
       "Empty DataFrame\n",
       "Columns: []\n",
       "Index: []"
      ]
     },
     "execution_count": 26,
     "metadata": {},
     "output_type": "execute_result"
    }
   ],
   "source": [
    "import pandas as pd\n",
    "\n",
    "pd.read_sql(statement, conn)"
   ]
  },
  {
   "cell_type": "markdown",
   "id": "511f8854-b86d-4b27-a019-6ee63984f9f8",
   "metadata": {},
   "source": [
    "### Verify The Database Has Been Created Succesfully"
   ]
  },
  {
   "cell_type": "code",
   "execution_count": 27,
   "id": "745682ca-b2f7-4433-b11d-ff2bbf07ef3b",
   "metadata": {
    "execution": {
     "iopub.execute_input": "2025-09-24T00:24:01.293116Z",
     "iopub.status.busy": "2025-09-24T00:24:01.292123Z",
     "iopub.status.idle": "2025-09-24T00:24:02.663907Z",
     "shell.execute_reply": "2025-09-24T00:24:02.659476Z",
     "shell.execute_reply.started": "2025-09-24T00:24:01.293083Z"
    }
   },
   "outputs": [
    {
     "name": "stderr",
     "output_type": "stream",
     "text": [
      "/tmp/ipykernel_264/3999478089.py:3: UserWarning: pandas only supports SQLAlchemy connectable (engine/connection) or database string URI or sqlite3 DBAPI2 connection. Other DBAPI2 objects are not tested. Please consider using SQLAlchemy.\n",
      "  df_show = pd.read_sql(statement, conn)\n"
     ]
    },
    {
     "data": {
      "text/html": [
       "<div>\n",
       "<style scoped>\n",
       "    .dataframe tbody tr th:only-of-type {\n",
       "        vertical-align: middle;\n",
       "    }\n",
       "\n",
       "    .dataframe tbody tr th {\n",
       "        vertical-align: top;\n",
       "    }\n",
       "\n",
       "    .dataframe thead th {\n",
       "        text-align: right;\n",
       "    }\n",
       "</style>\n",
       "<table border=\"1\" class=\"dataframe\">\n",
       "  <thead>\n",
       "    <tr style=\"text-align: right;\">\n",
       "      <th></th>\n",
       "      <th>database_name</th>\n",
       "    </tr>\n",
       "  </thead>\n",
       "  <tbody>\n",
       "    <tr>\n",
       "      <th>0</th>\n",
       "      <td>aai540_spotify_aws</td>\n",
       "    </tr>\n",
       "    <tr>\n",
       "      <th>1</th>\n",
       "      <td>aai540_toxicity_aws</td>\n",
       "    </tr>\n",
       "    <tr>\n",
       "      <th>2</th>\n",
       "      <td>default</td>\n",
       "    </tr>\n",
       "    <tr>\n",
       "      <th>3</th>\n",
       "      <td>sagemaker_featurestore</td>\n",
       "    </tr>\n",
       "  </tbody>\n",
       "</table>\n",
       "</div>"
      ],
      "text/plain": [
       "            database_name\n",
       "0      aai540_spotify_aws\n",
       "1     aai540_toxicity_aws\n",
       "2                 default\n",
       "3  sagemaker_featurestore"
      ]
     },
     "execution_count": 27,
     "metadata": {},
     "output_type": "execute_result"
    }
   ],
   "source": [
    "statement = \"SHOW DATABASES\"\n",
    "\n",
    "df_show = pd.read_sql(statement, conn)\n",
    "df_show.head(5)"
   ]
  },
  {
   "cell_type": "code",
   "execution_count": 28,
   "id": "db000103-f523-4fd0-af45-1dea59083229",
   "metadata": {
    "execution": {
     "iopub.execute_input": "2025-09-24T00:24:02.665807Z",
     "iopub.status.busy": "2025-09-24T00:24:02.665448Z",
     "iopub.status.idle": "2025-09-24T00:24:02.673664Z",
     "shell.execute_reply": "2025-09-24T00:24:02.671200Z",
     "shell.execute_reply.started": "2025-09-24T00:24:02.665773Z"
    }
   },
   "outputs": [],
   "source": [
    "if database_name in df_show.values:\n",
    "    ingest_create_athena_db_passed = True"
   ]
  },
  {
   "cell_type": "code",
   "execution_count": 29,
   "id": "0dc291a5-0a76-429e-bec0-37e3a2a2d460",
   "metadata": {
    "execution": {
     "iopub.execute_input": "2025-09-24T00:24:03.167574Z",
     "iopub.status.busy": "2025-09-24T00:24:03.166764Z",
     "iopub.status.idle": "2025-09-24T00:24:03.175383Z",
     "shell.execute_reply": "2025-09-24T00:24:03.173781Z",
     "shell.execute_reply.started": "2025-09-24T00:24:03.167534Z"
    }
   },
   "outputs": [
    {
     "name": "stdout",
     "output_type": "stream",
     "text": [
      "Stored 'ingest_create_athena_db_passed' (bool)\n"
     ]
    }
   ],
   "source": [
    "%store ingest_create_athena_db_passed"
   ]
  },
  {
   "cell_type": "code",
   "execution_count": 30,
   "id": "a1c564a9-e549-4706-856a-f69ad341214d",
   "metadata": {
    "execution": {
     "iopub.execute_input": "2025-09-24T00:24:03.432288Z",
     "iopub.status.busy": "2025-09-24T00:24:03.431892Z",
     "iopub.status.idle": "2025-09-24T00:24:03.438818Z",
     "shell.execute_reply": "2025-09-24T00:24:03.437780Z",
     "shell.execute_reply.started": "2025-09-24T00:24:03.432264Z"
    }
   },
   "outputs": [
    {
     "name": "stdout",
     "output_type": "stream",
     "text": [
      "Stored variables and their in-db values:\n",
      "ingest_create_athena_db_passed             -> True\n",
      "s3_private_path_csv                        -> 's3://sagemaker-us-east-1-590183687297/spotify_tra\n",
      "s3_private_path_parquet                    -> 's3://sagemaker-us-east-1-590183687297/toxicity_pd\n",
      "setup_s3_bucket_passed                     -> True\n"
     ]
    }
   ],
   "source": [
    "%store"
   ]
  },
  {
   "cell_type": "markdown",
   "id": "fcf5b04d-ec1f-43b1-bed5-2087531eebf4",
   "metadata": {},
   "source": [
    "### Create Tables"
   ]
  },
  {
   "cell_type": "code",
   "execution_count": 31,
   "id": "6867663f-d70b-44fb-b39d-df3cf916dd0b",
   "metadata": {
    "execution": {
     "iopub.execute_input": "2025-09-24T00:24:03.932125Z",
     "iopub.status.busy": "2025-09-24T00:24:03.931829Z",
     "iopub.status.idle": "2025-09-24T00:24:03.936187Z",
     "shell.execute_reply": "2025-09-24T00:24:03.935226Z",
     "shell.execute_reply.started": "2025-09-24T00:24:03.932101Z"
    }
   },
   "outputs": [],
   "source": [
    "ingest_create_athena_table_pqt_passed = False"
   ]
  },
  {
   "cell_type": "code",
   "execution_count": 32,
   "id": "be84fb3f-27ad-4d74-bd81-361fed81cbd7",
   "metadata": {
    "execution": {
     "iopub.execute_input": "2025-09-24T00:24:04.282324Z",
     "iopub.status.busy": "2025-09-24T00:24:04.282042Z",
     "iopub.status.idle": "2025-09-24T00:24:04.285921Z",
     "shell.execute_reply": "2025-09-24T00:24:04.285037Z",
     "shell.execute_reply.started": "2025-09-24T00:24:04.282297Z"
    }
   },
   "outputs": [],
   "source": [
    "table_name = 'toxicity_pqt'\n",
    "train = '%/train-00000-of-00001.parquet'\n",
    "validation = '%/validation-00000-of-00001.parquet'\n",
    "test = '%/test-00000-of-00001.parquet'"
   ]
  },
  {
   "cell_type": "code",
   "execution_count": 33,
   "id": "72840485-7e9c-4eba-a075-46e63264c2ad",
   "metadata": {
    "execution": {
     "iopub.execute_input": "2025-09-24T00:24:04.866151Z",
     "iopub.status.busy": "2025-09-24T00:24:04.865814Z",
     "iopub.status.idle": "2025-09-24T00:24:04.871549Z",
     "shell.execute_reply": "2025-09-24T00:24:04.870427Z",
     "shell.execute_reply.started": "2025-09-24T00:24:04.866127Z"
    }
   },
   "outputs": [
    {
     "data": {
      "text/plain": [
       "'s3://sagemaker-us-east-1-590183687297/toxicity_pds/parquet'"
      ]
     },
     "execution_count": 33,
     "metadata": {},
     "output_type": "execute_result"
    }
   ],
   "source": [
    "s3_private_path_parquet"
   ]
  },
  {
   "cell_type": "code",
   "execution_count": 34,
   "id": "2fe7facc-4b32-4f9e-bd58-a7bfaac50fb6",
   "metadata": {
    "execution": {
     "iopub.execute_input": "2025-09-24T00:24:05.887574Z",
     "iopub.status.busy": "2025-09-24T00:24:05.887280Z",
     "iopub.status.idle": "2025-09-24T00:24:07.127623Z",
     "shell.execute_reply": "2025-09-24T00:24:07.126772Z",
     "shell.execute_reply.started": "2025-09-24T00:24:05.887551Z"
    }
   },
   "outputs": [
    {
     "name": "stderr",
     "output_type": "stream",
     "text": [
      "/tmp/ipykernel_264/2386943986.py:2: UserWarning: pandas only supports SQLAlchemy connectable (engine/connection) or database string URI or sqlite3 DBAPI2 connection. Other DBAPI2 objects are not tested. Please consider using SQLAlchemy.\n",
      "  pd.read_sql(drop_stmt, conn)\n"
     ]
    },
    {
     "data": {
      "text/html": [
       "<div>\n",
       "<style scoped>\n",
       "    .dataframe tbody tr th:only-of-type {\n",
       "        vertical-align: middle;\n",
       "    }\n",
       "\n",
       "    .dataframe tbody tr th {\n",
       "        vertical-align: top;\n",
       "    }\n",
       "\n",
       "    .dataframe thead th {\n",
       "        text-align: right;\n",
       "    }\n",
       "</style>\n",
       "<table border=\"1\" class=\"dataframe\">\n",
       "  <thead>\n",
       "    <tr style=\"text-align: right;\">\n",
       "      <th></th>\n",
       "    </tr>\n",
       "  </thead>\n",
       "  <tbody>\n",
       "  </tbody>\n",
       "</table>\n",
       "</div>"
      ],
      "text/plain": [
       "Empty DataFrame\n",
       "Columns: []\n",
       "Index: []"
      ]
     },
     "execution_count": 34,
     "metadata": {},
     "output_type": "execute_result"
    }
   ],
   "source": [
    "drop_stmt = \"\"\"DROP TABLE IF EXISTS {}.{}\"\"\".format(database_name, table_name)\n",
    "pd.read_sql(drop_stmt, conn)"
   ]
  },
  {
   "cell_type": "code",
   "execution_count": 35,
   "id": "b9f99e51-24d4-4b64-99fe-f5e190c98b0d",
   "metadata": {
    "execution": {
     "iopub.execute_input": "2025-09-24T00:24:55.844178Z",
     "iopub.status.busy": "2025-09-24T00:24:55.843883Z",
     "iopub.status.idle": "2025-09-24T00:24:57.097571Z",
     "shell.execute_reply": "2025-09-24T00:24:57.096784Z",
     "shell.execute_reply.started": "2025-09-24T00:24:55.844156Z"
    }
   },
   "outputs": [
    {
     "name": "stdout",
     "output_type": "stream",
     "text": [
      "CREATE EXTERNAL TABLE IF NOT EXISTS aai540_toxicity_aws.toxicity_pqt (\n",
      "  uid               BIGINT,\n",
      "  id                BIGINT,\n",
      "  comment_text      STRING,\n",
      "  toxicity          BIGINT,\n",
      "  has_active_attrs  BOOLEAN,\n",
      "  active_attrs      ARRAY<string>,\n",
      "  male              BIGINT,\n",
      "  female            BIGINT,\n",
      "  lgbtq             BIGINT,\n",
      "  christian         BIGINT,\n",
      "  muslim            BIGINT,\n",
      "  other_religions   BIGINT,\n",
      "  black             BIGINT,\n",
      "  white             BIGINT,\n",
      "  identity_any      BIGINT,\n",
      "  severe_toxicity   BIGINT,\n",
      "  obscene           BIGINT,\n",
      "  threat            BIGINT,\n",
      "  insult            BIGINT,\n",
      "  identity_attack   BIGINT,\n",
      "  sexual_explicit   BIGINT\n",
      ")\n",
      "STORED AS PARQUET\n",
      "LOCATION 's3://sagemaker-us-east-1-590183687297/toxicity_pds/parquet/'\n"
     ]
    },
    {
     "name": "stderr",
     "output_type": "stream",
     "text": [
      "/tmp/ipykernel_264/117541428.py:28: UserWarning: pandas only supports SQLAlchemy connectable (engine/connection) or database string URI or sqlite3 DBAPI2 connection. Other DBAPI2 objects are not tested. Please consider using SQLAlchemy.\n",
      "  pd.read_sql(statement, conn)\n"
     ]
    },
    {
     "data": {
      "text/html": [
       "<div>\n",
       "<style scoped>\n",
       "    .dataframe tbody tr th:only-of-type {\n",
       "        vertical-align: middle;\n",
       "    }\n",
       "\n",
       "    .dataframe tbody tr th {\n",
       "        vertical-align: top;\n",
       "    }\n",
       "\n",
       "    .dataframe thead th {\n",
       "        text-align: right;\n",
       "    }\n",
       "</style>\n",
       "<table border=\"1\" class=\"dataframe\">\n",
       "  <thead>\n",
       "    <tr style=\"text-align: right;\">\n",
       "      <th></th>\n",
       "    </tr>\n",
       "  </thead>\n",
       "  <tbody>\n",
       "  </tbody>\n",
       "</table>\n",
       "</div>"
      ],
      "text/plain": [
       "Empty DataFrame\n",
       "Columns: []\n",
       "Index: []"
      ]
     },
     "execution_count": 35,
     "metadata": {},
     "output_type": "execute_result"
    }
   ],
   "source": [
    "statement = \"\"\"CREATE EXTERNAL TABLE IF NOT EXISTS {}.{} (\n",
    "  uid               BIGINT,\n",
    "  id                BIGINT,\n",
    "  comment_text      STRING,\n",
    "  toxicity          BIGINT,\n",
    "  has_active_attrs  BOOLEAN,\n",
    "  active_attrs      ARRAY<string>,\n",
    "  male              BIGINT,\n",
    "  female            BIGINT,\n",
    "  lgbtq             BIGINT,\n",
    "  christian         BIGINT,\n",
    "  muslim            BIGINT,\n",
    "  other_religions   BIGINT,\n",
    "  black             BIGINT,\n",
    "  white             BIGINT,\n",
    "  identity_any      BIGINT,\n",
    "  severe_toxicity   BIGINT,\n",
    "  obscene           BIGINT,\n",
    "  threat            BIGINT,\n",
    "  insult            BIGINT,\n",
    "  identity_attack   BIGINT,\n",
    "  sexual_explicit   BIGINT\n",
    ")\n",
    "STORED AS PARQUET\n",
    "LOCATION '{}/'\"\"\".format(database_name, table_name, s3_private_path_parquet)\n",
    "\n",
    "print(statement)\n",
    "pd.read_sql(statement, conn)"
   ]
  },
  {
   "cell_type": "code",
   "execution_count": 36,
   "id": "dab3398e-42a7-49a5-b16a-8969a37a7770",
   "metadata": {
    "execution": {
     "iopub.execute_input": "2025-09-24T00:24:57.099970Z",
     "iopub.status.busy": "2025-09-24T00:24:57.099662Z",
     "iopub.status.idle": "2025-09-24T00:24:58.325165Z",
     "shell.execute_reply": "2025-09-24T00:24:58.324489Z",
     "shell.execute_reply.started": "2025-09-24T00:24:57.099945Z"
    }
   },
   "outputs": [
    {
     "name": "stdout",
     "output_type": "stream",
     "text": [
      "CREATE OR REPLACE VIEW aai540_toxicity_aws.toxicity_train AS SELECT * FROM aai540_toxicity_aws.toxicity_pqt WHERE \"$path\" LIKE '%/train-00000-of-00001.parquet'\n"
     ]
    },
    {
     "name": "stderr",
     "output_type": "stream",
     "text": [
      "/tmp/ipykernel_264/2100174071.py:10: UserWarning: pandas only supports SQLAlchemy connectable (engine/connection) or database string URI or sqlite3 DBAPI2 connection. Other DBAPI2 objects are not tested. Please consider using SQLAlchemy.\n",
      "  pd.read_sql(statement_view, conn)\n"
     ]
    },
    {
     "data": {
      "text/html": [
       "<div>\n",
       "<style scoped>\n",
       "    .dataframe tbody tr th:only-of-type {\n",
       "        vertical-align: middle;\n",
       "    }\n",
       "\n",
       "    .dataframe tbody tr th {\n",
       "        vertical-align: top;\n",
       "    }\n",
       "\n",
       "    .dataframe thead th {\n",
       "        text-align: right;\n",
       "    }\n",
       "</style>\n",
       "<table border=\"1\" class=\"dataframe\">\n",
       "  <thead>\n",
       "    <tr style=\"text-align: right;\">\n",
       "      <th></th>\n",
       "    </tr>\n",
       "  </thead>\n",
       "  <tbody>\n",
       "  </tbody>\n",
       "</table>\n",
       "</div>"
      ],
      "text/plain": [
       "Empty DataFrame\n",
       "Columns: []\n",
       "Index: []"
      ]
     },
     "execution_count": 36,
     "metadata": {},
     "output_type": "execute_result"
    }
   ],
   "source": [
    "train_view = 'toxicity_train'\n",
    "statement_view = \"\"\"CREATE OR REPLACE VIEW {}.{} AS SELECT * FROM {}.{} WHERE \"$path\" LIKE '{}'\"\"\".format(\n",
    "    database_name,\n",
    "    train_view,\n",
    "    database_name,\n",
    "    table_name,\n",
    "    train\n",
    ")\n",
    "print(statement_view)\n",
    "pd.read_sql(statement_view, conn)"
   ]
  },
  {
   "cell_type": "code",
   "execution_count": 37,
   "id": "4d6a64de-bf7b-4dcd-ae62-4798466b2f2d",
   "metadata": {
    "execution": {
     "iopub.execute_input": "2025-09-24T00:24:58.326156Z",
     "iopub.status.busy": "2025-09-24T00:24:58.325925Z",
     "iopub.status.idle": "2025-09-24T00:24:59.526365Z",
     "shell.execute_reply": "2025-09-24T00:24:59.525689Z",
     "shell.execute_reply.started": "2025-09-24T00:24:58.326138Z"
    }
   },
   "outputs": [
    {
     "name": "stdout",
     "output_type": "stream",
     "text": [
      "CREATE OR REPLACE VIEW aai540_toxicity_aws.toxicity_val AS SELECT * FROM aai540_toxicity_aws.toxicity_pqt WHERE \"$path\" LIKE '%/validation-00000-of-00001.parquet'\n"
     ]
    },
    {
     "name": "stderr",
     "output_type": "stream",
     "text": [
      "/tmp/ipykernel_264/3418994591.py:10: UserWarning: pandas only supports SQLAlchemy connectable (engine/connection) or database string URI or sqlite3 DBAPI2 connection. Other DBAPI2 objects are not tested. Please consider using SQLAlchemy.\n",
      "  pd.read_sql(statement_view, conn)\n"
     ]
    },
    {
     "data": {
      "text/html": [
       "<div>\n",
       "<style scoped>\n",
       "    .dataframe tbody tr th:only-of-type {\n",
       "        vertical-align: middle;\n",
       "    }\n",
       "\n",
       "    .dataframe tbody tr th {\n",
       "        vertical-align: top;\n",
       "    }\n",
       "\n",
       "    .dataframe thead th {\n",
       "        text-align: right;\n",
       "    }\n",
       "</style>\n",
       "<table border=\"1\" class=\"dataframe\">\n",
       "  <thead>\n",
       "    <tr style=\"text-align: right;\">\n",
       "      <th></th>\n",
       "    </tr>\n",
       "  </thead>\n",
       "  <tbody>\n",
       "  </tbody>\n",
       "</table>\n",
       "</div>"
      ],
      "text/plain": [
       "Empty DataFrame\n",
       "Columns: []\n",
       "Index: []"
      ]
     },
     "execution_count": 37,
     "metadata": {},
     "output_type": "execute_result"
    }
   ],
   "source": [
    "validation_view = 'toxicity_val'\n",
    "statement_view = \"\"\"CREATE OR REPLACE VIEW {}.{} AS SELECT * FROM {}.{} WHERE \"$path\" LIKE '{}'\"\"\".format(\n",
    "    database_name,\n",
    "    validation_view,\n",
    "    database_name,\n",
    "    table_name,\n",
    "    validation\n",
    ")\n",
    "print(statement_view)\n",
    "pd.read_sql(statement_view, conn)"
   ]
  },
  {
   "cell_type": "code",
   "execution_count": 38,
   "id": "7b2d87a0-3e43-45c6-97fc-caab36c887f3",
   "metadata": {
    "execution": {
     "iopub.execute_input": "2025-09-24T00:24:59.527755Z",
     "iopub.status.busy": "2025-09-24T00:24:59.527444Z",
     "iopub.status.idle": "2025-09-24T00:25:00.781569Z",
     "shell.execute_reply": "2025-09-24T00:25:00.780785Z",
     "shell.execute_reply.started": "2025-09-24T00:24:59.527689Z"
    }
   },
   "outputs": [
    {
     "name": "stdout",
     "output_type": "stream",
     "text": [
      "CREATE OR REPLACE VIEW aai540_toxicity_aws.toxicity_test AS SELECT * FROM aai540_toxicity_aws.toxicity_pqt WHERE \"$path\" LIKE '%/test-00000-of-00001.parquet'\n"
     ]
    },
    {
     "name": "stderr",
     "output_type": "stream",
     "text": [
      "/tmp/ipykernel_264/1627434926.py:10: UserWarning: pandas only supports SQLAlchemy connectable (engine/connection) or database string URI or sqlite3 DBAPI2 connection. Other DBAPI2 objects are not tested. Please consider using SQLAlchemy.\n",
      "  pd.read_sql(statement_view, conn)\n"
     ]
    },
    {
     "data": {
      "text/html": [
       "<div>\n",
       "<style scoped>\n",
       "    .dataframe tbody tr th:only-of-type {\n",
       "        vertical-align: middle;\n",
       "    }\n",
       "\n",
       "    .dataframe tbody tr th {\n",
       "        vertical-align: top;\n",
       "    }\n",
       "\n",
       "    .dataframe thead th {\n",
       "        text-align: right;\n",
       "    }\n",
       "</style>\n",
       "<table border=\"1\" class=\"dataframe\">\n",
       "  <thead>\n",
       "    <tr style=\"text-align: right;\">\n",
       "      <th></th>\n",
       "    </tr>\n",
       "  </thead>\n",
       "  <tbody>\n",
       "  </tbody>\n",
       "</table>\n",
       "</div>"
      ],
      "text/plain": [
       "Empty DataFrame\n",
       "Columns: []\n",
       "Index: []"
      ]
     },
     "execution_count": 38,
     "metadata": {},
     "output_type": "execute_result"
    }
   ],
   "source": [
    "test_view = 'toxicity_test'\n",
    "statement_view = \"\"\"CREATE OR REPLACE VIEW {}.{} AS SELECT * FROM {}.{} WHERE \"$path\" LIKE '{}'\"\"\".format(\n",
    "    database_name,\n",
    "    test_view,\n",
    "    database_name,\n",
    "    table_name,\n",
    "    test\n",
    ")\n",
    "print(statement_view)\n",
    "pd.read_sql(statement_view, conn)\n"
   ]
  },
  {
   "cell_type": "markdown",
   "id": "1bf33e6c-0d77-4662-9292-20f6cfda086b",
   "metadata": {},
   "source": [
    "### Verify The Table Has Been Created Succesfully"
   ]
  },
  {
   "cell_type": "code",
   "execution_count": 39,
   "id": "6f61689c-e4d8-4681-aacd-12964423a64c",
   "metadata": {
    "execution": {
     "iopub.execute_input": "2025-09-24T00:25:00.783158Z",
     "iopub.status.busy": "2025-09-24T00:25:00.782660Z",
     "iopub.status.idle": "2025-09-24T00:25:02.057145Z",
     "shell.execute_reply": "2025-09-24T00:25:02.052524Z",
     "shell.execute_reply.started": "2025-09-24T00:25:00.783126Z"
    }
   },
   "outputs": [
    {
     "name": "stderr",
     "output_type": "stream",
     "text": [
      "/tmp/ipykernel_264/2201015668.py:3: UserWarning: pandas only supports SQLAlchemy connectable (engine/connection) or database string URI or sqlite3 DBAPI2 connection. Other DBAPI2 objects are not tested. Please consider using SQLAlchemy.\n",
      "  df_show = pd.read_sql(statement, conn)\n"
     ]
    },
    {
     "data": {
      "text/html": [
       "<div>\n",
       "<style scoped>\n",
       "    .dataframe tbody tr th:only-of-type {\n",
       "        vertical-align: middle;\n",
       "    }\n",
       "\n",
       "    .dataframe tbody tr th {\n",
       "        vertical-align: top;\n",
       "    }\n",
       "\n",
       "    .dataframe thead th {\n",
       "        text-align: right;\n",
       "    }\n",
       "</style>\n",
       "<table border=\"1\" class=\"dataframe\">\n",
       "  <thead>\n",
       "    <tr style=\"text-align: right;\">\n",
       "      <th></th>\n",
       "      <th>tab_name</th>\n",
       "    </tr>\n",
       "  </thead>\n",
       "  <tbody>\n",
       "    <tr>\n",
       "      <th>0</th>\n",
       "      <td>toxicity_pqt</td>\n",
       "    </tr>\n",
       "    <tr>\n",
       "      <th>1</th>\n",
       "      <td>toxicity_test</td>\n",
       "    </tr>\n",
       "    <tr>\n",
       "      <th>2</th>\n",
       "      <td>toxicity_train</td>\n",
       "    </tr>\n",
       "    <tr>\n",
       "      <th>3</th>\n",
       "      <td>toxicity_val</td>\n",
       "    </tr>\n",
       "  </tbody>\n",
       "</table>\n",
       "</div>"
      ],
      "text/plain": [
       "         tab_name\n",
       "0    toxicity_pqt\n",
       "1   toxicity_test\n",
       "2  toxicity_train\n",
       "3    toxicity_val"
      ]
     },
     "execution_count": 39,
     "metadata": {},
     "output_type": "execute_result"
    }
   ],
   "source": [
    "statement = \"SHOW TABLES in {}\".format(database_name)\n",
    "\n",
    "df_show = pd.read_sql(statement, conn)\n",
    "df_show.head(5)"
   ]
  },
  {
   "cell_type": "code",
   "execution_count": 40,
   "id": "886614ff-c1f7-4dbf-8a7e-09beffb20f4b",
   "metadata": {
    "execution": {
     "iopub.execute_input": "2025-09-24T00:25:02.081519Z",
     "iopub.status.busy": "2025-09-24T00:25:02.077348Z",
     "iopub.status.idle": "2025-09-24T00:25:02.122495Z",
     "shell.execute_reply": "2025-09-24T00:25:02.102673Z",
     "shell.execute_reply.started": "2025-09-24T00:25:02.079586Z"
    }
   },
   "outputs": [
    {
     "name": "stdout",
     "output_type": "stream",
     "text": [
      "True\n"
     ]
    }
   ],
   "source": [
    "if table_name in df_show.values:\n",
    "    ingest_create_athena_table_pqt_passed = True\n",
    "\n",
    "print(ingest_create_athena_table_pqt_passed)"
   ]
  },
  {
   "cell_type": "markdown",
   "id": "da700b56-ae7b-4cc6-ad6d-21901c7e5318",
   "metadata": {},
   "source": [
    "### Run A Sample SQL Query"
   ]
  },
  {
   "cell_type": "code",
   "execution_count": 41,
   "id": "ae706279-3dd6-4b91-a627-ea17c48c7385",
   "metadata": {
    "execution": {
     "iopub.execute_input": "2025-09-24T00:25:06.013934Z",
     "iopub.status.busy": "2025-09-24T00:25:06.013664Z",
     "iopub.status.idle": "2025-09-24T00:27:32.871999Z",
     "shell.execute_reply": "2025-09-24T00:27:32.871111Z",
     "shell.execute_reply.started": "2025-09-24T00:25:06.013914Z"
    }
   },
   "outputs": [
    {
     "name": "stdout",
     "output_type": "stream",
     "text": [
      "SELECT * FROM aai540_toxicity_aws.toxicity_pqt\n"
     ]
    },
    {
     "name": "stderr",
     "output_type": "stream",
     "text": [
      "/tmp/ipykernel_264/2419674085.py:7: UserWarning: pandas only supports SQLAlchemy connectable (engine/connection) or database string URI or sqlite3 DBAPI2 connection. Other DBAPI2 objects are not tested. Please consider using SQLAlchemy.\n",
      "  df = pd.read_sql(statement, conn)\n"
     ]
    },
    {
     "data": {
      "text/html": [
       "<div>\n",
       "<style scoped>\n",
       "    .dataframe tbody tr th:only-of-type {\n",
       "        vertical-align: middle;\n",
       "    }\n",
       "\n",
       "    .dataframe tbody tr th {\n",
       "        vertical-align: top;\n",
       "    }\n",
       "\n",
       "    .dataframe thead th {\n",
       "        text-align: right;\n",
       "    }\n",
       "</style>\n",
       "<table border=\"1\" class=\"dataframe\">\n",
       "  <thead>\n",
       "    <tr style=\"text-align: right;\">\n",
       "      <th></th>\n",
       "      <th>uid</th>\n",
       "      <th>id</th>\n",
       "      <th>comment_text</th>\n",
       "      <th>toxicity</th>\n",
       "      <th>has_active_attrs</th>\n",
       "      <th>active_attrs</th>\n",
       "      <th>male</th>\n",
       "      <th>female</th>\n",
       "      <th>lgbtq</th>\n",
       "      <th>christian</th>\n",
       "      <th>...</th>\n",
       "      <th>other_religions</th>\n",
       "      <th>black</th>\n",
       "      <th>white</th>\n",
       "      <th>identity_any</th>\n",
       "      <th>severe_toxicity</th>\n",
       "      <th>obscene</th>\n",
       "      <th>threat</th>\n",
       "      <th>insult</th>\n",
       "      <th>identity_attack</th>\n",
       "      <th>sexual_explicit</th>\n",
       "    </tr>\n",
       "  </thead>\n",
       "  <tbody>\n",
       "    <tr>\n",
       "      <th>0</th>\n",
       "      <td>18</td>\n",
       "      <td>5711489</td>\n",
       "      <td>𝑯𝒆 𝒕𝒐𝒍𝒅 𝒑𝒐𝒍𝒊𝒄𝒆 𝒕𝒉𝒂𝒕 𝒉𝒆 𝒃𝒖𝒚𝒔 𝒄𝒐𝒄𝒂𝒊𝒏𝒆 “𝒊𝒏 𝒍𝒂𝒓𝒈𝒆 ...</td>\n",
       "      <td>0</td>\n",
       "      <td>False</td>\n",
       "      <td>[]</td>\n",
       "      <td>0</td>\n",
       "      <td>0</td>\n",
       "      <td>0</td>\n",
       "      <td>0</td>\n",
       "      <td>...</td>\n",
       "      <td>0</td>\n",
       "      <td>0</td>\n",
       "      <td>0</td>\n",
       "      <td>0</td>\n",
       "      <td>0</td>\n",
       "      <td>0</td>\n",
       "      <td>0</td>\n",
       "      <td>0</td>\n",
       "      <td>0</td>\n",
       "      <td>0</td>\n",
       "    </tr>\n",
       "    <tr>\n",
       "      <th>1</th>\n",
       "      <td>21</td>\n",
       "      <td>5295059</td>\n",
       "      <td>为加拿大和中国友谊祝贺。与其想象中国人对加拿大人的看法不如直接去问，不要用自己的想法去猜。本...</td>\n",
       "      <td>0</td>\n",
       "      <td>True</td>\n",
       "      <td>[christian]</td>\n",
       "      <td>0</td>\n",
       "      <td>0</td>\n",
       "      <td>0</td>\n",
       "      <td>1</td>\n",
       "      <td>...</td>\n",
       "      <td>0</td>\n",
       "      <td>0</td>\n",
       "      <td>0</td>\n",
       "      <td>1</td>\n",
       "      <td>0</td>\n",
       "      <td>0</td>\n",
       "      <td>0</td>\n",
       "      <td>0</td>\n",
       "      <td>0</td>\n",
       "      <td>0</td>\n",
       "    </tr>\n",
       "    <tr>\n",
       "      <th>2</th>\n",
       "      <td>26</td>\n",
       "      <td>5753025</td>\n",
       "      <td>♫ Mister we could use a man like Neville Chamb...</td>\n",
       "      <td>0</td>\n",
       "      <td>True</td>\n",
       "      <td>[male]</td>\n",
       "      <td>1</td>\n",
       "      <td>0</td>\n",
       "      <td>0</td>\n",
       "      <td>0</td>\n",
       "      <td>...</td>\n",
       "      <td>0</td>\n",
       "      <td>0</td>\n",
       "      <td>0</td>\n",
       "      <td>1</td>\n",
       "      <td>0</td>\n",
       "      <td>0</td>\n",
       "      <td>0</td>\n",
       "      <td>0</td>\n",
       "      <td>0</td>\n",
       "      <td>0</td>\n",
       "    </tr>\n",
       "    <tr>\n",
       "      <th>3</th>\n",
       "      <td>47</td>\n",
       "      <td>6100226</td>\n",
       "      <td>…so much for your opinion.</td>\n",
       "      <td>0</td>\n",
       "      <td>False</td>\n",
       "      <td>[]</td>\n",
       "      <td>0</td>\n",
       "      <td>0</td>\n",
       "      <td>0</td>\n",
       "      <td>0</td>\n",
       "      <td>...</td>\n",
       "      <td>0</td>\n",
       "      <td>0</td>\n",
       "      <td>0</td>\n",
       "      <td>0</td>\n",
       "      <td>0</td>\n",
       "      <td>0</td>\n",
       "      <td>0</td>\n",
       "      <td>0</td>\n",
       "      <td>0</td>\n",
       "      <td>0</td>\n",
       "    </tr>\n",
       "    <tr>\n",
       "      <th>4</th>\n",
       "      <td>54</td>\n",
       "      <td>974066</td>\n",
       "      <td>…as most everyone knows both parties completel...</td>\n",
       "      <td>0</td>\n",
       "      <td>False</td>\n",
       "      <td>[]</td>\n",
       "      <td>0</td>\n",
       "      <td>0</td>\n",
       "      <td>0</td>\n",
       "      <td>0</td>\n",
       "      <td>...</td>\n",
       "      <td>0</td>\n",
       "      <td>0</td>\n",
       "      <td>0</td>\n",
       "      <td>0</td>\n",
       "      <td>0</td>\n",
       "      <td>0</td>\n",
       "      <td>0</td>\n",
       "      <td>0</td>\n",
       "      <td>0</td>\n",
       "      <td>0</td>\n",
       "    </tr>\n",
       "  </tbody>\n",
       "</table>\n",
       "<p>5 rows × 21 columns</p>\n",
       "</div>"
      ],
      "text/plain": [
       "   uid       id                                       comment_text  toxicity  \\\n",
       "0   18  5711489  𝑯𝒆 𝒕𝒐𝒍𝒅 𝒑𝒐𝒍𝒊𝒄𝒆 𝒕𝒉𝒂𝒕 𝒉𝒆 𝒃𝒖𝒚𝒔 𝒄𝒐𝒄𝒂𝒊𝒏𝒆 “𝒊𝒏 𝒍𝒂𝒓𝒈𝒆 ...         0   \n",
       "1   21  5295059  为加拿大和中国友谊祝贺。与其想象中国人对加拿大人的看法不如直接去问，不要用自己的想法去猜。本...         0   \n",
       "2   26  5753025  ♫ Mister we could use a man like Neville Chamb...         0   \n",
       "3   47  6100226                         …so much for your opinion.         0   \n",
       "4   54   974066  …as most everyone knows both parties completel...         0   \n",
       "\n",
       "   has_active_attrs active_attrs  male  female  lgbtq  christian  ...  \\\n",
       "0             False           []     0       0      0          0  ...   \n",
       "1              True  [christian]     0       0      0          1  ...   \n",
       "2              True       [male]     1       0      0          0  ...   \n",
       "3             False           []     0       0      0          0  ...   \n",
       "4             False           []     0       0      0          0  ...   \n",
       "\n",
       "   other_religions  black  white  identity_any  severe_toxicity  obscene  \\\n",
       "0                0      0      0             0                0        0   \n",
       "1                0      0      0             1                0        0   \n",
       "2                0      0      0             1                0        0   \n",
       "3                0      0      0             0                0        0   \n",
       "4                0      0      0             0                0        0   \n",
       "\n",
       "   threat  insult  identity_attack  sexual_explicit  \n",
       "0       0       0                0                0  \n",
       "1       0       0                0                0  \n",
       "2       0       0                0                0  \n",
       "3       0       0                0                0  \n",
       "4       0       0                0                0  \n",
       "\n",
       "[5 rows x 21 columns]"
      ]
     },
     "execution_count": 41,
     "metadata": {},
     "output_type": "execute_result"
    }
   ],
   "source": [
    "statement = \"\"\"SELECT * FROM {}.{}\"\"\".format(\n",
    "    database_name, table_name\n",
    ")\n",
    "\n",
    "print(statement)\n",
    "\n",
    "df = pd.read_sql(statement, conn)\n",
    "df.head(5)"
   ]
  },
  {
   "cell_type": "code",
   "execution_count": 44,
   "id": "3999a8bc-8e73-472a-b148-1e27b488c18e",
   "metadata": {
    "execution": {
     "iopub.execute_input": "2025-09-24T00:33:41.776117Z",
     "iopub.status.busy": "2025-09-24T00:33:41.775843Z",
     "iopub.status.idle": "2025-09-24T00:33:43.143957Z",
     "shell.execute_reply": "2025-09-24T00:33:43.142864Z",
     "shell.execute_reply.started": "2025-09-24T00:33:41.776096Z"
    }
   },
   "outputs": [
    {
     "name": "stderr",
     "output_type": "stream",
     "text": [
      "/tmp/ipykernel_264/3130455028.py:3: UserWarning: pandas only supports SQLAlchemy connectable (engine/connection) or database string URI or sqlite3 DBAPI2 connection. Other DBAPI2 objects are not tested. Please consider using SQLAlchemy.\n",
      "  df_show = pd.read_sql(statement, conn)\n"
     ]
    },
    {
     "data": {
      "text/html": [
       "<div>\n",
       "<style scoped>\n",
       "    .dataframe tbody tr th:only-of-type {\n",
       "        vertical-align: middle;\n",
       "    }\n",
       "\n",
       "    .dataframe tbody tr th {\n",
       "        vertical-align: top;\n",
       "    }\n",
       "\n",
       "    .dataframe thead th {\n",
       "        text-align: right;\n",
       "    }\n",
       "</style>\n",
       "<table border=\"1\" class=\"dataframe\">\n",
       "  <thead>\n",
       "    <tr style=\"text-align: right;\">\n",
       "      <th></th>\n",
       "      <th>views</th>\n",
       "    </tr>\n",
       "  </thead>\n",
       "  <tbody>\n",
       "    <tr>\n",
       "      <th>0</th>\n",
       "      <td>toxicity_test</td>\n",
       "    </tr>\n",
       "    <tr>\n",
       "      <th>1</th>\n",
       "      <td>toxicity_train</td>\n",
       "    </tr>\n",
       "    <tr>\n",
       "      <th>2</th>\n",
       "      <td>toxicity_val</td>\n",
       "    </tr>\n",
       "  </tbody>\n",
       "</table>\n",
       "</div>"
      ],
      "text/plain": [
       "            views\n",
       "0   toxicity_test\n",
       "1  toxicity_train\n",
       "2    toxicity_val"
      ]
     },
     "execution_count": 44,
     "metadata": {},
     "output_type": "execute_result"
    }
   ],
   "source": [
    "statement = \"SHOW VIEWS in {}\".format(database_name)\n",
    "\n",
    "df_show = pd.read_sql(statement, conn)\n",
    "df_show.head(5)"
   ]
  },
  {
   "cell_type": "code",
   "execution_count": 45,
   "id": "7d1fbab0-7825-4745-a3ef-764a1f1a5095",
   "metadata": {
    "execution": {
     "iopub.execute_input": "2025-09-24T00:33:43.373581Z",
     "iopub.status.busy": "2025-09-24T00:33:43.373291Z",
     "iopub.status.idle": "2025-09-24T00:33:43.382690Z",
     "shell.execute_reply": "2025-09-24T00:33:43.381898Z",
     "shell.execute_reply.started": "2025-09-24T00:33:43.373560Z"
    }
   },
   "outputs": [
    {
     "data": {
      "text/plain": [
       "toxicity\n",
       "0    394821\n",
       "1     50472\n",
       "Name: count, dtype: int64"
      ]
     },
     "execution_count": 45,
     "metadata": {},
     "output_type": "execute_result"
    }
   ],
   "source": [
    "df['toxicity'].value_counts()"
   ]
  },
  {
   "cell_type": "markdown",
   "id": "020603df-113d-40f2-aa1e-6f43c1c6e0b7",
   "metadata": {},
   "source": [
    "## Set up Sagemaker Feature store"
   ]
  },
  {
   "cell_type": "code",
   "execution_count": 18,
   "id": "c84246ac-4a92-497e-aa61-519b25f10beb",
   "metadata": {
    "execution": {
     "iopub.execute_input": "2025-09-24T02:28:18.750961Z",
     "iopub.status.busy": "2025-09-24T02:28:18.750573Z",
     "iopub.status.idle": "2025-09-24T02:28:19.322460Z",
     "shell.execute_reply": "2025-09-24T02:28:19.321698Z",
     "shell.execute_reply.started": "2025-09-24T02:28:18.750935Z"
    }
   },
   "outputs": [],
   "source": [
    "from sagemaker.session import Session\n",
    "\n",
    "region = boto3.Session().region_name\n",
    "\n",
    "boto_session = boto3.Session(region_name=region)\n",
    "\n",
    "sagemaker_client = boto_session.client(service_name=\"sagemaker\", region_name=region)\n",
    "\n",
    "featurestore_runtime = boto_session.client(\n",
    "    service_name=\"sagemaker-featurestore-runtime\", region_name=region\n",
    ")\n",
    "\n",
    "feature_store_session = Session(\n",
    "    boto_session=boto_session,\n",
    "    sagemaker_client=sagemaker_client,\n",
    "    sagemaker_featurestore_runtime_client=featurestore_runtime,\n",
    ")"
   ]
  },
  {
   "cell_type": "markdown",
   "id": "82f8c92d-9ee4-4d0a-b2f3-d3c0ad96c5a7",
   "metadata": {},
   "source": [
    "### S3 Bucket set up for offline store"
   ]
  },
  {
   "cell_type": "code",
   "execution_count": 19,
   "id": "c0c3ecf4-004e-4aa9-8239-8ff7978bba1f",
   "metadata": {
    "execution": {
     "iopub.execute_input": "2025-09-24T02:28:19.324844Z",
     "iopub.status.busy": "2025-09-24T02:28:19.324592Z",
     "iopub.status.idle": "2025-09-24T02:28:19.584543Z",
     "shell.execute_reply": "2025-09-24T02:28:19.583387Z",
     "shell.execute_reply.started": "2025-09-24T02:28:19.324823Z"
    }
   },
   "outputs": [
    {
     "name": "stdout",
     "output_type": "stream",
     "text": [
      "sagemaker-us-east-1-590183687297\n"
     ]
    }
   ],
   "source": [
    "# You can modify the following to use a bucket of your choosing\n",
    "default_s3_bucket_name = feature_store_session.default_bucket()\n",
    "print(default_s3_bucket_name)"
   ]
  },
  {
   "cell_type": "code",
   "execution_count": 20,
   "id": "4b0f8b90-57cb-49f1-b541-f34d16851acf",
   "metadata": {
    "execution": {
     "iopub.execute_input": "2025-09-24T02:28:19.607436Z",
     "iopub.status.busy": "2025-09-24T02:28:19.607171Z",
     "iopub.status.idle": "2025-09-24T02:28:19.707646Z",
     "shell.execute_reply": "2025-09-24T02:28:19.706705Z",
     "shell.execute_reply.started": "2025-09-24T02:28:19.607417Z"
    }
   },
   "outputs": [
    {
     "name": "stdout",
     "output_type": "stream",
     "text": [
      "arn:aws:iam::590183687297:role/LabRole\n"
     ]
    }
   ],
   "source": [
    "# set up IAM role\n",
    "from sagemaker import get_execution_role\n",
    "\n",
    "# You can modify the following to use a role of your choosing. See the documentation for how to create this.\n",
    "role = get_execution_role()\n",
    "print(role)"
   ]
  },
  {
   "cell_type": "code",
   "execution_count": 21,
   "id": "fe1ac76d-075f-47ab-9b40-72991aedd5ae",
   "metadata": {
    "execution": {
     "iopub.execute_input": "2025-09-24T02:28:19.902929Z",
     "iopub.status.busy": "2025-09-24T02:28:19.902634Z",
     "iopub.status.idle": "2025-09-24T02:28:19.910523Z",
     "shell.execute_reply": "2025-09-24T02:28:19.909723Z",
     "shell.execute_reply.started": "2025-09-24T02:28:19.902904Z"
    }
   },
   "outputs": [
    {
     "data": {
      "text/plain": [
       "'s3://sagemaker-us-east-1-590183687297/toxicity_pds/parquet'"
      ]
     },
     "execution_count": 21,
     "metadata": {},
     "output_type": "execute_result"
    }
   ],
   "source": [
    "s3_private_path_parquet"
   ]
  },
  {
   "cell_type": "code",
   "execution_count": 22,
   "id": "2ed79fa2-0d1f-4f7c-ba34-a4a1192bc5ac",
   "metadata": {
    "execution": {
     "iopub.execute_input": "2025-09-24T02:28:20.298621Z",
     "iopub.status.busy": "2025-09-24T02:28:20.298355Z",
     "iopub.status.idle": "2025-09-24T02:28:20.303024Z",
     "shell.execute_reply": "2025-09-24T02:28:20.302343Z",
     "shell.execute_reply.started": "2025-09-24T02:28:20.298601Z"
    }
   },
   "outputs": [
    {
     "data": {
      "text/plain": [
       "['sagemaker-us-east-1-590183687297', 'toxicity_pds/parquet']"
      ]
     },
     "execution_count": 22,
     "metadata": {},
     "output_type": "execute_result"
    }
   ],
   "source": [
    "s3_private_path_parquet.replace(\"s3://\", \"\").split(\"/\", 1)"
   ]
  },
  {
   "cell_type": "code",
   "execution_count": 23,
   "id": "8d948deb-d529-4252-9d8d-b7c128148b72",
   "metadata": {
    "execution": {
     "iopub.execute_input": "2025-09-24T02:28:20.575844Z",
     "iopub.status.busy": "2025-09-24T02:28:20.575568Z",
     "iopub.status.idle": "2025-09-24T02:28:21.752519Z",
     "shell.execute_reply": "2025-09-24T02:28:21.751490Z",
     "shell.execute_reply.started": "2025-09-24T02:28:20.575823Z"
    }
   },
   "outputs": [
    {
     "name": "stdout",
     "output_type": "stream",
     "text": [
      "2025-09-24 02:27:35   34099179 test-00000-of-00001.parquet\n",
      "2025-09-24 02:27:35   68844404 train-00000-of-00001.parquet\n",
      "2025-09-24 02:27:35   11697541 validation-00000-of-00001.parquet\n"
     ]
    }
   ],
   "source": [
    "!aws s3 ls $s3_private_path_parquet/"
   ]
  },
  {
   "cell_type": "code",
   "execution_count": 24,
   "id": "f1a3b7e8-d0f7-4a48-bc29-5d7003b46fd2",
   "metadata": {
    "execution": {
     "iopub.execute_input": "2025-09-24T02:28:21.754485Z",
     "iopub.status.busy": "2025-09-24T02:28:21.754125Z",
     "iopub.status.idle": "2025-09-24T02:28:25.044294Z",
     "shell.execute_reply": "2025-09-24T02:28:25.043388Z",
     "shell.execute_reply.started": "2025-09-24T02:28:21.754450Z"
    }
   },
   "outputs": [
    {
     "name": "stdout",
     "output_type": "stream",
     "text": [
      "Train Data Shape: (267516, 21)\n",
      "Validation Data Shape: (45047, 21)\n",
      "Test Data Shape: (132730, 21)\n"
     ]
    }
   ],
   "source": [
    "import boto3\n",
    "import pandas as pd\n",
    "import io\n",
    "\n",
    "# Your region & private bucket\n",
    "s3_client = boto3.client(\"s3\", region_name=region)\n",
    "\n",
    "# Split the s3 path into bucket and prefix\n",
    "# Example: if $s3_private_path_csv=\"my-private-bucket/housing-data\"\n",
    "bucket_name, prefix = s3_private_path_parquet.replace(\"s3://\", \"\").split(\"/\", 1)\n",
    "\n",
    "# Define the file keys (relative to prefix)\n",
    "train_file_key = f\"{prefix}/train-00000-of-00001.parquet\"\n",
    "validation_file_key = f\"{prefix}/validation-00000-of-00001.parquet\"\n",
    "test_file_key = f\"{prefix}/test-00000-of-00001.parquet\"\n",
    "\n",
    "\n",
    "# Load the files\n",
    "train_data_object = s3_client.get_object(Bucket=bucket_name, Key=train_file_key)\n",
    "validation_data_object = s3_client.get_object(Bucket=bucket_name, Key=validation_file_key)\n",
    "test_data_object = s3_client.get_object(Bucket=bucket_name, Key=test_file_key)\n",
    "\n",
    "# Convert to pandas DataFrames\n",
    "train_data = pd.read_parquet(io.BytesIO(train_data_object[\"Body\"].read()))\n",
    "validation_data = pd.read_parquet(io.BytesIO(validation_data_object[\"Body\"].read()))\n",
    "test_data = pd.read_parquet(io.BytesIO(test_data_object[\"Body\"].read()))\n",
    "\n",
    "\n",
    "print(\"Train Data Shape:\", train_data.shape)\n",
    "print(\"Validation Data Shape:\", validation_data.shape)\n",
    "print(\"Test Data Shape:\", test_data.shape)\n",
    "\n"
   ]
  },
  {
   "cell_type": "code",
   "execution_count": 25,
   "id": "59f81157-ec51-4e5d-95f8-66f583f73748",
   "metadata": {
    "execution": {
     "iopub.execute_input": "2025-09-24T02:28:25.046225Z",
     "iopub.status.busy": "2025-09-24T02:28:25.045466Z",
     "iopub.status.idle": "2025-09-24T02:28:25.143325Z",
     "shell.execute_reply": "2025-09-24T02:28:25.139626Z",
     "shell.execute_reply.started": "2025-09-24T02:28:25.046190Z"
    }
   },
   "outputs": [
    {
     "data": {
      "text/plain": [
       "(445293, 21)"
      ]
     },
     "execution_count": 25,
     "metadata": {},
     "output_type": "execute_result"
    }
   ],
   "source": [
    "civil = pd.concat([train_data, validation_data, test_data], axis=0)\n",
    "civil.shape"
   ]
  },
  {
   "cell_type": "code",
   "execution_count": 26,
   "id": "19e9887c-e096-4b19-b1bc-700fc0ce2dcc",
   "metadata": {
    "execution": {
     "iopub.execute_input": "2025-09-24T02:28:25.144625Z",
     "iopub.status.busy": "2025-09-24T02:28:25.144308Z",
     "iopub.status.idle": "2025-09-24T02:28:25.518444Z",
     "shell.execute_reply": "2025-09-24T02:28:25.517504Z",
     "shell.execute_reply.started": "2025-09-24T02:28:25.144596Z"
    }
   },
   "outputs": [
    {
     "data": {
      "text/plain": [
       "toxicity\n",
       "0    60000\n",
       "1    50472\n",
       "Name: count, dtype: int64"
      ]
     },
     "execution_count": 26,
     "metadata": {},
     "output_type": "execute_result"
    }
   ],
   "source": [
    "# Sample 60,000 records where toxicity == 0\n",
    "civil_tox0 = civil[civil['toxicity'] == 0].sample(n=60000, random_state=42)\n",
    "# Get all records where toxicity == 1\n",
    "civil_tox1 = civil[civil['toxicity'] == 1]\n",
    "# Concatenate to create a balanced dataframe\n",
    "civil_balanced = pd.concat([civil_tox0, civil_tox1], ignore_index=True)\n",
    "# Shuffle the resulting dataframe\n",
    "civil_df = civil_balanced.sample(frac=1, random_state=42).reset_index(drop=True)\n",
    "civil_df['toxicity'].value_counts()"
   ]
  },
  {
   "cell_type": "markdown",
   "id": "8f90d599-9b2d-4fb9-9114-b36a0c4ec71b",
   "metadata": {},
   "source": [
    "### Feature Engineering"
   ]
  },
  {
   "cell_type": "code",
   "execution_count": 27,
   "id": "87684147-e597-4a32-9a0b-3589caf815d6",
   "metadata": {
    "execution": {
     "iopub.execute_input": "2025-09-24T02:28:25.520035Z",
     "iopub.status.busy": "2025-09-24T02:28:25.519673Z",
     "iopub.status.idle": "2025-09-24T02:28:25.524733Z",
     "shell.execute_reply": "2025-09-24T02:28:25.523847Z",
     "shell.execute_reply.started": "2025-09-24T02:28:25.519979Z"
    }
   },
   "outputs": [],
   "source": [
    "import re\n",
    "\n",
    "TAG_RE = re.compile(r'<[^>]+>')\n",
    "\n",
    "def re_tags(text_list): #define remove tag funtion\n",
    "    return [TAG_RE.sub('', str(word)).lower() for word in text_list]"
   ]
  },
  {
   "cell_type": "code",
   "execution_count": 44,
   "id": "f94bf34b-cd63-428c-81d3-1f9864fe6f07",
   "metadata": {
    "execution": {
     "iopub.execute_input": "2025-09-24T02:29:25.734707Z",
     "iopub.status.busy": "2025-09-24T02:29:25.734262Z",
     "iopub.status.idle": "2025-09-24T02:29:25.742030Z",
     "shell.execute_reply": "2025-09-24T02:29:25.741093Z",
     "shell.execute_reply.started": "2025-09-24T02:29:25.734677Z"
    }
   },
   "outputs": [],
   "source": [
    "# Remove Accented Characters\n",
    "\n",
    "import unidecode\n",
    "def re_accented_char(text_list):\n",
    "    return [unidecode.unidecode(word.encode().decode('utf-8')) for word in text_list]"
   ]
  },
  {
   "cell_type": "code",
   "execution_count": 41,
   "id": "5e0c7224-7c44-453c-8d61-52e026d2c54f",
   "metadata": {
    "execution": {
     "iopub.execute_input": "2025-09-24T02:29:01.861121Z",
     "iopub.status.busy": "2025-09-24T02:29:01.860812Z",
     "iopub.status.idle": "2025-09-24T02:29:01.890374Z",
     "shell.execute_reply": "2025-09-24T02:29:01.878032Z",
     "shell.execute_reply.started": "2025-09-24T02:29:01.861099Z"
    }
   },
   "outputs": [],
   "source": [
    "# Extended contractions\n",
    "def ex_contractions(text_list):\n",
    "    result=[]\n",
    "    for word in text_list:\n",
    "        # replace contracting withoutsignal\n",
    "        word = word.replace(\"wont\",\"won't\")\n",
    "        word = word.replace(\"cant\",\"can't\")\n",
    "        word = word.replace(\"its\",\"it's\")\n",
    "        word = word.replace(\"youre\",\"you're\")\n",
    "        word = word.replace(\"hes\",\"he's\")\n",
    "        word = word.replace(\"shes\",\"she's\")\n",
    "        word = word.replace(\"its\",\"it's\")\n",
    "        word = word.replace(\"weare\",\"we're\")\n",
    "        word = word.replace(\"theyre\",\"they're\")\n",
    "\n",
    "        # specific\n",
    "        word = re.sub(r\"won\\'t\", \"will not\", str(word))\n",
    "        word = re.sub(r\"can\\'t\", \"can not\", str(word))\n",
    "\n",
    "        # general\n",
    "        word = re.sub(r\"n\\'t\", \" not\", str(word))\n",
    "        word = re.sub(r\"\\'re\", \" are\", str(word))\n",
    "        word = re.sub(r\"\\'s\", \" is\", str(word))\n",
    "        word = re.sub(r\"\\'d\", \" would\", str(word))\n",
    "        word = re.sub(r\"\\'ll\", \" will\", str(word))\n",
    "        word = re.sub(r\"\\'t\", \" not\", str(word))\n",
    "        word = re.sub(r\"\\'ve\", \" have\", str(word))\n",
    "        word = re.sub(r\"\\'m\", \" am\", str(word))\n",
    "        result.append(word)\n",
    "    return result"
   ]
  },
  {
   "cell_type": "code",
   "execution_count": 29,
   "id": "5fdfb3c8-8e29-477b-8120-2f39099d7976",
   "metadata": {
    "execution": {
     "iopub.execute_input": "2025-09-24T02:28:28.095098Z",
     "iopub.status.busy": "2025-09-24T02:28:28.094792Z",
     "iopub.status.idle": "2025-09-24T02:28:28.098632Z",
     "shell.execute_reply": "2025-09-24T02:28:28.097706Z",
     "shell.execute_reply.started": "2025-09-24T02:28:28.095075Z"
    }
   },
   "outputs": [],
   "source": [
    "# Removing Special Characters\n",
    "def re_special_chars(text_list):\n",
    "    return [re.sub(\"[^a-zA-Z0-9]\",\" \",word) for word in text_list]"
   ]
  },
  {
   "cell_type": "markdown",
   "id": "f82f80c1-c896-4c12-9636-a32c92378309",
   "metadata": {},
   "source": [
    "#### Lemmatization"
   ]
  },
  {
   "cell_type": "code",
   "execution_count": 30,
   "id": "7131bf3a-ec16-4b48-ae46-a5ceb528b133",
   "metadata": {
    "execution": {
     "iopub.execute_input": "2025-09-24T02:28:28.511682Z",
     "iopub.status.busy": "2025-09-24T02:28:28.511395Z",
     "iopub.status.idle": "2025-09-24T02:28:30.073085Z",
     "shell.execute_reply": "2025-09-24T02:28:30.072286Z",
     "shell.execute_reply.started": "2025-09-24T02:28:28.511662Z"
    }
   },
   "outputs": [],
   "source": [
    "from nltk.stem import WordNetLemmatizer\n",
    "\n",
    "def lemmatize_text(text_list):\n",
    "    wnl = WordNetLemmatizer()\n",
    "    lemmatizer_sentence = []  \n",
    "    tokenizer=nltk.tokenize.WhitespaceTokenizer()\n",
    "    for word in tokenizer.tokenize(text_list):\n",
    "        lemmatizer_sentence.append(wnl.lemmatize(word,'v'))\n",
    "        lemmatizer_sentence.append(\" \")\n",
    "    \n",
    "    return(\"\".join(lemmatizer_sentence))"
   ]
  },
  {
   "cell_type": "markdown",
   "id": "e7b808b9-7320-48fb-8272-27d0424cadfa",
   "metadata": {},
   "source": [
    "#### Removing Stop Words"
   ]
  },
  {
   "cell_type": "code",
   "execution_count": 31,
   "id": "607bd88c-e994-4b4a-baaa-ee4b38c60dfc",
   "metadata": {
    "execution": {
     "iopub.execute_input": "2025-09-24T02:28:30.075296Z",
     "iopub.status.busy": "2025-09-24T02:28:30.074615Z",
     "iopub.status.idle": "2025-09-24T02:28:30.081919Z",
     "shell.execute_reply": "2025-09-24T02:28:30.080554Z",
     "shell.execute_reply.started": "2025-09-24T02:28:30.075258Z"
    }
   },
   "outputs": [],
   "source": [
    "import nltk\n",
    "from nltk.corpus import stopwords\n",
    "\n",
    "def stopwords_text(text_list):\n",
    "    stop = stopwords.words('english')\n",
    "    sentence_without = []\n",
    "    tokenizer=nltk.tokenize.WhitespaceTokenizer()\n",
    "    for word in tokenizer.tokenize(text_list):\n",
    "        if word not in stop:\n",
    "            sentence_without.append(word)\n",
    "            sentence_without.append(\" \")\n",
    "            \n",
    "    return(\"\".join(sentence_without))"
   ]
  },
  {
   "cell_type": "code",
   "execution_count": 32,
   "id": "4f6c66f7-da83-4dfb-8266-cf8b0af93896",
   "metadata": {
    "execution": {
     "iopub.execute_input": "2025-09-24T02:28:30.083304Z",
     "iopub.status.busy": "2025-09-24T02:28:30.082979Z",
     "iopub.status.idle": "2025-09-24T02:28:30.088140Z",
     "shell.execute_reply": "2025-09-24T02:28:30.087357Z",
     "shell.execute_reply.started": "2025-09-24T02:28:30.083273Z"
    }
   },
   "outputs": [],
   "source": [
    "def re_whitespaces(text_list): \n",
    "    result=[]\n",
    "    for word in text_list:\n",
    "        word=(re.sub(r'\\d','',str(word))) #remove numbers \n",
    "        word = (re.sub(r'\\s+',' ', str(word))) #remove duplicates white spacces\n",
    "        result.append(word)\n",
    "    return result"
   ]
  },
  {
   "cell_type": "code",
   "execution_count": 33,
   "id": "9797d64c-8947-4b15-a28a-b5dba9d08ca9",
   "metadata": {
    "execution": {
     "iopub.execute_input": "2025-09-24T02:28:30.090159Z",
     "iopub.status.busy": "2025-09-24T02:28:30.089575Z",
     "iopub.status.idle": "2025-09-24T02:28:30.134063Z",
     "shell.execute_reply": "2025-09-24T02:28:30.133013Z",
     "shell.execute_reply.started": "2025-09-24T02:28:30.090126Z"
    }
   },
   "outputs": [],
   "source": [
    "# Removing blank comments\n",
    "civil_df = civil_df[civil_df['comment_text']!='']"
   ]
  },
  {
   "cell_type": "markdown",
   "id": "58f07aac-83f9-41bb-b7d8-b6b4a835b374",
   "metadata": {},
   "source": [
    "### Pipeline"
   ]
  },
  {
   "cell_type": "code",
   "execution_count": 34,
   "id": "99157688-c426-45e1-8717-5e66b8d18c84",
   "metadata": {
    "execution": {
     "iopub.execute_input": "2025-09-24T02:28:30.135907Z",
     "iopub.status.busy": "2025-09-24T02:28:30.135662Z",
     "iopub.status.idle": "2025-09-24T02:28:30.144745Z",
     "shell.execute_reply": "2025-09-24T02:28:30.143960Z",
     "shell.execute_reply.started": "2025-09-24T02:28:30.135886Z"
    }
   },
   "outputs": [],
   "source": [
    "from sklearn.pipeline import Pipeline\n",
    "from sklearn.base import BaseEstimator, TransformerMixin"
   ]
  },
  {
   "cell_type": "code",
   "execution_count": 35,
   "id": "2a1648c1-61c6-4c5c-b413-f947e8c74fa1",
   "metadata": {
    "execution": {
     "iopub.execute_input": "2025-09-24T02:28:30.146074Z",
     "iopub.status.busy": "2025-09-24T02:28:30.145564Z",
     "iopub.status.idle": "2025-09-24T02:28:30.243601Z",
     "shell.execute_reply": "2025-09-24T02:28:30.242684Z",
     "shell.execute_reply.started": "2025-09-24T02:28:30.146042Z"
    }
   },
   "outputs": [
    {
     "name": "stderr",
     "output_type": "stream",
     "text": [
      "[nltk_data] Downloading package stopwords to /home/sagemaker-\n",
      "[nltk_data]     user/nltk_data...\n",
      "[nltk_data]   Package stopwords is already up-to-date!\n",
      "[nltk_data] Downloading package wordnet to /home/sagemaker-\n",
      "[nltk_data]     user/nltk_data...\n",
      "[nltk_data]   Package wordnet is already up-to-date!\n"
     ]
    },
    {
     "data": {
      "text/plain": [
       "True"
      ]
     },
     "execution_count": 35,
     "metadata": {},
     "output_type": "execute_result"
    }
   ],
   "source": [
    "import nltk\n",
    "nltk.download('stopwords')\n",
    "nltk.download('wordnet')"
   ]
  },
  {
   "cell_type": "code",
   "execution_count": 36,
   "id": "4f8a3d4d-fa1e-456b-a2d8-edb3ee4c35d0",
   "metadata": {
    "execution": {
     "iopub.execute_input": "2025-09-24T02:28:30.311203Z",
     "iopub.status.busy": "2025-09-24T02:28:30.310898Z",
     "iopub.status.idle": "2025-09-24T02:28:30.320524Z",
     "shell.execute_reply": "2025-09-24T02:28:30.316376Z",
     "shell.execute_reply.started": "2025-09-24T02:28:30.311180Z"
    }
   },
   "outputs": [],
   "source": [
    "# Class for regular expressions application\n",
    "class ApplyRegex(BaseEstimator, TransformerMixin):\n",
    "    \n",
    "    def __init__(self, regex_transformers):\n",
    "        self.regex_transformers = regex_transformers\n",
    "        \n",
    "    def fit(self, X, y=None):\n",
    "        return self\n",
    "    \n",
    "    def transform(self, X, y=None):\n",
    "        # Applying all regex functions in the regex_transformers dictionary\n",
    "        for regex_name, regex_function in self.regex_transformers.items():\n",
    "            X = regex_function(X)\n",
    "            \n",
    "        return X"
   ]
  },
  {
   "cell_type": "code",
   "execution_count": 37,
   "id": "b97cb8bb-b449-4ec8-a2e9-a7d6900aa845",
   "metadata": {
    "execution": {
     "iopub.execute_input": "2025-09-24T02:28:30.852212Z",
     "iopub.status.busy": "2025-09-24T02:28:30.851913Z",
     "iopub.status.idle": "2025-09-24T02:28:30.857933Z",
     "shell.execute_reply": "2025-09-24T02:28:30.856541Z",
     "shell.execute_reply.started": "2025-09-24T02:28:30.852191Z"
    }
   },
   "outputs": [],
   "source": [
    "class StopWordsRemoval(BaseEstimator, TransformerMixin):\n",
    "    \n",
    "    def __init__(self, text_stopwords):\n",
    "        self.text_stopwords = text_stopwords\n",
    "    def fit(self, X, y=None):\n",
    "        return self\n",
    "    def transform(self, X, y=None):\n",
    "        return [self.text_stopwords(comment) for comment in X]"
   ]
  },
  {
   "cell_type": "code",
   "execution_count": 38,
   "id": "baa9e9ff-b733-416f-97d3-4fec7ee67910",
   "metadata": {
    "execution": {
     "iopub.execute_input": "2025-09-24T02:28:31.163387Z",
     "iopub.status.busy": "2025-09-24T02:28:31.163078Z",
     "iopub.status.idle": "2025-09-24T02:28:31.168103Z",
     "shell.execute_reply": "2025-09-24T02:28:31.167113Z",
     "shell.execute_reply.started": "2025-09-24T02:28:31.163365Z"
    }
   },
   "outputs": [],
   "source": [
    "class LemmatizeProcess(BaseEstimator, TransformerMixin):\n",
    "    \n",
    "    def __init__(self, Lemmatize):\n",
    "        self.Lemmatizer = Lemmatize\n",
    "    \n",
    "    def fit(self, X, y=None):\n",
    "        return self\n",
    "    \n",
    "    def transform(self, X, y=None):\n",
    "        return [self.Lemmatizer(comment) for comment in X]"
   ]
  },
  {
   "cell_type": "code",
   "execution_count": 45,
   "id": "7be611fb-a16a-41cc-ac03-b10e45943397",
   "metadata": {
    "execution": {
     "iopub.execute_input": "2025-09-24T02:29:35.942656Z",
     "iopub.status.busy": "2025-09-24T02:29:35.942364Z",
     "iopub.status.idle": "2025-09-24T02:29:35.946862Z",
     "shell.execute_reply": "2025-09-24T02:29:35.945861Z",
     "shell.execute_reply.started": "2025-09-24T02:29:35.942634Z"
    }
   },
   "outputs": [],
   "source": [
    "# Defining regex transformers to be applied\n",
    "regex_transformers = {\n",
    "    'remove_tags': re_tags,\n",
    "    'remove_accents': re_accented_char,\n",
    "    'decontracted': ex_contractions,\n",
    "    're_sc': re_special_chars,\n",
    "    'whitespaces': re_whitespaces\n",
    "}\n",
    "\n",
    "# Building a text prep pipeline\n",
    "text_prep_pipeline = Pipeline([\n",
    "    ('regex', ApplyRegex(regex_transformers)),\n",
    "    ('stopwords', StopWordsRemoval(stopwords_text)),\n",
    "    ('lemmatize', LemmatizeProcess(lemmatize_text)),\n",
    "])"
   ]
  },
  {
   "cell_type": "code",
   "execution_count": 46,
   "id": "7abf823e-395c-49a7-8ba3-d860bd057318",
   "metadata": {
    "execution": {
     "iopub.execute_input": "2025-09-24T02:31:35.103833Z",
     "iopub.status.busy": "2025-09-24T02:31:35.103548Z",
     "iopub.status.idle": "2025-09-24T02:31:35.290802Z",
     "shell.execute_reply": "2025-09-24T02:31:35.289822Z",
     "shell.execute_reply.started": "2025-09-24T02:31:35.103813Z"
    }
   },
   "outputs": [
    {
     "data": {
      "text/html": [
       "<div>\n",
       "<style scoped>\n",
       "    .dataframe tbody tr th:only-of-type {\n",
       "        vertical-align: middle;\n",
       "    }\n",
       "\n",
       "    .dataframe tbody tr th {\n",
       "        vertical-align: top;\n",
       "    }\n",
       "\n",
       "    .dataframe thead th {\n",
       "        text-align: right;\n",
       "    }\n",
       "</style>\n",
       "<table border=\"1\" class=\"dataframe\">\n",
       "  <thead>\n",
       "    <tr style=\"text-align: right;\">\n",
       "      <th></th>\n",
       "      <th>uid</th>\n",
       "      <th>id</th>\n",
       "      <th>comment_text</th>\n",
       "      <th>toxicity</th>\n",
       "      <th>has_active_attrs</th>\n",
       "      <th>active_attrs</th>\n",
       "      <th>male</th>\n",
       "      <th>female</th>\n",
       "      <th>LGBTQ</th>\n",
       "      <th>christian</th>\n",
       "      <th>...</th>\n",
       "      <th>other_religions</th>\n",
       "      <th>black</th>\n",
       "      <th>white</th>\n",
       "      <th>identity_any</th>\n",
       "      <th>severe_toxicity</th>\n",
       "      <th>obscene</th>\n",
       "      <th>threat</th>\n",
       "      <th>insult</th>\n",
       "      <th>identity_attack</th>\n",
       "      <th>sexual_explicit</th>\n",
       "    </tr>\n",
       "  </thead>\n",
       "  <tbody>\n",
       "    <tr>\n",
       "      <th>0</th>\n",
       "      <td>54642</td>\n",
       "      <td>544615</td>\n",
       "      <td>While praising a Jesuit pope and the Jesuit \"t...</td>\n",
       "      <td>0</td>\n",
       "      <td>True</td>\n",
       "      <td>[male]</td>\n",
       "      <td>1</td>\n",
       "      <td>0</td>\n",
       "      <td>0</td>\n",
       "      <td>0</td>\n",
       "      <td>...</td>\n",
       "      <td>0</td>\n",
       "      <td>0</td>\n",
       "      <td>0</td>\n",
       "      <td>1</td>\n",
       "      <td>0</td>\n",
       "      <td>0</td>\n",
       "      <td>0</td>\n",
       "      <td>0</td>\n",
       "      <td>0</td>\n",
       "      <td>0</td>\n",
       "    </tr>\n",
       "    <tr>\n",
       "      <th>1</th>\n",
       "      <td>138661</td>\n",
       "      <td>5937757</td>\n",
       "      <td>That simply proves that lib trolls are on this...</td>\n",
       "      <td>1</td>\n",
       "      <td>False</td>\n",
       "      <td>[]</td>\n",
       "      <td>0</td>\n",
       "      <td>0</td>\n",
       "      <td>0</td>\n",
       "      <td>0</td>\n",
       "      <td>...</td>\n",
       "      <td>0</td>\n",
       "      <td>0</td>\n",
       "      <td>0</td>\n",
       "      <td>0</td>\n",
       "      <td>0</td>\n",
       "      <td>0</td>\n",
       "      <td>0</td>\n",
       "      <td>1</td>\n",
       "      <td>0</td>\n",
       "      <td>0</td>\n",
       "    </tr>\n",
       "    <tr>\n",
       "      <th>2</th>\n",
       "      <td>116897</td>\n",
       "      <td>5685492</td>\n",
       "      <td>The paranoia of the belief Americans are all r...</td>\n",
       "      <td>1</td>\n",
       "      <td>True</td>\n",
       "      <td>[female, white]</td>\n",
       "      <td>0</td>\n",
       "      <td>1</td>\n",
       "      <td>0</td>\n",
       "      <td>0</td>\n",
       "      <td>...</td>\n",
       "      <td>0</td>\n",
       "      <td>0</td>\n",
       "      <td>1</td>\n",
       "      <td>1</td>\n",
       "      <td>0</td>\n",
       "      <td>0</td>\n",
       "      <td>0</td>\n",
       "      <td>1</td>\n",
       "      <td>0</td>\n",
       "      <td>0</td>\n",
       "    </tr>\n",
       "    <tr>\n",
       "      <th>3</th>\n",
       "      <td>363315</td>\n",
       "      <td>7117052</td>\n",
       "      <td>David Brooks the original Israel firster and h...</td>\n",
       "      <td>1</td>\n",
       "      <td>False</td>\n",
       "      <td>[]</td>\n",
       "      <td>0</td>\n",
       "      <td>0</td>\n",
       "      <td>0</td>\n",
       "      <td>0</td>\n",
       "      <td>...</td>\n",
       "      <td>0</td>\n",
       "      <td>0</td>\n",
       "      <td>0</td>\n",
       "      <td>0</td>\n",
       "      <td>0</td>\n",
       "      <td>0</td>\n",
       "      <td>0</td>\n",
       "      <td>1</td>\n",
       "      <td>0</td>\n",
       "      <td>0</td>\n",
       "    </tr>\n",
       "    <tr>\n",
       "      <th>4</th>\n",
       "      <td>273358</td>\n",
       "      <td>5309837</td>\n",
       "      <td>Iditarod dogs are loved, honored and even give...</td>\n",
       "      <td>1</td>\n",
       "      <td>False</td>\n",
       "      <td>[]</td>\n",
       "      <td>0</td>\n",
       "      <td>0</td>\n",
       "      <td>0</td>\n",
       "      <td>0</td>\n",
       "      <td>...</td>\n",
       "      <td>0</td>\n",
       "      <td>0</td>\n",
       "      <td>0</td>\n",
       "      <td>0</td>\n",
       "      <td>0</td>\n",
       "      <td>0</td>\n",
       "      <td>0</td>\n",
       "      <td>1</td>\n",
       "      <td>0</td>\n",
       "      <td>0</td>\n",
       "    </tr>\n",
       "    <tr>\n",
       "      <th>...</th>\n",
       "      <td>...</td>\n",
       "      <td>...</td>\n",
       "      <td>...</td>\n",
       "      <td>...</td>\n",
       "      <td>...</td>\n",
       "      <td>...</td>\n",
       "      <td>...</td>\n",
       "      <td>...</td>\n",
       "      <td>...</td>\n",
       "      <td>...</td>\n",
       "      <td>...</td>\n",
       "      <td>...</td>\n",
       "      <td>...</td>\n",
       "      <td>...</td>\n",
       "      <td>...</td>\n",
       "      <td>...</td>\n",
       "      <td>...</td>\n",
       "      <td>...</td>\n",
       "      <td>...</td>\n",
       "      <td>...</td>\n",
       "      <td>...</td>\n",
       "    </tr>\n",
       "    <tr>\n",
       "      <th>110467</th>\n",
       "      <td>232287</td>\n",
       "      <td>5378642</td>\n",
       "      <td>Like father like son.  Trudeau oh so eager to ...</td>\n",
       "      <td>1</td>\n",
       "      <td>False</td>\n",
       "      <td>[]</td>\n",
       "      <td>0</td>\n",
       "      <td>0</td>\n",
       "      <td>0</td>\n",
       "      <td>0</td>\n",
       "      <td>...</td>\n",
       "      <td>0</td>\n",
       "      <td>0</td>\n",
       "      <td>0</td>\n",
       "      <td>0</td>\n",
       "      <td>0</td>\n",
       "      <td>0</td>\n",
       "      <td>0</td>\n",
       "      <td>1</td>\n",
       "      <td>0</td>\n",
       "      <td>0</td>\n",
       "    </tr>\n",
       "    <tr>\n",
       "      <th>110468</th>\n",
       "      <td>437996</td>\n",
       "      <td>5815651</td>\n",
       "      <td>\"I get it.\\nTrump is a bad guy.\"\\n\\nNo, you cl...</td>\n",
       "      <td>1</td>\n",
       "      <td>False</td>\n",
       "      <td>[]</td>\n",
       "      <td>0</td>\n",
       "      <td>0</td>\n",
       "      <td>0</td>\n",
       "      <td>0</td>\n",
       "      <td>...</td>\n",
       "      <td>0</td>\n",
       "      <td>0</td>\n",
       "      <td>0</td>\n",
       "      <td>0</td>\n",
       "      <td>0</td>\n",
       "      <td>0</td>\n",
       "      <td>0</td>\n",
       "      <td>0</td>\n",
       "      <td>0</td>\n",
       "      <td>0</td>\n",
       "    </tr>\n",
       "    <tr>\n",
       "      <th>110469</th>\n",
       "      <td>222628</td>\n",
       "      <td>5461945</td>\n",
       "      <td>Mike objects to gay sex because it's \"icky\". H...</td>\n",
       "      <td>1</td>\n",
       "      <td>True</td>\n",
       "      <td>[LGBTQ]</td>\n",
       "      <td>0</td>\n",
       "      <td>0</td>\n",
       "      <td>1</td>\n",
       "      <td>0</td>\n",
       "      <td>...</td>\n",
       "      <td>0</td>\n",
       "      <td>0</td>\n",
       "      <td>0</td>\n",
       "      <td>1</td>\n",
       "      <td>0</td>\n",
       "      <td>0</td>\n",
       "      <td>0</td>\n",
       "      <td>1</td>\n",
       "      <td>1</td>\n",
       "      <td>0</td>\n",
       "    </tr>\n",
       "    <tr>\n",
       "      <th>110470</th>\n",
       "      <td>150178</td>\n",
       "      <td>5255638</td>\n",
       "      <td>Sounds so joyous!\\nGreat Mother's Day story.</td>\n",
       "      <td>0</td>\n",
       "      <td>False</td>\n",
       "      <td>[]</td>\n",
       "      <td>0</td>\n",
       "      <td>0</td>\n",
       "      <td>0</td>\n",
       "      <td>0</td>\n",
       "      <td>...</td>\n",
       "      <td>0</td>\n",
       "      <td>0</td>\n",
       "      <td>0</td>\n",
       "      <td>0</td>\n",
       "      <td>0</td>\n",
       "      <td>0</td>\n",
       "      <td>0</td>\n",
       "      <td>0</td>\n",
       "      <td>0</td>\n",
       "      <td>0</td>\n",
       "    </tr>\n",
       "    <tr>\n",
       "      <th>110471</th>\n",
       "      <td>60627</td>\n",
       "      <td>535844</td>\n",
       "      <td>What's \"Catholic press\" got to do with it?</td>\n",
       "      <td>0</td>\n",
       "      <td>True</td>\n",
       "      <td>[christian]</td>\n",
       "      <td>0</td>\n",
       "      <td>0</td>\n",
       "      <td>0</td>\n",
       "      <td>1</td>\n",
       "      <td>...</td>\n",
       "      <td>0</td>\n",
       "      <td>0</td>\n",
       "      <td>0</td>\n",
       "      <td>1</td>\n",
       "      <td>0</td>\n",
       "      <td>0</td>\n",
       "      <td>0</td>\n",
       "      <td>0</td>\n",
       "      <td>0</td>\n",
       "      <td>0</td>\n",
       "    </tr>\n",
       "  </tbody>\n",
       "</table>\n",
       "<p>110472 rows × 21 columns</p>\n",
       "</div>"
      ],
      "text/plain": [
       "           uid       id                                       comment_text  \\\n",
       "0        54642   544615  While praising a Jesuit pope and the Jesuit \"t...   \n",
       "1       138661  5937757  That simply proves that lib trolls are on this...   \n",
       "2       116897  5685492  The paranoia of the belief Americans are all r...   \n",
       "3       363315  7117052  David Brooks the original Israel firster and h...   \n",
       "4       273358  5309837  Iditarod dogs are loved, honored and even give...   \n",
       "...        ...      ...                                                ...   \n",
       "110467  232287  5378642  Like father like son.  Trudeau oh so eager to ...   \n",
       "110468  437996  5815651  \"I get it.\\nTrump is a bad guy.\"\\n\\nNo, you cl...   \n",
       "110469  222628  5461945  Mike objects to gay sex because it's \"icky\". H...   \n",
       "110470  150178  5255638       Sounds so joyous!\\nGreat Mother's Day story.   \n",
       "110471   60627   535844         What's \"Catholic press\" got to do with it?   \n",
       "\n",
       "        toxicity  has_active_attrs     active_attrs  male  female  LGBTQ  \\\n",
       "0              0              True           [male]     1       0      0   \n",
       "1              1             False               []     0       0      0   \n",
       "2              1              True  [female, white]     0       1      0   \n",
       "3              1             False               []     0       0      0   \n",
       "4              1             False               []     0       0      0   \n",
       "...          ...               ...              ...   ...     ...    ...   \n",
       "110467         1             False               []     0       0      0   \n",
       "110468         1             False               []     0       0      0   \n",
       "110469         1              True          [LGBTQ]     0       0      1   \n",
       "110470         0             False               []     0       0      0   \n",
       "110471         0              True      [christian]     0       0      0   \n",
       "\n",
       "        christian  ...  other_religions  black  white  identity_any  \\\n",
       "0               0  ...                0      0      0             1   \n",
       "1               0  ...                0      0      0             0   \n",
       "2               0  ...                0      0      1             1   \n",
       "3               0  ...                0      0      0             0   \n",
       "4               0  ...                0      0      0             0   \n",
       "...           ...  ...              ...    ...    ...           ...   \n",
       "110467          0  ...                0      0      0             0   \n",
       "110468          0  ...                0      0      0             0   \n",
       "110469          0  ...                0      0      0             1   \n",
       "110470          0  ...                0      0      0             0   \n",
       "110471          1  ...                0      0      0             1   \n",
       "\n",
       "        severe_toxicity  obscene  threat  insult  identity_attack  \\\n",
       "0                     0        0       0       0                0   \n",
       "1                     0        0       0       1                0   \n",
       "2                     0        0       0       1                0   \n",
       "3                     0        0       0       1                0   \n",
       "4                     0        0       0       1                0   \n",
       "...                 ...      ...     ...     ...              ...   \n",
       "110467                0        0       0       1                0   \n",
       "110468                0        0       0       0                0   \n",
       "110469                0        0       0       1                1   \n",
       "110470                0        0       0       0                0   \n",
       "110471                0        0       0       0                0   \n",
       "\n",
       "        sexual_explicit  \n",
       "0                     0  \n",
       "1                     0  \n",
       "2                     0  \n",
       "3                     0  \n",
       "4                     0  \n",
       "...                 ...  \n",
       "110467                0  \n",
       "110468                0  \n",
       "110469                0  \n",
       "110470                0  \n",
       "110471                0  \n",
       "\n",
       "[110472 rows x 21 columns]"
      ]
     },
     "execution_count": 46,
     "metadata": {},
     "output_type": "execute_result"
    }
   ],
   "source": [
    "civil_df"
   ]
  },
  {
   "cell_type": "code",
   "execution_count": 47,
   "id": "82b0905f-889d-4fc0-b054-bbcdad24cba7",
   "metadata": {
    "execution": {
     "iopub.execute_input": "2025-09-24T02:31:38.778394Z",
     "iopub.status.busy": "2025-09-24T02:31:38.778096Z",
     "iopub.status.idle": "2025-09-24T02:31:38.793790Z",
     "shell.execute_reply": "2025-09-24T02:31:38.792822Z",
     "shell.execute_reply.started": "2025-09-24T02:31:38.778373Z"
    }
   },
   "outputs": [
    {
     "data": {
      "text/html": [
       "<div>\n",
       "<style scoped>\n",
       "    .dataframe tbody tr th:only-of-type {\n",
       "        vertical-align: middle;\n",
       "    }\n",
       "\n",
       "    .dataframe tbody tr th {\n",
       "        vertical-align: top;\n",
       "    }\n",
       "\n",
       "    .dataframe thead th {\n",
       "        text-align: right;\n",
       "    }\n",
       "</style>\n",
       "<table border=\"1\" class=\"dataframe\">\n",
       "  <thead>\n",
       "    <tr style=\"text-align: right;\">\n",
       "      <th></th>\n",
       "      <th>comment_text</th>\n",
       "    </tr>\n",
       "  </thead>\n",
       "  <tbody>\n",
       "    <tr>\n",
       "      <th>0</th>\n",
       "      <td>While praising a Jesuit pope and the Jesuit \"t...</td>\n",
       "    </tr>\n",
       "    <tr>\n",
       "      <th>1</th>\n",
       "      <td>That simply proves that lib trolls are on this...</td>\n",
       "    </tr>\n",
       "    <tr>\n",
       "      <th>2</th>\n",
       "      <td>The paranoia of the belief Americans are all r...</td>\n",
       "    </tr>\n",
       "    <tr>\n",
       "      <th>3</th>\n",
       "      <td>David Brooks the original Israel firster and h...</td>\n",
       "    </tr>\n",
       "    <tr>\n",
       "      <th>4</th>\n",
       "      <td>Iditarod dogs are loved, honored and even give...</td>\n",
       "    </tr>\n",
       "    <tr>\n",
       "      <th>...</th>\n",
       "      <td>...</td>\n",
       "    </tr>\n",
       "    <tr>\n",
       "      <th>110467</th>\n",
       "      <td>Like father like son.  Trudeau oh so eager to ...</td>\n",
       "    </tr>\n",
       "    <tr>\n",
       "      <th>110468</th>\n",
       "      <td>\"I get it.\\nTrump is a bad guy.\"\\n\\nNo, you cl...</td>\n",
       "    </tr>\n",
       "    <tr>\n",
       "      <th>110469</th>\n",
       "      <td>Mike objects to gay sex because it's \"icky\". H...</td>\n",
       "    </tr>\n",
       "    <tr>\n",
       "      <th>110470</th>\n",
       "      <td>Sounds so joyous!\\nGreat Mother's Day story.</td>\n",
       "    </tr>\n",
       "    <tr>\n",
       "      <th>110471</th>\n",
       "      <td>What's \"Catholic press\" got to do with it?</td>\n",
       "    </tr>\n",
       "  </tbody>\n",
       "</table>\n",
       "<p>110472 rows × 1 columns</p>\n",
       "</div>"
      ],
      "text/plain": [
       "                                             comment_text\n",
       "0       While praising a Jesuit pope and the Jesuit \"t...\n",
       "1       That simply proves that lib trolls are on this...\n",
       "2       The paranoia of the belief Americans are all r...\n",
       "3       David Brooks the original Israel firster and h...\n",
       "4       Iditarod dogs are loved, honored and even give...\n",
       "...                                                   ...\n",
       "110467  Like father like son.  Trudeau oh so eager to ...\n",
       "110468  \"I get it.\\nTrump is a bad guy.\"\\n\\nNo, you cl...\n",
       "110469  Mike objects to gay sex because it's \"icky\". H...\n",
       "110470       Sounds so joyous!\\nGreat Mother's Day story.\n",
       "110471         What's \"Catholic press\" got to do with it?\n",
       "\n",
       "[110472 rows x 1 columns]"
      ]
     },
     "execution_count": 47,
     "metadata": {},
     "output_type": "execute_result"
    }
   ],
   "source": [
    "civil_df[civil_df.columns[2:3]]"
   ]
  },
  {
   "cell_type": "code",
   "execution_count": 48,
   "id": "18280303-32ac-4f00-afb2-c51bb546a1ca",
   "metadata": {
    "execution": {
     "iopub.execute_input": "2025-09-24T02:31:39.355216Z",
     "iopub.status.busy": "2025-09-24T02:31:39.354932Z",
     "iopub.status.idle": "2025-09-24T02:32:30.853499Z",
     "shell.execute_reply": "2025-09-24T02:32:30.852663Z",
     "shell.execute_reply.started": "2025-09-24T02:31:39.355195Z"
    }
   },
   "outputs": [],
   "source": [
    "civil_df['comment_text'] = text_prep_pipeline.fit_transform(civil_df[civil_df.columns[2:3]].values)"
   ]
  },
  {
   "cell_type": "code",
   "execution_count": 49,
   "id": "54e68d31-32f7-4af7-86a9-2c90291052f7",
   "metadata": {
    "execution": {
     "iopub.execute_input": "2025-09-24T02:32:30.855228Z",
     "iopub.status.busy": "2025-09-24T02:32:30.854888Z",
     "iopub.status.idle": "2025-09-24T02:32:30.875380Z",
     "shell.execute_reply": "2025-09-24T02:32:30.874681Z",
     "shell.execute_reply.started": "2025-09-24T02:32:30.855198Z"
    }
   },
   "outputs": [
    {
     "data": {
      "text/plain": [
       "0         praise jesuit pope jesuit magis remind pick je...\n",
       "1          nothat simply prove lib troll site instead work \n",
       "2         paranoia belief americans racist never end dum...\n",
       "3         wouldavid brook original israel firster hater ...\n",
       "4         iditarod dog love honor even give life race ni...\n",
       "                                ...                        \n",
       "110467    like father like son trudeau oh eager mollify ...\n",
       "110468                    get ntrump bad guy n nno clearly \n",
       "110469    amike object gay sex icky think justify fear l...\n",
       "110470                sound joyous ngreat mother day story \n",
       "110471                                  catholic press get \n",
       "Name: comment_text, Length: 110472, dtype: object"
      ]
     },
     "execution_count": 49,
     "metadata": {},
     "output_type": "execute_result"
    }
   ],
   "source": [
    "civil_df['comment_text']"
   ]
  },
  {
   "cell_type": "markdown",
   "id": "731f237b-e825-4a02-97ba-705ac126d1fb",
   "metadata": {},
   "source": [
    "#### Define FeatureGroups¶"
   ]
  },
  {
   "cell_type": "code",
   "execution_count": 94,
   "id": "db98c009-29d4-4ed6-9d59-dcea5a888442",
   "metadata": {
    "execution": {
     "iopub.execute_input": "2025-09-24T04:12:33.159155Z",
     "iopub.status.busy": "2025-09-24T04:12:33.158833Z",
     "iopub.status.idle": "2025-09-24T04:12:33.163184Z",
     "shell.execute_reply": "2025-09-24T04:12:33.162081Z",
     "shell.execute_reply.started": "2025-09-24T04:12:33.159133Z"
    }
   },
   "outputs": [],
   "source": [
    "text_feature_group_name = \"text-feature-group\"\n",
    "identity_feature_group_name = \"identity-feature-group\"\n",
    "label_feature_group_name = \"label-feature-group\""
   ]
  },
  {
   "cell_type": "code",
   "execution_count": 104,
   "id": "d9956ac9-a58a-4134-bab8-460d31d8ab50",
   "metadata": {
    "execution": {
     "iopub.execute_input": "2025-09-24T04:17:00.566477Z",
     "iopub.status.busy": "2025-09-24T04:17:00.565269Z",
     "iopub.status.idle": "2025-09-24T04:17:00.571255Z",
     "shell.execute_reply": "2025-09-24T04:17:00.569762Z",
     "shell.execute_reply.started": "2025-09-24T04:17:00.566443Z"
    }
   },
   "outputs": [],
   "source": [
    "from sagemaker.feature_store.feature_group import FeatureGroup\n",
    "\n",
    "text_feature_group = FeatureGroup(\n",
    "    name=text_feature_group_name, sagemaker_session=feature_store_session\n",
    ")\n",
    "identity_feature_group = FeatureGroup(\n",
    "    name=identity_feature_group_name, sagemaker_session=feature_store_session\n",
    ")\n",
    "label_feature_group = FeatureGroup(\n",
    "    name=label_feature_group_name, sagemaker_session=feature_store_session\n",
    ")"
   ]
  },
  {
   "cell_type": "code",
   "execution_count": 105,
   "id": "3b452554-c88a-4c0f-ae6b-9a096f0354ed",
   "metadata": {
    "execution": {
     "iopub.execute_input": "2025-09-24T04:17:06.332949Z",
     "iopub.status.busy": "2025-09-24T04:17:06.332672Z",
     "iopub.status.idle": "2025-09-24T04:17:06.349993Z",
     "shell.execute_reply": "2025-09-24T04:17:06.349000Z",
     "shell.execute_reply.started": "2025-09-24T04:17:06.332928Z"
    }
   },
   "outputs": [],
   "source": [
    "text_df = civil_df[['id','comment_text','toxicity']]\n",
    "identity_df = civil_df[['id','male','female','LGBTQ','christian','muslim','other_religions','black','white']]\n",
    "label_df = civil_df[['id','toxicity','severe_toxicity','obscene','threat','insult','identity_attack','sexual_explicit']]"
   ]
  },
  {
   "cell_type": "code",
   "execution_count": 106,
   "id": "d3df5b52-77b8-4e87-b7e9-aca0d1d6beb7",
   "metadata": {
    "execution": {
     "iopub.execute_input": "2025-09-24T04:17:06.905481Z",
     "iopub.status.busy": "2025-09-24T04:17:06.905087Z",
     "iopub.status.idle": "2025-09-24T04:17:06.911521Z",
     "shell.execute_reply": "2025-09-24T04:17:06.910741Z",
     "shell.execute_reply.started": "2025-09-24T04:17:06.905446Z"
    }
   },
   "outputs": [],
   "source": [
    "import time\n",
    "\n",
    "current_time_sec = int(round(time.time()))\n",
    "\n",
    "def cast_object_to_string(data_frame):\n",
    "    for label in data_frame.columns:\n",
    "        if data_frame.dtypes[label] == \"object\":\n",
    "            data_frame[label] = data_frame[label].astype(\"str\").astype(\"string\")\n",
    "    return data_frame\n",
    "\n",
    "\n",
    "def appendEventTime(df):\n",
    "    # append EventTime feature\n",
    "    df[event_time_feature_name] = pd.Series(\n",
    "        [current_time_sec] * len(df), dtype=\"float64\"\n",
    "    )\n",
    "    return df"
   ]
  },
  {
   "cell_type": "code",
   "execution_count": 107,
   "id": "c4dcd52d-4c5e-4376-a3ef-600a6145befd",
   "metadata": {
    "execution": {
     "iopub.execute_input": "2025-09-24T04:17:09.020490Z",
     "iopub.status.busy": "2025-09-24T04:17:09.020196Z",
     "iopub.status.idle": "2025-09-24T04:17:09.046634Z",
     "shell.execute_reply": "2025-09-24T04:17:09.045719Z",
     "shell.execute_reply.started": "2025-09-24T04:17:09.020467Z"
    }
   },
   "outputs": [
    {
     "name": "stderr",
     "output_type": "stream",
     "text": [
      "/tmp/ipykernel_157/2537523605.py:8: SettingWithCopyWarning: \n",
      "A value is trying to be set on a copy of a slice from a DataFrame.\n",
      "Try using .loc[row_indexer,col_indexer] = value instead\n",
      "\n",
      "See the caveats in the documentation: https://pandas.pydata.org/pandas-docs/stable/user_guide/indexing.html#returning-a-view-versus-a-copy\n",
      "  data_frame[label] = data_frame[label].astype(\"str\").astype(\"string\")\n"
     ]
    }
   ],
   "source": [
    "# cast object dtype to string. The SageMaker FeatureStore Python SDK will then map the string dtype to String feature type.\n",
    "text_df = cast_object_to_string(text_df)\n",
    "identity_df = cast_object_to_string(identity_df)\n",
    "label_df = cast_object_to_string(label_df)"
   ]
  },
  {
   "cell_type": "code",
   "execution_count": 108,
   "id": "81cdadd0-60fc-4b9a-926d-2750d426e0cd",
   "metadata": {
    "execution": {
     "iopub.execute_input": "2025-09-24T04:17:10.563451Z",
     "iopub.status.busy": "2025-09-24T04:17:10.563050Z",
     "iopub.status.idle": "2025-09-24T04:17:10.602214Z",
     "shell.execute_reply": "2025-09-24T04:17:10.601147Z",
     "shell.execute_reply.started": "2025-09-24T04:17:10.563423Z"
    }
   },
   "outputs": [
    {
     "name": "stderr",
     "output_type": "stream",
     "text": [
      "/tmp/ipykernel_157/2537523605.py:14: SettingWithCopyWarning: \n",
      "A value is trying to be set on a copy of a slice from a DataFrame.\n",
      "Try using .loc[row_indexer,col_indexer] = value instead\n",
      "\n",
      "See the caveats in the documentation: https://pandas.pydata.org/pandas-docs/stable/user_guide/indexing.html#returning-a-view-versus-a-copy\n",
      "  df[event_time_feature_name] = pd.Series(\n",
      "/tmp/ipykernel_157/2537523605.py:14: SettingWithCopyWarning: \n",
      "A value is trying to be set on a copy of a slice from a DataFrame.\n",
      "Try using .loc[row_indexer,col_indexer] = value instead\n",
      "\n",
      "See the caveats in the documentation: https://pandas.pydata.org/pandas-docs/stable/user_guide/indexing.html#returning-a-view-versus-a-copy\n",
      "  df[event_time_feature_name] = pd.Series(\n",
      "/tmp/ipykernel_157/2537523605.py:14: SettingWithCopyWarning: \n",
      "A value is trying to be set on a copy of a slice from a DataFrame.\n",
      "Try using .loc[row_indexer,col_indexer] = value instead\n",
      "\n",
      "See the caveats in the documentation: https://pandas.pydata.org/pandas-docs/stable/user_guide/indexing.html#returning-a-view-versus-a-copy\n",
      "  df[event_time_feature_name] = pd.Series(\n"
     ]
    }
   ],
   "source": [
    "record_identifier_feature_name = \"id\"\n",
    "event_time_feature_name = \"EventTime\"\n",
    "\n",
    "text_df = appendEventTime(text_df)\n",
    "identity_df = appendEventTime(identity_df)\n",
    "label_df = appendEventTime(label_df)"
   ]
  },
  {
   "cell_type": "code",
   "execution_count": 109,
   "id": "d44f3f00-0450-4046-bb65-c8a99d0c594d",
   "metadata": {
    "execution": {
     "iopub.execute_input": "2025-09-24T04:17:28.126877Z",
     "iopub.status.busy": "2025-09-24T04:17:28.126432Z",
     "iopub.status.idle": "2025-09-24T04:17:28.134156Z",
     "shell.execute_reply": "2025-09-24T04:17:28.133028Z",
     "shell.execute_reply.started": "2025-09-24T04:17:28.126849Z"
    }
   },
   "outputs": [
    {
     "data": {
      "text/plain": [
       "[FeatureDefinition(feature_name='id', feature_type=<FeatureTypeEnum.INTEGRAL: 'Integral'>, collection_type=None),\n",
       " FeatureDefinition(feature_name='toxicity', feature_type=<FeatureTypeEnum.INTEGRAL: 'Integral'>, collection_type=None),\n",
       " FeatureDefinition(feature_name='severe_toxicity', feature_type=<FeatureTypeEnum.INTEGRAL: 'Integral'>, collection_type=None),\n",
       " FeatureDefinition(feature_name='obscene', feature_type=<FeatureTypeEnum.INTEGRAL: 'Integral'>, collection_type=None),\n",
       " FeatureDefinition(feature_name='threat', feature_type=<FeatureTypeEnum.INTEGRAL: 'Integral'>, collection_type=None),\n",
       " FeatureDefinition(feature_name='insult', feature_type=<FeatureTypeEnum.INTEGRAL: 'Integral'>, collection_type=None),\n",
       " FeatureDefinition(feature_name='identity_attack', feature_type=<FeatureTypeEnum.INTEGRAL: 'Integral'>, collection_type=None),\n",
       " FeatureDefinition(feature_name='sexual_explicit', feature_type=<FeatureTypeEnum.INTEGRAL: 'Integral'>, collection_type=None),\n",
       " FeatureDefinition(feature_name='EventTime', feature_type=<FeatureTypeEnum.FRACTIONAL: 'Fractional'>, collection_type=None)]"
      ]
     },
     "execution_count": 109,
     "metadata": {},
     "output_type": "execute_result"
    }
   ],
   "source": [
    "# load feature definitions to the feature group. SageMaker FeatureStore Python SDK will auto-detect the data schema based on input data.\n",
    "text_feature_group.load_feature_definitions(data_frame=text_df)\n",
    "identity_feature_group.load_feature_definitions(data_frame=identity_df)\n",
    "label_feature_group.load_feature_definitions(data_frame=label_df)"
   ]
  },
  {
   "cell_type": "code",
   "execution_count": 118,
   "id": "10828745-add1-4fa9-ba74-7dc475194219",
   "metadata": {
    "execution": {
     "iopub.execute_input": "2025-09-24T04:23:12.049879Z",
     "iopub.status.busy": "2025-09-24T04:23:12.049369Z",
     "iopub.status.idle": "2025-09-24T04:23:12.689889Z",
     "shell.execute_reply": "2025-09-24T04:23:12.688869Z",
     "shell.execute_reply.started": "2025-09-24T04:23:12.049854Z"
    }
   },
   "outputs": [
    {
     "name": "stdout",
     "output_type": "stream",
     "text": [
      "text-feature-group\n",
      "✅ Feature group exists. Status: Created\n",
      "identity-feature-group\n",
      "❌ identity-feature-group does not exist.\n",
      "label-feature-group\n",
      "❌ label-feature-group does not exist.\n"
     ]
    }
   ],
   "source": [
    "def featureGroupExists(feature_group_name):\n",
    "    print(feature_group_name)\n",
    "    # SageMaker client (not session)\n",
    "    sm_client = boto3.client(\"sagemaker\", region_name=region)\n",
    "    featureGroupExists = False\n",
    "    try:\n",
    "        response = sm_client.describe_feature_group(FeatureGroupName=feature_group_name)\n",
    "        featureGroupExists = True\n",
    "        print(f\"✅ Feature group exists. Status: {response['FeatureGroupStatus']}\")\n",
    "    except sm_client.exceptions.ResourceNotFound:\n",
    "        featureGroupExists=False\n",
    "        print(f\"❌ {feature_group_name} does not exist.\")\n",
    "    return featureGroupExists\n",
    "\n",
    "text_feature_group_exists = featureGroupExists(text_feature_group_name)\n",
    "identity_feature_group_exists = featureGroupExists(identity_feature_group_name)\n",
    "label_feature_group_exists = featureGroupExists(label_feature_group_name)"
   ]
  },
  {
   "cell_type": "code",
   "execution_count": 122,
   "id": "fa3e8500-6028-472b-a7f9-4861b41df7c7",
   "metadata": {
    "execution": {
     "iopub.execute_input": "2025-09-24T04:25:48.605207Z",
     "iopub.status.busy": "2025-09-24T04:25:48.604834Z",
     "iopub.status.idle": "2025-09-24T04:26:31.894702Z",
     "shell.execute_reply": "2025-09-24T04:26:31.893771Z",
     "shell.execute_reply.started": "2025-09-24T04:25:48.605177Z"
    }
   },
   "outputs": [
    {
     "name": "stdout",
     "output_type": "stream",
     "text": [
      "text-feature-group\n",
      "✅ Feature group exists. Status: Created\n",
      "text-feature-group already exists\n",
      "identity-feature-group\n",
      "❌ identity-feature-group does not exist.\n",
      "Waiting for Feature Group Creation\n",
      "Waiting for Feature Group Creation\n",
      "Waiting for Feature Group Creation\n",
      "Waiting for Feature Group Creation\n",
      "FeatureGroup identity-feature-group successfully created.\n",
      "label-feature-group\n",
      "❌ label-feature-group does not exist.\n",
      "Waiting for Feature Group Creation\n",
      "Waiting for Feature Group Creation\n",
      "Waiting for Feature Group Creation\n",
      "Waiting for Feature Group Creation\n",
      "FeatureGroup label-feature-group successfully created.\n"
     ]
    }
   ],
   "source": [
    "def wait_for_feature_group_creation_complete(feature_group):\n",
    "    status = feature_group.describe().get(\"FeatureGroupStatus\")\n",
    "    while status == \"Creating\":\n",
    "        print(\"Waiting for Feature Group Creation\")\n",
    "        time.sleep(5)\n",
    "        status = feature_group.describe().get(\"FeatureGroupStatus\")\n",
    "    if status != \"Created\":\n",
    "        raise RuntimeError(f\"Failed to create feature group {feature_group.name}\")\n",
    "    print(f\"FeatureGroup {feature_group.name} successfully created.\")\n",
    "\n",
    "def create_feature_group(feature_group, fg_Exists):\n",
    "    fg_Exists = featureGroupExists(feature_group.name)\n",
    "    if not fg_Exists:\n",
    "        feature_group.create(\n",
    "            s3_uri=f\"s3://{default_s3_bucket_name}/{prefix}\",\n",
    "            record_identifier_name=record_identifier_feature_name,\n",
    "            event_time_feature_name=event_time_feature_name,\n",
    "            role_arn=role,\n",
    "            enable_online_store=True,\n",
    "        )\n",
    "        wait_for_feature_group_creation_complete(feature_group)\n",
    "    else:\n",
    "        print(f\"{feature_group.name} already exists\")\n",
    "    \n",
    "\n",
    "create_feature_group(text_feature_group,text_feature_group_exists)\n",
    "create_feature_group(identity_feature_group, identity_feature_group_exists)\n",
    "create_feature_group(label_feature_group,label_feature_group_exists)\n",
    "\n"
   ]
  },
  {
   "cell_type": "code",
   "execution_count": 123,
   "id": "34373d54-b446-4ae0-ac35-c3ac69733f49",
   "metadata": {
    "execution": {
     "iopub.execute_input": "2025-09-24T04:27:43.114464Z",
     "iopub.status.busy": "2025-09-24T04:27:43.114158Z",
     "iopub.status.idle": "2025-09-24T04:27:43.293553Z",
     "shell.execute_reply": "2025-09-24T04:27:43.292462Z",
     "shell.execute_reply.started": "2025-09-24T04:27:43.114441Z"
    }
   },
   "outputs": [
    {
     "data": {
      "text/plain": [
       "{'FeatureGroupArn': 'arn:aws:sagemaker:us-east-1:590183687297:feature-group/text-feature-group',\n",
       " 'FeatureGroupName': 'text-feature-group',\n",
       " 'RecordIdentifierFeatureName': 'id',\n",
       " 'EventTimeFeatureName': 'EventTime',\n",
       " 'FeatureDefinitions': [{'FeatureName': 'id', 'FeatureType': 'Integral'},\n",
       "  {'FeatureName': 'comment_text', 'FeatureType': 'String'},\n",
       "  {'FeatureName': 'toxicity', 'FeatureType': 'Integral'},\n",
       "  {'FeatureName': 'EventTime', 'FeatureType': 'Fractional'}],\n",
       " 'CreationTime': datetime.datetime(2025, 9, 24, 4, 17, 43, 61000, tzinfo=tzlocal()),\n",
       " 'OnlineStoreConfig': {'EnableOnlineStore': True},\n",
       " 'OfflineStoreConfig': {'S3StorageConfig': {'S3Uri': 's3://sagemaker-us-east-1-590183687297/toxicity_pds/parquet',\n",
       "   'ResolvedOutputS3Uri': 's3://sagemaker-us-east-1-590183687297/toxicity_pds/parquet/590183687297/sagemaker/us-east-1/offline-store/text-feature-group-1758687463/data'},\n",
       "  'DisableGlueTableCreation': False,\n",
       "  'DataCatalogConfig': {'TableName': 'text_feature_group_1758687463',\n",
       "   'Catalog': 'AwsDataCatalog',\n",
       "   'Database': 'sagemaker_featurestore'}},\n",
       " 'ThroughputConfig': {'ThroughputMode': 'OnDemand'},\n",
       " 'RoleArn': 'arn:aws:iam::590183687297:role/LabRole',\n",
       " 'FeatureGroupStatus': 'Created',\n",
       " 'OnlineStoreTotalSizeBytes': 0,\n",
       " 'ResponseMetadata': {'RequestId': '0ab06884-9eb3-4426-9446-f83a94c9c7aa',\n",
       "  'HTTPStatusCode': 200,\n",
       "  'HTTPHeaders': {'x-amzn-requestid': '0ab06884-9eb3-4426-9446-f83a94c9c7aa',\n",
       "   'strict-transport-security': 'max-age=47304000; includeSubDomains',\n",
       "   'x-frame-options': 'DENY',\n",
       "   'content-security-policy': \"frame-ancestors 'none'\",\n",
       "   'cache-control': 'no-cache, no-store, must-revalidate',\n",
       "   'x-content-type-options': 'nosniff',\n",
       "   'content-type': 'application/x-amz-json-1.1',\n",
       "   'content-length': '1545',\n",
       "   'date': 'Wed, 24 Sep 2025 04:27:43 GMT'},\n",
       "  'RetryAttempts': 0}}"
      ]
     },
     "execution_count": 123,
     "metadata": {},
     "output_type": "execute_result"
    }
   ],
   "source": [
    "text_feature_group.describe()"
   ]
  },
  {
   "cell_type": "markdown",
   "id": "0f3058e0-2414-40b4-bb93-8f7ea1b0baf1",
   "metadata": {},
   "source": [
    "### Release Resources"
   ]
  },
  {
   "cell_type": "code",
   "execution_count": 1,
   "id": "c3c9a2f4-2ef4-42a2-b855-2505301d03ae",
   "metadata": {
    "execution": {
     "iopub.execute_input": "2025-09-27T16:55:19.526231Z",
     "iopub.status.busy": "2025-09-27T16:55:19.525951Z",
     "iopub.status.idle": "2025-09-27T16:55:19.533823Z",
     "shell.execute_reply": "2025-09-27T16:55:19.533191Z",
     "shell.execute_reply.started": "2025-09-27T16:55:19.526210Z"
    }
   },
   "outputs": [
    {
     "data": {
      "text/html": [
       "\n",
       "<p><b>Shutting down your kernel for this notebook to release resources.</b></p>\n",
       "<button class=\"sm-command-button\" data-commandlinker-command=\"kernelmenu:shutdown\" style=\"display:none;\">Shutdown Kernel</button>\n",
       "        \n",
       "<script>\n",
       "try {\n",
       "    els = document.getElementsByClassName(\"sm-command-button\");\n",
       "    els[0].click();\n",
       "}\n",
       "catch(err) {\n",
       "    // NoOp\n",
       "}    \n",
       "</script>\n"
      ],
      "text/plain": [
       "<IPython.core.display.HTML object>"
      ]
     },
     "metadata": {},
     "output_type": "display_data"
    }
   ],
   "source": [
    "%%html\n",
    "\n",
    "<p><b>Shutting down your kernel for this notebook to release resources.</b></p>\n",
    "<button class=\"sm-command-button\" data-commandlinker-command=\"kernelmenu:shutdown\" style=\"display:none;\">Shutdown Kernel</button>\n",
    "        \n",
    "<script>\n",
    "try {\n",
    "    els = document.getElementsByClassName(\"sm-command-button\");\n",
    "    els[0].click();\n",
    "}\n",
    "catch(err) {\n",
    "    // NoOp\n",
    "}    \n",
    "</script>"
   ]
  },
  {
   "cell_type": "code",
   "execution_count": 1,
   "id": "c95fe8ab-8a7d-4c4e-9f51-c9e54383acb8",
   "metadata": {
    "execution": {
     "iopub.execute_input": "2025-09-27T16:55:22.333994Z",
     "iopub.status.busy": "2025-09-27T16:55:22.333616Z",
     "iopub.status.idle": "2025-09-27T16:55:22.340679Z",
     "shell.execute_reply": "2025-09-27T16:55:22.340025Z",
     "shell.execute_reply.started": "2025-09-27T16:55:22.333971Z"
    }
   },
   "outputs": [
    {
     "data": {
      "application/javascript": [
       "\n",
       "try {\n",
       "    Jupyter.notebook.save_checkpoint();\n",
       "    Jupyter.notebook.session.delete();\n",
       "}\n",
       "catch(err) {\n",
       "    // NoOp\n",
       "}\n"
      ],
      "text/plain": [
       "<IPython.core.display.Javascript object>"
      ]
     },
     "metadata": {},
     "output_type": "display_data"
    }
   ],
   "source": [
    "\n",
    "%%javascript\n",
    "\n",
    "try {\n",
    "    Jupyter.notebook.save_checkpoint();\n",
    "    Jupyter.notebook.session.delete();\n",
    "}\n",
    "catch(err) {\n",
    "    // NoOp\n",
    "}"
   ]
  },
  {
   "cell_type": "code",
   "execution_count": null,
   "id": "5b5907ae-ad7d-49a6-bb8e-627ead5640cb",
   "metadata": {},
   "outputs": [],
   "source": []
  }
 ],
 "metadata": {
  "kernelspec": {
   "display_name": "Python 3 (ipykernel)",
   "language": "python",
   "name": "python3"
  },
  "language_info": {
   "codemirror_mode": {
    "name": "ipython",
    "version": 3
   },
   "file_extension": ".py",
   "mimetype": "text/x-python",
   "name": "python",
   "nbconvert_exporter": "python",
   "pygments_lexer": "ipython3",
   "version": "3.12.9"
  }
 },
 "nbformat": 4,
 "nbformat_minor": 5
}
