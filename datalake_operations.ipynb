{
 "cells": [
  {
   "cell_type": "markdown",
   "id": "8abb31b8-2ea3-4850-8c0f-41660a451ec1",
   "metadata": {},
   "source": [
    "This code was borrowed from AAI 540 labs\n",
    "\n",
    "https://github.com/mechristenson/aai-540-labs.git"
   ]
  },
  {
   "cell_type": "markdown",
   "id": "f13af68f-2c5d-4f97-958f-11ac3408c16f",
   "metadata": {},
   "source": [
    "## Create S3 Bucket"
   ]
  },
  {
   "cell_type": "code",
   "execution_count": 1,
   "id": "ec76d1f8-faa4-4808-a017-9c9be3c52586",
   "metadata": {},
   "outputs": [],
   "source": [
    "#!pip install --upgrade boto3 botocore awscli"
   ]
  },
  {
   "cell_type": "code",
   "execution_count": 2,
   "id": "b845fbfc-08c9-4efc-bc0b-db5f96c6facf",
   "metadata": {},
   "outputs": [
    {
     "name": "stdout",
     "output_type": "stream",
     "text": [
      "sagemaker.config INFO - Not applying SDK defaults from location: /etc/xdg/sagemaker/config.yaml\n",
      "sagemaker.config INFO - Not applying SDK defaults from location: /home/sagemaker-user/.config/sagemaker/config.yaml\n"
     ]
    }
   ],
   "source": [
    "import boto3\n",
    "import sagemaker\n",
    "\n",
    "session = boto3.session.Session()\n",
    "region = session.region_name\n",
    "sagemaker_session = sagemaker.Session()\n",
    "bucket = sagemaker_session.default_bucket()\n",
    "\n",
    "s3 = boto3.Session().client(service_name=\"s3\", region_name=region)"
   ]
  },
  {
   "cell_type": "code",
   "execution_count": 3,
   "id": "cce119a4-3d07-4df2-a0db-d5504e21a392",
   "metadata": {
    "execution": {
     "iopub.execute_input": "2025-09-24T02:27:26.459810Z",
     "iopub.status.busy": "2025-09-24T02:27:26.459566Z",
     "iopub.status.idle": "2025-09-24T02:27:26.464219Z",
     "shell.execute_reply": "2025-09-24T02:27:26.463500Z",
     "shell.execute_reply.started": "2025-09-24T02:27:26.459784Z"
    }
   },
   "outputs": [],
   "source": [
    "setup_s3_bucket_passed = False"
   ]
  },
  {
   "cell_type": "code",
   "execution_count": 4,
   "id": "081b87f0-2817-4d21-bb3b-03db1bc29ad2",
   "metadata": {
    "execution": {
     "iopub.execute_input": "2025-09-24T02:27:26.470736Z",
     "iopub.status.busy": "2025-09-24T02:27:26.470321Z",
     "iopub.status.idle": "2025-09-24T02:27:26.476219Z",
     "shell.execute_reply": "2025-09-24T02:27:26.475432Z",
     "shell.execute_reply.started": "2025-09-24T02:27:26.470707Z"
    }
   },
   "outputs": [
    {
     "name": "stdout",
     "output_type": "stream",
     "text": [
      "Default bucket: sagemaker-us-east-1-590183687297\n"
     ]
    }
   ],
   "source": [
    "print(\"Default bucket: {}\".format(bucket))"
   ]
  },
  {
   "cell_type": "markdown",
   "id": "507dafcd-fe1e-4abf-9372-f30666136caa",
   "metadata": {},
   "source": [
    "Verify S3_BUCKET Bucket Creation"
   ]
  },
  {
   "cell_type": "code",
   "execution_count": 5,
   "id": "630e5650-f39e-4d65-a60d-3fa56dead63d",
   "metadata": {
    "execution": {
     "iopub.execute_input": "2025-09-24T02:27:26.485905Z",
     "iopub.status.busy": "2025-09-24T02:27:26.482887Z",
     "iopub.status.idle": "2025-09-24T02:27:26.564062Z",
     "shell.execute_reply": "2025-09-24T02:27:26.563338Z",
     "shell.execute_reply.started": "2025-09-24T02:27:26.485861Z"
    }
   },
   "outputs": [
    {
     "name": "stdout",
     "output_type": "stream",
     "text": [
      "{'ResponseMetadata': {'RequestId': '22A44Q29S48394A3', 'HostId': 'DilCGa8B3Vbn0czvhWbKof5c+yoq/EqUvkAnya5cC+rSEJISj6CEjbf5Oy/CGGsmRYaR2EKrhFJCStbALHMtUg==', 'HTTPStatusCode': 200, 'HTTPHeaders': {'x-amz-id-2': 'DilCGa8B3Vbn0czvhWbKof5c+yoq/EqUvkAnya5cC+rSEJISj6CEjbf5Oy/CGGsmRYaR2EKrhFJCStbALHMtUg==', 'x-amz-request-id': '22A44Q29S48394A3', 'date': 'Wed, 24 Sep 2025 02:27:27 GMT', 'x-amz-bucket-region': 'us-east-1', 'x-amz-access-point-alias': 'false', 'content-type': 'application/xml', 'transfer-encoding': 'chunked', 'server': 'AmazonS3'}, 'RetryAttempts': 0}, 'BucketRegion': 'us-east-1', 'AccessPointAlias': False}\n"
     ]
    }
   ],
   "source": [
    "from botocore.client import ClientError\n",
    "\n",
    "response = None\n",
    "\n",
    "try:\n",
    "    response = s3.head_bucket(Bucket=bucket)\n",
    "    print(response)\n",
    "    setup_s3_bucket_passed = True\n",
    "except ClientError as e:\n",
    "    print(\"[ERROR] Cannot find bucket {} in {} due to {}.\".format(bucket, response, e))"
   ]
  },
  {
   "cell_type": "code",
   "execution_count": 6,
   "id": "1fb2f0d1-af79-4552-9edf-502eb24c2ece",
   "metadata": {
    "execution": {
     "iopub.execute_input": "2025-09-24T02:27:26.565207Z",
     "iopub.status.busy": "2025-09-24T02:27:26.564905Z",
     "iopub.status.idle": "2025-09-24T02:27:26.573630Z",
     "shell.execute_reply": "2025-09-24T02:27:26.572573Z",
     "shell.execute_reply.started": "2025-09-24T02:27:26.565178Z"
    }
   },
   "outputs": [
    {
     "name": "stdout",
     "output_type": "stream",
     "text": [
      "Stored 'setup_s3_bucket_passed' (bool)\n"
     ]
    }
   ],
   "source": [
    "%store setup_s3_bucket_passed\n"
   ]
  },
  {
   "cell_type": "code",
   "execution_count": 7,
   "id": "693a9ec5-f03a-42d8-b6ed-c6eca8b52538",
   "metadata": {
    "execution": {
     "iopub.execute_input": "2025-09-24T02:27:26.575343Z",
     "iopub.status.busy": "2025-09-24T02:27:26.575127Z",
     "iopub.status.idle": "2025-09-24T02:27:26.582550Z",
     "shell.execute_reply": "2025-09-24T02:27:26.581673Z",
     "shell.execute_reply.started": "2025-09-24T02:27:26.575319Z"
    }
   },
   "outputs": [
    {
     "name": "stdout",
     "output_type": "stream",
     "text": [
      "Stored variables and their in-db values:\n",
      "ingest_create_athena_db_passed             -> True\n",
      "s3_private_path_csv                        -> 's3://sagemaker-us-east-1-590183687297/spotify_tra\n",
      "s3_private_path_parquet                    -> 's3://sagemaker-us-east-1-590183687297/toxicity_pd\n",
      "setup_s3_bucket_passed                     -> True\n"
     ]
    }
   ],
   "source": [
    "%store\n"
   ]
  },
  {
   "cell_type": "markdown",
   "id": "beab2d6a-cbb7-423b-af5c-3b48bd9e7413",
   "metadata": {},
   "source": [
    "## Set up Data lake"
   ]
  },
  {
   "cell_type": "code",
   "execution_count": 8,
   "id": "3bb15d17-8aa9-4fb5-9b91-4246de6220a2",
   "metadata": {
    "execution": {
     "iopub.execute_input": "2025-09-24T02:27:26.586047Z",
     "iopub.status.busy": "2025-09-24T02:27:26.585824Z",
     "iopub.status.idle": "2025-09-24T02:27:27.555412Z",
     "shell.execute_reply": "2025-09-24T02:27:27.554567Z",
     "shell.execute_reply.started": "2025-09-24T02:27:26.586028Z"
    }
   },
   "outputs": [],
   "source": [
    "import boto3\n",
    "import sagemaker\n",
    "import pandas as pd\n",
    "\n",
    "sess = sagemaker.Session()\n",
    "bucket = sess.default_bucket()\n",
    "role = sagemaker.get_execution_role()\n",
    "region = boto3.Session().region_name\n",
    "account_id = boto3.client(\"sts\").get_caller_identity().get(\"Account\")\n",
    "\n",
    "sm = boto3.Session().client(service_name=\"sagemaker\", region_name=region)"
   ]
  },
  {
   "cell_type": "markdown",
   "id": "e37b8cfa-481d-4f49-92d0-df12df250fc3",
   "metadata": {},
   "source": [
    "#### Set S3 Destination Folder"
   ]
  },
  {
   "cell_type": "code",
   "execution_count": 9,
   "id": "d56e7b6c-0530-48b9-a954-7e9b7a3fbaee",
   "metadata": {
    "execution": {
     "iopub.execute_input": "2025-09-24T02:27:27.561770Z",
     "iopub.status.busy": "2025-09-24T02:27:27.561303Z",
     "iopub.status.idle": "2025-09-24T02:27:27.566323Z",
     "shell.execute_reply": "2025-09-24T02:27:27.565439Z",
     "shell.execute_reply.started": "2025-09-24T02:27:27.561736Z"
    }
   },
   "outputs": [
    {
     "name": "stdout",
     "output_type": "stream",
     "text": [
      "s3://sagemaker-us-east-1-590183687297/toxicity_pds/parquet\n"
     ]
    }
   ],
   "source": [
    "s3_private_path_parquet = \"s3://{}/toxicity_pds/parquet\".format(bucket)\n",
    "print(s3_private_path_parquet)"
   ]
  },
  {
   "cell_type": "code",
   "execution_count": 10,
   "id": "396cefc7-4465-4fc8-88ba-19c587f19fa6",
   "metadata": {
    "execution": {
     "iopub.execute_input": "2025-09-24T02:27:27.568267Z",
     "iopub.status.busy": "2025-09-24T02:27:27.567435Z",
     "iopub.status.idle": "2025-09-24T02:27:27.573445Z",
     "shell.execute_reply": "2025-09-24T02:27:27.572375Z",
     "shell.execute_reply.started": "2025-09-24T02:27:27.568236Z"
    }
   },
   "outputs": [
    {
     "name": "stdout",
     "output_type": "stream",
     "text": [
      "Stored 's3_private_path_parquet' (str)\n"
     ]
    }
   ],
   "source": [
    "%store s3_private_path_parquet"
   ]
  },
  {
   "cell_type": "code",
   "execution_count": 11,
   "id": "2bb2aa1e-9f5a-4f0e-94a8-9100fa83047d",
   "metadata": {
    "execution": {
     "iopub.execute_input": "2025-09-24T02:27:27.577957Z",
     "iopub.status.busy": "2025-09-24T02:27:27.577291Z",
     "iopub.status.idle": "2025-09-24T02:27:27.587537Z",
     "shell.execute_reply": "2025-09-24T02:27:27.586190Z",
     "shell.execute_reply.started": "2025-09-24T02:27:27.577926Z"
    }
   },
   "outputs": [],
   "source": [
    "%store -r setup_s3_bucket_passed"
   ]
  },
  {
   "cell_type": "code",
   "execution_count": 12,
   "id": "acfd035d-746e-4b95-8a4d-e9f1134e6dde",
   "metadata": {
    "execution": {
     "iopub.execute_input": "2025-09-24T02:27:27.590249Z",
     "iopub.status.busy": "2025-09-24T02:27:27.589862Z",
     "iopub.status.idle": "2025-09-24T02:27:27.594646Z",
     "shell.execute_reply": "2025-09-24T02:27:27.593714Z",
     "shell.execute_reply.started": "2025-09-24T02:27:27.590222Z"
    }
   },
   "outputs": [],
   "source": [
    "try:\n",
    "    setup_s3_bucket_passed\n",
    "except NameError:\n",
    "    print(\"+++++++++++++++++++++++++++++++\")\n",
    "    print(\"[ERROR] YOU HAVE TO RUN ALL NOTEBOOKS IN THE SETUP FOLDER FIRST. You are missing Setup S3 Bucket.\")\n",
    "    print(\"+++++++++++++++++++++++++++++++\")\n"
   ]
  },
  {
   "cell_type": "code",
   "execution_count": 13,
   "id": "7c7f3517-1096-4ee5-9fe2-c2ddade67bed",
   "metadata": {
    "execution": {
     "iopub.execute_input": "2025-09-24T02:27:27.596258Z",
     "iopub.status.busy": "2025-09-24T02:27:27.595673Z",
     "iopub.status.idle": "2025-09-24T02:27:27.600820Z",
     "shell.execute_reply": "2025-09-24T02:27:27.599736Z",
     "shell.execute_reply.started": "2025-09-24T02:27:27.596204Z"
    }
   },
   "outputs": [],
   "source": [
    "if not setup_s3_bucket_passed:\n",
    "    print(\"+++++++++++++++++++++++++++++++++++++++++++++++++++++++++++++++\")\n",
    "    print(\"[ERROR] YOU HAVE TO RUN ALL NOTEBOOKS IN THE SETUP FOLDER FIRST. You are missing Setup S3 Bucket.\")\n",
    "    print(\"+++++++++++++++++++++++++++++++++++++++++++++++++++++++++++++++\")"
   ]
  },
  {
   "cell_type": "markdown",
   "id": "e554c494-9790-471a-b65e-f005dcd936d5",
   "metadata": {},
   "source": [
    "### Copy data from github to S3 bucket"
   ]
  },
  {
   "cell_type": "code",
   "execution_count": 14,
   "id": "08f5d13d-bc9f-4af3-b93d-fb1dbb350fac",
   "metadata": {
    "execution": {
     "iopub.execute_input": "2025-09-24T02:27:32.611256Z",
     "iopub.status.busy": "2025-09-24T02:27:32.610787Z",
     "iopub.status.idle": "2025-09-24T02:27:36.375184Z",
     "shell.execute_reply": "2025-09-24T02:27:36.374299Z",
     "shell.execute_reply.started": "2025-09-24T02:27:32.611223Z"
    }
   },
   "outputs": [
    {
     "name": "stdout",
     "output_type": "stream",
     "text": [
      "upload: civil/validation-00000-of-00001.parquet to s3://sagemaker-us-east-1-590183687297/toxicity_pds/parquet/validation-00000-of-00001.parquet\n",
      "upload: civil/test-00000-of-00001.parquet to s3://sagemaker-us-east-1-590183687297/toxicity_pds/parquet/test-00000-of-00001.parquet\n",
      "upload: civil/train-00000-of-00001.parquet to s3://sagemaker-us-east-1-590183687297/toxicity_pds/parquet/train-00000-of-00001.parquet\n"
     ]
    }
   ],
   "source": [
    "!aws s3 cp --recursive /home/sagemaker-user/aai540_toxicity_classification/civil $s3_private_path_parquet/ --include \"*\"\n"
   ]
  },
  {
   "cell_type": "markdown",
   "id": "a26650d5-3e61-4fcd-8564-92b352adaf40",
   "metadata": {},
   "source": [
    "### List the files"
   ]
  },
  {
   "cell_type": "code",
   "execution_count": 15,
   "id": "5cc9638e-bc7e-41bd-bdfd-f995ee310f84",
   "metadata": {
    "execution": {
     "iopub.execute_input": "2025-09-24T02:27:36.376912Z",
     "iopub.status.busy": "2025-09-24T02:27:36.376550Z",
     "iopub.status.idle": "2025-09-24T02:27:36.381295Z",
     "shell.execute_reply": "2025-09-24T02:27:36.380334Z",
     "shell.execute_reply.started": "2025-09-24T02:27:36.376876Z"
    }
   },
   "outputs": [
    {
     "name": "stdout",
     "output_type": "stream",
     "text": [
      "s3://sagemaker-us-east-1-590183687297/toxicity_pds/parquet\n"
     ]
    }
   ],
   "source": [
    "print(s3_private_path_parquet)"
   ]
  },
  {
   "cell_type": "code",
   "execution_count": 16,
   "id": "ca677098-c898-4475-a53c-640683623a63",
   "metadata": {
    "execution": {
     "iopub.execute_input": "2025-09-24T02:27:36.383318Z",
     "iopub.status.busy": "2025-09-24T02:27:36.382398Z",
     "iopub.status.idle": "2025-09-24T02:27:37.515594Z",
     "shell.execute_reply": "2025-09-24T02:27:37.514546Z",
     "shell.execute_reply.started": "2025-09-24T02:27:36.383289Z"
    }
   },
   "outputs": [
    {
     "name": "stdout",
     "output_type": "stream",
     "text": [
      "2025-09-24 02:27:35   34099179 test-00000-of-00001.parquet\n",
      "2025-09-24 02:27:35   68844404 train-00000-of-00001.parquet\n",
      "2025-09-24 02:27:35   11697541 validation-00000-of-00001.parquet\n"
     ]
    }
   ],
   "source": [
    "!aws s3 ls $s3_private_path_parquet/"
   ]
  },
  {
   "cell_type": "code",
   "execution_count": 17,
   "id": "c59ed846-a633-4748-ba43-a430448eaa16",
   "metadata": {
    "execution": {
     "iopub.execute_input": "2025-09-24T02:27:37.517287Z",
     "iopub.status.busy": "2025-09-24T02:27:37.517010Z",
     "iopub.status.idle": "2025-09-24T02:27:37.524234Z",
     "shell.execute_reply": "2025-09-24T02:27:37.523239Z",
     "shell.execute_reply.started": "2025-09-24T02:27:37.517242Z"
    }
   },
   "outputs": [
    {
     "name": "stdout",
     "output_type": "stream",
     "text": [
      "Stored variables and their in-db values:\n",
      "ingest_create_athena_db_passed             -> True\n",
      "s3_private_path_csv                        -> 's3://sagemaker-us-east-1-590183687297/spotify_tra\n",
      "s3_private_path_parquet                    -> 's3://sagemaker-us-east-1-590183687297/toxicity_pd\n",
      "setup_s3_bucket_passed                     -> True\n"
     ]
    }
   ],
   "source": [
    "%store"
   ]
  },
  {
   "cell_type": "markdown",
   "id": "ce588303-232f-4586-a4ac-cdc8f0a1faa9",
   "metadata": {
    "jp-MarkdownHeadingCollapsed": true
   },
   "source": [
    "## Create Athena Database Schema"
   ]
  },
  {
   "cell_type": "code",
   "execution_count": 17,
   "id": "de4e0b9c-004c-4b9b-a12a-67381dab79c4",
   "metadata": {
    "execution": {
     "iopub.execute_input": "2025-09-24T00:23:24.369363Z",
     "iopub.status.busy": "2025-09-24T00:23:24.368563Z",
     "iopub.status.idle": "2025-09-24T00:23:24.373256Z",
     "shell.execute_reply": "2025-09-24T00:23:24.372200Z",
     "shell.execute_reply.started": "2025-09-24T00:23:24.369328Z"
    }
   },
   "outputs": [],
   "source": [
    "ingest_create_athena_db_passed = False"
   ]
  },
  {
   "cell_type": "code",
   "execution_count": 18,
   "id": "eb624d71-f968-4e8d-912d-4275d6b69215",
   "metadata": {
    "execution": {
     "iopub.execute_input": "2025-09-24T00:23:24.375503Z",
     "iopub.status.busy": "2025-09-24T00:23:24.375239Z",
     "iopub.status.idle": "2025-09-24T00:23:24.380991Z",
     "shell.execute_reply": "2025-09-24T00:23:24.380228Z",
     "shell.execute_reply.started": "2025-09-24T00:23:24.375481Z"
    }
   },
   "outputs": [],
   "source": [
    "%store -r s3_private_path_parquet"
   ]
  },
  {
   "cell_type": "code",
   "execution_count": 19,
   "id": "05163bd8-592c-4231-9e98-5b1b90d2868d",
   "metadata": {
    "execution": {
     "iopub.execute_input": "2025-09-24T00:23:24.383262Z",
     "iopub.status.busy": "2025-09-24T00:23:24.382716Z",
     "iopub.status.idle": "2025-09-24T00:23:24.388253Z",
     "shell.execute_reply": "2025-09-24T00:23:24.387546Z",
     "shell.execute_reply.started": "2025-09-24T00:23:24.383237Z"
    }
   },
   "outputs": [],
   "source": [
    "try:\n",
    "    s3_private_path_parquet\n",
    "except NameError:\n",
    "    print(\"*****************************************************************************\")\n",
    "    print(\"[ERROR] PLEASE RE-RUN THE PREVIOUS COPY TSV TO S3 NOTEBOOK ******************\")\n",
    "    print(\"[ERROR] THIS NOTEBOOK WILL NOT RUN PROPERLY. ********************************\")\n",
    "    print(\"*****************************************************************************\")"
   ]
  },
  {
   "cell_type": "code",
   "execution_count": 20,
   "id": "cd49b362-c02c-49d7-8a72-c9ae4535ff06",
   "metadata": {
    "execution": {
     "iopub.execute_input": "2025-09-24T00:23:24.389709Z",
     "iopub.status.busy": "2025-09-24T00:23:24.389286Z",
     "iopub.status.idle": "2025-09-24T00:23:24.393826Z",
     "shell.execute_reply": "2025-09-24T00:23:24.392976Z",
     "shell.execute_reply.started": "2025-09-24T00:23:24.389678Z"
    }
   },
   "outputs": [
    {
     "name": "stdout",
     "output_type": "stream",
     "text": [
      "s3://sagemaker-us-east-1-590183687297/toxicity_pds/parquet\n"
     ]
    }
   ],
   "source": [
    "print(s3_private_path_parquet)"
   ]
  },
  {
   "cell_type": "markdown",
   "id": "67a0dcef-f7cb-4fde-b279-992f8cba2484",
   "metadata": {},
   "source": [
    "### Import PyAthena"
   ]
  },
  {
   "cell_type": "code",
   "execution_count": 21,
   "id": "989f3d87-dc19-467f-85df-9a432a489f81",
   "metadata": {
    "execution": {
     "iopub.execute_input": "2025-09-24T00:23:24.395280Z",
     "iopub.status.busy": "2025-09-24T00:23:24.394781Z",
     "iopub.status.idle": "2025-09-24T00:23:24.402031Z",
     "shell.execute_reply": "2025-09-24T00:23:24.400882Z",
     "shell.execute_reply.started": "2025-09-24T00:23:24.395246Z"
    }
   },
   "outputs": [],
   "source": [
    "from pyathena import connect"
   ]
  },
  {
   "cell_type": "markdown",
   "id": "e251cf5f-501e-4980-a0a8-61fd02b8cebf",
   "metadata": {},
   "source": [
    "### Create Athena Database"
   ]
  },
  {
   "cell_type": "code",
   "execution_count": 22,
   "id": "033212be-a545-4ab5-8fe8-f29b6bcea18a",
   "metadata": {
    "execution": {
     "iopub.execute_input": "2025-09-24T00:23:24.404800Z",
     "iopub.status.busy": "2025-09-24T00:23:24.404476Z",
     "iopub.status.idle": "2025-09-24T00:23:24.408108Z",
     "shell.execute_reply": "2025-09-24T00:23:24.407298Z",
     "shell.execute_reply.started": "2025-09-24T00:23:24.404773Z"
    }
   },
   "outputs": [],
   "source": [
    "database_name = \"aai540_toxicity_aws\""
   ]
  },
  {
   "cell_type": "code",
   "execution_count": 23,
   "id": "cbc337f9-8c98-4d72-ab0f-454ef7728e36",
   "metadata": {
    "execution": {
     "iopub.execute_input": "2025-09-24T00:23:24.409687Z",
     "iopub.status.busy": "2025-09-24T00:23:24.409186Z",
     "iopub.status.idle": "2025-09-24T00:23:24.413254Z",
     "shell.execute_reply": "2025-09-24T00:23:24.412470Z",
     "shell.execute_reply.started": "2025-09-24T00:23:24.409638Z"
    }
   },
   "outputs": [],
   "source": [
    "# Set S3 staging directory -- this is a temporary directory used for Athena queries\n",
    "s3_staging_dir = \"s3://{0}/athena/staging\".format(bucket)"
   ]
  },
  {
   "cell_type": "code",
   "execution_count": 24,
   "id": "3d0a3191-e984-49f3-a80f-afa73d1eaad5",
   "metadata": {
    "execution": {
     "iopub.execute_input": "2025-09-24T00:23:24.414574Z",
     "iopub.status.busy": "2025-09-24T00:23:24.414247Z",
     "iopub.status.idle": "2025-09-24T00:23:24.835787Z",
     "shell.execute_reply": "2025-09-24T00:23:24.834603Z",
     "shell.execute_reply.started": "2025-09-24T00:23:24.414543Z"
    }
   },
   "outputs": [],
   "source": [
    "conn = connect(region_name=region, s3_staging_dir=s3_staging_dir)"
   ]
  },
  {
   "cell_type": "code",
   "execution_count": 25,
   "id": "fd63c480-2018-444e-b485-28c9b51d49f4",
   "metadata": {
    "execution": {
     "iopub.execute_input": "2025-09-24T00:23:24.837662Z",
     "iopub.status.busy": "2025-09-24T00:23:24.837419Z",
     "iopub.status.idle": "2025-09-24T00:23:24.846099Z",
     "shell.execute_reply": "2025-09-24T00:23:24.845332Z",
     "shell.execute_reply.started": "2025-09-24T00:23:24.837641Z"
    }
   },
   "outputs": [
    {
     "name": "stdout",
     "output_type": "stream",
     "text": [
      "CREATE DATABASE IF NOT EXISTS aai540_toxicity_aws\n"
     ]
    }
   ],
   "source": [
    "statement = \"CREATE DATABASE IF NOT EXISTS {}\".format(database_name)\n",
    "print(statement)"
   ]
  },
  {
   "cell_type": "code",
   "execution_count": 26,
   "id": "beac33dd-1b76-490c-ac34-2dce9cf07e42",
   "metadata": {
    "execution": {
     "iopub.execute_input": "2025-09-24T00:23:24.847688Z",
     "iopub.status.busy": "2025-09-24T00:23:24.847233Z",
     "iopub.status.idle": "2025-09-24T00:23:26.397467Z",
     "shell.execute_reply": "2025-09-24T00:23:26.396762Z",
     "shell.execute_reply.started": "2025-09-24T00:23:24.847656Z"
    }
   },
   "outputs": [
    {
     "name": "stderr",
     "output_type": "stream",
     "text": [
      "/tmp/ipykernel_264/3803073958.py:3: UserWarning: pandas only supports SQLAlchemy connectable (engine/connection) or database string URI or sqlite3 DBAPI2 connection. Other DBAPI2 objects are not tested. Please consider using SQLAlchemy.\n",
      "  pd.read_sql(statement, conn)\n"
     ]
    },
    {
     "data": {
      "text/html": [
       "<div>\n",
       "<style scoped>\n",
       "    .dataframe tbody tr th:only-of-type {\n",
       "        vertical-align: middle;\n",
       "    }\n",
       "\n",
       "    .dataframe tbody tr th {\n",
       "        vertical-align: top;\n",
       "    }\n",
       "\n",
       "    .dataframe thead th {\n",
       "        text-align: right;\n",
       "    }\n",
       "</style>\n",
       "<table border=\"1\" class=\"dataframe\">\n",
       "  <thead>\n",
       "    <tr style=\"text-align: right;\">\n",
       "      <th></th>\n",
       "    </tr>\n",
       "  </thead>\n",
       "  <tbody>\n",
       "  </tbody>\n",
       "</table>\n",
       "</div>"
      ],
      "text/plain": [
       "Empty DataFrame\n",
       "Columns: []\n",
       "Index: []"
      ]
     },
     "execution_count": 26,
     "metadata": {},
     "output_type": "execute_result"
    }
   ],
   "source": [
    "import pandas as pd\n",
    "\n",
    "pd.read_sql(statement, conn)"
   ]
  },
  {
   "cell_type": "markdown",
   "id": "511f8854-b86d-4b27-a019-6ee63984f9f8",
   "metadata": {},
   "source": [
    "### Verify The Database Has Been Created Succesfully"
   ]
  },
  {
   "cell_type": "code",
   "execution_count": 27,
   "id": "745682ca-b2f7-4433-b11d-ff2bbf07ef3b",
   "metadata": {
    "execution": {
     "iopub.execute_input": "2025-09-24T00:24:01.293116Z",
     "iopub.status.busy": "2025-09-24T00:24:01.292123Z",
     "iopub.status.idle": "2025-09-24T00:24:02.663907Z",
     "shell.execute_reply": "2025-09-24T00:24:02.659476Z",
     "shell.execute_reply.started": "2025-09-24T00:24:01.293083Z"
    }
   },
   "outputs": [
    {
     "name": "stderr",
     "output_type": "stream",
     "text": [
      "/tmp/ipykernel_264/3999478089.py:3: UserWarning: pandas only supports SQLAlchemy connectable (engine/connection) or database string URI or sqlite3 DBAPI2 connection. Other DBAPI2 objects are not tested. Please consider using SQLAlchemy.\n",
      "  df_show = pd.read_sql(statement, conn)\n"
     ]
    },
    {
     "data": {
      "text/html": [
       "<div>\n",
       "<style scoped>\n",
       "    .dataframe tbody tr th:only-of-type {\n",
       "        vertical-align: middle;\n",
       "    }\n",
       "\n",
       "    .dataframe tbody tr th {\n",
       "        vertical-align: top;\n",
       "    }\n",
       "\n",
       "    .dataframe thead th {\n",
       "        text-align: right;\n",
       "    }\n",
       "</style>\n",
       "<table border=\"1\" class=\"dataframe\">\n",
       "  <thead>\n",
       "    <tr style=\"text-align: right;\">\n",
       "      <th></th>\n",
       "      <th>database_name</th>\n",
       "    </tr>\n",
       "  </thead>\n",
       "  <tbody>\n",
       "    <tr>\n",
       "      <th>0</th>\n",
       "      <td>aai540_spotify_aws</td>\n",
       "    </tr>\n",
       "    <tr>\n",
       "      <th>1</th>\n",
       "      <td>aai540_toxicity_aws</td>\n",
       "    </tr>\n",
       "    <tr>\n",
       "      <th>2</th>\n",
       "      <td>default</td>\n",
       "    </tr>\n",
       "    <tr>\n",
       "      <th>3</th>\n",
       "      <td>sagemaker_featurestore</td>\n",
       "    </tr>\n",
       "  </tbody>\n",
       "</table>\n",
       "</div>"
      ],
      "text/plain": [
       "            database_name\n",
       "0      aai540_spotify_aws\n",
       "1     aai540_toxicity_aws\n",
       "2                 default\n",
       "3  sagemaker_featurestore"
      ]
     },
     "execution_count": 27,
     "metadata": {},
     "output_type": "execute_result"
    }
   ],
   "source": [
    "statement = \"SHOW DATABASES\"\n",
    "\n",
    "df_show = pd.read_sql(statement, conn)\n",
    "df_show.head(5)"
   ]
  },
  {
   "cell_type": "code",
   "execution_count": 28,
   "id": "db000103-f523-4fd0-af45-1dea59083229",
   "metadata": {
    "execution": {
     "iopub.execute_input": "2025-09-24T00:24:02.665807Z",
     "iopub.status.busy": "2025-09-24T00:24:02.665448Z",
     "iopub.status.idle": "2025-09-24T00:24:02.673664Z",
     "shell.execute_reply": "2025-09-24T00:24:02.671200Z",
     "shell.execute_reply.started": "2025-09-24T00:24:02.665773Z"
    }
   },
   "outputs": [],
   "source": [
    "if database_name in df_show.values:\n",
    "    ingest_create_athena_db_passed = True"
   ]
  },
  {
   "cell_type": "code",
   "execution_count": 29,
   "id": "0dc291a5-0a76-429e-bec0-37e3a2a2d460",
   "metadata": {
    "execution": {
     "iopub.execute_input": "2025-09-24T00:24:03.167574Z",
     "iopub.status.busy": "2025-09-24T00:24:03.166764Z",
     "iopub.status.idle": "2025-09-24T00:24:03.175383Z",
     "shell.execute_reply": "2025-09-24T00:24:03.173781Z",
     "shell.execute_reply.started": "2025-09-24T00:24:03.167534Z"
    }
   },
   "outputs": [
    {
     "name": "stdout",
     "output_type": "stream",
     "text": [
      "Stored 'ingest_create_athena_db_passed' (bool)\n"
     ]
    }
   ],
   "source": [
    "%store ingest_create_athena_db_passed"
   ]
  },
  {
   "cell_type": "code",
   "execution_count": 30,
   "id": "a1c564a9-e549-4706-856a-f69ad341214d",
   "metadata": {
    "execution": {
     "iopub.execute_input": "2025-09-24T00:24:03.432288Z",
     "iopub.status.busy": "2025-09-24T00:24:03.431892Z",
     "iopub.status.idle": "2025-09-24T00:24:03.438818Z",
     "shell.execute_reply": "2025-09-24T00:24:03.437780Z",
     "shell.execute_reply.started": "2025-09-24T00:24:03.432264Z"
    }
   },
   "outputs": [
    {
     "name": "stdout",
     "output_type": "stream",
     "text": [
      "Stored variables and their in-db values:\n",
      "ingest_create_athena_db_passed             -> True\n",
      "s3_private_path_csv                        -> 's3://sagemaker-us-east-1-590183687297/spotify_tra\n",
      "s3_private_path_parquet                    -> 's3://sagemaker-us-east-1-590183687297/toxicity_pd\n",
      "setup_s3_bucket_passed                     -> True\n"
     ]
    }
   ],
   "source": [
    "%store"
   ]
  },
  {
   "cell_type": "markdown",
   "id": "fcf5b04d-ec1f-43b1-bed5-2087531eebf4",
   "metadata": {},
   "source": [
    "### Create Tables"
   ]
  },
  {
   "cell_type": "code",
   "execution_count": 31,
   "id": "6867663f-d70b-44fb-b39d-df3cf916dd0b",
   "metadata": {
    "execution": {
     "iopub.execute_input": "2025-09-24T00:24:03.932125Z",
     "iopub.status.busy": "2025-09-24T00:24:03.931829Z",
     "iopub.status.idle": "2025-09-24T00:24:03.936187Z",
     "shell.execute_reply": "2025-09-24T00:24:03.935226Z",
     "shell.execute_reply.started": "2025-09-24T00:24:03.932101Z"
    }
   },
   "outputs": [],
   "source": [
    "ingest_create_athena_table_pqt_passed = False"
   ]
  },
  {
   "cell_type": "code",
   "execution_count": 32,
   "id": "be84fb3f-27ad-4d74-bd81-361fed81cbd7",
   "metadata": {
    "execution": {
     "iopub.execute_input": "2025-09-24T00:24:04.282324Z",
     "iopub.status.busy": "2025-09-24T00:24:04.282042Z",
     "iopub.status.idle": "2025-09-24T00:24:04.285921Z",
     "shell.execute_reply": "2025-09-24T00:24:04.285037Z",
     "shell.execute_reply.started": "2025-09-24T00:24:04.282297Z"
    }
   },
   "outputs": [],
   "source": [
    "table_name = 'toxicity_pqt'\n",
    "train = '%/train-00000-of-00001.parquet'\n",
    "validation = '%/validation-00000-of-00001.parquet'\n",
    "test = '%/test-00000-of-00001.parquet'"
   ]
  },
  {
   "cell_type": "code",
   "execution_count": 33,
   "id": "72840485-7e9c-4eba-a075-46e63264c2ad",
   "metadata": {
    "execution": {
     "iopub.execute_input": "2025-09-24T00:24:04.866151Z",
     "iopub.status.busy": "2025-09-24T00:24:04.865814Z",
     "iopub.status.idle": "2025-09-24T00:24:04.871549Z",
     "shell.execute_reply": "2025-09-24T00:24:04.870427Z",
     "shell.execute_reply.started": "2025-09-24T00:24:04.866127Z"
    }
   },
   "outputs": [
    {
     "data": {
      "text/plain": [
       "'s3://sagemaker-us-east-1-590183687297/toxicity_pds/parquet'"
      ]
     },
     "execution_count": 33,
     "metadata": {},
     "output_type": "execute_result"
    }
   ],
   "source": [
    "s3_private_path_parquet"
   ]
  },
  {
   "cell_type": "code",
   "execution_count": 34,
   "id": "2fe7facc-4b32-4f9e-bd58-a7bfaac50fb6",
   "metadata": {
    "execution": {
     "iopub.execute_input": "2025-09-24T00:24:05.887574Z",
     "iopub.status.busy": "2025-09-24T00:24:05.887280Z",
     "iopub.status.idle": "2025-09-24T00:24:07.127623Z",
     "shell.execute_reply": "2025-09-24T00:24:07.126772Z",
     "shell.execute_reply.started": "2025-09-24T00:24:05.887551Z"
    }
   },
   "outputs": [
    {
     "name": "stderr",
     "output_type": "stream",
     "text": [
      "/tmp/ipykernel_264/2386943986.py:2: UserWarning: pandas only supports SQLAlchemy connectable (engine/connection) or database string URI or sqlite3 DBAPI2 connection. Other DBAPI2 objects are not tested. Please consider using SQLAlchemy.\n",
      "  pd.read_sql(drop_stmt, conn)\n"
     ]
    },
    {
     "data": {
      "text/html": [
       "<div>\n",
       "<style scoped>\n",
       "    .dataframe tbody tr th:only-of-type {\n",
       "        vertical-align: middle;\n",
       "    }\n",
       "\n",
       "    .dataframe tbody tr th {\n",
       "        vertical-align: top;\n",
       "    }\n",
       "\n",
       "    .dataframe thead th {\n",
       "        text-align: right;\n",
       "    }\n",
       "</style>\n",
       "<table border=\"1\" class=\"dataframe\">\n",
       "  <thead>\n",
       "    <tr style=\"text-align: right;\">\n",
       "      <th></th>\n",
       "    </tr>\n",
       "  </thead>\n",
       "  <tbody>\n",
       "  </tbody>\n",
       "</table>\n",
       "</div>"
      ],
      "text/plain": [
       "Empty DataFrame\n",
       "Columns: []\n",
       "Index: []"
      ]
     },
     "execution_count": 34,
     "metadata": {},
     "output_type": "execute_result"
    }
   ],
   "source": [
    "drop_stmt = \"\"\"DROP TABLE IF EXISTS {}.{}\"\"\".format(database_name, table_name)\n",
    "pd.read_sql(drop_stmt, conn)"
   ]
  },
  {
   "cell_type": "code",
   "execution_count": 35,
   "id": "b9f99e51-24d4-4b64-99fe-f5e190c98b0d",
   "metadata": {
    "execution": {
     "iopub.execute_input": "2025-09-24T00:24:55.844178Z",
     "iopub.status.busy": "2025-09-24T00:24:55.843883Z",
     "iopub.status.idle": "2025-09-24T00:24:57.097571Z",
     "shell.execute_reply": "2025-09-24T00:24:57.096784Z",
     "shell.execute_reply.started": "2025-09-24T00:24:55.844156Z"
    }
   },
   "outputs": [
    {
     "name": "stdout",
     "output_type": "stream",
     "text": [
      "CREATE EXTERNAL TABLE IF NOT EXISTS aai540_toxicity_aws.toxicity_pqt (\n",
      "  uid               BIGINT,\n",
      "  id                BIGINT,\n",
      "  comment_text      STRING,\n",
      "  toxicity          BIGINT,\n",
      "  has_active_attrs  BOOLEAN,\n",
      "  active_attrs      ARRAY<string>,\n",
      "  male              BIGINT,\n",
      "  female            BIGINT,\n",
      "  lgbtq             BIGINT,\n",
      "  christian         BIGINT,\n",
      "  muslim            BIGINT,\n",
      "  other_religions   BIGINT,\n",
      "  black             BIGINT,\n",
      "  white             BIGINT,\n",
      "  identity_any      BIGINT,\n",
      "  severe_toxicity   BIGINT,\n",
      "  obscene           BIGINT,\n",
      "  threat            BIGINT,\n",
      "  insult            BIGINT,\n",
      "  identity_attack   BIGINT,\n",
      "  sexual_explicit   BIGINT\n",
      ")\n",
      "STORED AS PARQUET\n",
      "LOCATION 's3://sagemaker-us-east-1-590183687297/toxicity_pds/parquet/'\n"
     ]
    },
    {
     "name": "stderr",
     "output_type": "stream",
     "text": [
      "/tmp/ipykernel_264/117541428.py:28: UserWarning: pandas only supports SQLAlchemy connectable (engine/connection) or database string URI or sqlite3 DBAPI2 connection. Other DBAPI2 objects are not tested. Please consider using SQLAlchemy.\n",
      "  pd.read_sql(statement, conn)\n"
     ]
    },
    {
     "data": {
      "text/html": [
       "<div>\n",
       "<style scoped>\n",
       "    .dataframe tbody tr th:only-of-type {\n",
       "        vertical-align: middle;\n",
       "    }\n",
       "\n",
       "    .dataframe tbody tr th {\n",
       "        vertical-align: top;\n",
       "    }\n",
       "\n",
       "    .dataframe thead th {\n",
       "        text-align: right;\n",
       "    }\n",
       "</style>\n",
       "<table border=\"1\" class=\"dataframe\">\n",
       "  <thead>\n",
       "    <tr style=\"text-align: right;\">\n",
       "      <th></th>\n",
       "    </tr>\n",
       "  </thead>\n",
       "  <tbody>\n",
       "  </tbody>\n",
       "</table>\n",
       "</div>"
      ],
      "text/plain": [
       "Empty DataFrame\n",
       "Columns: []\n",
       "Index: []"
      ]
     },
     "execution_count": 35,
     "metadata": {},
     "output_type": "execute_result"
    }
   ],
   "source": [
    "statement = \"\"\"CREATE EXTERNAL TABLE IF NOT EXISTS {}.{} (\n",
    "  uid               BIGINT,\n",
    "  id                BIGINT,\n",
    "  comment_text      STRING,\n",
    "  toxicity          BIGINT,\n",
    "  has_active_attrs  BOOLEAN,\n",
    "  active_attrs      ARRAY<string>,\n",
    "  male              BIGINT,\n",
    "  female            BIGINT,\n",
    "  lgbtq             BIGINT,\n",
    "  christian         BIGINT,\n",
    "  muslim            BIGINT,\n",
    "  other_religions   BIGINT,\n",
    "  black             BIGINT,\n",
    "  white             BIGINT,\n",
    "  identity_any      BIGINT,\n",
    "  severe_toxicity   BIGINT,\n",
    "  obscene           BIGINT,\n",
    "  threat            BIGINT,\n",
    "  insult            BIGINT,\n",
    "  identity_attack   BIGINT,\n",
    "  sexual_explicit   BIGINT\n",
    ")\n",
    "STORED AS PARQUET\n",
    "LOCATION '{}/'\"\"\".format(database_name, table_name, s3_private_path_parquet)\n",
    "\n",
    "print(statement)\n",
    "pd.read_sql(statement, conn)"
   ]
  },
  {
   "cell_type": "code",
   "execution_count": 36,
   "id": "dab3398e-42a7-49a5-b16a-8969a37a7770",
   "metadata": {
    "execution": {
     "iopub.execute_input": "2025-09-24T00:24:57.099970Z",
     "iopub.status.busy": "2025-09-24T00:24:57.099662Z",
     "iopub.status.idle": "2025-09-24T00:24:58.325165Z",
     "shell.execute_reply": "2025-09-24T00:24:58.324489Z",
     "shell.execute_reply.started": "2025-09-24T00:24:57.099945Z"
    }
   },
   "outputs": [
    {
     "name": "stdout",
     "output_type": "stream",
     "text": [
      "CREATE OR REPLACE VIEW aai540_toxicity_aws.toxicity_train AS SELECT * FROM aai540_toxicity_aws.toxicity_pqt WHERE \"$path\" LIKE '%/train-00000-of-00001.parquet'\n"
     ]
    },
    {
     "name": "stderr",
     "output_type": "stream",
     "text": [
      "/tmp/ipykernel_264/2100174071.py:10: UserWarning: pandas only supports SQLAlchemy connectable (engine/connection) or database string URI or sqlite3 DBAPI2 connection. Other DBAPI2 objects are not tested. Please consider using SQLAlchemy.\n",
      "  pd.read_sql(statement_view, conn)\n"
     ]
    },
    {
     "data": {
      "text/html": [
       "<div>\n",
       "<style scoped>\n",
       "    .dataframe tbody tr th:only-of-type {\n",
       "        vertical-align: middle;\n",
       "    }\n",
       "\n",
       "    .dataframe tbody tr th {\n",
       "        vertical-align: top;\n",
       "    }\n",
       "\n",
       "    .dataframe thead th {\n",
       "        text-align: right;\n",
       "    }\n",
       "</style>\n",
       "<table border=\"1\" class=\"dataframe\">\n",
       "  <thead>\n",
       "    <tr style=\"text-align: right;\">\n",
       "      <th></th>\n",
       "    </tr>\n",
       "  </thead>\n",
       "  <tbody>\n",
       "  </tbody>\n",
       "</table>\n",
       "</div>"
      ],
      "text/plain": [
       "Empty DataFrame\n",
       "Columns: []\n",
       "Index: []"
      ]
     },
     "execution_count": 36,
     "metadata": {},
     "output_type": "execute_result"
    }
   ],
   "source": [
    "train_view = 'toxicity_train'\n",
    "statement_view = \"\"\"CREATE OR REPLACE VIEW {}.{} AS SELECT * FROM {}.{} WHERE \"$path\" LIKE '{}'\"\"\".format(\n",
    "    database_name,\n",
    "    train_view,\n",
    "    database_name,\n",
    "    table_name,\n",
    "    train\n",
    ")\n",
    "print(statement_view)\n",
    "pd.read_sql(statement_view, conn)"
   ]
  },
  {
   "cell_type": "code",
   "execution_count": 37,
   "id": "4d6a64de-bf7b-4dcd-ae62-4798466b2f2d",
   "metadata": {
    "execution": {
     "iopub.execute_input": "2025-09-24T00:24:58.326156Z",
     "iopub.status.busy": "2025-09-24T00:24:58.325925Z",
     "iopub.status.idle": "2025-09-24T00:24:59.526365Z",
     "shell.execute_reply": "2025-09-24T00:24:59.525689Z",
     "shell.execute_reply.started": "2025-09-24T00:24:58.326138Z"
    }
   },
   "outputs": [
    {
     "name": "stdout",
     "output_type": "stream",
     "text": [
      "CREATE OR REPLACE VIEW aai540_toxicity_aws.toxicity_val AS SELECT * FROM aai540_toxicity_aws.toxicity_pqt WHERE \"$path\" LIKE '%/validation-00000-of-00001.parquet'\n"
     ]
    },
    {
     "name": "stderr",
     "output_type": "stream",
     "text": [
      "/tmp/ipykernel_264/3418994591.py:10: UserWarning: pandas only supports SQLAlchemy connectable (engine/connection) or database string URI or sqlite3 DBAPI2 connection. Other DBAPI2 objects are not tested. Please consider using SQLAlchemy.\n",
      "  pd.read_sql(statement_view, conn)\n"
     ]
    },
    {
     "data": {
      "text/html": [
       "<div>\n",
       "<style scoped>\n",
       "    .dataframe tbody tr th:only-of-type {\n",
       "        vertical-align: middle;\n",
       "    }\n",
       "\n",
       "    .dataframe tbody tr th {\n",
       "        vertical-align: top;\n",
       "    }\n",
       "\n",
       "    .dataframe thead th {\n",
       "        text-align: right;\n",
       "    }\n",
       "</style>\n",
       "<table border=\"1\" class=\"dataframe\">\n",
       "  <thead>\n",
       "    <tr style=\"text-align: right;\">\n",
       "      <th></th>\n",
       "    </tr>\n",
       "  </thead>\n",
       "  <tbody>\n",
       "  </tbody>\n",
       "</table>\n",
       "</div>"
      ],
      "text/plain": [
       "Empty DataFrame\n",
       "Columns: []\n",
       "Index: []"
      ]
     },
     "execution_count": 37,
     "metadata": {},
     "output_type": "execute_result"
    }
   ],
   "source": [
    "validation_view = 'toxicity_val'\n",
    "statement_view = \"\"\"CREATE OR REPLACE VIEW {}.{} AS SELECT * FROM {}.{} WHERE \"$path\" LIKE '{}'\"\"\".format(\n",
    "    database_name,\n",
    "    validation_view,\n",
    "    database_name,\n",
    "    table_name,\n",
    "    validation\n",
    ")\n",
    "print(statement_view)\n",
    "pd.read_sql(statement_view, conn)"
   ]
  },
  {
   "cell_type": "code",
   "execution_count": 38,
   "id": "7b2d87a0-3e43-45c6-97fc-caab36c887f3",
   "metadata": {
    "execution": {
     "iopub.execute_input": "2025-09-24T00:24:59.527755Z",
     "iopub.status.busy": "2025-09-24T00:24:59.527444Z",
     "iopub.status.idle": "2025-09-24T00:25:00.781569Z",
     "shell.execute_reply": "2025-09-24T00:25:00.780785Z",
     "shell.execute_reply.started": "2025-09-24T00:24:59.527689Z"
    }
   },
   "outputs": [
    {
     "name": "stdout",
     "output_type": "stream",
     "text": [
      "CREATE OR REPLACE VIEW aai540_toxicity_aws.toxicity_test AS SELECT * FROM aai540_toxicity_aws.toxicity_pqt WHERE \"$path\" LIKE '%/test-00000-of-00001.parquet'\n"
     ]
    },
    {
     "name": "stderr",
     "output_type": "stream",
     "text": [
      "/tmp/ipykernel_264/1627434926.py:10: UserWarning: pandas only supports SQLAlchemy connectable (engine/connection) or database string URI or sqlite3 DBAPI2 connection. Other DBAPI2 objects are not tested. Please consider using SQLAlchemy.\n",
      "  pd.read_sql(statement_view, conn)\n"
     ]
    },
    {
     "data": {
      "text/html": [
       "<div>\n",
       "<style scoped>\n",
       "    .dataframe tbody tr th:only-of-type {\n",
       "        vertical-align: middle;\n",
       "    }\n",
       "\n",
       "    .dataframe tbody tr th {\n",
       "        vertical-align: top;\n",
       "    }\n",
       "\n",
       "    .dataframe thead th {\n",
       "        text-align: right;\n",
       "    }\n",
       "</style>\n",
       "<table border=\"1\" class=\"dataframe\">\n",
       "  <thead>\n",
       "    <tr style=\"text-align: right;\">\n",
       "      <th></th>\n",
       "    </tr>\n",
       "  </thead>\n",
       "  <tbody>\n",
       "  </tbody>\n",
       "</table>\n",
       "</div>"
      ],
      "text/plain": [
       "Empty DataFrame\n",
       "Columns: []\n",
       "Index: []"
      ]
     },
     "execution_count": 38,
     "metadata": {},
     "output_type": "execute_result"
    }
   ],
   "source": [
    "test_view = 'toxicity_test'\n",
    "statement_view = \"\"\"CREATE OR REPLACE VIEW {}.{} AS SELECT * FROM {}.{} WHERE \"$path\" LIKE '{}'\"\"\".format(\n",
    "    database_name,\n",
    "    test_view,\n",
    "    database_name,\n",
    "    table_name,\n",
    "    test\n",
    ")\n",
    "print(statement_view)\n",
    "pd.read_sql(statement_view, conn)\n"
   ]
  },
  {
   "cell_type": "markdown",
   "id": "1bf33e6c-0d77-4662-9292-20f6cfda086b",
   "metadata": {},
   "source": [
    "### Verify The Table Has Been Created Succesfully"
   ]
  },
  {
   "cell_type": "code",
   "execution_count": 39,
   "id": "6f61689c-e4d8-4681-aacd-12964423a64c",
   "metadata": {
    "execution": {
     "iopub.execute_input": "2025-09-24T00:25:00.783158Z",
     "iopub.status.busy": "2025-09-24T00:25:00.782660Z",
     "iopub.status.idle": "2025-09-24T00:25:02.057145Z",
     "shell.execute_reply": "2025-09-24T00:25:02.052524Z",
     "shell.execute_reply.started": "2025-09-24T00:25:00.783126Z"
    }
   },
   "outputs": [
    {
     "name": "stderr",
     "output_type": "stream",
     "text": [
      "/tmp/ipykernel_264/2201015668.py:3: UserWarning: pandas only supports SQLAlchemy connectable (engine/connection) or database string URI or sqlite3 DBAPI2 connection. Other DBAPI2 objects are not tested. Please consider using SQLAlchemy.\n",
      "  df_show = pd.read_sql(statement, conn)\n"
     ]
    },
    {
     "data": {
      "text/html": [
       "<div>\n",
       "<style scoped>\n",
       "    .dataframe tbody tr th:only-of-type {\n",
       "        vertical-align: middle;\n",
       "    }\n",
       "\n",
       "    .dataframe tbody tr th {\n",
       "        vertical-align: top;\n",
       "    }\n",
       "\n",
       "    .dataframe thead th {\n",
       "        text-align: right;\n",
       "    }\n",
       "</style>\n",
       "<table border=\"1\" class=\"dataframe\">\n",
       "  <thead>\n",
       "    <tr style=\"text-align: right;\">\n",
       "      <th></th>\n",
       "      <th>tab_name</th>\n",
       "    </tr>\n",
       "  </thead>\n",
       "  <tbody>\n",
       "    <tr>\n",
       "      <th>0</th>\n",
       "      <td>toxicity_pqt</td>\n",
       "    </tr>\n",
       "    <tr>\n",
       "      <th>1</th>\n",
       "      <td>toxicity_test</td>\n",
       "    </tr>\n",
       "    <tr>\n",
       "      <th>2</th>\n",
       "      <td>toxicity_train</td>\n",
       "    </tr>\n",
       "    <tr>\n",
       "      <th>3</th>\n",
       "      <td>toxicity_val</td>\n",
       "    </tr>\n",
       "  </tbody>\n",
       "</table>\n",
       "</div>"
      ],
      "text/plain": [
       "         tab_name\n",
       "0    toxicity_pqt\n",
       "1   toxicity_test\n",
       "2  toxicity_train\n",
       "3    toxicity_val"
      ]
     },
     "execution_count": 39,
     "metadata": {},
     "output_type": "execute_result"
    }
   ],
   "source": [
    "statement = \"SHOW TABLES in {}\".format(database_name)\n",
    "\n",
    "df_show = pd.read_sql(statement, conn)\n",
    "df_show.head(5)"
   ]
  },
  {
   "cell_type": "code",
   "execution_count": 40,
   "id": "886614ff-c1f7-4dbf-8a7e-09beffb20f4b",
   "metadata": {
    "execution": {
     "iopub.execute_input": "2025-09-24T00:25:02.081519Z",
     "iopub.status.busy": "2025-09-24T00:25:02.077348Z",
     "iopub.status.idle": "2025-09-24T00:25:02.122495Z",
     "shell.execute_reply": "2025-09-24T00:25:02.102673Z",
     "shell.execute_reply.started": "2025-09-24T00:25:02.079586Z"
    }
   },
   "outputs": [
    {
     "name": "stdout",
     "output_type": "stream",
     "text": [
      "True\n"
     ]
    }
   ],
   "source": [
    "if table_name in df_show.values:\n",
    "    ingest_create_athena_table_pqt_passed = True\n",
    "\n",
    "print(ingest_create_athena_table_pqt_passed)"
   ]
  },
  {
   "cell_type": "markdown",
   "id": "da700b56-ae7b-4cc6-ad6d-21901c7e5318",
   "metadata": {},
   "source": [
    "### Run A Sample SQL Query"
   ]
  },
  {
   "cell_type": "code",
   "execution_count": 41,
   "id": "ae706279-3dd6-4b91-a627-ea17c48c7385",
   "metadata": {
    "execution": {
     "iopub.execute_input": "2025-09-24T00:25:06.013934Z",
     "iopub.status.busy": "2025-09-24T00:25:06.013664Z",
     "iopub.status.idle": "2025-09-24T00:27:32.871999Z",
     "shell.execute_reply": "2025-09-24T00:27:32.871111Z",
     "shell.execute_reply.started": "2025-09-24T00:25:06.013914Z"
    }
   },
   "outputs": [
    {
     "name": "stdout",
     "output_type": "stream",
     "text": [
      "SELECT * FROM aai540_toxicity_aws.toxicity_pqt\n"
     ]
    },
    {
     "name": "stderr",
     "output_type": "stream",
     "text": [
      "/tmp/ipykernel_264/2419674085.py:7: UserWarning: pandas only supports SQLAlchemy connectable (engine/connection) or database string URI or sqlite3 DBAPI2 connection. Other DBAPI2 objects are not tested. Please consider using SQLAlchemy.\n",
      "  df = pd.read_sql(statement, conn)\n"
     ]
    },
    {
     "data": {
      "text/html": [
       "<div>\n",
       "<style scoped>\n",
       "    .dataframe tbody tr th:only-of-type {\n",
       "        vertical-align: middle;\n",
       "    }\n",
       "\n",
       "    .dataframe tbody tr th {\n",
       "        vertical-align: top;\n",
       "    }\n",
       "\n",
       "    .dataframe thead th {\n",
       "        text-align: right;\n",
       "    }\n",
       "</style>\n",
       "<table border=\"1\" class=\"dataframe\">\n",
       "  <thead>\n",
       "    <tr style=\"text-align: right;\">\n",
       "      <th></th>\n",
       "      <th>uid</th>\n",
       "      <th>id</th>\n",
       "      <th>comment_text</th>\n",
       "      <th>toxicity</th>\n",
       "      <th>has_active_attrs</th>\n",
       "      <th>active_attrs</th>\n",
       "      <th>male</th>\n",
       "      <th>female</th>\n",
       "      <th>lgbtq</th>\n",
       "      <th>christian</th>\n",
       "      <th>...</th>\n",
       "      <th>other_religions</th>\n",
       "      <th>black</th>\n",
       "      <th>white</th>\n",
       "      <th>identity_any</th>\n",
       "      <th>severe_toxicity</th>\n",
       "      <th>obscene</th>\n",
       "      <th>threat</th>\n",
       "      <th>insult</th>\n",
       "      <th>identity_attack</th>\n",
       "      <th>sexual_explicit</th>\n",
       "    </tr>\n",
       "  </thead>\n",
       "  <tbody>\n",
       "    <tr>\n",
       "      <th>0</th>\n",
       "      <td>18</td>\n",
       "      <td>5711489</td>\n",
       "      <td>𝑯𝒆 𝒕𝒐𝒍𝒅 𝒑𝒐𝒍𝒊𝒄𝒆 𝒕𝒉𝒂𝒕 𝒉𝒆 𝒃𝒖𝒚𝒔 𝒄𝒐𝒄𝒂𝒊𝒏𝒆 “𝒊𝒏 𝒍𝒂𝒓𝒈𝒆 ...</td>\n",
       "      <td>0</td>\n",
       "      <td>False</td>\n",
       "      <td>[]</td>\n",
       "      <td>0</td>\n",
       "      <td>0</td>\n",
       "      <td>0</td>\n",
       "      <td>0</td>\n",
       "      <td>...</td>\n",
       "      <td>0</td>\n",
       "      <td>0</td>\n",
       "      <td>0</td>\n",
       "      <td>0</td>\n",
       "      <td>0</td>\n",
       "      <td>0</td>\n",
       "      <td>0</td>\n",
       "      <td>0</td>\n",
       "      <td>0</td>\n",
       "      <td>0</td>\n",
       "    </tr>\n",
       "    <tr>\n",
       "      <th>1</th>\n",
       "      <td>21</td>\n",
       "      <td>5295059</td>\n",
       "      <td>为加拿大和中国友谊祝贺。与其想象中国人对加拿大人的看法不如直接去问，不要用自己的想法去猜。本...</td>\n",
       "      <td>0</td>\n",
       "      <td>True</td>\n",
       "      <td>[christian]</td>\n",
       "      <td>0</td>\n",
       "      <td>0</td>\n",
       "      <td>0</td>\n",
       "      <td>1</td>\n",
       "      <td>...</td>\n",
       "      <td>0</td>\n",
       "      <td>0</td>\n",
       "      <td>0</td>\n",
       "      <td>1</td>\n",
       "      <td>0</td>\n",
       "      <td>0</td>\n",
       "      <td>0</td>\n",
       "      <td>0</td>\n",
       "      <td>0</td>\n",
       "      <td>0</td>\n",
       "    </tr>\n",
       "    <tr>\n",
       "      <th>2</th>\n",
       "      <td>26</td>\n",
       "      <td>5753025</td>\n",
       "      <td>♫ Mister we could use a man like Neville Chamb...</td>\n",
       "      <td>0</td>\n",
       "      <td>True</td>\n",
       "      <td>[male]</td>\n",
       "      <td>1</td>\n",
       "      <td>0</td>\n",
       "      <td>0</td>\n",
       "      <td>0</td>\n",
       "      <td>...</td>\n",
       "      <td>0</td>\n",
       "      <td>0</td>\n",
       "      <td>0</td>\n",
       "      <td>1</td>\n",
       "      <td>0</td>\n",
       "      <td>0</td>\n",
       "      <td>0</td>\n",
       "      <td>0</td>\n",
       "      <td>0</td>\n",
       "      <td>0</td>\n",
       "    </tr>\n",
       "    <tr>\n",
       "      <th>3</th>\n",
       "      <td>47</td>\n",
       "      <td>6100226</td>\n",
       "      <td>…so much for your opinion.</td>\n",
       "      <td>0</td>\n",
       "      <td>False</td>\n",
       "      <td>[]</td>\n",
       "      <td>0</td>\n",
       "      <td>0</td>\n",
       "      <td>0</td>\n",
       "      <td>0</td>\n",
       "      <td>...</td>\n",
       "      <td>0</td>\n",
       "      <td>0</td>\n",
       "      <td>0</td>\n",
       "      <td>0</td>\n",
       "      <td>0</td>\n",
       "      <td>0</td>\n",
       "      <td>0</td>\n",
       "      <td>0</td>\n",
       "      <td>0</td>\n",
       "      <td>0</td>\n",
       "    </tr>\n",
       "    <tr>\n",
       "      <th>4</th>\n",
       "      <td>54</td>\n",
       "      <td>974066</td>\n",
       "      <td>…as most everyone knows both parties completel...</td>\n",
       "      <td>0</td>\n",
       "      <td>False</td>\n",
       "      <td>[]</td>\n",
       "      <td>0</td>\n",
       "      <td>0</td>\n",
       "      <td>0</td>\n",
       "      <td>0</td>\n",
       "      <td>...</td>\n",
       "      <td>0</td>\n",
       "      <td>0</td>\n",
       "      <td>0</td>\n",
       "      <td>0</td>\n",
       "      <td>0</td>\n",
       "      <td>0</td>\n",
       "      <td>0</td>\n",
       "      <td>0</td>\n",
       "      <td>0</td>\n",
       "      <td>0</td>\n",
       "    </tr>\n",
       "  </tbody>\n",
       "</table>\n",
       "<p>5 rows × 21 columns</p>\n",
       "</div>"
      ],
      "text/plain": [
       "   uid       id                                       comment_text  toxicity  \\\n",
       "0   18  5711489  𝑯𝒆 𝒕𝒐𝒍𝒅 𝒑𝒐𝒍𝒊𝒄𝒆 𝒕𝒉𝒂𝒕 𝒉𝒆 𝒃𝒖𝒚𝒔 𝒄𝒐𝒄𝒂𝒊𝒏𝒆 “𝒊𝒏 𝒍𝒂𝒓𝒈𝒆 ...         0   \n",
       "1   21  5295059  为加拿大和中国友谊祝贺。与其想象中国人对加拿大人的看法不如直接去问，不要用自己的想法去猜。本...         0   \n",
       "2   26  5753025  ♫ Mister we could use a man like Neville Chamb...         0   \n",
       "3   47  6100226                         …so much for your opinion.         0   \n",
       "4   54   974066  …as most everyone knows both parties completel...         0   \n",
       "\n",
       "   has_active_attrs active_attrs  male  female  lgbtq  christian  ...  \\\n",
       "0             False           []     0       0      0          0  ...   \n",
       "1              True  [christian]     0       0      0          1  ...   \n",
       "2              True       [male]     1       0      0          0  ...   \n",
       "3             False           []     0       0      0          0  ...   \n",
       "4             False           []     0       0      0          0  ...   \n",
       "\n",
       "   other_religions  black  white  identity_any  severe_toxicity  obscene  \\\n",
       "0                0      0      0             0                0        0   \n",
       "1                0      0      0             1                0        0   \n",
       "2                0      0      0             1                0        0   \n",
       "3                0      0      0             0                0        0   \n",
       "4                0      0      0             0                0        0   \n",
       "\n",
       "   threat  insult  identity_attack  sexual_explicit  \n",
       "0       0       0                0                0  \n",
       "1       0       0                0                0  \n",
       "2       0       0                0                0  \n",
       "3       0       0                0                0  \n",
       "4       0       0                0                0  \n",
       "\n",
       "[5 rows x 21 columns]"
      ]
     },
     "execution_count": 41,
     "metadata": {},
     "output_type": "execute_result"
    }
   ],
   "source": [
    "statement = \"\"\"SELECT * FROM {}.{}\"\"\".format(\n",
    "    database_name, table_name\n",
    ")\n",
    "\n",
    "print(statement)\n",
    "\n",
    "df = pd.read_sql(statement, conn)\n",
    "df.head(5)"
   ]
  },
  {
   "cell_type": "code",
   "execution_count": 44,
   "id": "3999a8bc-8e73-472a-b148-1e27b488c18e",
   "metadata": {
    "execution": {
     "iopub.execute_input": "2025-09-24T00:33:41.776117Z",
     "iopub.status.busy": "2025-09-24T00:33:41.775843Z",
     "iopub.status.idle": "2025-09-24T00:33:43.143957Z",
     "shell.execute_reply": "2025-09-24T00:33:43.142864Z",
     "shell.execute_reply.started": "2025-09-24T00:33:41.776096Z"
    }
   },
   "outputs": [
    {
     "name": "stderr",
     "output_type": "stream",
     "text": [
      "/tmp/ipykernel_264/3130455028.py:3: UserWarning: pandas only supports SQLAlchemy connectable (engine/connection) or database string URI or sqlite3 DBAPI2 connection. Other DBAPI2 objects are not tested. Please consider using SQLAlchemy.\n",
      "  df_show = pd.read_sql(statement, conn)\n"
     ]
    },
    {
     "data": {
      "text/html": [
       "<div>\n",
       "<style scoped>\n",
       "    .dataframe tbody tr th:only-of-type {\n",
       "        vertical-align: middle;\n",
       "    }\n",
       "\n",
       "    .dataframe tbody tr th {\n",
       "        vertical-align: top;\n",
       "    }\n",
       "\n",
       "    .dataframe thead th {\n",
       "        text-align: right;\n",
       "    }\n",
       "</style>\n",
       "<table border=\"1\" class=\"dataframe\">\n",
       "  <thead>\n",
       "    <tr style=\"text-align: right;\">\n",
       "      <th></th>\n",
       "      <th>views</th>\n",
       "    </tr>\n",
       "  </thead>\n",
       "  <tbody>\n",
       "    <tr>\n",
       "      <th>0</th>\n",
       "      <td>toxicity_test</td>\n",
       "    </tr>\n",
       "    <tr>\n",
       "      <th>1</th>\n",
       "      <td>toxicity_train</td>\n",
       "    </tr>\n",
       "    <tr>\n",
       "      <th>2</th>\n",
       "      <td>toxicity_val</td>\n",
       "    </tr>\n",
       "  </tbody>\n",
       "</table>\n",
       "</div>"
      ],
      "text/plain": [
       "            views\n",
       "0   toxicity_test\n",
       "1  toxicity_train\n",
       "2    toxicity_val"
      ]
     },
     "execution_count": 44,
     "metadata": {},
     "output_type": "execute_result"
    }
   ],
   "source": [
    "statement = \"SHOW VIEWS in {}\".format(database_name)\n",
    "\n",
    "df_show = pd.read_sql(statement, conn)\n",
    "df_show.head(5)"
   ]
  },
  {
   "cell_type": "code",
   "execution_count": 45,
   "id": "7d1fbab0-7825-4745-a3ef-764a1f1a5095",
   "metadata": {
    "execution": {
     "iopub.execute_input": "2025-09-24T00:33:43.373581Z",
     "iopub.status.busy": "2025-09-24T00:33:43.373291Z",
     "iopub.status.idle": "2025-09-24T00:33:43.382690Z",
     "shell.execute_reply": "2025-09-24T00:33:43.381898Z",
     "shell.execute_reply.started": "2025-09-24T00:33:43.373560Z"
    }
   },
   "outputs": [
    {
     "data": {
      "text/plain": [
       "toxicity\n",
       "0    394821\n",
       "1     50472\n",
       "Name: count, dtype: int64"
      ]
     },
     "execution_count": 45,
     "metadata": {},
     "output_type": "execute_result"
    }
   ],
   "source": [
    "df['toxicity'].value_counts()"
   ]
  },
  {
   "cell_type": "markdown",
   "id": "020603df-113d-40f2-aa1e-6f43c1c6e0b7",
   "metadata": {},
   "source": [
    "## Set up Sagemaker Feature store"
   ]
  },
  {
   "cell_type": "code",
   "execution_count": 18,
   "id": "c84246ac-4a92-497e-aa61-519b25f10beb",
   "metadata": {
    "execution": {
     "iopub.execute_input": "2025-09-24T02:28:18.750961Z",
     "iopub.status.busy": "2025-09-24T02:28:18.750573Z",
     "iopub.status.idle": "2025-09-24T02:28:19.322460Z",
     "shell.execute_reply": "2025-09-24T02:28:19.321698Z",
     "shell.execute_reply.started": "2025-09-24T02:28:18.750935Z"
    }
   },
   "outputs": [],
   "source": [
    "from sagemaker.session import Session\n",
    "\n",
    "region = boto3.Session().region_name\n",
    "\n",
    "boto_session = boto3.Session(region_name=region)\n",
    "\n",
    "sagemaker_client = boto_session.client(service_name=\"sagemaker\", region_name=region)\n",
    "\n",
    "featurestore_runtime = boto_session.client(\n",
    "    service_name=\"sagemaker-featurestore-runtime\", region_name=region\n",
    ")\n",
    "\n",
    "feature_store_session = Session(\n",
    "    boto_session=boto_session,\n",
    "    sagemaker_client=sagemaker_client,\n",
    "    sagemaker_featurestore_runtime_client=featurestore_runtime,\n",
    ")"
   ]
  },
  {
   "cell_type": "markdown",
   "id": "82f8c92d-9ee4-4d0a-b2f3-d3c0ad96c5a7",
   "metadata": {},
   "source": [
    "### S3 Bucket set up for offline store"
   ]
  },
  {
   "cell_type": "code",
   "execution_count": 19,
   "id": "c0c3ecf4-004e-4aa9-8239-8ff7978bba1f",
   "metadata": {
    "execution": {
     "iopub.execute_input": "2025-09-24T02:28:19.324844Z",
     "iopub.status.busy": "2025-09-24T02:28:19.324592Z",
     "iopub.status.idle": "2025-09-24T02:28:19.584543Z",
     "shell.execute_reply": "2025-09-24T02:28:19.583387Z",
     "shell.execute_reply.started": "2025-09-24T02:28:19.324823Z"
    }
   },
   "outputs": [
    {
     "name": "stdout",
     "output_type": "stream",
     "text": [
      "sagemaker-us-east-1-590183687297\n"
     ]
    }
   ],
   "source": [
    "# You can modify the following to use a bucket of your choosing\n",
    "default_s3_bucket_name = feature_store_session.default_bucket()\n",
    "print(default_s3_bucket_name)"
   ]
  },
  {
   "cell_type": "code",
   "execution_count": 20,
   "id": "4b0f8b90-57cb-49f1-b541-f34d16851acf",
   "metadata": {
    "execution": {
     "iopub.execute_input": "2025-09-24T02:28:19.607436Z",
     "iopub.status.busy": "2025-09-24T02:28:19.607171Z",
     "iopub.status.idle": "2025-09-24T02:28:19.707646Z",
     "shell.execute_reply": "2025-09-24T02:28:19.706705Z",
     "shell.execute_reply.started": "2025-09-24T02:28:19.607417Z"
    }
   },
   "outputs": [
    {
     "name": "stdout",
     "output_type": "stream",
     "text": [
      "arn:aws:iam::590183687297:role/LabRole\n"
     ]
    }
   ],
   "source": [
    "# set up IAM role\n",
    "from sagemaker import get_execution_role\n",
    "\n",
    "# You can modify the following to use a role of your choosing. See the documentation for how to create this.\n",
    "role = get_execution_role()\n",
    "print(role)"
   ]
  },
  {
   "cell_type": "code",
   "execution_count": 21,
   "id": "fe1ac76d-075f-47ab-9b40-72991aedd5ae",
   "metadata": {
    "execution": {
     "iopub.execute_input": "2025-09-24T02:28:19.902929Z",
     "iopub.status.busy": "2025-09-24T02:28:19.902634Z",
     "iopub.status.idle": "2025-09-24T02:28:19.910523Z",
     "shell.execute_reply": "2025-09-24T02:28:19.909723Z",
     "shell.execute_reply.started": "2025-09-24T02:28:19.902904Z"
    }
   },
   "outputs": [
    {
     "data": {
      "text/plain": [
       "'s3://sagemaker-us-east-1-590183687297/toxicity_pds/parquet'"
      ]
     },
     "execution_count": 21,
     "metadata": {},
     "output_type": "execute_result"
    }
   ],
   "source": [
    "s3_private_path_parquet"
   ]
  },
  {
   "cell_type": "code",
   "execution_count": 22,
   "id": "2ed79fa2-0d1f-4f7c-ba34-a4a1192bc5ac",
   "metadata": {
    "execution": {
     "iopub.execute_input": "2025-09-24T02:28:20.298621Z",
     "iopub.status.busy": "2025-09-24T02:28:20.298355Z",
     "iopub.status.idle": "2025-09-24T02:28:20.303024Z",
     "shell.execute_reply": "2025-09-24T02:28:20.302343Z",
     "shell.execute_reply.started": "2025-09-24T02:28:20.298601Z"
    }
   },
   "outputs": [
    {
     "data": {
      "text/plain": [
       "['sagemaker-us-east-1-590183687297', 'toxicity_pds/parquet']"
      ]
     },
     "execution_count": 22,
     "metadata": {},
     "output_type": "execute_result"
    }
   ],
   "source": [
    "s3_private_path_parquet.replace(\"s3://\", \"\").split(\"/\", 1)"
   ]
  },
  {
   "cell_type": "code",
   "execution_count": 23,
   "id": "8d948deb-d529-4252-9d8d-b7c128148b72",
   "metadata": {
    "execution": {
     "iopub.execute_input": "2025-09-24T02:28:20.575844Z",
     "iopub.status.busy": "2025-09-24T02:28:20.575568Z",
     "iopub.status.idle": "2025-09-24T02:28:21.752519Z",
     "shell.execute_reply": "2025-09-24T02:28:21.751490Z",
     "shell.execute_reply.started": "2025-09-24T02:28:20.575823Z"
    }
   },
   "outputs": [
    {
     "name": "stdout",
     "output_type": "stream",
     "text": [
      "2025-09-24 02:27:35   34099179 test-00000-of-00001.parquet\n",
      "2025-09-24 02:27:35   68844404 train-00000-of-00001.parquet\n",
      "2025-09-24 02:27:35   11697541 validation-00000-of-00001.parquet\n"
     ]
    }
   ],
   "source": [
    "!aws s3 ls $s3_private_path_parquet/"
   ]
  },
  {
   "cell_type": "code",
   "execution_count": 9,
   "id": "8ef7f2a3",
   "metadata": {},
   "outputs": [
    {
     "name": "stdout",
     "output_type": "stream",
     "text": [
      "(267516, 21)\n",
      "(45047, 21)\n",
      "(132730, 21)\n"
     ]
    }
   ],
   "source": [
    "import pandas as pd\n",
    "train = \"civil/train-00000-of-00001.parquet\"\n",
    "validation = \"civil/validation-00000-of-00001.parquet\"\n",
    "test = \"civil/test-00000-of-00001.parquet\"\n",
    "\n",
    "train_data = pd.read_parquet(train)\n",
    "validation_data = pd.read_parquet(validation)\n",
    "test_data = pd.read_parquet(test)\n",
    "\n",
    "print(train_data.shape)\n",
    "print(validation_data.shape)\n",
    "print(test_data.shape)\n"
   ]
  },
  {
   "cell_type": "code",
   "execution_count": 24,
   "id": "f1a3b7e8-d0f7-4a48-bc29-5d7003b46fd2",
   "metadata": {
    "execution": {
     "iopub.execute_input": "2025-09-24T02:28:21.754485Z",
     "iopub.status.busy": "2025-09-24T02:28:21.754125Z",
     "iopub.status.idle": "2025-09-24T02:28:25.044294Z",
     "shell.execute_reply": "2025-09-24T02:28:25.043388Z",
     "shell.execute_reply.started": "2025-09-24T02:28:21.754450Z"
    }
   },
   "outputs": [
    {
     "name": "stdout",
     "output_type": "stream",
     "text": [
      "Train Data Shape: (267516, 21)\n",
      "Validation Data Shape: (45047, 21)\n",
      "Test Data Shape: (132730, 21)\n"
     ]
    }
   ],
   "source": [
    "import boto3\n",
    "import pandas as pd\n",
    "import io\n",
    "\n",
    "# Your region & private bucket\n",
    "s3_client = boto3.client(\"s3\", region_name=region)\n",
    "\n",
    "# Split the s3 path into bucket and prefix\n",
    "# Example: if $s3_private_path_csv=\"my-private-bucket/housing-data\"\n",
    "bucket_name, prefix = s3_private_path_parquet.replace(\"s3://\", \"\").split(\"/\", 1)\n",
    "\n",
    "# Define the file keys (relative to prefix)\n",
    "train_file_key = f\"{prefix}/train-00000-of-00001.parquet\"\n",
    "validation_file_key = f\"{prefix}/validation-00000-of-00001.parquet\"\n",
    "test_file_key = f\"{prefix}/test-00000-of-00001.parquet\"\n",
    "\n",
    "\n",
    "# Load the files\n",
    "train_data_object = s3_client.get_object(Bucket=bucket_name, Key=train_file_key)\n",
    "validation_data_object = s3_client.get_object(Bucket=bucket_name, Key=validation_file_key)\n",
    "test_data_object = s3_client.get_object(Bucket=bucket_name, Key=test_file_key)\n",
    "\n",
    "# Convert to pandas DataFrames\n",
    "train_data = pd.read_parquet(io.BytesIO(train_data_object[\"Body\"].read()))\n",
    "validation_data = pd.read_parquet(io.BytesIO(validation_data_object[\"Body\"].read()))\n",
    "test_data = pd.read_parquet(io.BytesIO(test_data_object[\"Body\"].read()))\n",
    "\n",
    "\n",
    "print(\"Train Data Shape:\", train_data.shape)\n",
    "print(\"Validation Data Shape:\", validation_data.shape)\n",
    "print(\"Test Data Shape:\", test_data.shape)\n",
    "\n"
   ]
  },
  {
   "cell_type": "code",
   "execution_count": 11,
   "id": "3a5442a4",
   "metadata": {},
   "outputs": [
    {
     "data": {
      "application/vnd.microsoft.datawrangler.viewer.v0+json": {
       "columns": [
        {
         "name": "toxicity",
         "rawType": "int64",
         "type": "integer"
        },
        {
         "name": "count",
         "rawType": "int64",
         "type": "integer"
        }
       ],
       "ref": "1200e6c6-6bba-4ca7-bf02-03bed18f9400",
       "rows": [
        [
         "0",
         "237173"
        ],
        [
         "1",
         "30343"
        ]
       ],
       "shape": {
        "columns": 1,
        "rows": 2
       }
      },
      "text/plain": [
       "toxicity\n",
       "0    237173\n",
       "1     30343\n",
       "Name: count, dtype: int64"
      ]
     },
     "execution_count": 11,
     "metadata": {},
     "output_type": "execute_result"
    }
   ],
   "source": [
    "train_data['toxicity'].value_counts()"
   ]
  },
  {
   "cell_type": "code",
   "execution_count": 25,
   "id": "59f81157-ec51-4e5d-95f8-66f583f73748",
   "metadata": {
    "execution": {
     "iopub.execute_input": "2025-09-24T02:28:25.046225Z",
     "iopub.status.busy": "2025-09-24T02:28:25.045466Z",
     "iopub.status.idle": "2025-09-24T02:28:25.143325Z",
     "shell.execute_reply": "2025-09-24T02:28:25.139626Z",
     "shell.execute_reply.started": "2025-09-24T02:28:25.046190Z"
    }
   },
   "outputs": [
    {
     "data": {
      "text/plain": [
       "(445293, 21)"
      ]
     },
     "execution_count": 25,
     "metadata": {},
     "output_type": "execute_result"
    }
   ],
   "source": [
    "civil = pd.concat([train_data, validation_data, test_data], axis=0)\n",
    "civil.shape"
   ]
  },
  {
   "cell_type": "code",
   "execution_count": 12,
   "id": "19e9887c-e096-4b19-b1bc-700fc0ce2dcc",
   "metadata": {
    "execution": {
     "iopub.execute_input": "2025-09-24T02:28:25.144625Z",
     "iopub.status.busy": "2025-09-24T02:28:25.144308Z",
     "iopub.status.idle": "2025-09-24T02:28:25.518444Z",
     "shell.execute_reply": "2025-09-24T02:28:25.517504Z",
     "shell.execute_reply.started": "2025-09-24T02:28:25.144596Z"
    }
   },
   "outputs": [
    {
     "data": {
      "application/vnd.microsoft.datawrangler.viewer.v0+json": {
       "columns": [
        {
         "name": "toxicity",
         "rawType": "int64",
         "type": "integer"
        },
        {
         "name": "count",
         "rawType": "int64",
         "type": "integer"
        }
       ],
       "ref": "b1aed0b9-b55f-47c1-82a1-e086b0abe808",
       "rows": [
        [
         "0",
         "35000"
        ],
        [
         "1",
         "30343"
        ]
       ],
       "shape": {
        "columns": 1,
        "rows": 2
       }
      },
      "text/plain": [
       "toxicity\n",
       "0    35000\n",
       "1    30343\n",
       "Name: count, dtype: int64"
      ]
     },
     "execution_count": 12,
     "metadata": {},
     "output_type": "execute_result"
    }
   ],
   "source": [
    "# Sample 60,000 records where toxicity == 0\n",
    "civil_tox0 = train_data[train_data['toxicity'] == 0].sample(n=35000, random_state=42)\n",
    "# Get all records where toxicity == 1\n",
    "civil_tox1 = train_data[train_data['toxicity'] == 1]\n",
    "# Concatenate to create a balanced dataframe\n",
    "train_balanced = pd.concat([civil_tox0, civil_tox1], ignore_index=True)\n",
    "# Shuffle the resulting dataframe\n",
    "civil_df = train_balanced.sample(frac=1, random_state=42).reset_index(drop=True)\n",
    "civil_df['toxicity'].value_counts()"
   ]
  },
  {
   "cell_type": "markdown",
   "id": "8f90d599-9b2d-4fb9-9114-b36a0c4ec71b",
   "metadata": {},
   "source": [
    "### Feature Engineering"
   ]
  },
  {
   "cell_type": "code",
   "execution_count": 13,
   "id": "87684147-e597-4a32-9a0b-3589caf815d6",
   "metadata": {
    "execution": {
     "iopub.execute_input": "2025-09-24T02:28:25.520035Z",
     "iopub.status.busy": "2025-09-24T02:28:25.519673Z",
     "iopub.status.idle": "2025-09-24T02:28:25.524733Z",
     "shell.execute_reply": "2025-09-24T02:28:25.523847Z",
     "shell.execute_reply.started": "2025-09-24T02:28:25.519979Z"
    }
   },
   "outputs": [],
   "source": [
    "import re\n",
    "\n",
    "TAG_RE = re.compile(r'<[^>]+>')\n",
    "\n",
    "def re_tags(text_list): #define remove tag funtion\n",
    "    return [TAG_RE.sub('', str(word)).lower() for word in text_list]"
   ]
  },
  {
   "cell_type": "code",
   "execution_count": 14,
   "id": "f94bf34b-cd63-428c-81d3-1f9864fe6f07",
   "metadata": {
    "execution": {
     "iopub.execute_input": "2025-09-24T02:29:25.734707Z",
     "iopub.status.busy": "2025-09-24T02:29:25.734262Z",
     "iopub.status.idle": "2025-09-24T02:29:25.742030Z",
     "shell.execute_reply": "2025-09-24T02:29:25.741093Z",
     "shell.execute_reply.started": "2025-09-24T02:29:25.734677Z"
    }
   },
   "outputs": [],
   "source": [
    "# Remove Accented Characters\n",
    "\n",
    "import unidecode\n",
    "def re_accented_char(text_list):\n",
    "    return [unidecode.unidecode(word.encode().decode('utf-8')) for word in text_list]"
   ]
  },
  {
   "cell_type": "code",
   "execution_count": 15,
   "id": "5e0c7224-7c44-453c-8d61-52e026d2c54f",
   "metadata": {
    "execution": {
     "iopub.execute_input": "2025-09-24T02:29:01.861121Z",
     "iopub.status.busy": "2025-09-24T02:29:01.860812Z",
     "iopub.status.idle": "2025-09-24T02:29:01.890374Z",
     "shell.execute_reply": "2025-09-24T02:29:01.878032Z",
     "shell.execute_reply.started": "2025-09-24T02:29:01.861099Z"
    }
   },
   "outputs": [],
   "source": [
    "# Extended contractions\n",
    "def ex_contractions(text_list):\n",
    "    result=[]\n",
    "    for word in text_list:\n",
    "        # replace contracting withoutsignal\n",
    "        word = word.replace(\"wont\",\"won't\")\n",
    "        word = word.replace(\"cant\",\"can't\")\n",
    "        word = word.replace(\"its\",\"it's\")\n",
    "        word = word.replace(\"youre\",\"you're\")\n",
    "        word = word.replace(\"hes\",\"he's\")\n",
    "        word = word.replace(\"shes\",\"she's\")\n",
    "        word = word.replace(\"its\",\"it's\")\n",
    "        word = word.replace(\"weare\",\"we're\")\n",
    "        word = word.replace(\"theyre\",\"they're\")\n",
    "\n",
    "        # specific\n",
    "        word = re.sub(r\"won\\'t\", \"will not\", str(word))\n",
    "        word = re.sub(r\"can\\'t\", \"can not\", str(word))\n",
    "\n",
    "        # general\n",
    "        word = re.sub(r\"n\\'t\", \" not\", str(word))\n",
    "        word = re.sub(r\"\\'re\", \" are\", str(word))\n",
    "        word = re.sub(r\"\\'s\", \" is\", str(word))\n",
    "        word = re.sub(r\"\\'d\", \" would\", str(word))\n",
    "        word = re.sub(r\"\\'ll\", \" will\", str(word))\n",
    "        word = re.sub(r\"\\'t\", \" not\", str(word))\n",
    "        word = re.sub(r\"\\'ve\", \" have\", str(word))\n",
    "        word = re.sub(r\"\\'m\", \" am\", str(word))\n",
    "        result.append(word)\n",
    "    return result"
   ]
  },
  {
   "cell_type": "code",
   "execution_count": 16,
   "id": "5fdfb3c8-8e29-477b-8120-2f39099d7976",
   "metadata": {
    "execution": {
     "iopub.execute_input": "2025-09-24T02:28:28.095098Z",
     "iopub.status.busy": "2025-09-24T02:28:28.094792Z",
     "iopub.status.idle": "2025-09-24T02:28:28.098632Z",
     "shell.execute_reply": "2025-09-24T02:28:28.097706Z",
     "shell.execute_reply.started": "2025-09-24T02:28:28.095075Z"
    }
   },
   "outputs": [],
   "source": [
    "# Removing Special Characters\n",
    "def re_special_chars(text_list):\n",
    "    return [re.sub(\"[^a-zA-Z0-9]\",\" \",word) for word in text_list]"
   ]
  },
  {
   "cell_type": "markdown",
   "id": "f82f80c1-c896-4c12-9636-a32c92378309",
   "metadata": {},
   "source": [
    "#### Lemmatization"
   ]
  },
  {
   "cell_type": "code",
   "execution_count": 24,
   "id": "7131bf3a-ec16-4b48-ae46-a5ceb528b133",
   "metadata": {
    "execution": {
     "iopub.execute_input": "2025-09-24T02:28:28.511682Z",
     "iopub.status.busy": "2025-09-24T02:28:28.511395Z",
     "iopub.status.idle": "2025-09-24T02:28:30.073085Z",
     "shell.execute_reply": "2025-09-24T02:28:30.072286Z",
     "shell.execute_reply.started": "2025-09-24T02:28:28.511662Z"
    }
   },
   "outputs": [],
   "source": [
    "from nltk.stem import WordNetLemmatizer\n",
    "\n",
    "def lemmatize_text(text_list):\n",
    "    wnl = WordNetLemmatizer()\n",
    "    lemmatizer_sentence = []  \n",
    "    tokenizer=nltk.tokenize.WhitespaceTokenizer()\n",
    "    for word in tokenizer.tokenize(text_list):\n",
    "        lemmatizer_sentence.append(wnl.lemmatize(word,'v'))\n",
    "        lemmatizer_sentence.append(\" \")\n",
    "    \n",
    "    return(\"\".join(lemmatizer_sentence))"
   ]
  },
  {
   "cell_type": "markdown",
   "id": "e7b808b9-7320-48fb-8272-27d0424cadfa",
   "metadata": {},
   "source": [
    "#### Removing Stop Words"
   ]
  },
  {
   "cell_type": "code",
   "execution_count": 25,
   "id": "607bd88c-e994-4b4a-baaa-ee4b38c60dfc",
   "metadata": {
    "execution": {
     "iopub.execute_input": "2025-09-24T02:28:30.075296Z",
     "iopub.status.busy": "2025-09-24T02:28:30.074615Z",
     "iopub.status.idle": "2025-09-24T02:28:30.081919Z",
     "shell.execute_reply": "2025-09-24T02:28:30.080554Z",
     "shell.execute_reply.started": "2025-09-24T02:28:30.075258Z"
    }
   },
   "outputs": [],
   "source": [
    "import nltk\n",
    "from nltk.corpus import stopwords\n",
    "\n",
    "def stopwords_text(text_list):\n",
    "    stop = stopwords.words('english')\n",
    "    sentence_without = []\n",
    "    tokenizer=nltk.tokenize.WhitespaceTokenizer()\n",
    "    for word in tokenizer.tokenize(text_list):\n",
    "        if word not in stop:\n",
    "            sentence_without.append(word)\n",
    "            sentence_without.append(\" \")\n",
    "            \n",
    "    return(\"\".join(sentence_without))"
   ]
  },
  {
   "cell_type": "code",
   "execution_count": 26,
   "id": "4f6c66f7-da83-4dfb-8266-cf8b0af93896",
   "metadata": {
    "execution": {
     "iopub.execute_input": "2025-09-24T02:28:30.083304Z",
     "iopub.status.busy": "2025-09-24T02:28:30.082979Z",
     "iopub.status.idle": "2025-09-24T02:28:30.088140Z",
     "shell.execute_reply": "2025-09-24T02:28:30.087357Z",
     "shell.execute_reply.started": "2025-09-24T02:28:30.083273Z"
    }
   },
   "outputs": [],
   "source": [
    "def re_whitespaces(text_list): \n",
    "    result=[]\n",
    "    for word in text_list:\n",
    "        word=(re.sub(r'\\d','',str(word))) #remove numbers \n",
    "        word = (re.sub(r'\\s+',' ', str(word))) #remove duplicates white spacces\n",
    "        result.append(word)\n",
    "    return result"
   ]
  },
  {
   "cell_type": "code",
   "execution_count": 27,
   "id": "9797d64c-8947-4b15-a28a-b5dba9d08ca9",
   "metadata": {
    "execution": {
     "iopub.execute_input": "2025-09-24T02:28:30.090159Z",
     "iopub.status.busy": "2025-09-24T02:28:30.089575Z",
     "iopub.status.idle": "2025-09-24T02:28:30.134063Z",
     "shell.execute_reply": "2025-09-24T02:28:30.133013Z",
     "shell.execute_reply.started": "2025-09-24T02:28:30.090126Z"
    }
   },
   "outputs": [],
   "source": [
    "# Removing blank comments\n",
    "civil_df = civil_df[civil_df['comment_text']!='']"
   ]
  },
  {
   "cell_type": "markdown",
   "id": "58f07aac-83f9-41bb-b7d8-b6b4a835b374",
   "metadata": {},
   "source": [
    "### Pipeline"
   ]
  },
  {
   "cell_type": "code",
   "execution_count": 28,
   "id": "99157688-c426-45e1-8717-5e66b8d18c84",
   "metadata": {
    "execution": {
     "iopub.execute_input": "2025-09-24T02:28:30.135907Z",
     "iopub.status.busy": "2025-09-24T02:28:30.135662Z",
     "iopub.status.idle": "2025-09-24T02:28:30.144745Z",
     "shell.execute_reply": "2025-09-24T02:28:30.143960Z",
     "shell.execute_reply.started": "2025-09-24T02:28:30.135886Z"
    }
   },
   "outputs": [],
   "source": [
    "from sklearn.pipeline import Pipeline\n",
    "from sklearn.base import BaseEstimator, TransformerMixin"
   ]
  },
  {
   "cell_type": "code",
   "execution_count": 29,
   "id": "2a1648c1-61c6-4c5c-b413-f947e8c74fa1",
   "metadata": {
    "execution": {
     "iopub.execute_input": "2025-09-24T02:28:30.146074Z",
     "iopub.status.busy": "2025-09-24T02:28:30.145564Z",
     "iopub.status.idle": "2025-09-24T02:28:30.243601Z",
     "shell.execute_reply": "2025-09-24T02:28:30.242684Z",
     "shell.execute_reply.started": "2025-09-24T02:28:30.146042Z"
    }
   },
   "outputs": [
    {
     "name": "stderr",
     "output_type": "stream",
     "text": [
      "[nltk_data] Downloading package stopwords to\n",
      "[nltk_data]     /Users/karthikvishwanathraghavan/nltk_data...\n",
      "[nltk_data]   Package stopwords is already up-to-date!\n",
      "[nltk_data] Downloading package wordnet to\n",
      "[nltk_data]     /Users/karthikvishwanathraghavan/nltk_data...\n",
      "[nltk_data]   Package wordnet is already up-to-date!\n"
     ]
    },
    {
     "data": {
      "text/plain": [
       "True"
      ]
     },
     "execution_count": 29,
     "metadata": {},
     "output_type": "execute_result"
    }
   ],
   "source": [
    "import nltk\n",
    "nltk.download('stopwords')\n",
    "nltk.download('wordnet')"
   ]
  },
  {
   "cell_type": "code",
   "execution_count": 30,
   "id": "4f8a3d4d-fa1e-456b-a2d8-edb3ee4c35d0",
   "metadata": {
    "execution": {
     "iopub.execute_input": "2025-09-24T02:28:30.311203Z",
     "iopub.status.busy": "2025-09-24T02:28:30.310898Z",
     "iopub.status.idle": "2025-09-24T02:28:30.320524Z",
     "shell.execute_reply": "2025-09-24T02:28:30.316376Z",
     "shell.execute_reply.started": "2025-09-24T02:28:30.311180Z"
    }
   },
   "outputs": [],
   "source": [
    "# Class for regular expressions application\n",
    "class ApplyRegex(BaseEstimator, TransformerMixin):\n",
    "    \n",
    "    def __init__(self, regex_transformers):\n",
    "        self.regex_transformers = regex_transformers\n",
    "        \n",
    "    def fit(self, X, y=None):\n",
    "        return self\n",
    "    \n",
    "    def transform(self, X, y=None):\n",
    "        # Applying all regex functions in the regex_transformers dictionary\n",
    "        for regex_name, regex_function in self.regex_transformers.items():\n",
    "            X = regex_function(X)\n",
    "            \n",
    "        return X"
   ]
  },
  {
   "cell_type": "code",
   "execution_count": 31,
   "id": "b97cb8bb-b449-4ec8-a2e9-a7d6900aa845",
   "metadata": {
    "execution": {
     "iopub.execute_input": "2025-09-24T02:28:30.852212Z",
     "iopub.status.busy": "2025-09-24T02:28:30.851913Z",
     "iopub.status.idle": "2025-09-24T02:28:30.857933Z",
     "shell.execute_reply": "2025-09-24T02:28:30.856541Z",
     "shell.execute_reply.started": "2025-09-24T02:28:30.852191Z"
    }
   },
   "outputs": [],
   "source": [
    "class StopWordsRemoval(BaseEstimator, TransformerMixin):\n",
    "    \n",
    "    def __init__(self, text_stopwords):\n",
    "        self.text_stopwords = text_stopwords\n",
    "    def fit(self, X, y=None):\n",
    "        return self\n",
    "    def transform(self, X, y=None):\n",
    "        return [self.text_stopwords(comment) for comment in X]"
   ]
  },
  {
   "cell_type": "code",
   "execution_count": 32,
   "id": "baa9e9ff-b733-416f-97d3-4fec7ee67910",
   "metadata": {
    "execution": {
     "iopub.execute_input": "2025-09-24T02:28:31.163387Z",
     "iopub.status.busy": "2025-09-24T02:28:31.163078Z",
     "iopub.status.idle": "2025-09-24T02:28:31.168103Z",
     "shell.execute_reply": "2025-09-24T02:28:31.167113Z",
     "shell.execute_reply.started": "2025-09-24T02:28:31.163365Z"
    }
   },
   "outputs": [],
   "source": [
    "class LemmatizeProcess(BaseEstimator, TransformerMixin):\n",
    "    \n",
    "    def __init__(self, Lemmatize):\n",
    "        self.Lemmatizer = Lemmatize\n",
    "    \n",
    "    def fit(self, X, y=None):\n",
    "        return self\n",
    "    \n",
    "    def transform(self, X, y=None):\n",
    "        return [self.Lemmatizer(comment) for comment in X]"
   ]
  },
  {
   "cell_type": "code",
   "execution_count": 33,
   "id": "7be611fb-a16a-41cc-ac03-b10e45943397",
   "metadata": {
    "execution": {
     "iopub.execute_input": "2025-09-24T02:29:35.942656Z",
     "iopub.status.busy": "2025-09-24T02:29:35.942364Z",
     "iopub.status.idle": "2025-09-24T02:29:35.946862Z",
     "shell.execute_reply": "2025-09-24T02:29:35.945861Z",
     "shell.execute_reply.started": "2025-09-24T02:29:35.942634Z"
    }
   },
   "outputs": [],
   "source": [
    "# Defining regex transformers to be applied\n",
    "regex_transformers = {\n",
    "    'remove_tags': re_tags,\n",
    "    'remove_accents': re_accented_char,\n",
    "    'decontracted': ex_contractions,\n",
    "    're_sc': re_special_chars,\n",
    "    'whitespaces': re_whitespaces\n",
    "}\n",
    "\n",
    "# Building a text prep pipeline\n",
    "text_prep_pipeline = Pipeline([\n",
    "    ('regex', ApplyRegex(regex_transformers)),\n",
    "    ('stopwords', StopWordsRemoval(stopwords_text)),\n",
    "    ('lemmatize', LemmatizeProcess(lemmatize_text)),\n",
    "])"
   ]
  },
  {
   "cell_type": "code",
   "execution_count": 34,
   "id": "7abf823e-395c-49a7-8ba3-d860bd057318",
   "metadata": {
    "execution": {
     "iopub.execute_input": "2025-09-24T02:31:35.103833Z",
     "iopub.status.busy": "2025-09-24T02:31:35.103548Z",
     "iopub.status.idle": "2025-09-24T02:31:35.290802Z",
     "shell.execute_reply": "2025-09-24T02:31:35.289822Z",
     "shell.execute_reply.started": "2025-09-24T02:31:35.103813Z"
    }
   },
   "outputs": [
    {
     "data": {
      "application/vnd.microsoft.datawrangler.viewer.v0+json": {
       "columns": [
        {
         "name": "index",
         "rawType": "int64",
         "type": "integer"
        },
        {
         "name": "uid",
         "rawType": "int64",
         "type": "integer"
        },
        {
         "name": "id",
         "rawType": "int64",
         "type": "integer"
        },
        {
         "name": "comment_text",
         "rawType": "object",
         "type": "string"
        },
        {
         "name": "toxicity",
         "rawType": "int64",
         "type": "integer"
        },
        {
         "name": "has_active_attrs",
         "rawType": "bool",
         "type": "boolean"
        },
        {
         "name": "active_attrs",
         "rawType": "object",
         "type": "unknown"
        },
        {
         "name": "male",
         "rawType": "int64",
         "type": "integer"
        },
        {
         "name": "female",
         "rawType": "int64",
         "type": "integer"
        },
        {
         "name": "LGBTQ",
         "rawType": "int64",
         "type": "integer"
        },
        {
         "name": "christian",
         "rawType": "int64",
         "type": "integer"
        },
        {
         "name": "muslim",
         "rawType": "int64",
         "type": "integer"
        },
        {
         "name": "other_religions",
         "rawType": "int64",
         "type": "integer"
        },
        {
         "name": "black",
         "rawType": "int64",
         "type": "integer"
        },
        {
         "name": "white",
         "rawType": "int64",
         "type": "integer"
        },
        {
         "name": "identity_any",
         "rawType": "int64",
         "type": "integer"
        },
        {
         "name": "severe_toxicity",
         "rawType": "int64",
         "type": "integer"
        },
        {
         "name": "obscene",
         "rawType": "int64",
         "type": "integer"
        },
        {
         "name": "threat",
         "rawType": "int64",
         "type": "integer"
        },
        {
         "name": "insult",
         "rawType": "int64",
         "type": "integer"
        },
        {
         "name": "identity_attack",
         "rawType": "int64",
         "type": "integer"
        },
        {
         "name": "sexual_explicit",
         "rawType": "int64",
         "type": "integer"
        }
       ],
       "ref": "c1e39111-04f3-4d44-80d7-1bf2312feaea",
       "rows": [
        [
         "0",
         "277992",
         "865178",
         "I'm guessing your a woman and you appear to be running away from yourself with all the foolish garble you're posting.  Give it a rest and study the Bible a lot more.  Your biblical understanding just might set you free from bigot thoughts of your community and neighbors.",
         "1",
         "True",
         "['female' 'christian']",
         "0",
         "1",
         "0",
         "1",
         "0",
         "0",
         "0",
         "0",
         "1",
         "0",
         "0",
         "0",
         "0",
         "0",
         "0"
        ],
        [
         "1",
         "22783",
         "5648086",
         "Your \"you can't even give us an exact date for St Cyril's birth\" is simply you being ignorant. Putting a question mark after someone's birth or death date simply says that the date is unknown. It should not surprise anyone that birth records from 4th century Egypt don't exist.\n\nCyril's life and character are both well known. As a young man, he participated in the railroading of John Chyrsostom, to distract people from charges of fiscal mismanagement by his uncle Theophilus. He deliberately misstated the views of Nestorius, and did not give Nestorius a proper chance to defend himself at Ephesus (and excluded John of Antioch for coming a day late to the council). He expelled the Jews from Alexandria. He incited the mob who lynched Hypatia, the head of the Neo-Platonist school.\n\nAll of these are well known to anyone who has studied Church history.",
         "1",
         "True",
         "['male' 'other_religions']",
         "1",
         "0",
         "0",
         "0",
         "0",
         "1",
         "0",
         "0",
         "1",
         "0",
         "0",
         "0",
         "0",
         "0",
         "0"
        ],
        [
         "2",
         "20244",
         "5287400",
         "Yup.  Once Alaskans saw what the republican alternative to the ACA looked like, the plan that Don Young voted for (he was one of the deciding votes), and the freak show that Trump is delivering us, they woke up.",
         "0",
         "False",
         "[]",
         "0",
         "0",
         "0",
         "0",
         "0",
         "0",
         "0",
         "0",
         "0",
         "0",
         "0",
         "0",
         "0",
         "0",
         "0"
        ],
        [
         "3",
         "315203",
         "5946831",
         "Huh? is that stop and go for an hour on the freeway? and when your car stops=no power, how do you get it to go when stranded on the road? Oh... that's right the electric unicorn fairy will appear.\nI have only run out of gas once in my life, but the \"save\" was a simple gallon container of gas.",
         "0",
         "False",
         "[]",
         "0",
         "0",
         "0",
         "0",
         "0",
         "0",
         "0",
         "0",
         "0",
         "0",
         "0",
         "0",
         "0",
         "0",
         "0"
        ],
        [
         "4",
         "70481",
         "546025",
         "Well said Sir!",
         "0",
         "False",
         "[]",
         "0",
         "0",
         "0",
         "0",
         "0",
         "0",
         "0",
         "0",
         "0",
         "0",
         "0",
         "0",
         "0",
         "0",
         "0"
        ],
        [
         "5",
         "332911",
         "5996570",
         "Great story in a book by one of the Clinton's former security detail.  They were at a political gathering and Bill was over being his charming self to a young gorgeous woman.  Hillary yelled at him, \"Damnit, Bill!  Put your d*** back in your pants.  You can't f*** her here.\"\n\nCan't say Hillary didn't have a sense of propriety.",
         "1",
         "True",
         "['female']",
         "0",
         "1",
         "0",
         "0",
         "0",
         "0",
         "0",
         "0",
         "1",
         "0",
         "1",
         "0",
         "0",
         "0",
         "1"
        ],
        [
         "6",
         "384925",
         "5151516",
         "BLM should be kicked out of Pride and march alone in Chicago in a hail of black on black gun battles. The cops were good sports to take part and Pride allowed black racists to hijack them-cowards !!",
         "1",
         "True",
         "['black']",
         "0",
         "0",
         "0",
         "0",
         "0",
         "0",
         "1",
         "0",
         "1",
         "0",
         "0",
         "0",
         "1",
         "1",
         "0"
        ],
        [
         "7",
         "265662",
         "5825583",
         "Imagine the fury if Trump said this about Clinton.  Media and Liberal heads would explode.  Personally, I'd count my fingers after shaking that woman's hand, and for sure I'd wash them after shaking Bill's. \n\nWith Lysol.",
         "0",
         "True",
         "['female']",
         "0",
         "1",
         "0",
         "0",
         "0",
         "0",
         "0",
         "0",
         "1",
         "0",
         "0",
         "0",
         "0",
         "0",
         "0"
        ],
        [
         "8",
         "390877",
         "6325290",
         "Are you saying there is no single 'factual' version to see?    We can see different perspectives of the same events and get very different interpretations.     Am I close?    \n\nI see no reason to be defensive about having a more complete understanding of the various view points.",
         "0",
         "False",
         "[]",
         "0",
         "0",
         "0",
         "0",
         "0",
         "0",
         "0",
         "0",
         "0",
         "0",
         "0",
         "0",
         "0",
         "0",
         "0"
        ],
        [
         "9",
         "225168",
         "5865242",
         "Maybe the fault isn't yours.   Maybe the truth of the situation can be found in looking at racism in another minority group -- Asians.\n\nThink about why we don't have Asians marching with banners that say \"Asian Lives Matter,\" or an Asian Jessie Jackson or Al Sharpton.    Asians obviously overcame whatever racial barriers were in their way.   Not merely overcame them, totally destroyed them to where Asians are kept out of colleges because so many of them outperform everyone else.\n\nYes, maybe the fault isn't yours.   Maybe you've been sold a story that (purposefully) has no happy ending.",
         "0",
         "False",
         "[]",
         "0",
         "0",
         "0",
         "0",
         "0",
         "0",
         "0",
         "0",
         "1",
         "0",
         "0",
         "0",
         "0",
         "0",
         "0"
        ],
        [
         "10",
         "350600",
         "371305",
         "Everyone here has nothing but their biased opinions to offer on the topic. That's the joy of internet forums - we can all reinforce our own biases and ridicule those biases of everyone else.",
         "0",
         "False",
         "[]",
         "0",
         "0",
         "0",
         "0",
         "0",
         "0",
         "0",
         "0",
         "0",
         "0",
         "0",
         "0",
         "0",
         "0",
         "0"
        ],
        [
         "11",
         "325931",
         "5837246",
         "Hear, hear! A welcome voice of reason in response to this truly bizarre proposal. I am so tired of all this revisionist history nonsense.  At page 5 of her wonderful book, \"The March of Folly\", the great American historian Barbara Tuchman quoted with approval an English historian who wrote: \"Nothing is more unfair than to judge men of the past by the ideas of the present.\" I hate to imitate Donald Trump's phraseology (the man is \"folly\" personified), but there is currently a lot of \"fake history\" being disseminated out there, and I encourage everyone (but especially Ontario's elementary school teachers) to read as much history on their own as possible (including Tuchman and  Canada's Margaret MacMiillan), in order to come to their own historical conclusions, and then be in a better position to more \"fairly judge\" the reasoning for past government policies. Let's not give in to righteous moral bullies who want to impose their simplistic worldview on everyone else.",
         "0",
         "True",
         "['male']",
         "1",
         "0",
         "0",
         "0",
         "0",
         "0",
         "0",
         "0",
         "1",
         "0",
         "0",
         "0",
         "0",
         "0",
         "0"
        ],
        [
         "12",
         "71356",
         "524021",
         "Well Roger you are right we have had womanizers that were presidents. What Trump talks about is not womanizing it is sexual assault. There is a huge difference in affairs than assaulting women.",
         "0",
         "True",
         "['female']",
         "0",
         "1",
         "0",
         "0",
         "0",
         "0",
         "0",
         "0",
         "1",
         "0",
         "0",
         "0",
         "0",
         "0",
         "0"
        ],
        [
         "13",
         "97018",
         "904200",
         "This is either clickbait, or Ms. Mclaren has some serious emotional problems. Personally, I don't know what's she's talking about; I see dads praised here and there, but certainly not as much as she claims. Actually, the thing I see the most is dads always portayed as clueless boobs on TV commercials, while mom effortlessly saves the day.",
         "0",
         "False",
         "[]",
         "0",
         "0",
         "0",
         "0",
         "0",
         "0",
         "0",
         "0",
         "0",
         "0",
         "0",
         "0",
         "0",
         "0",
         "0"
        ],
        [
         "14",
         "154666",
         "353965",
         "So, if they come up with a budget that DOESN'T touch the PFD, what do you think Walker will do?  And then who do we get at?  I'm not waiting that long.  Walker has made himself clear.  I blame him.  (Can't say I'm happy with some of the legislators, either, Democrat and Republican alike.)",
         "0",
         "False",
         "[]",
         "0",
         "0",
         "0",
         "0",
         "0",
         "0",
         "0",
         "0",
         "0",
         "0",
         "0",
         "0",
         "0",
         "0",
         "0"
        ],
        [
         "15",
         "408803",
         "5446676",
         "Admitting that you are a cheapskate rarely comes with so much attitude!",
         "1",
         "False",
         "[]",
         "0",
         "0",
         "0",
         "0",
         "0",
         "0",
         "0",
         "0",
         "0",
         "0",
         "0",
         "0",
         "1",
         "0",
         "0"
        ],
        [
         "16",
         "131376",
         "662614",
         "The Lateran Councils did not establish antisemitism as official policy.\n\nThat’s what happens when the Magisterium and non-magisterial disciplines are filtered through a process that can’t distinguish the Magisterium from a Magnavox, DIGO; Data in, Garbage out.\n\nAnd once again the adjective “ignorant” - it is always a treat to read your comments.",
         "1",
         "False",
         "[]",
         "0",
         "0",
         "0",
         "0",
         "0",
         "0",
         "0",
         "0",
         "0",
         "0",
         "0",
         "0",
         "1",
         "0",
         "0"
        ],
        [
         "17",
         "220072",
         "5085503",
         "Most of those who take the bus or later the train are people who can not afford an electric vehicle and consequently take the train/bus.",
         "0",
         "False",
         "[]",
         "0",
         "0",
         "0",
         "0",
         "0",
         "0",
         "0",
         "0",
         "0",
         "0",
         "0",
         "0",
         "0",
         "0",
         "0"
        ],
        [
         "18",
         "121078",
         "5482041",
         "The issue at hand is not discrimination against a person, it is against an event.  The baker did not refuse to serve the gay couple; he refused to make a cake for an event celebrating an event which goes against his beliefs.  Had the couple ordered a birthday cake, or a generic cake, or ordered a wedding cake for their straight friend, the cake would have been made because it was not the couple being discriminated against; it was the event.  \n\nCan a black baker refuse to make a birthday cake for a KKK grand dragon?  Can a black baker refuse to make a cake celebrating a KKK anniversary?  \n\nCan a Jewish baker refuse service to a neo-Nazi?  Can a Jewish baker refuse to make a cake for a neo-Nazi protest rally?  \n\nCan a liberal baker refuse to make a cake for a conservative politician?  Can a liberal baker refuse to make a cake for the Donald Trump inaugural celebration?",
         "0",
         "True",
         "['LGBTQ' 'other_religions' 'black']",
         "0",
         "0",
         "1",
         "0",
         "0",
         "1",
         "1",
         "0",
         "1",
         "0",
         "0",
         "0",
         "0",
         "0",
         "0"
        ],
        [
         "19",
         "22269",
         "1071234",
         "Your comment is libellous.  There is NO evidence that intercourse occurred, or that the woman was \"totally\" drunk if it did, or at what point she urinated.",
         "1",
         "True",
         "['female']",
         "0",
         "1",
         "0",
         "0",
         "0",
         "0",
         "0",
         "0",
         "1",
         "0",
         "0",
         "0",
         "0",
         "0",
         "1"
        ],
        [
         "20",
         "384663",
         "6014290",
         "BTW, Nixon was already under investigation in 1971 for other alledged crimes (I voted for him, so I didn't want to believe any of it).  Which morphed into additional investigations, which culminated in Watergate and his resignation in 1974.  So, while the Watergate investigation was just a hair over two yrs from start to finish -- the totality of investigations into Nixon and his family took 3+ years.\n\nI would hope that younger people know to put the focus on the rest of the words Nixon used.  The \"bad words\" of the 70's did not get him impeached.",
         "0",
         "False",
         "[]",
         "0",
         "0",
         "0",
         "0",
         "0",
         "0",
         "0",
         "0",
         "0",
         "0",
         "0",
         "0",
         "0",
         "0",
         "0"
        ],
        [
         "21",
         "246502",
         "5889500",
         "It's way overdue for the U.S. to withdraw from the hapless, ineffective United Nations and kick them out of the U.S.  Their numerous toothless Security Council resolutions have done nothing to reduce the North Korean threat while China and Russia continue to discreetly support their North Korean ally and Kim Jong Un and the North Koreans laugh at yet another ineffective Security Council resolution.\n\nIf China really wanted to, they could stop North Korea, but they have deliberately chosen not to.\n\nTime to give both Japan and South Korea their own nuclear weapons to restore the balance of power in the region.",
         "0",
         "False",
         "[]",
         "0",
         "0",
         "0",
         "0",
         "0",
         "0",
         "0",
         "0",
         "0",
         "0",
         "0",
         "0",
         "0",
         "0",
         "0"
        ],
        [
         "22",
         "186292",
         "5730509",
         "Pence would be smart to carve out his own political identity.  There's at least an even chance that Trump may well be the first sitting president in our lifetime not to be nominated to run for a second term.",
         "0",
         "False",
         "[]",
         "0",
         "0",
         "0",
         "0",
         "0",
         "0",
         "0",
         "0",
         "0",
         "0",
         "0",
         "0",
         "0",
         "0",
         "0"
        ],
        [
         "23",
         "207278",
         "5107355",
         "No, the question is what was Jesus doing by re-calibrating and upping their (clearly to Jesus) deficient understanding of marriage?\n\nHe was calling for an even greater response from husband and wife.  Totality of gift. Kenosis.\n\nAll their heart, mind, soul, and strength.  Self-emptying love, as on a Cross.  Happily so too!\n\nA mind blowing love, sort of like God's love for us.   \"Beyond reason\".",
         "0",
         "True",
         "['female']",
         "0",
         "1",
         "0",
         "0",
         "0",
         "0",
         "0",
         "0",
         "1",
         "0",
         "0",
         "0",
         "0",
         "0",
         "0"
        ],
        [
         "24",
         "100372",
         "510037",
         "This a beautiful time of the year.....Embrace it!",
         "0",
         "False",
         "[]",
         "0",
         "0",
         "0",
         "0",
         "0",
         "0",
         "0",
         "0",
         "0",
         "0",
         "0",
         "0",
         "0",
         "0",
         "0"
        ],
        [
         "25",
         "68050",
         "5481347",
         "Well, there goes the Santa Claus Parade.  There's a fat, old, white guy  (body shaming , ageist, no diversity or gender equality) with a sled full of goodies (rampant capitalism) holding reins attached to reindeer (PETA will love that!) and accompanied by elves ( unpaid labour - attention unions!) handing out candies ( unhealthy!) and marching bands (very militaristic) playing Christmas songs ( What? That's Holiday Music, if you please!) and all the while, Santa is yelling '' Ho, Ho, Ho ! Merry Christmas! ( unilingual, and politically incorrect on so many levels.) And all those floats...do you know how much GHG's those things spew out? \nMight as well shut it down now.",
         "1",
         "True",
         "['white']",
         "0",
         "0",
         "0",
         "0",
         "0",
         "0",
         "0",
         "1",
         "1",
         "0",
         "0",
         "0",
         "1",
         "0",
         "0"
        ],
        [
         "26",
         "60426",
         "6130095",
         "What's next is that white guy gonna make those brothers run across fields chasing pig skins while beating each other to a pulp? That old white Texan is just cruel.",
         "1",
         "True",
         "['male' 'white']",
         "1",
         "0",
         "0",
         "0",
         "0",
         "0",
         "0",
         "1",
         "1",
         "0",
         "0",
         "0",
         "1",
         "1",
         "0"
        ],
        [
         "27",
         "355536",
         "817607",
         "Don, your detractors spent the last 35 years DEMANDING assent to every word uttered by the Pope. It was for them the hallmark of whether you were a 'proper' Catholic or not. Indeed, we would have been led to believe that the sum total of scripture was one verse - Thou art Peter... It was quoted without end and was the bedrock of every view these people expressed.\n\nIt is singularly the biggest mystery to befall the Church in the last three years how that particular scripture text has suddenly disappeared into the ether, airbrushed out as if it had never been there in the first place.\n\nIt continues to be a source of tremendous mirth for many of us to watch them bleat about the inerrancy of tradition and scripture when they themselves dropped their flagship text so easily. Now their latest fad is to pounce on a text about marriage/divorce. Having proved their spiritual shallowness, why should anyone listen to a word they have to say?",
         "0",
         "True",
         "['christian']",
         "0",
         "0",
         "0",
         "1",
         "0",
         "0",
         "0",
         "0",
         "1",
         "0",
         "0",
         "0",
         "0",
         "0",
         "0"
        ],
        [
         "28",
         "276866",
         "5622795",
         "I'm not surprised that  the Star Ad. is giving this atrocity scant notice.\nIf however, the cop was white, and the pajama clad was black.\nCan you imagine the hue and cry?  \nCars would burn baby burn...",
         "1",
         "True",
         "['black' 'white']",
         "0",
         "0",
         "0",
         "0",
         "0",
         "0",
         "1",
         "1",
         "1",
         "0",
         "0",
         "0",
         "0",
         "0",
         "0"
        ],
        [
         "29",
         "140063",
         "5594357",
         "That fails to account for the year-to-year increases that were similar, before this report.",
         "0",
         "False",
         "[]",
         "0",
         "0",
         "0",
         "0",
         "0",
         "0",
         "0",
         "0",
         "0",
         "0",
         "0",
         "0",
         "0",
         "0",
         "0"
        ],
        [
         "30",
         "66688",
         "285562",
         "What a D-Bag review.  But it's typical in a city that is terminally ill with a perpetual case of hipster malaise.  Only in Portland would a soulful, sincere and genuine rocker like Bruce get the \"what have you done for us lately\" treatment.  The band is tight and the energy they provided is a much-needed reminder of how it's done.  The River, for those who get it, is an album that covers a lot of ground: from teenage missteps, to fear and doubt, all the way to plain old \"fuck you, it's Friday\" rock n roll.  I've seen the man a dozen times (most recently the Seattle show right after the Portland show) and he killed it.  The energy from the crowd was off the charts despite a muddy sound system and he put on one of his finest shows: non-stop, joyful, deep and of course, moving.  Eddie Vedder joined them onstage and they looked like teenagers up there just enjoying being a part of our night.  Bruce is a throwback who still has a lot to offer those willing to truly listen.",
         "1",
         "True",
         "['male']",
         "1",
         "0",
         "0",
         "0",
         "0",
         "0",
         "0",
         "0",
         "1",
         "0",
         "0",
         "0",
         "0",
         "0",
         "0"
        ],
        [
         "31",
         "398419",
         "978631",
         "And other news from Paris\nFrench counter-terror police 'foil planned suicide attack at Paris tourist spot'\n\nThe male suspects were reportedly aged 21, 27, 34. Police also arrested a 16-year-old girl who was known to police for having expressed a desire to travel to Syria. She had reportedly pledged allegiance to the terror group Isis.\n\nThe couple had planned to have an Islamic marriage before Thomas carried out the suicide bombing.",
         "0",
         "False",
         "[]",
         "0",
         "0",
         "0",
         "0",
         "0",
         "0",
         "0",
         "0",
         "0",
         "0",
         "0",
         "0",
         "0",
         "0",
         "0"
        ],
        [
         "32",
         "282300",
         "5948476",
         "I wonder if there's a fallacy when one dismisses kkk, skinheads, white nationalists etc as \"...not true christians\"\nwhile at the same time putting every single Muslim into the category of terrorist?",
         "1",
         "True",
         "['christian' 'muslim' 'white']",
         "0",
         "0",
         "0",
         "1",
         "1",
         "0",
         "0",
         "1",
         "1",
         "0",
         "0",
         "0",
         "0",
         "1",
         "0"
        ],
        [
         "33",
         "324180",
         "5115778",
         "Here's another reason for not voting, there's no politician worth voting for their all a bunch of damn liers.\nDaaaaa\nTHE TRUTH HURTS",
         "1",
         "False",
         "[]",
         "0",
         "0",
         "0",
         "0",
         "0",
         "0",
         "0",
         "0",
         "0",
         "0",
         "1",
         "0",
         "1",
         "0",
         "0"
        ],
        [
         "34",
         "241332",
         "6196536",
         "Just found this.   It's Fox News so it's about as non critical as I could find.   I thought it covered the basic of the Wall questions pretty well.    \n\nI can't imagine the wall the RG showed today, stretched across the visable horizon?    It would feel like you were in prison, not that the immigrants were kept out.   *As a person concerned with environment issues, it's likely to screw with a lot of natural migrations patterns I would think,(but maybe they have 'crossings' planned?)\n\nOne thing we know, there will NOT be a physical wall along the entire boarder, so if you hear that claim from somebody you can tell them they are wrong.\n\nhttp://www.foxnews.com/politics/2017/10/19/first-look-at-8-prototypes-trumps-big-beautiful-border-wall.html",
         "0",
         "False",
         "[]",
         "0",
         "0",
         "0",
         "0",
         "0",
         "0",
         "0",
         "0",
         "0",
         "0",
         "0",
         "0",
         "0",
         "0",
         "0"
        ],
        [
         "35",
         "68934",
         "440547",
         "Well, first off, 15 years ago, you could get robbed on the streets of PA. It was rare, as it is now. \n\nYou have to understand what these people are complaining about. They live in town, and are fussy because there are a few RVs on the streets. People visiting family for the summer. Things like that. \n\nAnd you have to understand that this is only about how nice these RVs are. If they were full-paint diesel pushers, they would have no problem at all. Even if they sold drugs, really. \n\nThey need to move to a development with a covenant. No one asked them to live in town. \n\nAnd they never saw anyone sell drugs. That's not how it works. People have been selling drugs right under their nose for their whole lives. They don't know. \n\nThese people were around and fussy 15 years ago too. \n\nSo, ya, come to PA. Not much has changed.",
         "0",
         "False",
         "[]",
         "0",
         "0",
         "0",
         "0",
         "0",
         "0",
         "0",
         "0",
         "0",
         "0",
         "0",
         "0",
         "0",
         "0",
         "0"
        ],
        [
         "36",
         "86197",
         "5709501",
         "Truly an ignorant statement from a pro biker who is not willing to pay their fair share or anything more actually.\n\nFrom page 19 it states bike riders take up less room than cars, or do not impact the roads as much. Biased writing, but not what we are talking about. You want bike lanes which remove car lanes, you need to pay for them. The NIMBY is strong with the bike riders who love taxing others, but are afraid of what it could do to them personally.",
         "1",
         "False",
         "[]",
         "0",
         "0",
         "0",
         "0",
         "0",
         "0",
         "0",
         "0",
         "0",
         "0",
         "0",
         "0",
         "1",
         "0",
         "0"
        ],
        [
         "37",
         "396971",
         "535636",
         "And unemployment was 7% in 1990 and 5% in 1975. \n\nSo you don't have a point.\n\nSpeaking of conservative garbage...",
         "1",
         "False",
         "[]",
         "0",
         "0",
         "0",
         "0",
         "0",
         "0",
         "0",
         "0",
         "0",
         "0",
         "0",
         "0",
         "1",
         "0",
         "0"
        ],
        [
         "38",
         "222903",
         "899501",
         "Micheal: It's great the \"consistency\" stereotypes that are allowed to be challenged here...you'll find rare birds who think like you about the priesthood...you'll find rare birds who are pro-contraception and anti-abortion...you'll find rare birds who believe in last week's and this week's marches in DC...you'll find rare birds who are pro-family and pro-gay rights...you'll find rare birds who support their parish priests but not their bishop...you'll find rare birds who went to Catholic colleges and believe in public education...you'll find rare birds who believe in the glories of celibacy and the glories of married clergy...you'll find rare birds who think both the liturgy and sex are gifts to be embraced with gusto...you'll find rare birds who recall Catholic school with laughter and with tears...most of all, you'll find rare birds who are mindful of the needs of others and needful of the minds of others.",
         "0",
         "True",
         "['LGBTQ' 'christian']",
         "0",
         "0",
         "1",
         "1",
         "0",
         "0",
         "0",
         "0",
         "1",
         "0",
         "0",
         "0",
         "0",
         "0",
         "0"
        ],
        [
         "39",
         "232287",
         "5378642",
         "Like father like son.  Trudeau oh so eager to mollify his communist heroes.  I'll roll over and you can scratch my tummy, I'm a good little puppy.  You have to be really really stupid, or deluded, not to recognize the threat China presents to the west.  The South China Sea is only the tip of the iceberg, just ask China's neighbors.  China  wants lebensraum, and one way to ensure it is to safeguard their military by buying western technology.  So easy, they don't even have to steal it, just buy it from willing dupe countries.",
         "1",
         "False",
         "[]",
         "0",
         "0",
         "0",
         "0",
         "0",
         "0",
         "0",
         "0",
         "0",
         "0",
         "0",
         "0",
         "1",
         "0",
         "0"
        ],
        [
         "40",
         "334066",
         "6048900",
         "Gotta be able to talk to the perps and the TMT Protectors.",
         "0",
         "False",
         "[]",
         "0",
         "0",
         "0",
         "0",
         "0",
         "0",
         "0",
         "0",
         "0",
         "0",
         "0",
         "0",
         "0",
         "0",
         "0"
        ],
        [
         "41",
         "140878",
         "5770396",
         "Thanks to Christy and Billy we needlessly got stuck with this useless guy. Horgan is honest.",
         "1",
         "False",
         "[]",
         "0",
         "0",
         "0",
         "0",
         "0",
         "0",
         "0",
         "0",
         "0",
         "0",
         "0",
         "0",
         "1",
         "0",
         "0"
        ],
        [
         "42",
         "225",
         "971023",
         "“Women should never be used as political cover”\n----------------------------------------------------------------\n\nI sense a little paranoia in the author’s premise that women are deliberately chosen as sacrificial lambs to deliver bad news. There’s a reason why we have traditionally called them “fall guys”........ because they are usually GUYS.",
         "0",
         "True",
         "['male' 'female']",
         "1",
         "1",
         "0",
         "0",
         "0",
         "0",
         "0",
         "0",
         "1",
         "0",
         "0",
         "0",
         "0",
         "0",
         "0"
        ],
        [
         "43",
         "402880",
         "5404569",
         "Also, according to you legality doesn't matter, it's  how you identify.  Then why in the heck has gay marriage been such an all-consuming huge issue?  If heterosexual marriage isn't important, why is gay marriage?",
         "1",
         "True",
         "['LGBTQ']",
         "0",
         "0",
         "1",
         "0",
         "0",
         "0",
         "0",
         "0",
         "1",
         "0",
         "0",
         "0",
         "0",
         "1",
         "0"
        ],
        [
         "44",
         "353136",
         "5808095",
         "Either broaden or update:\n\"Since Donald Trump won the Presidential election, there has been a dramatic uptick in incidents of racist and xenophobic harassment across the country. The Southern Poverty Law Center has reported that there were four hundred and thirty-seven incidents of intimidation between the election, on November 8th, and November 14th, targeting blacks and other people of color, Muslims, immigrants, the L.G.B.T. community, and women.\"\nhttp://www.newyorker.com/news/news-desk/hate-on-the-rise-after-trumps-election",
         "0",
         "True",
         "['female' 'muslim' 'black']",
         "0",
         "1",
         "0",
         "0",
         "1",
         "0",
         "1",
         "0",
         "1",
         "0",
         "0",
         "0",
         "0",
         "0",
         "0"
        ],
        [
         "45",
         "2554",
         "433060",
         "yeah because I'm sure rappers at the state fair rake in thousands! stfu! he most likely got kicked out for flipping the bird at a family venue! no black or white racism crap!",
         "1",
         "True",
         "['black' 'white']",
         "0",
         "0",
         "0",
         "0",
         "0",
         "0",
         "1",
         "1",
         "1",
         "0",
         "0",
         "0",
         "1",
         "1",
         "0"
        ],
        [
         "46",
         "75466",
         "281175",
         "Way to make friends with your new neighbors. What a horrible human being. I'm sure your family is very proud that you saved them from a charging grizzly, oops I mean old Labrador. What a wimp!!!!",
         "1",
         "False",
         "[]",
         "0",
         "0",
         "0",
         "0",
         "0",
         "0",
         "0",
         "0",
         "0",
         "0",
         "0",
         "0",
         "1",
         "0",
         "0"
        ],
        [
         "47",
         "6792",
         "5218450",
         "take a hike liberal troll, a piece of toast would be a better leader than wynne and worth voting for if it means ridding ontario of her",
         "1",
         "False",
         "[]",
         "0",
         "0",
         "0",
         "0",
         "0",
         "0",
         "0",
         "0",
         "0",
         "0",
         "0",
         "0",
         "1",
         "0",
         "0"
        ],
        [
         "48",
         "313636",
         "583105",
         "I agree with most of what's been posted except I don't think Ms. Shurtz made a mistake. The error is on the part of those expressing \"outrage\"(a grossly overused word today). In my opinion, they're reacting to something that didn't exist at the time Ms. Shurtz donned the black face and the white robe. I consider this a form of insanity; reacting in the present to something similar that happened in the past.\nHad she acted in a way that stereotyped blacks as others have in the past, who donned black face in theatrics, for instance, that would have been cause for public and professional outcry.",
         "0",
         "True",
         "['black' 'white']",
         "0",
         "0",
         "0",
         "0",
         "0",
         "0",
         "1",
         "1",
         "1",
         "0",
         "0",
         "0",
         "0",
         "0",
         "0"
        ],
        [
         "49",
         "164937",
         "519928",
         "She has threatened and intimidated women who were raped by Bill to keep their mouths shut. Don't call something a lie when it's a known fact.",
         "1",
         "True",
         "['female']",
         "0",
         "1",
         "0",
         "0",
         "0",
         "0",
         "0",
         "0",
         "1",
         "0",
         "0",
         "0",
         "0",
         "0",
         "1"
        ]
       ],
       "shape": {
        "columns": 21,
        "rows": 65343
       }
      },
      "text/html": [
       "<div>\n",
       "<style scoped>\n",
       "    .dataframe tbody tr th:only-of-type {\n",
       "        vertical-align: middle;\n",
       "    }\n",
       "\n",
       "    .dataframe tbody tr th {\n",
       "        vertical-align: top;\n",
       "    }\n",
       "\n",
       "    .dataframe thead th {\n",
       "        text-align: right;\n",
       "    }\n",
       "</style>\n",
       "<table border=\"1\" class=\"dataframe\">\n",
       "  <thead>\n",
       "    <tr style=\"text-align: right;\">\n",
       "      <th></th>\n",
       "      <th>uid</th>\n",
       "      <th>id</th>\n",
       "      <th>comment_text</th>\n",
       "      <th>toxicity</th>\n",
       "      <th>has_active_attrs</th>\n",
       "      <th>active_attrs</th>\n",
       "      <th>male</th>\n",
       "      <th>female</th>\n",
       "      <th>LGBTQ</th>\n",
       "      <th>christian</th>\n",
       "      <th>...</th>\n",
       "      <th>other_religions</th>\n",
       "      <th>black</th>\n",
       "      <th>white</th>\n",
       "      <th>identity_any</th>\n",
       "      <th>severe_toxicity</th>\n",
       "      <th>obscene</th>\n",
       "      <th>threat</th>\n",
       "      <th>insult</th>\n",
       "      <th>identity_attack</th>\n",
       "      <th>sexual_explicit</th>\n",
       "    </tr>\n",
       "  </thead>\n",
       "  <tbody>\n",
       "    <tr>\n",
       "      <th>0</th>\n",
       "      <td>277992</td>\n",
       "      <td>865178</td>\n",
       "      <td>I'm guessing your a woman and you appear to be...</td>\n",
       "      <td>1</td>\n",
       "      <td>True</td>\n",
       "      <td>[female, christian]</td>\n",
       "      <td>0</td>\n",
       "      <td>1</td>\n",
       "      <td>0</td>\n",
       "      <td>1</td>\n",
       "      <td>...</td>\n",
       "      <td>0</td>\n",
       "      <td>0</td>\n",
       "      <td>0</td>\n",
       "      <td>1</td>\n",
       "      <td>0</td>\n",
       "      <td>0</td>\n",
       "      <td>0</td>\n",
       "      <td>0</td>\n",
       "      <td>0</td>\n",
       "      <td>0</td>\n",
       "    </tr>\n",
       "    <tr>\n",
       "      <th>1</th>\n",
       "      <td>22783</td>\n",
       "      <td>5648086</td>\n",
       "      <td>Your \"you can't even give us an exact date for...</td>\n",
       "      <td>1</td>\n",
       "      <td>True</td>\n",
       "      <td>[male, other_religions]</td>\n",
       "      <td>1</td>\n",
       "      <td>0</td>\n",
       "      <td>0</td>\n",
       "      <td>0</td>\n",
       "      <td>...</td>\n",
       "      <td>1</td>\n",
       "      <td>0</td>\n",
       "      <td>0</td>\n",
       "      <td>1</td>\n",
       "      <td>0</td>\n",
       "      <td>0</td>\n",
       "      <td>0</td>\n",
       "      <td>0</td>\n",
       "      <td>0</td>\n",
       "      <td>0</td>\n",
       "    </tr>\n",
       "    <tr>\n",
       "      <th>2</th>\n",
       "      <td>20244</td>\n",
       "      <td>5287400</td>\n",
       "      <td>Yup.  Once Alaskans saw what the republican al...</td>\n",
       "      <td>0</td>\n",
       "      <td>False</td>\n",
       "      <td>[]</td>\n",
       "      <td>0</td>\n",
       "      <td>0</td>\n",
       "      <td>0</td>\n",
       "      <td>0</td>\n",
       "      <td>...</td>\n",
       "      <td>0</td>\n",
       "      <td>0</td>\n",
       "      <td>0</td>\n",
       "      <td>0</td>\n",
       "      <td>0</td>\n",
       "      <td>0</td>\n",
       "      <td>0</td>\n",
       "      <td>0</td>\n",
       "      <td>0</td>\n",
       "      <td>0</td>\n",
       "    </tr>\n",
       "    <tr>\n",
       "      <th>3</th>\n",
       "      <td>315203</td>\n",
       "      <td>5946831</td>\n",
       "      <td>Huh? is that stop and go for an hour on the fr...</td>\n",
       "      <td>0</td>\n",
       "      <td>False</td>\n",
       "      <td>[]</td>\n",
       "      <td>0</td>\n",
       "      <td>0</td>\n",
       "      <td>0</td>\n",
       "      <td>0</td>\n",
       "      <td>...</td>\n",
       "      <td>0</td>\n",
       "      <td>0</td>\n",
       "      <td>0</td>\n",
       "      <td>0</td>\n",
       "      <td>0</td>\n",
       "      <td>0</td>\n",
       "      <td>0</td>\n",
       "      <td>0</td>\n",
       "      <td>0</td>\n",
       "      <td>0</td>\n",
       "    </tr>\n",
       "    <tr>\n",
       "      <th>4</th>\n",
       "      <td>70481</td>\n",
       "      <td>546025</td>\n",
       "      <td>Well said Sir!</td>\n",
       "      <td>0</td>\n",
       "      <td>False</td>\n",
       "      <td>[]</td>\n",
       "      <td>0</td>\n",
       "      <td>0</td>\n",
       "      <td>0</td>\n",
       "      <td>0</td>\n",
       "      <td>...</td>\n",
       "      <td>0</td>\n",
       "      <td>0</td>\n",
       "      <td>0</td>\n",
       "      <td>0</td>\n",
       "      <td>0</td>\n",
       "      <td>0</td>\n",
       "      <td>0</td>\n",
       "      <td>0</td>\n",
       "      <td>0</td>\n",
       "      <td>0</td>\n",
       "    </tr>\n",
       "    <tr>\n",
       "      <th>...</th>\n",
       "      <td>...</td>\n",
       "      <td>...</td>\n",
       "      <td>...</td>\n",
       "      <td>...</td>\n",
       "      <td>...</td>\n",
       "      <td>...</td>\n",
       "      <td>...</td>\n",
       "      <td>...</td>\n",
       "      <td>...</td>\n",
       "      <td>...</td>\n",
       "      <td>...</td>\n",
       "      <td>...</td>\n",
       "      <td>...</td>\n",
       "      <td>...</td>\n",
       "      <td>...</td>\n",
       "      <td>...</td>\n",
       "      <td>...</td>\n",
       "      <td>...</td>\n",
       "      <td>...</td>\n",
       "      <td>...</td>\n",
       "      <td>...</td>\n",
       "    </tr>\n",
       "    <tr>\n",
       "      <th>65338</th>\n",
       "      <td>399335</td>\n",
       "      <td>825293</td>\n",
       "      <td>And how do you propose to do that?  Treat Trum...</td>\n",
       "      <td>1</td>\n",
       "      <td>False</td>\n",
       "      <td>[]</td>\n",
       "      <td>0</td>\n",
       "      <td>0</td>\n",
       "      <td>0</td>\n",
       "      <td>0</td>\n",
       "      <td>...</td>\n",
       "      <td>0</td>\n",
       "      <td>0</td>\n",
       "      <td>0</td>\n",
       "      <td>0</td>\n",
       "      <td>0</td>\n",
       "      <td>1</td>\n",
       "      <td>0</td>\n",
       "      <td>0</td>\n",
       "      <td>0</td>\n",
       "      <td>0</td>\n",
       "    </tr>\n",
       "    <tr>\n",
       "      <th>65339</th>\n",
       "      <td>35674</td>\n",
       "      <td>5969113</td>\n",
       "      <td>Yet they're all breaking the law, so what's yo...</td>\n",
       "      <td>1</td>\n",
       "      <td>False</td>\n",
       "      <td>[]</td>\n",
       "      <td>0</td>\n",
       "      <td>0</td>\n",
       "      <td>0</td>\n",
       "      <td>0</td>\n",
       "      <td>...</td>\n",
       "      <td>0</td>\n",
       "      <td>0</td>\n",
       "      <td>0</td>\n",
       "      <td>0</td>\n",
       "      <td>0</td>\n",
       "      <td>1</td>\n",
       "      <td>0</td>\n",
       "      <td>1</td>\n",
       "      <td>0</td>\n",
       "      <td>0</td>\n",
       "    </tr>\n",
       "    <tr>\n",
       "      <th>65340</th>\n",
       "      <td>231173</td>\n",
       "      <td>601614</td>\n",
       "      <td>Lol, well by your own reasoning, somewhere in ...</td>\n",
       "      <td>0</td>\n",
       "      <td>False</td>\n",
       "      <td>[]</td>\n",
       "      <td>0</td>\n",
       "      <td>0</td>\n",
       "      <td>0</td>\n",
       "      <td>0</td>\n",
       "      <td>...</td>\n",
       "      <td>0</td>\n",
       "      <td>0</td>\n",
       "      <td>0</td>\n",
       "      <td>0</td>\n",
       "      <td>0</td>\n",
       "      <td>0</td>\n",
       "      <td>0</td>\n",
       "      <td>0</td>\n",
       "      <td>0</td>\n",
       "      <td>0</td>\n",
       "    </tr>\n",
       "    <tr>\n",
       "      <th>65341</th>\n",
       "      <td>181638</td>\n",
       "      <td>901829</td>\n",
       "      <td>Pope Francis is an authoritarian and a tyrant....</td>\n",
       "      <td>0</td>\n",
       "      <td>True</td>\n",
       "      <td>[male, christian]</td>\n",
       "      <td>1</td>\n",
       "      <td>0</td>\n",
       "      <td>0</td>\n",
       "      <td>1</td>\n",
       "      <td>...</td>\n",
       "      <td>0</td>\n",
       "      <td>0</td>\n",
       "      <td>0</td>\n",
       "      <td>1</td>\n",
       "      <td>0</td>\n",
       "      <td>0</td>\n",
       "      <td>0</td>\n",
       "      <td>0</td>\n",
       "      <td>0</td>\n",
       "      <td>0</td>\n",
       "    </tr>\n",
       "    <tr>\n",
       "      <th>65342</th>\n",
       "      <td>307787</td>\n",
       "      <td>5398779</td>\n",
       "      <td>I can't believe I ever watched Morning Joe. Ot...</td>\n",
       "      <td>1</td>\n",
       "      <td>False</td>\n",
       "      <td>[]</td>\n",
       "      <td>0</td>\n",
       "      <td>0</td>\n",
       "      <td>0</td>\n",
       "      <td>0</td>\n",
       "      <td>...</td>\n",
       "      <td>0</td>\n",
       "      <td>0</td>\n",
       "      <td>0</td>\n",
       "      <td>0</td>\n",
       "      <td>0</td>\n",
       "      <td>0</td>\n",
       "      <td>0</td>\n",
       "      <td>1</td>\n",
       "      <td>0</td>\n",
       "      <td>0</td>\n",
       "    </tr>\n",
       "  </tbody>\n",
       "</table>\n",
       "<p>65343 rows × 21 columns</p>\n",
       "</div>"
      ],
      "text/plain": [
       "          uid       id                                       comment_text  \\\n",
       "0      277992   865178  I'm guessing your a woman and you appear to be...   \n",
       "1       22783  5648086  Your \"you can't even give us an exact date for...   \n",
       "2       20244  5287400  Yup.  Once Alaskans saw what the republican al...   \n",
       "3      315203  5946831  Huh? is that stop and go for an hour on the fr...   \n",
       "4       70481   546025                                     Well said Sir!   \n",
       "...       ...      ...                                                ...   \n",
       "65338  399335   825293  And how do you propose to do that?  Treat Trum...   \n",
       "65339   35674  5969113  Yet they're all breaking the law, so what's yo...   \n",
       "65340  231173   601614  Lol, well by your own reasoning, somewhere in ...   \n",
       "65341  181638   901829  Pope Francis is an authoritarian and a tyrant....   \n",
       "65342  307787  5398779  I can't believe I ever watched Morning Joe. Ot...   \n",
       "\n",
       "       toxicity  has_active_attrs             active_attrs  male  female  \\\n",
       "0             1              True      [female, christian]     0       1   \n",
       "1             1              True  [male, other_religions]     1       0   \n",
       "2             0             False                       []     0       0   \n",
       "3             0             False                       []     0       0   \n",
       "4             0             False                       []     0       0   \n",
       "...         ...               ...                      ...   ...     ...   \n",
       "65338         1             False                       []     0       0   \n",
       "65339         1             False                       []     0       0   \n",
       "65340         0             False                       []     0       0   \n",
       "65341         0              True        [male, christian]     1       0   \n",
       "65342         1             False                       []     0       0   \n",
       "\n",
       "       LGBTQ  christian  ...  other_religions  black  white  identity_any  \\\n",
       "0          0          1  ...                0      0      0             1   \n",
       "1          0          0  ...                1      0      0             1   \n",
       "2          0          0  ...                0      0      0             0   \n",
       "3          0          0  ...                0      0      0             0   \n",
       "4          0          0  ...                0      0      0             0   \n",
       "...      ...        ...  ...              ...    ...    ...           ...   \n",
       "65338      0          0  ...                0      0      0             0   \n",
       "65339      0          0  ...                0      0      0             0   \n",
       "65340      0          0  ...                0      0      0             0   \n",
       "65341      0          1  ...                0      0      0             1   \n",
       "65342      0          0  ...                0      0      0             0   \n",
       "\n",
       "       severe_toxicity  obscene  threat  insult  identity_attack  \\\n",
       "0                    0        0       0       0                0   \n",
       "1                    0        0       0       0                0   \n",
       "2                    0        0       0       0                0   \n",
       "3                    0        0       0       0                0   \n",
       "4                    0        0       0       0                0   \n",
       "...                ...      ...     ...     ...              ...   \n",
       "65338                0        1       0       0                0   \n",
       "65339                0        1       0       1                0   \n",
       "65340                0        0       0       0                0   \n",
       "65341                0        0       0       0                0   \n",
       "65342                0        0       0       1                0   \n",
       "\n",
       "       sexual_explicit  \n",
       "0                    0  \n",
       "1                    0  \n",
       "2                    0  \n",
       "3                    0  \n",
       "4                    0  \n",
       "...                ...  \n",
       "65338                0  \n",
       "65339                0  \n",
       "65340                0  \n",
       "65341                0  \n",
       "65342                0  \n",
       "\n",
       "[65343 rows x 21 columns]"
      ]
     },
     "execution_count": 34,
     "metadata": {},
     "output_type": "execute_result"
    }
   ],
   "source": [
    "civil_df"
   ]
  },
  {
   "cell_type": "code",
   "execution_count": 47,
   "id": "82b0905f-889d-4fc0-b054-bbcdad24cba7",
   "metadata": {
    "execution": {
     "iopub.execute_input": "2025-09-24T02:31:38.778394Z",
     "iopub.status.busy": "2025-09-24T02:31:38.778096Z",
     "iopub.status.idle": "2025-09-24T02:31:38.793790Z",
     "shell.execute_reply": "2025-09-24T02:31:38.792822Z",
     "shell.execute_reply.started": "2025-09-24T02:31:38.778373Z"
    }
   },
   "outputs": [
    {
     "data": {
      "text/html": [
       "<div>\n",
       "<style scoped>\n",
       "    .dataframe tbody tr th:only-of-type {\n",
       "        vertical-align: middle;\n",
       "    }\n",
       "\n",
       "    .dataframe tbody tr th {\n",
       "        vertical-align: top;\n",
       "    }\n",
       "\n",
       "    .dataframe thead th {\n",
       "        text-align: right;\n",
       "    }\n",
       "</style>\n",
       "<table border=\"1\" class=\"dataframe\">\n",
       "  <thead>\n",
       "    <tr style=\"text-align: right;\">\n",
       "      <th></th>\n",
       "      <th>comment_text</th>\n",
       "    </tr>\n",
       "  </thead>\n",
       "  <tbody>\n",
       "    <tr>\n",
       "      <th>0</th>\n",
       "      <td>While praising a Jesuit pope and the Jesuit \"t...</td>\n",
       "    </tr>\n",
       "    <tr>\n",
       "      <th>1</th>\n",
       "      <td>That simply proves that lib trolls are on this...</td>\n",
       "    </tr>\n",
       "    <tr>\n",
       "      <th>2</th>\n",
       "      <td>The paranoia of the belief Americans are all r...</td>\n",
       "    </tr>\n",
       "    <tr>\n",
       "      <th>3</th>\n",
       "      <td>David Brooks the original Israel firster and h...</td>\n",
       "    </tr>\n",
       "    <tr>\n",
       "      <th>4</th>\n",
       "      <td>Iditarod dogs are loved, honored and even give...</td>\n",
       "    </tr>\n",
       "    <tr>\n",
       "      <th>...</th>\n",
       "      <td>...</td>\n",
       "    </tr>\n",
       "    <tr>\n",
       "      <th>110467</th>\n",
       "      <td>Like father like son.  Trudeau oh so eager to ...</td>\n",
       "    </tr>\n",
       "    <tr>\n",
       "      <th>110468</th>\n",
       "      <td>\"I get it.\\nTrump is a bad guy.\"\\n\\nNo, you cl...</td>\n",
       "    </tr>\n",
       "    <tr>\n",
       "      <th>110469</th>\n",
       "      <td>Mike objects to gay sex because it's \"icky\". H...</td>\n",
       "    </tr>\n",
       "    <tr>\n",
       "      <th>110470</th>\n",
       "      <td>Sounds so joyous!\\nGreat Mother's Day story.</td>\n",
       "    </tr>\n",
       "    <tr>\n",
       "      <th>110471</th>\n",
       "      <td>What's \"Catholic press\" got to do with it?</td>\n",
       "    </tr>\n",
       "  </tbody>\n",
       "</table>\n",
       "<p>110472 rows × 1 columns</p>\n",
       "</div>"
      ],
      "text/plain": [
       "                                             comment_text\n",
       "0       While praising a Jesuit pope and the Jesuit \"t...\n",
       "1       That simply proves that lib trolls are on this...\n",
       "2       The paranoia of the belief Americans are all r...\n",
       "3       David Brooks the original Israel firster and h...\n",
       "4       Iditarod dogs are loved, honored and even give...\n",
       "...                                                   ...\n",
       "110467  Like father like son.  Trudeau oh so eager to ...\n",
       "110468  \"I get it.\\nTrump is a bad guy.\"\\n\\nNo, you cl...\n",
       "110469  Mike objects to gay sex because it's \"icky\". H...\n",
       "110470       Sounds so joyous!\\nGreat Mother's Day story.\n",
       "110471         What's \"Catholic press\" got to do with it?\n",
       "\n",
       "[110472 rows x 1 columns]"
      ]
     },
     "execution_count": 47,
     "metadata": {},
     "output_type": "execute_result"
    }
   ],
   "source": [
    "civil_df[civil_df.columns[2:3]]"
   ]
  },
  {
   "cell_type": "code",
   "execution_count": null,
   "id": "18280303-32ac-4f00-afb2-c51bb546a1ca",
   "metadata": {
    "execution": {
     "iopub.execute_input": "2025-09-24T02:31:39.355216Z",
     "iopub.status.busy": "2025-09-24T02:31:39.354932Z",
     "iopub.status.idle": "2025-09-24T02:32:30.853499Z",
     "shell.execute_reply": "2025-09-24T02:32:30.852663Z",
     "shell.execute_reply.started": "2025-09-24T02:31:39.355195Z"
    }
   },
   "outputs": [],
   "source": [
    "civil_df['comment_text'] = text_prep_pipeline.fit_transform(civil_df[civil_df.columns[2:3]].values)"
   ]
  },
  {
   "cell_type": "code",
   "execution_count": 37,
   "id": "7bf69aaf",
   "metadata": {},
   "outputs": [],
   "source": [
    "civil_val_df = validation_data.copy()\n",
    "civil_test_df = test_data.copy()"
   ]
  },
  {
   "cell_type": "code",
   "execution_count": 38,
   "id": "74c2acb2",
   "metadata": {},
   "outputs": [
    {
     "name": "stderr",
     "output_type": "stream",
     "text": [
      "/opt/anaconda3/envs/finbert/lib/python3.10/site-packages/sklearn/pipeline.py:61: FutureWarning: This Pipeline instance is not fitted yet. Call 'fit' with appropriate arguments before using other methods such as transform, predict, etc. This will raise an error in 1.8 instead of the current warning.\n",
      "  warnings.warn(\n"
     ]
    }
   ],
   "source": [
    "civil_val_df['comment_text'] = text_prep_pipeline.transform(validation_data[validation_data.columns[2:3]].values)\n",
    "civil_test_df['comment_text'] = text_prep_pipeline.transform(test_data[test_data.columns[2:3]].values)"
   ]
  },
  {
   "cell_type": "code",
   "execution_count": 39,
   "id": "54e68d31-32f7-4af7-86a9-2c90291052f7",
   "metadata": {
    "execution": {
     "iopub.execute_input": "2025-09-24T02:32:30.855228Z",
     "iopub.status.busy": "2025-09-24T02:32:30.854888Z",
     "iopub.status.idle": "2025-09-24T02:32:30.875380Z",
     "shell.execute_reply": "2025-09-24T02:32:30.874681Z",
     "shell.execute_reply.started": "2025-09-24T02:32:30.855198Z"
    }
   },
   "outputs": [
    {
     "data": {
      "application/vnd.microsoft.datawrangler.viewer.v0+json": {
       "columns": [
        {
         "name": "index",
         "rawType": "int64",
         "type": "integer"
        },
        {
         "name": "uid",
         "rawType": "int64",
         "type": "integer"
        },
        {
         "name": "id",
         "rawType": "int64",
         "type": "integer"
        },
        {
         "name": "comment_text",
         "rawType": "object",
         "type": "string"
        },
        {
         "name": "toxicity",
         "rawType": "int64",
         "type": "integer"
        },
        {
         "name": "has_active_attrs",
         "rawType": "bool",
         "type": "boolean"
        },
        {
         "name": "active_attrs",
         "rawType": "object",
         "type": "unknown"
        },
        {
         "name": "male",
         "rawType": "int64",
         "type": "integer"
        },
        {
         "name": "female",
         "rawType": "int64",
         "type": "integer"
        },
        {
         "name": "LGBTQ",
         "rawType": "int64",
         "type": "integer"
        },
        {
         "name": "christian",
         "rawType": "int64",
         "type": "integer"
        },
        {
         "name": "muslim",
         "rawType": "int64",
         "type": "integer"
        },
        {
         "name": "other_religions",
         "rawType": "int64",
         "type": "integer"
        },
        {
         "name": "black",
         "rawType": "int64",
         "type": "integer"
        },
        {
         "name": "white",
         "rawType": "int64",
         "type": "integer"
        },
        {
         "name": "identity_any",
         "rawType": "int64",
         "type": "integer"
        },
        {
         "name": "severe_toxicity",
         "rawType": "int64",
         "type": "integer"
        },
        {
         "name": "obscene",
         "rawType": "int64",
         "type": "integer"
        },
        {
         "name": "threat",
         "rawType": "int64",
         "type": "integer"
        },
        {
         "name": "insult",
         "rawType": "int64",
         "type": "integer"
        },
        {
         "name": "identity_attack",
         "rawType": "int64",
         "type": "integer"
        },
        {
         "name": "sexual_explicit",
         "rawType": "int64",
         "type": "integer"
        }
       ],
       "ref": "b473fa72-5842-4a76-9fc1-91bd025afb8f",
       "rows": [
        [
         "0",
         "277992",
         "865178",
         "guess woman appear run away foolish garble post give rest study bible lot biblical understand might set free bigot thoughts community neighbor ",
         "1",
         "True",
         "['female' 'christian']",
         "0",
         "1",
         "0",
         "1",
         "0",
         "0",
         "0",
         "0",
         "1",
         "0",
         "0",
         "0",
         "0",
         "0",
         "0"
        ],
        [
         "1",
         "22783",
         "5648086",
         "even give us exact date st cyril birth simply ignorant put question mark someone birth death date simply say date unknown surprise anyone birth record th century egypt exist n ncyril life character well know young man participate railroad john chyrsostom distract people charge fiscal mismanagement uncle theophilus deliberately misstate view nestorius give nestorius proper chance defend ephe isus exclude john antioch come day late council expel jews alexandria incite mob lynch hypatia head neo platonist school n nall ise well know anyone study church history ",
         "1",
         "True",
         "['male' 'other_religions']",
         "1",
         "0",
         "0",
         "0",
         "0",
         "1",
         "0",
         "0",
         "1",
         "0",
         "0",
         "0",
         "0",
         "0",
         "0"
        ],
        [
         "2",
         "20244",
         "5287400",
         "yup alaskans saw republican alternative aca look like plan young vote one decide vote freak show trump deliver us wake ",
         "0",
         "False",
         "[]",
         "0",
         "0",
         "0",
         "0",
         "0",
         "0",
         "0",
         "0",
         "0",
         "0",
         "0",
         "0",
         "0",
         "0",
         "0"
        ],
        [
         "3",
         "315203",
         "5946831",
         "huh stop go hour freeway car stop power get go strand road oh right electric unicorn fairy appear ni run gas life save simple gallon container gas ",
         "0",
         "False",
         "[]",
         "0",
         "0",
         "0",
         "0",
         "0",
         "0",
         "0",
         "0",
         "0",
         "0",
         "0",
         "0",
         "0",
         "0",
         "0"
        ],
        [
         "4",
         "70481",
         "546025",
         "well say sir ",
         "0",
         "False",
         "[]",
         "0",
         "0",
         "0",
         "0",
         "0",
         "0",
         "0",
         "0",
         "0",
         "0",
         "0",
         "0",
         "0",
         "0",
         "0"
        ],
        [
         "5",
         "332911",
         "5996570",
         "great story book one clinton former security detail political gather bill charm self young gorgeous woman hillary yell damnit bill put back pant f n ncan say hillary sense propriety ",
         "1",
         "True",
         "['female']",
         "0",
         "1",
         "0",
         "0",
         "0",
         "0",
         "0",
         "0",
         "1",
         "0",
         "1",
         "0",
         "0",
         "0",
         "1"
        ],
        [
         "6",
         "384925",
         "5151516",
         "blm kick pride march alone chicago hail black black gun battle cop good sport take part pride allow black racists hijack cowards ",
         "1",
         "True",
         "['black']",
         "0",
         "0",
         "0",
         "0",
         "0",
         "0",
         "1",
         "0",
         "1",
         "0",
         "0",
         "0",
         "1",
         "1",
         "0"
        ],
        [
         "7",
         "265662",
         "5825583",
         "imagine fury trump say clinton media liberal head would explode personally would count finger shake woman hand sure would wash shake bill n nwith lysol ",
         "0",
         "True",
         "['female']",
         "0",
         "1",
         "0",
         "0",
         "0",
         "0",
         "0",
         "0",
         "1",
         "0",
         "0",
         "0",
         "0",
         "0",
         "0"
        ],
        [
         "8",
         "390877",
         "6325290",
         "say single factual version see see different perspectives events get different interpretations close n ni see reason defensive complete understand various view point ",
         "0",
         "False",
         "[]",
         "0",
         "0",
         "0",
         "0",
         "0",
         "0",
         "0",
         "0",
         "0",
         "0",
         "0",
         "0",
         "0",
         "0",
         "0"
        ],
        [
         "9",
         "225168",
         "5865242",
         "amaybe fault maybe truth situation find look racism another minority group asians n nthink asians march banners say asian live matter asian jessie jackson al sharpton asians obviously overcome whatever racial barriers way merely overcome totally destroy asians keep colleges many outperform everyone else n nyes maybe fault maybe sell story purposefully happy end ",
         "0",
         "False",
         "[]",
         "0",
         "0",
         "0",
         "0",
         "0",
         "0",
         "0",
         "0",
         "1",
         "0",
         "0",
         "0",
         "0",
         "0",
         "0"
        ],
        [
         "10",
         "350600",
         "371305",
         "everyone nothing bias opinions offer topic joy internet forums reinforce bias ridicule bias everyone else ",
         "0",
         "False",
         "[]",
         "0",
         "0",
         "0",
         "0",
         "0",
         "0",
         "0",
         "0",
         "0",
         "0",
         "0",
         "0",
         "0",
         "0",
         "0"
        ],
        [
         "11",
         "325931",
         "5837246",
         "hear hear welcome voice reason response truly bizarre proposal tire revisionist history nonsense page wonderful book march folly great american historian barbara tuchman quote approval english historian write nothing unfair judge men past ideas present hate imitate donald trump phraseology man folly personify currently lot fake history disseminate encourage everyone especially ontario elementary school teachers read much history possible include tuchman canada margaret macmiillan order come historical conclusions better position fairly judge reason past government policies let give righteous moral bully want impose simplistic worldview everyone else ",
         "0",
         "True",
         "['male']",
         "1",
         "0",
         "0",
         "0",
         "0",
         "0",
         "0",
         "0",
         "1",
         "0",
         "0",
         "0",
         "0",
         "0",
         "0"
        ],
        [
         "12",
         "71356",
         "524021",
         "well roger right womanizers presidents trump talk womanize sexual assault huge difference affairs assault women ",
         "0",
         "True",
         "['female']",
         "0",
         "1",
         "0",
         "0",
         "0",
         "0",
         "0",
         "0",
         "1",
         "0",
         "0",
         "0",
         "0",
         "0",
         "0"
        ],
        [
         "13",
         "97018",
         "904200",
         "either clickbait ms mclaren serious emotional problems personally know talk see dads praise certainly much claim actually thing see dads always portayed clueless boob tv commercials mom effortlessly save day ",
         "0",
         "False",
         "[]",
         "0",
         "0",
         "0",
         "0",
         "0",
         "0",
         "0",
         "0",
         "0",
         "0",
         "0",
         "0",
         "0",
         "0",
         "0"
        ],
        [
         "14",
         "154666",
         "353965",
         "come budget touch pfd think walker get wait long walker make clear blame say happy legislators either democrat republican alike ",
         "0",
         "False",
         "[]",
         "0",
         "0",
         "0",
         "0",
         "0",
         "0",
         "0",
         "0",
         "0",
         "0",
         "0",
         "0",
         "0",
         "0",
         "0"
        ],
        [
         "15",
         "408803",
         "5446676",
         "admit cheapskate rarely come much attitude ",
         "1",
         "False",
         "[]",
         "0",
         "0",
         "0",
         "0",
         "0",
         "0",
         "0",
         "0",
         "0",
         "0",
         "0",
         "0",
         "1",
         "0",
         "0"
        ],
        [
         "16",
         "131376",
         "662614",
         "nothe lateran councils establish antisemitism official policy n nthat happen magisterium non magisterial discipline filter process distinguish magisterium magnavox digo data garbage n nand adjective ignorant always treat read comment ",
         "1",
         "False",
         "[]",
         "0",
         "0",
         "0",
         "0",
         "0",
         "0",
         "0",
         "0",
         "0",
         "0",
         "0",
         "0",
         "1",
         "0",
         "0"
        ],
        [
         "17",
         "220072",
         "5085503",
         "amost take bus later train people afford electric vehicle consequently take train bus ",
         "0",
         "False",
         "[]",
         "0",
         "0",
         "0",
         "0",
         "0",
         "0",
         "0",
         "0",
         "0",
         "0",
         "0",
         "0",
         "0",
         "0",
         "0"
        ],
        [
         "18",
         "121078",
         "5482041",
         "nothe issue hand discrimination person event baker refuse serve gay couple refuse make cake event celebrate event go beliefs couple order birthday cake generic cake order wed cake straight friend cake would make couple discriminate event n ncan black baker refuse make birthday cake kkk grand dragon black baker refuse make cake celebrate kkk anniversary n ncan jewish baker refuse service neo nazi jewish baker refuse make cake neo nazi protest rally n ncan liberal baker refuse make cake conservative politician liberal baker refuse make cake donald trump inaugural celebration ",
         "0",
         "True",
         "['LGBTQ' 'other_religions' 'black']",
         "0",
         "0",
         "1",
         "0",
         "0",
         "1",
         "1",
         "0",
         "1",
         "0",
         "0",
         "0",
         "0",
         "0",
         "0"
        ],
        [
         "19",
         "22269",
         "1071234",
         "comment libellous evidence intercourse occur woman totally drink point urinate ",
         "1",
         "True",
         "['female']",
         "0",
         "1",
         "0",
         "0",
         "0",
         "0",
         "0",
         "0",
         "1",
         "0",
         "0",
         "0",
         "0",
         "0",
         "1"
        ],
        [
         "20",
         "384663",
         "6014290",
         "btw nixon already investigation alledged crimes vote want believe morph additional investigations culminate watergate resignation watergate investigation hair two yrs start finish totality investigations nixon family take years n ni would hope younger people know put focus rest word nixon use bad word get impeach ",
         "0",
         "False",
         "[]",
         "0",
         "0",
         "0",
         "0",
         "0",
         "0",
         "0",
         "0",
         "0",
         "0",
         "0",
         "0",
         "0",
         "0",
         "0"
        ],
        [
         "21",
         "246502",
         "5889500",
         "way overdue u withdraw hapless ineffective unite nations kick u numerous toothless security council resolutions do nothing reduce north korean threat china russia continue discreetly support north korean ally kim jong un north koreans laugh yet another ineffective security council resolution n nif china really want could stop north korea deliberately choose n ntime give japan south korea nuclear weapons restore balance power region ",
         "0",
         "False",
         "[]",
         "0",
         "0",
         "0",
         "0",
         "0",
         "0",
         "0",
         "0",
         "0",
         "0",
         "0",
         "0",
         "0",
         "0",
         "0"
        ],
        [
         "22",
         "186292",
         "5730509",
         "pence would smart carve political identity least even chance trump may well first sit president lifetime nominate run second term ",
         "0",
         "False",
         "[]",
         "0",
         "0",
         "0",
         "0",
         "0",
         "0",
         "0",
         "0",
         "0",
         "0",
         "0",
         "0",
         "0",
         "0",
         "0"
        ],
        [
         "23",
         "207278",
         "5107355",
         "question jesus calibrate up clearly jesus deficient understand marriage n nhe call even greater response husband wife totality gift kenosis n nall heart mind soul strength self empty love cross happily n na mind blow love sort like god love us beyond reason ",
         "0",
         "True",
         "['female']",
         "0",
         "1",
         "0",
         "0",
         "0",
         "0",
         "0",
         "0",
         "1",
         "0",
         "0",
         "0",
         "0",
         "0",
         "0"
        ],
        [
         "24",
         "100372",
         "510037",
         "nothis beautiful time year embrace ",
         "0",
         "False",
         "[]",
         "0",
         "0",
         "0",
         "0",
         "0",
         "0",
         "0",
         "0",
         "0",
         "0",
         "0",
         "0",
         "0",
         "0",
         "0"
        ],
        [
         "25",
         "68050",
         "5481347",
         "well go santa claus parade fat old white guy body sham ageist diversity gender equality sled full goodies rampant capitalism hold rein attach reindeer peta love accompany elves unpaid labour attention unions hand candy unhealthy march band militaristic play christmas songs holiday music please santa yell ho ho ho merry christmas unilingual politically incorrect many level float know much ghg things spew nmight well shut ",
         "1",
         "True",
         "['white']",
         "0",
         "0",
         "0",
         "0",
         "0",
         "0",
         "0",
         "1",
         "1",
         "0",
         "0",
         "0",
         "1",
         "0",
         "0"
        ],
        [
         "26",
         "60426",
         "6130095",
         "next white guy gonna make brothers run across field chase pig skin beat pulp old white texan cruel ",
         "1",
         "True",
         "['male' 'white']",
         "1",
         "0",
         "0",
         "0",
         "0",
         "0",
         "0",
         "1",
         "1",
         "0",
         "0",
         "0",
         "1",
         "1",
         "0"
        ],
        [
         "27",
         "355536",
         "817607",
         "detractors spend last years demand assent every word utter pope hallmark whether proper catholic indeed would lead believe sum total scripture one verse thou art peter quote without end bedrock every view ise people express n nit singularly biggest mystery befall church last three years particular scripture text suddenly disappear ether airbrush never first place n nit continue source tremendous mirth many us watch bleat inerrancy tradition scripture drop flagship text easily latest fad pounce text marriage divorce prove spiritual shallowness anyone listen word say ",
         "0",
         "True",
         "['christian']",
         "0",
         "0",
         "0",
         "1",
         "0",
         "0",
         "0",
         "0",
         "1",
         "0",
         "0",
         "0",
         "0",
         "0",
         "0"
        ],
        [
         "28",
         "276866",
         "5622795",
         "surprise star ad give atrocity scan notice nif however cop white pajama clothe black ncan imagine hue cry ncars would burn baby burn ",
         "1",
         "True",
         "['black' 'white']",
         "0",
         "0",
         "0",
         "0",
         "0",
         "0",
         "1",
         "1",
         "1",
         "0",
         "0",
         "0",
         "0",
         "0",
         "0"
        ],
        [
         "29",
         "140063",
         "5594357",
         "nothat fail account year year increase similar report ",
         "0",
         "False",
         "[]",
         "0",
         "0",
         "0",
         "0",
         "0",
         "0",
         "0",
         "0",
         "0",
         "0",
         "0",
         "0",
         "0",
         "0",
         "0"
        ],
        [
         "30",
         "66688",
         "285562",
         "bag review typical city terminally ill perpetual case hipster malaise portland would soulful sincere genuine rocker like bruce get do us lately treatment band tight energy provide much need reminder do river get album cover lot grind teenage missteps fear doubt way plain old fuck friday rock n roll see man dozen time recently seattle show right portland show kill energy crowd chart despite muddy sound system put one finest show non stop joyful deep course move eddie vedder join onstage look like teenagers enjoy part night bruce throwback still lot offer will truly listen ",
         "1",
         "True",
         "['male']",
         "1",
         "0",
         "0",
         "0",
         "0",
         "0",
         "0",
         "0",
         "1",
         "0",
         "0",
         "0",
         "0",
         "0",
         "0"
        ],
        [
         "31",
         "398419",
         "978631",
         "news paris nfrench counter terror police foil plan suicide attack paris tourist spot n nthe male suspect reportedly age police also arrest year old girl know police express desire travel syria reportedly pledge allegiance terror group isis n nthe couple plan islamic marriage thomas carry suicide bomb ",
         "0",
         "False",
         "[]",
         "0",
         "0",
         "0",
         "0",
         "0",
         "0",
         "0",
         "0",
         "0",
         "0",
         "0",
         "0",
         "0",
         "0",
         "0"
        ],
        [
         "32",
         "282300",
         "5948476",
         "wonder fallacy one dismiss kkk skinheads white nationalists etc true christians nwhile time put every single muslim category terrorist ",
         "1",
         "True",
         "['christian' 'muslim' 'white']",
         "0",
         "0",
         "0",
         "1",
         "1",
         "0",
         "0",
         "1",
         "1",
         "0",
         "0",
         "0",
         "0",
         "1",
         "0"
        ],
        [
         "33",
         "324180",
         "5115778",
         "another reason vote politician worth vote bunch damn liers ndaaaaa nthe truth hurt ",
         "1",
         "False",
         "[]",
         "0",
         "0",
         "0",
         "0",
         "0",
         "0",
         "0",
         "0",
         "0",
         "0",
         "1",
         "0",
         "1",
         "0",
         "0"
        ],
        [
         "34",
         "241332",
         "6196536",
         "find fox news non critical could find think cover basic wall question pretty well n ni imagine wall rg show today stretch across visable horizon would feel like prison immigrants keep person concern environment issue likely screw lot natural migrations pattern would think maybe crossings plan n none thing know physical wall along entire boarder hear claim somebody tell wrong n nhttp www foxnews com politics first look prototypes trump big beautiful border wall html ",
         "0",
         "False",
         "[]",
         "0",
         "0",
         "0",
         "0",
         "0",
         "0",
         "0",
         "0",
         "0",
         "0",
         "0",
         "0",
         "0",
         "0",
         "0"
        ],
        [
         "35",
         "68934",
         "440547",
         "well first years ago could get rob streets pa rare n nyou understand ise people complain live town fussy rvs streets people visit family summer things like n nand understand nice ise rvs full paint diesel pushers would problem even sell drug really n nthey need move development covenant one ask live town n nand never saw anyone sell drug work people sell drug right nose whole live know n nthe ise people around fussy years ago n nso ya come pa much change ",
         "0",
         "False",
         "[]",
         "0",
         "0",
         "0",
         "0",
         "0",
         "0",
         "0",
         "0",
         "0",
         "0",
         "0",
         "0",
         "0",
         "0",
         "0"
        ],
        [
         "36",
         "86197",
         "5709501",
         "notruly ignorant statement pro biker will pay fair share anything actually n nfrom page state bike riders take less room cars impact roads much bias write talk want bike lanes remove car lanes need pay nimby strong bike riders love tax others afraid could personally ",
         "1",
         "False",
         "[]",
         "0",
         "0",
         "0",
         "0",
         "0",
         "0",
         "0",
         "0",
         "0",
         "0",
         "0",
         "0",
         "1",
         "0",
         "0"
        ],
        [
         "37",
         "396971",
         "535636",
         "unemployment n nso point n nspeaking conservative garbage ",
         "1",
         "False",
         "[]",
         "0",
         "0",
         "0",
         "0",
         "0",
         "0",
         "0",
         "0",
         "0",
         "0",
         "0",
         "0",
         "1",
         "0",
         "0"
        ],
        [
         "38",
         "222903",
         "899501",
         "amicheal great consistency stereotype allow challenge find rare bird think like priesthood find rare bird pro contraception anti abortion find rare bird believe last week week marche dc find rare bird pro family pro gay right find rare bird support parish priests bishop find rare bird go catholic colleges believe public education find rare bird believe glory celibacy glory marry clergy find rare bird think liturgy sex gift embrace gusto find rare bird recall catholic school laughter tear find rare bird mindful need others needful mind others ",
         "0",
         "True",
         "['LGBTQ' 'christian']",
         "0",
         "0",
         "1",
         "1",
         "0",
         "0",
         "0",
         "0",
         "1",
         "0",
         "0",
         "0",
         "0",
         "0",
         "0"
        ],
        [
         "39",
         "232287",
         "5378642",
         "like father like son trudeau oh eager mollify communist heroes roll scratch tummy good little puppy really really stupid delude recognize threat china present west south china sea tip iceberg ask china neighbor china want lebensraum one way ensure safeguard military buy western technology easy even steal buy will dupe countries ",
         "1",
         "False",
         "[]",
         "0",
         "0",
         "0",
         "0",
         "0",
         "0",
         "0",
         "0",
         "0",
         "0",
         "0",
         "0",
         "1",
         "0",
         "0"
        ],
        [
         "40",
         "334066",
         "6048900",
         "gotta able talk perps tmt protectors ",
         "0",
         "False",
         "[]",
         "0",
         "0",
         "0",
         "0",
         "0",
         "0",
         "0",
         "0",
         "0",
         "0",
         "0",
         "0",
         "0",
         "0",
         "0"
        ],
        [
         "41",
         "140878",
         "5770396",
         "nothanks christy billy needlessly get stick useless guy horgan honest ",
         "1",
         "False",
         "[]",
         "0",
         "0",
         "0",
         "0",
         "0",
         "0",
         "0",
         "0",
         "0",
         "0",
         "0",
         "0",
         "1",
         "0",
         "0"
        ],
        [
         "42",
         "225",
         "971023",
         "women never use political cover n n ni sense little paranoia author premise women deliberately choose sacrificial lamb deliver bad news reason traditionally call fall guy usually guy ",
         "0",
         "True",
         "['male' 'female']",
         "1",
         "1",
         "0",
         "0",
         "0",
         "0",
         "0",
         "0",
         "1",
         "0",
         "0",
         "0",
         "0",
         "0",
         "0"
        ],
        [
         "43",
         "402880",
         "5404569",
         "also accord legality matter identify heck gay marriage consume huge issue heterosexual marriage important gay marriage ",
         "1",
         "True",
         "['LGBTQ']",
         "0",
         "0",
         "1",
         "0",
         "0",
         "0",
         "0",
         "0",
         "1",
         "0",
         "0",
         "0",
         "0",
         "1",
         "0"
        ],
        [
         "44",
         "353136",
         "5808095",
         "either broaden update n since donald trump presidential election dramatic uptick incidents racist xenophobic harassment across country southern poverty law center report four hundred thirty seven incidents intimidation election november th november th target black people color muslims immigrants l g b community women nhttp www newyorker com news news desk hate rise trump election ",
         "0",
         "True",
         "['female' 'muslim' 'black']",
         "0",
         "1",
         "0",
         "0",
         "1",
         "0",
         "1",
         "0",
         "1",
         "0",
         "0",
         "0",
         "0",
         "0",
         "0"
        ],
        [
         "45",
         "2554",
         "433060",
         "yeah sure rappers state fair rake thousands stfu likely get kick flip bird family venue black white racism crap ",
         "1",
         "True",
         "['black' 'white']",
         "0",
         "0",
         "0",
         "0",
         "0",
         "0",
         "1",
         "1",
         "1",
         "0",
         "0",
         "0",
         "1",
         "1",
         "0"
        ],
        [
         "46",
         "75466",
         "281175",
         "way make friends new neighbor horrible human sure family proud save charge grizzly oops mean old labrador wimp ",
         "1",
         "False",
         "[]",
         "0",
         "0",
         "0",
         "0",
         "0",
         "0",
         "0",
         "0",
         "0",
         "0",
         "0",
         "0",
         "1",
         "0",
         "0"
        ],
        [
         "47",
         "6792",
         "5218450",
         "notake hike liberal troll piece toast would better leader wynne worth vote mean rid ontario ",
         "1",
         "False",
         "[]",
         "0",
         "0",
         "0",
         "0",
         "0",
         "0",
         "0",
         "0",
         "0",
         "0",
         "0",
         "0",
         "1",
         "0",
         "0"
        ],
        [
         "48",
         "313636",
         "583105",
         "agree post except think ms shurtz make mistake error part express outrage grossly overuse word today opinion react something exist time ms shurtz don black face white robe consider form insanity react present something similar happen past nhad act way stereotype black others past don black face theatrics instance would cause public professional outcry ",
         "0",
         "True",
         "['black' 'white']",
         "0",
         "0",
         "0",
         "0",
         "0",
         "0",
         "1",
         "1",
         "1",
         "0",
         "0",
         "0",
         "0",
         "0",
         "0"
        ],
        [
         "49",
         "164937",
         "519928",
         "threaten intimidate women rap bill keep mouth shut call something lie know fact ",
         "1",
         "True",
         "['female']",
         "0",
         "1",
         "0",
         "0",
         "0",
         "0",
         "0",
         "0",
         "1",
         "0",
         "0",
         "0",
         "0",
         "0",
         "1"
        ]
       ],
       "shape": {
        "columns": 21,
        "rows": 65343
       }
      },
      "text/html": [
       "<div>\n",
       "<style scoped>\n",
       "    .dataframe tbody tr th:only-of-type {\n",
       "        vertical-align: middle;\n",
       "    }\n",
       "\n",
       "    .dataframe tbody tr th {\n",
       "        vertical-align: top;\n",
       "    }\n",
       "\n",
       "    .dataframe thead th {\n",
       "        text-align: right;\n",
       "    }\n",
       "</style>\n",
       "<table border=\"1\" class=\"dataframe\">\n",
       "  <thead>\n",
       "    <tr style=\"text-align: right;\">\n",
       "      <th></th>\n",
       "      <th>uid</th>\n",
       "      <th>id</th>\n",
       "      <th>comment_text</th>\n",
       "      <th>toxicity</th>\n",
       "      <th>has_active_attrs</th>\n",
       "      <th>active_attrs</th>\n",
       "      <th>male</th>\n",
       "      <th>female</th>\n",
       "      <th>LGBTQ</th>\n",
       "      <th>christian</th>\n",
       "      <th>...</th>\n",
       "      <th>other_religions</th>\n",
       "      <th>black</th>\n",
       "      <th>white</th>\n",
       "      <th>identity_any</th>\n",
       "      <th>severe_toxicity</th>\n",
       "      <th>obscene</th>\n",
       "      <th>threat</th>\n",
       "      <th>insult</th>\n",
       "      <th>identity_attack</th>\n",
       "      <th>sexual_explicit</th>\n",
       "    </tr>\n",
       "  </thead>\n",
       "  <tbody>\n",
       "    <tr>\n",
       "      <th>0</th>\n",
       "      <td>277992</td>\n",
       "      <td>865178</td>\n",
       "      <td>guess woman appear run away foolish garble pos...</td>\n",
       "      <td>1</td>\n",
       "      <td>True</td>\n",
       "      <td>[female, christian]</td>\n",
       "      <td>0</td>\n",
       "      <td>1</td>\n",
       "      <td>0</td>\n",
       "      <td>1</td>\n",
       "      <td>...</td>\n",
       "      <td>0</td>\n",
       "      <td>0</td>\n",
       "      <td>0</td>\n",
       "      <td>1</td>\n",
       "      <td>0</td>\n",
       "      <td>0</td>\n",
       "      <td>0</td>\n",
       "      <td>0</td>\n",
       "      <td>0</td>\n",
       "      <td>0</td>\n",
       "    </tr>\n",
       "    <tr>\n",
       "      <th>1</th>\n",
       "      <td>22783</td>\n",
       "      <td>5648086</td>\n",
       "      <td>even give us exact date st cyril birth simply ...</td>\n",
       "      <td>1</td>\n",
       "      <td>True</td>\n",
       "      <td>[male, other_religions]</td>\n",
       "      <td>1</td>\n",
       "      <td>0</td>\n",
       "      <td>0</td>\n",
       "      <td>0</td>\n",
       "      <td>...</td>\n",
       "      <td>1</td>\n",
       "      <td>0</td>\n",
       "      <td>0</td>\n",
       "      <td>1</td>\n",
       "      <td>0</td>\n",
       "      <td>0</td>\n",
       "      <td>0</td>\n",
       "      <td>0</td>\n",
       "      <td>0</td>\n",
       "      <td>0</td>\n",
       "    </tr>\n",
       "    <tr>\n",
       "      <th>2</th>\n",
       "      <td>20244</td>\n",
       "      <td>5287400</td>\n",
       "      <td>yup alaskans saw republican alternative aca lo...</td>\n",
       "      <td>0</td>\n",
       "      <td>False</td>\n",
       "      <td>[]</td>\n",
       "      <td>0</td>\n",
       "      <td>0</td>\n",
       "      <td>0</td>\n",
       "      <td>0</td>\n",
       "      <td>...</td>\n",
       "      <td>0</td>\n",
       "      <td>0</td>\n",
       "      <td>0</td>\n",
       "      <td>0</td>\n",
       "      <td>0</td>\n",
       "      <td>0</td>\n",
       "      <td>0</td>\n",
       "      <td>0</td>\n",
       "      <td>0</td>\n",
       "      <td>0</td>\n",
       "    </tr>\n",
       "    <tr>\n",
       "      <th>3</th>\n",
       "      <td>315203</td>\n",
       "      <td>5946831</td>\n",
       "      <td>huh stop go hour freeway car stop power get go...</td>\n",
       "      <td>0</td>\n",
       "      <td>False</td>\n",
       "      <td>[]</td>\n",
       "      <td>0</td>\n",
       "      <td>0</td>\n",
       "      <td>0</td>\n",
       "      <td>0</td>\n",
       "      <td>...</td>\n",
       "      <td>0</td>\n",
       "      <td>0</td>\n",
       "      <td>0</td>\n",
       "      <td>0</td>\n",
       "      <td>0</td>\n",
       "      <td>0</td>\n",
       "      <td>0</td>\n",
       "      <td>0</td>\n",
       "      <td>0</td>\n",
       "      <td>0</td>\n",
       "    </tr>\n",
       "    <tr>\n",
       "      <th>4</th>\n",
       "      <td>70481</td>\n",
       "      <td>546025</td>\n",
       "      <td>well say sir</td>\n",
       "      <td>0</td>\n",
       "      <td>False</td>\n",
       "      <td>[]</td>\n",
       "      <td>0</td>\n",
       "      <td>0</td>\n",
       "      <td>0</td>\n",
       "      <td>0</td>\n",
       "      <td>...</td>\n",
       "      <td>0</td>\n",
       "      <td>0</td>\n",
       "      <td>0</td>\n",
       "      <td>0</td>\n",
       "      <td>0</td>\n",
       "      <td>0</td>\n",
       "      <td>0</td>\n",
       "      <td>0</td>\n",
       "      <td>0</td>\n",
       "      <td>0</td>\n",
       "    </tr>\n",
       "    <tr>\n",
       "      <th>...</th>\n",
       "      <td>...</td>\n",
       "      <td>...</td>\n",
       "      <td>...</td>\n",
       "      <td>...</td>\n",
       "      <td>...</td>\n",
       "      <td>...</td>\n",
       "      <td>...</td>\n",
       "      <td>...</td>\n",
       "      <td>...</td>\n",
       "      <td>...</td>\n",
       "      <td>...</td>\n",
       "      <td>...</td>\n",
       "      <td>...</td>\n",
       "      <td>...</td>\n",
       "      <td>...</td>\n",
       "      <td>...</td>\n",
       "      <td>...</td>\n",
       "      <td>...</td>\n",
       "      <td>...</td>\n",
       "      <td>...</td>\n",
       "      <td>...</td>\n",
       "    </tr>\n",
       "    <tr>\n",
       "      <th>65338</th>\n",
       "      <td>399335</td>\n",
       "      <td>825293</td>\n",
       "      <td>propose treat trump like control year old call...</td>\n",
       "      <td>1</td>\n",
       "      <td>False</td>\n",
       "      <td>[]</td>\n",
       "      <td>0</td>\n",
       "      <td>0</td>\n",
       "      <td>0</td>\n",
       "      <td>0</td>\n",
       "      <td>...</td>\n",
       "      <td>0</td>\n",
       "      <td>0</td>\n",
       "      <td>0</td>\n",
       "      <td>0</td>\n",
       "      <td>0</td>\n",
       "      <td>1</td>\n",
       "      <td>0</td>\n",
       "      <td>0</td>\n",
       "      <td>0</td>\n",
       "      <td>0</td>\n",
       "    </tr>\n",
       "    <tr>\n",
       "      <th>65339</th>\n",
       "      <td>35674</td>\n",
       "      <td>5969113</td>\n",
       "      <td>yet break law point cato globalist whore</td>\n",
       "      <td>1</td>\n",
       "      <td>False</td>\n",
       "      <td>[]</td>\n",
       "      <td>0</td>\n",
       "      <td>0</td>\n",
       "      <td>0</td>\n",
       "      <td>0</td>\n",
       "      <td>...</td>\n",
       "      <td>0</td>\n",
       "      <td>0</td>\n",
       "      <td>0</td>\n",
       "      <td>0</td>\n",
       "      <td>0</td>\n",
       "      <td>1</td>\n",
       "      <td>0</td>\n",
       "      <td>1</td>\n",
       "      <td>0</td>\n",
       "      <td>0</td>\n",
       "    </tr>\n",
       "    <tr>\n",
       "      <th>65340</th>\n",
       "      <td>231173</td>\n",
       "      <td>601614</td>\n",
       "      <td>lol well reason somewhere penultimate paragrap...</td>\n",
       "      <td>0</td>\n",
       "      <td>False</td>\n",
       "      <td>[]</td>\n",
       "      <td>0</td>\n",
       "      <td>0</td>\n",
       "      <td>0</td>\n",
       "      <td>0</td>\n",
       "      <td>...</td>\n",
       "      <td>0</td>\n",
       "      <td>0</td>\n",
       "      <td>0</td>\n",
       "      <td>0</td>\n",
       "      <td>0</td>\n",
       "      <td>0</td>\n",
       "      <td>0</td>\n",
       "      <td>0</td>\n",
       "      <td>0</td>\n",
       "      <td>0</td>\n",
       "    </tr>\n",
       "    <tr>\n",
       "      <th>65341</th>\n",
       "      <td>181638</td>\n",
       "      <td>901829</td>\n",
       "      <td>pope francis authoritarian tyrant could imagin...</td>\n",
       "      <td>0</td>\n",
       "      <td>True</td>\n",
       "      <td>[male, christian]</td>\n",
       "      <td>1</td>\n",
       "      <td>0</td>\n",
       "      <td>0</td>\n",
       "      <td>1</td>\n",
       "      <td>...</td>\n",
       "      <td>0</td>\n",
       "      <td>0</td>\n",
       "      <td>0</td>\n",
       "      <td>1</td>\n",
       "      <td>0</td>\n",
       "      <td>0</td>\n",
       "      <td>0</td>\n",
       "      <td>0</td>\n",
       "      <td>0</td>\n",
       "      <td>0</td>\n",
       "    </tr>\n",
       "    <tr>\n",
       "      <th>65342</th>\n",
       "      <td>307787</td>\n",
       "      <td>5398779</td>\n",
       "      <td>believe ever watch morning joe willie geist bi...</td>\n",
       "      <td>1</td>\n",
       "      <td>False</td>\n",
       "      <td>[]</td>\n",
       "      <td>0</td>\n",
       "      <td>0</td>\n",
       "      <td>0</td>\n",
       "      <td>0</td>\n",
       "      <td>...</td>\n",
       "      <td>0</td>\n",
       "      <td>0</td>\n",
       "      <td>0</td>\n",
       "      <td>0</td>\n",
       "      <td>0</td>\n",
       "      <td>0</td>\n",
       "      <td>0</td>\n",
       "      <td>1</td>\n",
       "      <td>0</td>\n",
       "      <td>0</td>\n",
       "    </tr>\n",
       "  </tbody>\n",
       "</table>\n",
       "<p>65343 rows × 21 columns</p>\n",
       "</div>"
      ],
      "text/plain": [
       "          uid       id                                       comment_text  \\\n",
       "0      277992   865178  guess woman appear run away foolish garble pos...   \n",
       "1       22783  5648086  even give us exact date st cyril birth simply ...   \n",
       "2       20244  5287400  yup alaskans saw republican alternative aca lo...   \n",
       "3      315203  5946831  huh stop go hour freeway car stop power get go...   \n",
       "4       70481   546025                                      well say sir    \n",
       "...       ...      ...                                                ...   \n",
       "65338  399335   825293  propose treat trump like control year old call...   \n",
       "65339   35674  5969113          yet break law point cato globalist whore    \n",
       "65340  231173   601614  lol well reason somewhere penultimate paragrap...   \n",
       "65341  181638   901829  pope francis authoritarian tyrant could imagin...   \n",
       "65342  307787  5398779  believe ever watch morning joe willie geist bi...   \n",
       "\n",
       "       toxicity  has_active_attrs             active_attrs  male  female  \\\n",
       "0             1              True      [female, christian]     0       1   \n",
       "1             1              True  [male, other_religions]     1       0   \n",
       "2             0             False                       []     0       0   \n",
       "3             0             False                       []     0       0   \n",
       "4             0             False                       []     0       0   \n",
       "...         ...               ...                      ...   ...     ...   \n",
       "65338         1             False                       []     0       0   \n",
       "65339         1             False                       []     0       0   \n",
       "65340         0             False                       []     0       0   \n",
       "65341         0              True        [male, christian]     1       0   \n",
       "65342         1             False                       []     0       0   \n",
       "\n",
       "       LGBTQ  christian  ...  other_religions  black  white  identity_any  \\\n",
       "0          0          1  ...                0      0      0             1   \n",
       "1          0          0  ...                1      0      0             1   \n",
       "2          0          0  ...                0      0      0             0   \n",
       "3          0          0  ...                0      0      0             0   \n",
       "4          0          0  ...                0      0      0             0   \n",
       "...      ...        ...  ...              ...    ...    ...           ...   \n",
       "65338      0          0  ...                0      0      0             0   \n",
       "65339      0          0  ...                0      0      0             0   \n",
       "65340      0          0  ...                0      0      0             0   \n",
       "65341      0          1  ...                0      0      0             1   \n",
       "65342      0          0  ...                0      0      0             0   \n",
       "\n",
       "       severe_toxicity  obscene  threat  insult  identity_attack  \\\n",
       "0                    0        0       0       0                0   \n",
       "1                    0        0       0       0                0   \n",
       "2                    0        0       0       0                0   \n",
       "3                    0        0       0       0                0   \n",
       "4                    0        0       0       0                0   \n",
       "...                ...      ...     ...     ...              ...   \n",
       "65338                0        1       0       0                0   \n",
       "65339                0        1       0       1                0   \n",
       "65340                0        0       0       0                0   \n",
       "65341                0        0       0       0                0   \n",
       "65342                0        0       0       1                0   \n",
       "\n",
       "       sexual_explicit  \n",
       "0                    0  \n",
       "1                    0  \n",
       "2                    0  \n",
       "3                    0  \n",
       "4                    0  \n",
       "...                ...  \n",
       "65338                0  \n",
       "65339                0  \n",
       "65340                0  \n",
       "65341                0  \n",
       "65342                0  \n",
       "\n",
       "[65343 rows x 21 columns]"
      ]
     },
     "execution_count": 39,
     "metadata": {},
     "output_type": "execute_result"
    }
   ],
   "source": [
    "civil_df"
   ]
  },
  {
   "cell_type": "markdown",
   "id": "731f237b-e825-4a02-97ba-705ac126d1fb",
   "metadata": {},
   "source": [
    "#### Define FeatureGroups¶"
   ]
  },
  {
   "cell_type": "code",
   "execution_count": null,
   "id": "db98c009-29d4-4ed6-9d59-dcea5a888442",
   "metadata": {
    "execution": {
     "iopub.execute_input": "2025-09-24T04:12:33.159155Z",
     "iopub.status.busy": "2025-09-24T04:12:33.158833Z",
     "iopub.status.idle": "2025-09-24T04:12:33.163184Z",
     "shell.execute_reply": "2025-09-24T04:12:33.162081Z",
     "shell.execute_reply.started": "2025-09-24T04:12:33.159133Z"
    }
   },
   "outputs": [],
   "source": [
    "train_feature_group_name = \"train-feature-group\"\n",
    "validation_feature_group_name = \"validation-feature-group\"\n",
    "test_feature_group_name = \"test-feature-group\""
   ]
  },
  {
   "cell_type": "code",
   "execution_count": null,
   "id": "d9956ac9-a58a-4134-bab8-460d31d8ab50",
   "metadata": {
    "execution": {
     "iopub.execute_input": "2025-09-24T04:17:00.566477Z",
     "iopub.status.busy": "2025-09-24T04:17:00.565269Z",
     "iopub.status.idle": "2025-09-24T04:17:00.571255Z",
     "shell.execute_reply": "2025-09-24T04:17:00.569762Z",
     "shell.execute_reply.started": "2025-09-24T04:17:00.566443Z"
    }
   },
   "outputs": [],
   "source": [
    "from sagemaker.feature_store.feature_group import FeatureGroup\n",
    "\n",
    "train_feature_group = FeatureGroup(name=train_feature_group_name, sagemaker_session=feature_store_session)\n",
    "validation_feature_group = FeatureGroup(name=validation_feature_group_name, sagemaker_session=feature_store_session)\n",
    "test_feature_group = FeatureGroup(name=test_feature_group_name, sagemaker_session=feature_store_session)\n"
   ]
  },
  {
   "cell_type": "code",
   "execution_count": 40,
   "id": "3b452554-c88a-4c0f-ae6b-9a096f0354ed",
   "metadata": {
    "execution": {
     "iopub.execute_input": "2025-09-24T04:17:06.332949Z",
     "iopub.status.busy": "2025-09-24T04:17:06.332672Z",
     "iopub.status.idle": "2025-09-24T04:17:06.349993Z",
     "shell.execute_reply": "2025-09-24T04:17:06.349000Z",
     "shell.execute_reply.started": "2025-09-24T04:17:06.332928Z"
    }
   },
   "outputs": [],
   "source": [
    "train_df = civil_df[['id','comment_text','toxicity']]\n",
    "validation_df = civil_val_df[['id','comment_text','toxicity']]\n",
    "test_df = civil_test_df[['id','comment_text','toxicity']]"
   ]
  },
  {
   "cell_type": "code",
   "execution_count": 56,
   "id": "d3df5b52-77b8-4e87-b7e9-aca0d1d6beb7",
   "metadata": {
    "execution": {
     "iopub.execute_input": "2025-09-24T04:17:06.905481Z",
     "iopub.status.busy": "2025-09-24T04:17:06.905087Z",
     "iopub.status.idle": "2025-09-24T04:17:06.911521Z",
     "shell.execute_reply": "2025-09-24T04:17:06.910741Z",
     "shell.execute_reply.started": "2025-09-24T04:17:06.905446Z"
    }
   },
   "outputs": [],
   "source": [
    "import time\n",
    "\n",
    "current_time_sec = int(round(time.time()))\n",
    "record_identifier_feature_name = \"id\"\n",
    "event_time_feature_name = \"EventTime\"\n",
    "\n",
    "def cast_object_to_string(data_frame):\n",
    "    for label in data_frame.columns:\n",
    "        if data_frame.dtypes[label] == \"object\":\n",
    "            data_frame[label] = data_frame[label].astype(\"str\").astype(\"string\")\n",
    "    return data_frame\n",
    "\n",
    "\n",
    "def appendEventTime(df):\n",
    "    # append EventTime feature\n",
    "    df[event_time_feature_name] = pd.Series(\n",
    "        [current_time_sec] * len(df), dtype=\"float64\"\n",
    "    )\n",
    "    return df"
   ]
  },
  {
   "cell_type": "code",
   "execution_count": 59,
   "id": "71fd0fb9",
   "metadata": {},
   "outputs": [
    {
     "name": "stderr",
     "output_type": "stream",
     "text": [
      "/var/folders/0_/skr2d259613gs33jbnv_ytn80000gn/T/ipykernel_70993/2462134971.py:1: SettingWithCopyWarning: \n",
      "A value is trying to be set on a copy of a slice from a DataFrame\n",
      "\n",
      "See the caveats in the documentation: https://pandas.pydata.org/pandas-docs/stable/user_guide/indexing.html#returning-a-view-versus-a-copy\n",
      "  train_df.drop([\"event_time_feature_name\"], axis=1, inplace=True)\n",
      "/var/folders/0_/skr2d259613gs33jbnv_ytn80000gn/T/ipykernel_70993/2462134971.py:2: SettingWithCopyWarning: \n",
      "A value is trying to be set on a copy of a slice from a DataFrame\n",
      "\n",
      "See the caveats in the documentation: https://pandas.pydata.org/pandas-docs/stable/user_guide/indexing.html#returning-a-view-versus-a-copy\n",
      "  validation_df.drop([\"event_time_feature_name\"], axis=1, inplace=True)\n",
      "/var/folders/0_/skr2d259613gs33jbnv_ytn80000gn/T/ipykernel_70993/2462134971.py:3: SettingWithCopyWarning: \n",
      "A value is trying to be set on a copy of a slice from a DataFrame\n",
      "\n",
      "See the caveats in the documentation: https://pandas.pydata.org/pandas-docs/stable/user_guide/indexing.html#returning-a-view-versus-a-copy\n",
      "  test_df.drop([\"event_time_feature_name\"], axis=1, inplace=True)\n"
     ]
    }
   ],
   "source": [
    "train_df.drop([\"event_time_feature_name\"], axis=1, inplace=True)\n",
    "validation_df.drop([\"event_time_feature_name\"], axis=1, inplace=True)\n",
    "test_df.drop([\"event_time_feature_name\"], axis=1, inplace=True)"
   ]
  },
  {
   "cell_type": "code",
   "execution_count": 57,
   "id": "c4dcd52d-4c5e-4376-a3ef-600a6145befd",
   "metadata": {
    "execution": {
     "iopub.execute_input": "2025-09-24T04:17:09.020490Z",
     "iopub.status.busy": "2025-09-24T04:17:09.020196Z",
     "iopub.status.idle": "2025-09-24T04:17:09.046634Z",
     "shell.execute_reply": "2025-09-24T04:17:09.045719Z",
     "shell.execute_reply.started": "2025-09-24T04:17:09.020467Z"
    }
   },
   "outputs": [
    {
     "name": "stderr",
     "output_type": "stream",
     "text": [
      "/var/folders/0_/skr2d259613gs33jbnv_ytn80000gn/T/ipykernel_70993/1403513962.py:16: SettingWithCopyWarning: \n",
      "A value is trying to be set on a copy of a slice from a DataFrame.\n",
      "Try using .loc[row_indexer,col_indexer] = value instead\n",
      "\n",
      "See the caveats in the documentation: https://pandas.pydata.org/pandas-docs/stable/user_guide/indexing.html#returning-a-view-versus-a-copy\n",
      "  df[event_time_feature_name] = pd.Series(\n",
      "/var/folders/0_/skr2d259613gs33jbnv_ytn80000gn/T/ipykernel_70993/1403513962.py:16: SettingWithCopyWarning: \n",
      "A value is trying to be set on a copy of a slice from a DataFrame.\n",
      "Try using .loc[row_indexer,col_indexer] = value instead\n",
      "\n",
      "See the caveats in the documentation: https://pandas.pydata.org/pandas-docs/stable/user_guide/indexing.html#returning-a-view-versus-a-copy\n",
      "  df[event_time_feature_name] = pd.Series(\n",
      "/var/folders/0_/skr2d259613gs33jbnv_ytn80000gn/T/ipykernel_70993/1403513962.py:16: SettingWithCopyWarning: \n",
      "A value is trying to be set on a copy of a slice from a DataFrame.\n",
      "Try using .loc[row_indexer,col_indexer] = value instead\n",
      "\n",
      "See the caveats in the documentation: https://pandas.pydata.org/pandas-docs/stable/user_guide/indexing.html#returning-a-view-versus-a-copy\n",
      "  df[event_time_feature_name] = pd.Series(\n"
     ]
    }
   ],
   "source": [
    "# cast object dtype to string. The SageMaker FeatureStore Python SDK will then map the string dtype to String feature type.\n",
    "train_df = cast_object_to_string(train_df)\n",
    "validation_df = cast_object_to_string(validation_df)\n",
    "test_df = cast_object_to_string(test_df)\n",
    "\n",
    "# append event time\n",
    "\n",
    "train_df = appendEventTime(train_df)\n",
    "validation_df = appendEventTime(validation_df)\n",
    "test_df = appendEventTime(test_df)"
   ]
  },
  {
   "cell_type": "code",
   "execution_count": null,
   "id": "d44f3f00-0450-4046-bb65-c8a99d0c594d",
   "metadata": {
    "execution": {
     "iopub.execute_input": "2025-09-24T04:17:28.126877Z",
     "iopub.status.busy": "2025-09-24T04:17:28.126432Z",
     "iopub.status.idle": "2025-09-24T04:17:28.134156Z",
     "shell.execute_reply": "2025-09-24T04:17:28.133028Z",
     "shell.execute_reply.started": "2025-09-24T04:17:28.126849Z"
    }
   },
   "outputs": [
    {
     "data": {
      "text/plain": [
       "[FeatureDefinition(feature_name='id', feature_type=<FeatureTypeEnum.INTEGRAL: 'Integral'>, collection_type=None),\n",
       " FeatureDefinition(feature_name='toxicity', feature_type=<FeatureTypeEnum.INTEGRAL: 'Integral'>, collection_type=None),\n",
       " FeatureDefinition(feature_name='severe_toxicity', feature_type=<FeatureTypeEnum.INTEGRAL: 'Integral'>, collection_type=None),\n",
       " FeatureDefinition(feature_name='obscene', feature_type=<FeatureTypeEnum.INTEGRAL: 'Integral'>, collection_type=None),\n",
       " FeatureDefinition(feature_name='threat', feature_type=<FeatureTypeEnum.INTEGRAL: 'Integral'>, collection_type=None),\n",
       " FeatureDefinition(feature_name='insult', feature_type=<FeatureTypeEnum.INTEGRAL: 'Integral'>, collection_type=None),\n",
       " FeatureDefinition(feature_name='identity_attack', feature_type=<FeatureTypeEnum.INTEGRAL: 'Integral'>, collection_type=None),\n",
       " FeatureDefinition(feature_name='sexual_explicit', feature_type=<FeatureTypeEnum.INTEGRAL: 'Integral'>, collection_type=None),\n",
       " FeatureDefinition(feature_name='EventTime', feature_type=<FeatureTypeEnum.FRACTIONAL: 'Fractional'>, collection_type=None)]"
      ]
     },
     "execution_count": 109,
     "metadata": {},
     "output_type": "execute_result"
    }
   ],
   "source": [
    "# load feature definitions to the feature group. SageMaker FeatureStore Python SDK will auto-detect the data schema based on input data.\n",
    "train_feature_group.load_feature_definitions(data_frame=train_df)\n",
    "validation_feature_group.load_feature_definitions(data_frame=validation_df)\n",
    "test_feature_group.load_feature_definitions(data_frame=test_df)"
   ]
  },
  {
   "cell_type": "code",
   "execution_count": null,
   "id": "10828745-add1-4fa9-ba74-7dc475194219",
   "metadata": {
    "execution": {
     "iopub.execute_input": "2025-09-24T04:23:12.049879Z",
     "iopub.status.busy": "2025-09-24T04:23:12.049369Z",
     "iopub.status.idle": "2025-09-24T04:23:12.689889Z",
     "shell.execute_reply": "2025-09-24T04:23:12.688869Z",
     "shell.execute_reply.started": "2025-09-24T04:23:12.049854Z"
    }
   },
   "outputs": [
    {
     "name": "stdout",
     "output_type": "stream",
     "text": [
      "text-feature-group\n",
      "✅ Feature group exists. Status: Created\n",
      "identity-feature-group\n",
      "❌ identity-feature-group does not exist.\n",
      "label-feature-group\n",
      "❌ label-feature-group does not exist.\n"
     ]
    }
   ],
   "source": [
    "def featureGroupExists(feature_group_name):\n",
    "    print(feature_group_name)\n",
    "    # SageMaker client (not session)\n",
    "    sm_client = boto3.client(\"sagemaker\", region_name=region)\n",
    "    featureGroupExists = False\n",
    "    try:\n",
    "        response = sm_client.describe_feature_group(FeatureGroupName=feature_group_name)\n",
    "        featureGroupExists = True\n",
    "        print(f\"✅ Feature group exists. Status: {response['FeatureGroupStatus']}\")\n",
    "    except sm_client.exceptions.ResourceNotFound:\n",
    "        featureGroupExists=False\n",
    "        print(f\"❌ {feature_group_name} does not exist.\")\n",
    "    return featureGroupExists\n",
    "\n",
    "text_feature_group_exists = featureGroupExists(train_feature_group_name)\n",
    "identity_feature_group_exists = featureGroupExists(validation_feature_group_name)\n",
    "label_feature_group_exists = featureGroupExists(test_feature_group_name)"
   ]
  },
  {
   "cell_type": "code",
   "execution_count": null,
   "id": "fa3e8500-6028-472b-a7f9-4861b41df7c7",
   "metadata": {
    "execution": {
     "iopub.execute_input": "2025-09-24T04:25:48.605207Z",
     "iopub.status.busy": "2025-09-24T04:25:48.604834Z",
     "iopub.status.idle": "2025-09-24T04:26:31.894702Z",
     "shell.execute_reply": "2025-09-24T04:26:31.893771Z",
     "shell.execute_reply.started": "2025-09-24T04:25:48.605177Z"
    }
   },
   "outputs": [
    {
     "name": "stdout",
     "output_type": "stream",
     "text": [
      "text-feature-group\n",
      "✅ Feature group exists. Status: Created\n",
      "text-feature-group already exists\n",
      "identity-feature-group\n",
      "❌ identity-feature-group does not exist.\n",
      "Waiting for Feature Group Creation\n",
      "Waiting for Feature Group Creation\n",
      "Waiting for Feature Group Creation\n",
      "Waiting for Feature Group Creation\n",
      "FeatureGroup identity-feature-group successfully created.\n",
      "label-feature-group\n",
      "❌ label-feature-group does not exist.\n",
      "Waiting for Feature Group Creation\n",
      "Waiting for Feature Group Creation\n",
      "Waiting for Feature Group Creation\n",
      "Waiting for Feature Group Creation\n",
      "FeatureGroup label-feature-group successfully created.\n"
     ]
    }
   ],
   "source": [
    "def wait_for_feature_group_creation_complete(feature_group):\n",
    "    status = feature_group.describe().get(\"FeatureGroupStatus\")\n",
    "    while status == \"Creating\":\n",
    "        print(\"Waiting for Feature Group Creation\")\n",
    "        time.sleep(5)\n",
    "        status = feature_group.describe().get(\"FeatureGroupStatus\")\n",
    "    if status != \"Created\":\n",
    "        raise RuntimeError(f\"Failed to create feature group {feature_group.name}\")\n",
    "    print(f\"FeatureGroup {feature_group.name} successfully created.\")\n",
    "\n",
    "def create_feature_group(feature_group, fg_Exists):\n",
    "    fg_Exists = featureGroupExists(feature_group.name)\n",
    "    if not fg_Exists:\n",
    "        feature_group.create(\n",
    "            s3_uri=f\"s3://{default_s3_bucket_name}/{prefix}\",\n",
    "            record_identifier_name=record_identifier_feature_name,\n",
    "            event_time_feature_name=event_time_feature_name,\n",
    "            role_arn=role,\n",
    "            enable_online_store=True,\n",
    "        )\n",
    "        wait_for_feature_group_creation_complete(feature_group)\n",
    "    else:\n",
    "        print(f\"{feature_group.name} already exists\")\n",
    "    \n",
    "\n",
    "create_feature_group(train_feature_group,text_feature_group_exists)\n",
    "create_feature_group(validation_feature_group, identity_feature_group_exists)\n",
    "create_feature_group(test_feature_group,label_feature_group_exists)\n",
    "\n"
   ]
  },
  {
   "cell_type": "code",
   "execution_count": null,
   "id": "34373d54-b446-4ae0-ac35-c3ac69733f49",
   "metadata": {
    "execution": {
     "iopub.execute_input": "2025-09-24T04:27:43.114464Z",
     "iopub.status.busy": "2025-09-24T04:27:43.114158Z",
     "iopub.status.idle": "2025-09-24T04:27:43.293553Z",
     "shell.execute_reply": "2025-09-24T04:27:43.292462Z",
     "shell.execute_reply.started": "2025-09-24T04:27:43.114441Z"
    }
   },
   "outputs": [
    {
     "data": {
      "text/plain": [
       "{'FeatureGroupArn': 'arn:aws:sagemaker:us-east-1:590183687297:feature-group/text-feature-group',\n",
       " 'FeatureGroupName': 'text-feature-group',\n",
       " 'RecordIdentifierFeatureName': 'id',\n",
       " 'EventTimeFeatureName': 'EventTime',\n",
       " 'FeatureDefinitions': [{'FeatureName': 'id', 'FeatureType': 'Integral'},\n",
       "  {'FeatureName': 'comment_text', 'FeatureType': 'String'},\n",
       "  {'FeatureName': 'toxicity', 'FeatureType': 'Integral'},\n",
       "  {'FeatureName': 'EventTime', 'FeatureType': 'Fractional'}],\n",
       " 'CreationTime': datetime.datetime(2025, 9, 24, 4, 17, 43, 61000, tzinfo=tzlocal()),\n",
       " 'OnlineStoreConfig': {'EnableOnlineStore': True},\n",
       " 'OfflineStoreConfig': {'S3StorageConfig': {'S3Uri': 's3://sagemaker-us-east-1-590183687297/toxicity_pds/parquet',\n",
       "   'ResolvedOutputS3Uri': 's3://sagemaker-us-east-1-590183687297/toxicity_pds/parquet/590183687297/sagemaker/us-east-1/offline-store/text-feature-group-1758687463/data'},\n",
       "  'DisableGlueTableCreation': False,\n",
       "  'DataCatalogConfig': {'TableName': 'text_feature_group_1758687463',\n",
       "   'Catalog': 'AwsDataCatalog',\n",
       "   'Database': 'sagemaker_featurestore'}},\n",
       " 'ThroughputConfig': {'ThroughputMode': 'OnDemand'},\n",
       " 'RoleArn': 'arn:aws:iam::590183687297:role/LabRole',\n",
       " 'FeatureGroupStatus': 'Created',\n",
       " 'OnlineStoreTotalSizeBytes': 0,\n",
       " 'ResponseMetadata': {'RequestId': '0ab06884-9eb3-4426-9446-f83a94c9c7aa',\n",
       "  'HTTPStatusCode': 200,\n",
       "  'HTTPHeaders': {'x-amzn-requestid': '0ab06884-9eb3-4426-9446-f83a94c9c7aa',\n",
       "   'strict-transport-security': 'max-age=47304000; includeSubDomains',\n",
       "   'x-frame-options': 'DENY',\n",
       "   'content-security-policy': \"frame-ancestors 'none'\",\n",
       "   'cache-control': 'no-cache, no-store, must-revalidate',\n",
       "   'x-content-type-options': 'nosniff',\n",
       "   'content-type': 'application/x-amz-json-1.1',\n",
       "   'content-length': '1545',\n",
       "   'date': 'Wed, 24 Sep 2025 04:27:43 GMT'},\n",
       "  'RetryAttempts': 0}}"
      ]
     },
     "execution_count": 123,
     "metadata": {},
     "output_type": "execute_result"
    }
   ],
   "source": [
    "train_feature_group.describe()"
   ]
  },
  {
   "cell_type": "code",
   "execution_count": 69,
   "id": "f3da1408",
   "metadata": {},
   "outputs": [],
   "source": [
    "X_train, y_train = train_data[\"comment_text\"], train_data[\"toxicity\"]\n",
    "X_val, y_val = validation_data[\"comment_text\"], validation_data[\"toxicity\"]\n",
    "X_test, y_test = test_data[\"comment_text\"], test_data[\"toxicity\"]"
   ]
  },
  {
   "cell_type": "code",
   "execution_count": 78,
   "id": "de2bef95",
   "metadata": {},
   "outputs": [],
   "source": [
    "import os, re, sys, json, warnings\n",
    "from sklearn.feature_extraction.text import TfidfVectorizer\n",
    "from sklearn.svm import LinearSVC\n",
    "from sklearn.model_selection import train_test_split, cross_val_score\n",
    "from sklearn.metrics import classification_report, f1_score, accuracy_score\n",
    "from sklearn.naive_bayes import MultinomialNB\n",
    "from sklearn.ensemble import RandomForestClassifier\n",
    "from sklearn.linear_model import LogisticRegression\n",
    "import xgboost as xgb\n",
    "\n",
    "warnings.filterwarnings(\"ignore\", category=UserWarning)"
   ]
  },
  {
   "cell_type": "code",
   "execution_count": null,
   "id": "a81cff68",
   "metadata": {},
   "outputs": [
    {
     "data": {
      "text/html": [
       "<style>#sk-container-id-1 {\n",
       "  /* Definition of color scheme common for light and dark mode */\n",
       "  --sklearn-color-text: #000;\n",
       "  --sklearn-color-text-muted: #666;\n",
       "  --sklearn-color-line: gray;\n",
       "  /* Definition of color scheme for unfitted estimators */\n",
       "  --sklearn-color-unfitted-level-0: #fff5e6;\n",
       "  --sklearn-color-unfitted-level-1: #f6e4d2;\n",
       "  --sklearn-color-unfitted-level-2: #ffe0b3;\n",
       "  --sklearn-color-unfitted-level-3: chocolate;\n",
       "  /* Definition of color scheme for fitted estimators */\n",
       "  --sklearn-color-fitted-level-0: #f0f8ff;\n",
       "  --sklearn-color-fitted-level-1: #d4ebff;\n",
       "  --sklearn-color-fitted-level-2: #b3dbfd;\n",
       "  --sklearn-color-fitted-level-3: cornflowerblue;\n",
       "\n",
       "  /* Specific color for light theme */\n",
       "  --sklearn-color-text-on-default-background: var(--sg-text-color, var(--theme-code-foreground, var(--jp-content-font-color1, black)));\n",
       "  --sklearn-color-background: var(--sg-background-color, var(--theme-background, var(--jp-layout-color0, white)));\n",
       "  --sklearn-color-border-box: var(--sg-text-color, var(--theme-code-foreground, var(--jp-content-font-color1, black)));\n",
       "  --sklearn-color-icon: #696969;\n",
       "\n",
       "  @media (prefers-color-scheme: dark) {\n",
       "    /* Redefinition of color scheme for dark theme */\n",
       "    --sklearn-color-text-on-default-background: var(--sg-text-color, var(--theme-code-foreground, var(--jp-content-font-color1, white)));\n",
       "    --sklearn-color-background: var(--sg-background-color, var(--theme-background, var(--jp-layout-color0, #111)));\n",
       "    --sklearn-color-border-box: var(--sg-text-color, var(--theme-code-foreground, var(--jp-content-font-color1, white)));\n",
       "    --sklearn-color-icon: #878787;\n",
       "  }\n",
       "}\n",
       "\n",
       "#sk-container-id-1 {\n",
       "  color: var(--sklearn-color-text);\n",
       "}\n",
       "\n",
       "#sk-container-id-1 pre {\n",
       "  padding: 0;\n",
       "}\n",
       "\n",
       "#sk-container-id-1 input.sk-hidden--visually {\n",
       "  border: 0;\n",
       "  clip: rect(1px 1px 1px 1px);\n",
       "  clip: rect(1px, 1px, 1px, 1px);\n",
       "  height: 1px;\n",
       "  margin: -1px;\n",
       "  overflow: hidden;\n",
       "  padding: 0;\n",
       "  position: absolute;\n",
       "  width: 1px;\n",
       "}\n",
       "\n",
       "#sk-container-id-1 div.sk-dashed-wrapped {\n",
       "  border: 1px dashed var(--sklearn-color-line);\n",
       "  margin: 0 0.4em 0.5em 0.4em;\n",
       "  box-sizing: border-box;\n",
       "  padding-bottom: 0.4em;\n",
       "  background-color: var(--sklearn-color-background);\n",
       "}\n",
       "\n",
       "#sk-container-id-1 div.sk-container {\n",
       "  /* jupyter's `normalize.less` sets `[hidden] { display: none; }`\n",
       "     but bootstrap.min.css set `[hidden] { display: none !important; }`\n",
       "     so we also need the `!important` here to be able to override the\n",
       "     default hidden behavior on the sphinx rendered scikit-learn.org.\n",
       "     See: https://github.com/scikit-learn/scikit-learn/issues/21755 */\n",
       "  display: inline-block !important;\n",
       "  position: relative;\n",
       "}\n",
       "\n",
       "#sk-container-id-1 div.sk-text-repr-fallback {\n",
       "  display: none;\n",
       "}\n",
       "\n",
       "div.sk-parallel-item,\n",
       "div.sk-serial,\n",
       "div.sk-item {\n",
       "  /* draw centered vertical line to link estimators */\n",
       "  background-image: linear-gradient(var(--sklearn-color-text-on-default-background), var(--sklearn-color-text-on-default-background));\n",
       "  background-size: 2px 100%;\n",
       "  background-repeat: no-repeat;\n",
       "  background-position: center center;\n",
       "}\n",
       "\n",
       "/* Parallel-specific style estimator block */\n",
       "\n",
       "#sk-container-id-1 div.sk-parallel-item::after {\n",
       "  content: \"\";\n",
       "  width: 100%;\n",
       "  border-bottom: 2px solid var(--sklearn-color-text-on-default-background);\n",
       "  flex-grow: 1;\n",
       "}\n",
       "\n",
       "#sk-container-id-1 div.sk-parallel {\n",
       "  display: flex;\n",
       "  align-items: stretch;\n",
       "  justify-content: center;\n",
       "  background-color: var(--sklearn-color-background);\n",
       "  position: relative;\n",
       "}\n",
       "\n",
       "#sk-container-id-1 div.sk-parallel-item {\n",
       "  display: flex;\n",
       "  flex-direction: column;\n",
       "}\n",
       "\n",
       "#sk-container-id-1 div.sk-parallel-item:first-child::after {\n",
       "  align-self: flex-end;\n",
       "  width: 50%;\n",
       "}\n",
       "\n",
       "#sk-container-id-1 div.sk-parallel-item:last-child::after {\n",
       "  align-self: flex-start;\n",
       "  width: 50%;\n",
       "}\n",
       "\n",
       "#sk-container-id-1 div.sk-parallel-item:only-child::after {\n",
       "  width: 0;\n",
       "}\n",
       "\n",
       "/* Serial-specific style estimator block */\n",
       "\n",
       "#sk-container-id-1 div.sk-serial {\n",
       "  display: flex;\n",
       "  flex-direction: column;\n",
       "  align-items: center;\n",
       "  background-color: var(--sklearn-color-background);\n",
       "  padding-right: 1em;\n",
       "  padding-left: 1em;\n",
       "}\n",
       "\n",
       "\n",
       "/* Toggleable style: style used for estimator/Pipeline/ColumnTransformer box that is\n",
       "clickable and can be expanded/collapsed.\n",
       "- Pipeline and ColumnTransformer use this feature and define the default style\n",
       "- Estimators will overwrite some part of the style using the `sk-estimator` class\n",
       "*/\n",
       "\n",
       "/* Pipeline and ColumnTransformer style (default) */\n",
       "\n",
       "#sk-container-id-1 div.sk-toggleable {\n",
       "  /* Default theme specific background. It is overwritten whether we have a\n",
       "  specific estimator or a Pipeline/ColumnTransformer */\n",
       "  background-color: var(--sklearn-color-background);\n",
       "}\n",
       "\n",
       "/* Toggleable label */\n",
       "#sk-container-id-1 label.sk-toggleable__label {\n",
       "  cursor: pointer;\n",
       "  display: flex;\n",
       "  width: 100%;\n",
       "  margin-bottom: 0;\n",
       "  padding: 0.5em;\n",
       "  box-sizing: border-box;\n",
       "  text-align: center;\n",
       "  align-items: start;\n",
       "  justify-content: space-between;\n",
       "  gap: 0.5em;\n",
       "}\n",
       "\n",
       "#sk-container-id-1 label.sk-toggleable__label .caption {\n",
       "  font-size: 0.6rem;\n",
       "  font-weight: lighter;\n",
       "  color: var(--sklearn-color-text-muted);\n",
       "}\n",
       "\n",
       "#sk-container-id-1 label.sk-toggleable__label-arrow:before {\n",
       "  /* Arrow on the left of the label */\n",
       "  content: \"▸\";\n",
       "  float: left;\n",
       "  margin-right: 0.25em;\n",
       "  color: var(--sklearn-color-icon);\n",
       "}\n",
       "\n",
       "#sk-container-id-1 label.sk-toggleable__label-arrow:hover:before {\n",
       "  color: var(--sklearn-color-text);\n",
       "}\n",
       "\n",
       "/* Toggleable content - dropdown */\n",
       "\n",
       "#sk-container-id-1 div.sk-toggleable__content {\n",
       "  display: none;\n",
       "  text-align: left;\n",
       "  /* unfitted */\n",
       "  background-color: var(--sklearn-color-unfitted-level-0);\n",
       "}\n",
       "\n",
       "#sk-container-id-1 div.sk-toggleable__content.fitted {\n",
       "  /* fitted */\n",
       "  background-color: var(--sklearn-color-fitted-level-0);\n",
       "}\n",
       "\n",
       "#sk-container-id-1 div.sk-toggleable__content pre {\n",
       "  margin: 0.2em;\n",
       "  border-radius: 0.25em;\n",
       "  color: var(--sklearn-color-text);\n",
       "  /* unfitted */\n",
       "  background-color: var(--sklearn-color-unfitted-level-0);\n",
       "}\n",
       "\n",
       "#sk-container-id-1 div.sk-toggleable__content.fitted pre {\n",
       "  /* unfitted */\n",
       "  background-color: var(--sklearn-color-fitted-level-0);\n",
       "}\n",
       "\n",
       "#sk-container-id-1 input.sk-toggleable__control:checked~div.sk-toggleable__content {\n",
       "  /* Expand drop-down */\n",
       "  display: block;\n",
       "  width: 100%;\n",
       "  overflow: visible;\n",
       "}\n",
       "\n",
       "#sk-container-id-1 input.sk-toggleable__control:checked~label.sk-toggleable__label-arrow:before {\n",
       "  content: \"▾\";\n",
       "}\n",
       "\n",
       "/* Pipeline/ColumnTransformer-specific style */\n",
       "\n",
       "#sk-container-id-1 div.sk-label input.sk-toggleable__control:checked~label.sk-toggleable__label {\n",
       "  color: var(--sklearn-color-text);\n",
       "  background-color: var(--sklearn-color-unfitted-level-2);\n",
       "}\n",
       "\n",
       "#sk-container-id-1 div.sk-label.fitted input.sk-toggleable__control:checked~label.sk-toggleable__label {\n",
       "  background-color: var(--sklearn-color-fitted-level-2);\n",
       "}\n",
       "\n",
       "/* Estimator-specific style */\n",
       "\n",
       "/* Colorize estimator box */\n",
       "#sk-container-id-1 div.sk-estimator input.sk-toggleable__control:checked~label.sk-toggleable__label {\n",
       "  /* unfitted */\n",
       "  background-color: var(--sklearn-color-unfitted-level-2);\n",
       "}\n",
       "\n",
       "#sk-container-id-1 div.sk-estimator.fitted input.sk-toggleable__control:checked~label.sk-toggleable__label {\n",
       "  /* fitted */\n",
       "  background-color: var(--sklearn-color-fitted-level-2);\n",
       "}\n",
       "\n",
       "#sk-container-id-1 div.sk-label label.sk-toggleable__label,\n",
       "#sk-container-id-1 div.sk-label label {\n",
       "  /* The background is the default theme color */\n",
       "  color: var(--sklearn-color-text-on-default-background);\n",
       "}\n",
       "\n",
       "/* On hover, darken the color of the background */\n",
       "#sk-container-id-1 div.sk-label:hover label.sk-toggleable__label {\n",
       "  color: var(--sklearn-color-text);\n",
       "  background-color: var(--sklearn-color-unfitted-level-2);\n",
       "}\n",
       "\n",
       "/* Label box, darken color on hover, fitted */\n",
       "#sk-container-id-1 div.sk-label.fitted:hover label.sk-toggleable__label.fitted {\n",
       "  color: var(--sklearn-color-text);\n",
       "  background-color: var(--sklearn-color-fitted-level-2);\n",
       "}\n",
       "\n",
       "/* Estimator label */\n",
       "\n",
       "#sk-container-id-1 div.sk-label label {\n",
       "  font-family: monospace;\n",
       "  font-weight: bold;\n",
       "  display: inline-block;\n",
       "  line-height: 1.2em;\n",
       "}\n",
       "\n",
       "#sk-container-id-1 div.sk-label-container {\n",
       "  text-align: center;\n",
       "}\n",
       "\n",
       "/* Estimator-specific */\n",
       "#sk-container-id-1 div.sk-estimator {\n",
       "  font-family: monospace;\n",
       "  border: 1px dotted var(--sklearn-color-border-box);\n",
       "  border-radius: 0.25em;\n",
       "  box-sizing: border-box;\n",
       "  margin-bottom: 0.5em;\n",
       "  /* unfitted */\n",
       "  background-color: var(--sklearn-color-unfitted-level-0);\n",
       "}\n",
       "\n",
       "#sk-container-id-1 div.sk-estimator.fitted {\n",
       "  /* fitted */\n",
       "  background-color: var(--sklearn-color-fitted-level-0);\n",
       "}\n",
       "\n",
       "/* on hover */\n",
       "#sk-container-id-1 div.sk-estimator:hover {\n",
       "  /* unfitted */\n",
       "  background-color: var(--sklearn-color-unfitted-level-2);\n",
       "}\n",
       "\n",
       "#sk-container-id-1 div.sk-estimator.fitted:hover {\n",
       "  /* fitted */\n",
       "  background-color: var(--sklearn-color-fitted-level-2);\n",
       "}\n",
       "\n",
       "/* Specification for estimator info (e.g. \"i\" and \"?\") */\n",
       "\n",
       "/* Common style for \"i\" and \"?\" */\n",
       "\n",
       ".sk-estimator-doc-link,\n",
       "a:link.sk-estimator-doc-link,\n",
       "a:visited.sk-estimator-doc-link {\n",
       "  float: right;\n",
       "  font-size: smaller;\n",
       "  line-height: 1em;\n",
       "  font-family: monospace;\n",
       "  background-color: var(--sklearn-color-background);\n",
       "  border-radius: 1em;\n",
       "  height: 1em;\n",
       "  width: 1em;\n",
       "  text-decoration: none !important;\n",
       "  margin-left: 0.5em;\n",
       "  text-align: center;\n",
       "  /* unfitted */\n",
       "  border: var(--sklearn-color-unfitted-level-1) 1pt solid;\n",
       "  color: var(--sklearn-color-unfitted-level-1);\n",
       "}\n",
       "\n",
       ".sk-estimator-doc-link.fitted,\n",
       "a:link.sk-estimator-doc-link.fitted,\n",
       "a:visited.sk-estimator-doc-link.fitted {\n",
       "  /* fitted */\n",
       "  border: var(--sklearn-color-fitted-level-1) 1pt solid;\n",
       "  color: var(--sklearn-color-fitted-level-1);\n",
       "}\n",
       "\n",
       "/* On hover */\n",
       "div.sk-estimator:hover .sk-estimator-doc-link:hover,\n",
       ".sk-estimator-doc-link:hover,\n",
       "div.sk-label-container:hover .sk-estimator-doc-link:hover,\n",
       ".sk-estimator-doc-link:hover {\n",
       "  /* unfitted */\n",
       "  background-color: var(--sklearn-color-unfitted-level-3);\n",
       "  color: var(--sklearn-color-background);\n",
       "  text-decoration: none;\n",
       "}\n",
       "\n",
       "div.sk-estimator.fitted:hover .sk-estimator-doc-link.fitted:hover,\n",
       ".sk-estimator-doc-link.fitted:hover,\n",
       "div.sk-label-container:hover .sk-estimator-doc-link.fitted:hover,\n",
       ".sk-estimator-doc-link.fitted:hover {\n",
       "  /* fitted */\n",
       "  background-color: var(--sklearn-color-fitted-level-3);\n",
       "  color: var(--sklearn-color-background);\n",
       "  text-decoration: none;\n",
       "}\n",
       "\n",
       "/* Span, style for the box shown on hovering the info icon */\n",
       ".sk-estimator-doc-link span {\n",
       "  display: none;\n",
       "  z-index: 9999;\n",
       "  position: relative;\n",
       "  font-weight: normal;\n",
       "  right: .2ex;\n",
       "  padding: .5ex;\n",
       "  margin: .5ex;\n",
       "  width: min-content;\n",
       "  min-width: 20ex;\n",
       "  max-width: 50ex;\n",
       "  color: var(--sklearn-color-text);\n",
       "  box-shadow: 2pt 2pt 4pt #999;\n",
       "  /* unfitted */\n",
       "  background: var(--sklearn-color-unfitted-level-0);\n",
       "  border: .5pt solid var(--sklearn-color-unfitted-level-3);\n",
       "}\n",
       "\n",
       ".sk-estimator-doc-link.fitted span {\n",
       "  /* fitted */\n",
       "  background: var(--sklearn-color-fitted-level-0);\n",
       "  border: var(--sklearn-color-fitted-level-3);\n",
       "}\n",
       "\n",
       ".sk-estimator-doc-link:hover span {\n",
       "  display: block;\n",
       "}\n",
       "\n",
       "/* \"?\"-specific style due to the `<a>` HTML tag */\n",
       "\n",
       "#sk-container-id-1 a.estimator_doc_link {\n",
       "  float: right;\n",
       "  font-size: 1rem;\n",
       "  line-height: 1em;\n",
       "  font-family: monospace;\n",
       "  background-color: var(--sklearn-color-background);\n",
       "  border-radius: 1rem;\n",
       "  height: 1rem;\n",
       "  width: 1rem;\n",
       "  text-decoration: none;\n",
       "  /* unfitted */\n",
       "  color: var(--sklearn-color-unfitted-level-1);\n",
       "  border: var(--sklearn-color-unfitted-level-1) 1pt solid;\n",
       "}\n",
       "\n",
       "#sk-container-id-1 a.estimator_doc_link.fitted {\n",
       "  /* fitted */\n",
       "  border: var(--sklearn-color-fitted-level-1) 1pt solid;\n",
       "  color: var(--sklearn-color-fitted-level-1);\n",
       "}\n",
       "\n",
       "/* On hover */\n",
       "#sk-container-id-1 a.estimator_doc_link:hover {\n",
       "  /* unfitted */\n",
       "  background-color: var(--sklearn-color-unfitted-level-3);\n",
       "  color: var(--sklearn-color-background);\n",
       "  text-decoration: none;\n",
       "}\n",
       "\n",
       "#sk-container-id-1 a.estimator_doc_link.fitted:hover {\n",
       "  /* fitted */\n",
       "  background-color: var(--sklearn-color-fitted-level-3);\n",
       "}\n",
       "\n",
       ".estimator-table summary {\n",
       "    padding: .5rem;\n",
       "    font-family: monospace;\n",
       "    cursor: pointer;\n",
       "}\n",
       "\n",
       ".estimator-table details[open] {\n",
       "    padding-left: 0.1rem;\n",
       "    padding-right: 0.1rem;\n",
       "    padding-bottom: 0.3rem;\n",
       "}\n",
       "\n",
       ".estimator-table .parameters-table {\n",
       "    margin-left: auto !important;\n",
       "    margin-right: auto !important;\n",
       "}\n",
       "\n",
       ".estimator-table .parameters-table tr:nth-child(odd) {\n",
       "    background-color: #fff;\n",
       "}\n",
       "\n",
       ".estimator-table .parameters-table tr:nth-child(even) {\n",
       "    background-color: #f6f6f6;\n",
       "}\n",
       "\n",
       ".estimator-table .parameters-table tr:hover {\n",
       "    background-color: #e0e0e0;\n",
       "}\n",
       "\n",
       ".estimator-table table td {\n",
       "    border: 1px solid rgba(106, 105, 104, 0.232);\n",
       "}\n",
       "\n",
       ".user-set td {\n",
       "    color:rgb(255, 94, 0);\n",
       "    text-align: left;\n",
       "}\n",
       "\n",
       ".user-set td.value pre {\n",
       "    color:rgb(255, 94, 0) !important;\n",
       "    background-color: transparent !important;\n",
       "}\n",
       "\n",
       ".default td {\n",
       "    color: black;\n",
       "    text-align: left;\n",
       "}\n",
       "\n",
       ".user-set td i,\n",
       ".default td i {\n",
       "    color: black;\n",
       "}\n",
       "\n",
       ".copy-paste-icon {\n",
       "    background-image: url(data:image/svg+xml;base64,PHN2ZyB4bWxucz0iaHR0cDovL3d3dy53My5vcmcvMjAwMC9zdmciIHZpZXdCb3g9IjAgMCA0NDggNTEyIj48IS0tIUZvbnQgQXdlc29tZSBGcmVlIDYuNy4yIGJ5IEBmb250YXdlc29tZSAtIGh0dHBzOi8vZm9udGF3ZXNvbWUuY29tIExpY2Vuc2UgLSBodHRwczovL2ZvbnRhd2Vzb21lLmNvbS9saWNlbnNlL2ZyZWUgQ29weXJpZ2h0IDIwMjUgRm9udGljb25zLCBJbmMuLS0+PHBhdGggZD0iTTIwOCAwTDMzMi4xIDBjMTIuNyAwIDI0LjkgNS4xIDMzLjkgMTQuMWw2Ny45IDY3LjljOSA5IDE0LjEgMjEuMiAxNC4xIDMzLjlMNDQ4IDMzNmMwIDI2LjUtMjEuNSA0OC00OCA0OGwtMTkyIDBjLTI2LjUgMC00OC0yMS41LTQ4LTQ4bDAtMjg4YzAtMjYuNSAyMS41LTQ4IDQ4LTQ4ek00OCAxMjhsODAgMCAwIDY0LTY0IDAgMCAyNTYgMTkyIDAgMC0zMiA2NCAwIDAgNDhjMCAyNi41LTIxLjUgNDgtNDggNDhMNDggNTEyYy0yNi41IDAtNDgtMjEuNS00OC00OEwwIDE3NmMwLTI2LjUgMjEuNS00OCA0OC00OHoiLz48L3N2Zz4=);\n",
       "    background-repeat: no-repeat;\n",
       "    background-size: 14px 14px;\n",
       "    background-position: 0;\n",
       "    display: inline-block;\n",
       "    width: 14px;\n",
       "    height: 14px;\n",
       "    cursor: pointer;\n",
       "}\n",
       "</style><body><div id=\"sk-container-id-1\" class=\"sk-top-container\"><div class=\"sk-text-repr-fallback\"><pre>Pipeline(steps=[(&#x27;tfidf&#x27;, TfidfVectorizer()), (&#x27;svm&#x27;, LinearSVC())])</pre><b>In a Jupyter environment, please rerun this cell to show the HTML representation or trust the notebook. <br />On GitHub, the HTML representation is unable to render, please try loading this page with nbviewer.org.</b></div><div class=\"sk-container\" hidden><div class=\"sk-item sk-dashed-wrapped\"><div class=\"sk-label-container\"><div class=\"sk-label fitted sk-toggleable\"><input class=\"sk-toggleable__control sk-hidden--visually\" id=\"sk-estimator-id-1\" type=\"checkbox\" ><label for=\"sk-estimator-id-1\" class=\"sk-toggleable__label fitted sk-toggleable__label-arrow\"><div><div>Pipeline</div></div><div><a class=\"sk-estimator-doc-link fitted\" rel=\"noreferrer\" target=\"_blank\" href=\"https://scikit-learn.org/1.7/modules/generated/sklearn.pipeline.Pipeline.html\">?<span>Documentation for Pipeline</span></a><span class=\"sk-estimator-doc-link fitted\">i<span>Fitted</span></span></div></label><div class=\"sk-toggleable__content fitted\" data-param-prefix=\"\">\n",
       "        <div class=\"estimator-table\">\n",
       "            <details>\n",
       "                <summary>Parameters</summary>\n",
       "                <table class=\"parameters-table\">\n",
       "                  <tbody>\n",
       "                    \n",
       "        <tr class=\"user-set\">\n",
       "            <td><i class=\"copy-paste-icon\"\n",
       "                 onclick=\"copyToClipboard('steps',\n",
       "                          this.parentElement.nextElementSibling)\"\n",
       "            ></i></td>\n",
       "            <td class=\"param\">steps&nbsp;</td>\n",
       "            <td class=\"value\">[(&#x27;tfidf&#x27;, ...), (&#x27;svm&#x27;, ...)]</td>\n",
       "        </tr>\n",
       "    \n",
       "\n",
       "        <tr class=\"default\">\n",
       "            <td><i class=\"copy-paste-icon\"\n",
       "                 onclick=\"copyToClipboard('transform_input',\n",
       "                          this.parentElement.nextElementSibling)\"\n",
       "            ></i></td>\n",
       "            <td class=\"param\">transform_input&nbsp;</td>\n",
       "            <td class=\"value\">None</td>\n",
       "        </tr>\n",
       "    \n",
       "\n",
       "        <tr class=\"default\">\n",
       "            <td><i class=\"copy-paste-icon\"\n",
       "                 onclick=\"copyToClipboard('memory',\n",
       "                          this.parentElement.nextElementSibling)\"\n",
       "            ></i></td>\n",
       "            <td class=\"param\">memory&nbsp;</td>\n",
       "            <td class=\"value\">None</td>\n",
       "        </tr>\n",
       "    \n",
       "\n",
       "        <tr class=\"default\">\n",
       "            <td><i class=\"copy-paste-icon\"\n",
       "                 onclick=\"copyToClipboard('verbose',\n",
       "                          this.parentElement.nextElementSibling)\"\n",
       "            ></i></td>\n",
       "            <td class=\"param\">verbose&nbsp;</td>\n",
       "            <td class=\"value\">False</td>\n",
       "        </tr>\n",
       "    \n",
       "                  </tbody>\n",
       "                </table>\n",
       "            </details>\n",
       "        </div>\n",
       "    </div></div></div><div class=\"sk-serial\"><div class=\"sk-item\"><div class=\"sk-estimator fitted sk-toggleable\"><input class=\"sk-toggleable__control sk-hidden--visually\" id=\"sk-estimator-id-2\" type=\"checkbox\" ><label for=\"sk-estimator-id-2\" class=\"sk-toggleable__label fitted sk-toggleable__label-arrow\"><div><div>TfidfVectorizer</div></div><div><a class=\"sk-estimator-doc-link fitted\" rel=\"noreferrer\" target=\"_blank\" href=\"https://scikit-learn.org/1.7/modules/generated/sklearn.feature_extraction.text.TfidfVectorizer.html\">?<span>Documentation for TfidfVectorizer</span></a></div></label><div class=\"sk-toggleable__content fitted\" data-param-prefix=\"tfidf__\">\n",
       "        <div class=\"estimator-table\">\n",
       "            <details>\n",
       "                <summary>Parameters</summary>\n",
       "                <table class=\"parameters-table\">\n",
       "                  <tbody>\n",
       "                    \n",
       "        <tr class=\"default\">\n",
       "            <td><i class=\"copy-paste-icon\"\n",
       "                 onclick=\"copyToClipboard('input',\n",
       "                          this.parentElement.nextElementSibling)\"\n",
       "            ></i></td>\n",
       "            <td class=\"param\">input&nbsp;</td>\n",
       "            <td class=\"value\">&#x27;content&#x27;</td>\n",
       "        </tr>\n",
       "    \n",
       "\n",
       "        <tr class=\"default\">\n",
       "            <td><i class=\"copy-paste-icon\"\n",
       "                 onclick=\"copyToClipboard('encoding',\n",
       "                          this.parentElement.nextElementSibling)\"\n",
       "            ></i></td>\n",
       "            <td class=\"param\">encoding&nbsp;</td>\n",
       "            <td class=\"value\">&#x27;utf-8&#x27;</td>\n",
       "        </tr>\n",
       "    \n",
       "\n",
       "        <tr class=\"default\">\n",
       "            <td><i class=\"copy-paste-icon\"\n",
       "                 onclick=\"copyToClipboard('decode_error',\n",
       "                          this.parentElement.nextElementSibling)\"\n",
       "            ></i></td>\n",
       "            <td class=\"param\">decode_error&nbsp;</td>\n",
       "            <td class=\"value\">&#x27;strict&#x27;</td>\n",
       "        </tr>\n",
       "    \n",
       "\n",
       "        <tr class=\"default\">\n",
       "            <td><i class=\"copy-paste-icon\"\n",
       "                 onclick=\"copyToClipboard('strip_accents',\n",
       "                          this.parentElement.nextElementSibling)\"\n",
       "            ></i></td>\n",
       "            <td class=\"param\">strip_accents&nbsp;</td>\n",
       "            <td class=\"value\">None</td>\n",
       "        </tr>\n",
       "    \n",
       "\n",
       "        <tr class=\"default\">\n",
       "            <td><i class=\"copy-paste-icon\"\n",
       "                 onclick=\"copyToClipboard('lowercase',\n",
       "                          this.parentElement.nextElementSibling)\"\n",
       "            ></i></td>\n",
       "            <td class=\"param\">lowercase&nbsp;</td>\n",
       "            <td class=\"value\">True</td>\n",
       "        </tr>\n",
       "    \n",
       "\n",
       "        <tr class=\"default\">\n",
       "            <td><i class=\"copy-paste-icon\"\n",
       "                 onclick=\"copyToClipboard('preprocessor',\n",
       "                          this.parentElement.nextElementSibling)\"\n",
       "            ></i></td>\n",
       "            <td class=\"param\">preprocessor&nbsp;</td>\n",
       "            <td class=\"value\">None</td>\n",
       "        </tr>\n",
       "    \n",
       "\n",
       "        <tr class=\"default\">\n",
       "            <td><i class=\"copy-paste-icon\"\n",
       "                 onclick=\"copyToClipboard('tokenizer',\n",
       "                          this.parentElement.nextElementSibling)\"\n",
       "            ></i></td>\n",
       "            <td class=\"param\">tokenizer&nbsp;</td>\n",
       "            <td class=\"value\">None</td>\n",
       "        </tr>\n",
       "    \n",
       "\n",
       "        <tr class=\"default\">\n",
       "            <td><i class=\"copy-paste-icon\"\n",
       "                 onclick=\"copyToClipboard('analyzer',\n",
       "                          this.parentElement.nextElementSibling)\"\n",
       "            ></i></td>\n",
       "            <td class=\"param\">analyzer&nbsp;</td>\n",
       "            <td class=\"value\">&#x27;word&#x27;</td>\n",
       "        </tr>\n",
       "    \n",
       "\n",
       "        <tr class=\"default\">\n",
       "            <td><i class=\"copy-paste-icon\"\n",
       "                 onclick=\"copyToClipboard('stop_words',\n",
       "                          this.parentElement.nextElementSibling)\"\n",
       "            ></i></td>\n",
       "            <td class=\"param\">stop_words&nbsp;</td>\n",
       "            <td class=\"value\">None</td>\n",
       "        </tr>\n",
       "    \n",
       "\n",
       "        <tr class=\"default\">\n",
       "            <td><i class=\"copy-paste-icon\"\n",
       "                 onclick=\"copyToClipboard('token_pattern',\n",
       "                          this.parentElement.nextElementSibling)\"\n",
       "            ></i></td>\n",
       "            <td class=\"param\">token_pattern&nbsp;</td>\n",
       "            <td class=\"value\">&#x27;(?u)\\\\b\\\\w\\\\w+\\\\b&#x27;</td>\n",
       "        </tr>\n",
       "    \n",
       "\n",
       "        <tr class=\"default\">\n",
       "            <td><i class=\"copy-paste-icon\"\n",
       "                 onclick=\"copyToClipboard('ngram_range',\n",
       "                          this.parentElement.nextElementSibling)\"\n",
       "            ></i></td>\n",
       "            <td class=\"param\">ngram_range&nbsp;</td>\n",
       "            <td class=\"value\">(1, ...)</td>\n",
       "        </tr>\n",
       "    \n",
       "\n",
       "        <tr class=\"default\">\n",
       "            <td><i class=\"copy-paste-icon\"\n",
       "                 onclick=\"copyToClipboard('max_df',\n",
       "                          this.parentElement.nextElementSibling)\"\n",
       "            ></i></td>\n",
       "            <td class=\"param\">max_df&nbsp;</td>\n",
       "            <td class=\"value\">1.0</td>\n",
       "        </tr>\n",
       "    \n",
       "\n",
       "        <tr class=\"default\">\n",
       "            <td><i class=\"copy-paste-icon\"\n",
       "                 onclick=\"copyToClipboard('min_df',\n",
       "                          this.parentElement.nextElementSibling)\"\n",
       "            ></i></td>\n",
       "            <td class=\"param\">min_df&nbsp;</td>\n",
       "            <td class=\"value\">1</td>\n",
       "        </tr>\n",
       "    \n",
       "\n",
       "        <tr class=\"default\">\n",
       "            <td><i class=\"copy-paste-icon\"\n",
       "                 onclick=\"copyToClipboard('max_features',\n",
       "                          this.parentElement.nextElementSibling)\"\n",
       "            ></i></td>\n",
       "            <td class=\"param\">max_features&nbsp;</td>\n",
       "            <td class=\"value\">None</td>\n",
       "        </tr>\n",
       "    \n",
       "\n",
       "        <tr class=\"default\">\n",
       "            <td><i class=\"copy-paste-icon\"\n",
       "                 onclick=\"copyToClipboard('vocabulary',\n",
       "                          this.parentElement.nextElementSibling)\"\n",
       "            ></i></td>\n",
       "            <td class=\"param\">vocabulary&nbsp;</td>\n",
       "            <td class=\"value\">None</td>\n",
       "        </tr>\n",
       "    \n",
       "\n",
       "        <tr class=\"default\">\n",
       "            <td><i class=\"copy-paste-icon\"\n",
       "                 onclick=\"copyToClipboard('binary',\n",
       "                          this.parentElement.nextElementSibling)\"\n",
       "            ></i></td>\n",
       "            <td class=\"param\">binary&nbsp;</td>\n",
       "            <td class=\"value\">False</td>\n",
       "        </tr>\n",
       "    \n",
       "\n",
       "        <tr class=\"default\">\n",
       "            <td><i class=\"copy-paste-icon\"\n",
       "                 onclick=\"copyToClipboard('dtype',\n",
       "                          this.parentElement.nextElementSibling)\"\n",
       "            ></i></td>\n",
       "            <td class=\"param\">dtype&nbsp;</td>\n",
       "            <td class=\"value\">&lt;class &#x27;numpy.float64&#x27;&gt;</td>\n",
       "        </tr>\n",
       "    \n",
       "\n",
       "        <tr class=\"default\">\n",
       "            <td><i class=\"copy-paste-icon\"\n",
       "                 onclick=\"copyToClipboard('norm',\n",
       "                          this.parentElement.nextElementSibling)\"\n",
       "            ></i></td>\n",
       "            <td class=\"param\">norm&nbsp;</td>\n",
       "            <td class=\"value\">&#x27;l2&#x27;</td>\n",
       "        </tr>\n",
       "    \n",
       "\n",
       "        <tr class=\"default\">\n",
       "            <td><i class=\"copy-paste-icon\"\n",
       "                 onclick=\"copyToClipboard('use_idf',\n",
       "                          this.parentElement.nextElementSibling)\"\n",
       "            ></i></td>\n",
       "            <td class=\"param\">use_idf&nbsp;</td>\n",
       "            <td class=\"value\">True</td>\n",
       "        </tr>\n",
       "    \n",
       "\n",
       "        <tr class=\"default\">\n",
       "            <td><i class=\"copy-paste-icon\"\n",
       "                 onclick=\"copyToClipboard('smooth_idf',\n",
       "                          this.parentElement.nextElementSibling)\"\n",
       "            ></i></td>\n",
       "            <td class=\"param\">smooth_idf&nbsp;</td>\n",
       "            <td class=\"value\">True</td>\n",
       "        </tr>\n",
       "    \n",
       "\n",
       "        <tr class=\"default\">\n",
       "            <td><i class=\"copy-paste-icon\"\n",
       "                 onclick=\"copyToClipboard('sublinear_tf',\n",
       "                          this.parentElement.nextElementSibling)\"\n",
       "            ></i></td>\n",
       "            <td class=\"param\">sublinear_tf&nbsp;</td>\n",
       "            <td class=\"value\">False</td>\n",
       "        </tr>\n",
       "    \n",
       "                  </tbody>\n",
       "                </table>\n",
       "            </details>\n",
       "        </div>\n",
       "    </div></div></div><div class=\"sk-item\"><div class=\"sk-estimator fitted sk-toggleable\"><input class=\"sk-toggleable__control sk-hidden--visually\" id=\"sk-estimator-id-3\" type=\"checkbox\" ><label for=\"sk-estimator-id-3\" class=\"sk-toggleable__label fitted sk-toggleable__label-arrow\"><div><div>LinearSVC</div></div><div><a class=\"sk-estimator-doc-link fitted\" rel=\"noreferrer\" target=\"_blank\" href=\"https://scikit-learn.org/1.7/modules/generated/sklearn.svm.LinearSVC.html\">?<span>Documentation for LinearSVC</span></a></div></label><div class=\"sk-toggleable__content fitted\" data-param-prefix=\"svm__\">\n",
       "        <div class=\"estimator-table\">\n",
       "            <details>\n",
       "                <summary>Parameters</summary>\n",
       "                <table class=\"parameters-table\">\n",
       "                  <tbody>\n",
       "                    \n",
       "        <tr class=\"default\">\n",
       "            <td><i class=\"copy-paste-icon\"\n",
       "                 onclick=\"copyToClipboard('penalty',\n",
       "                          this.parentElement.nextElementSibling)\"\n",
       "            ></i></td>\n",
       "            <td class=\"param\">penalty&nbsp;</td>\n",
       "            <td class=\"value\">&#x27;l2&#x27;</td>\n",
       "        </tr>\n",
       "    \n",
       "\n",
       "        <tr class=\"default\">\n",
       "            <td><i class=\"copy-paste-icon\"\n",
       "                 onclick=\"copyToClipboard('loss',\n",
       "                          this.parentElement.nextElementSibling)\"\n",
       "            ></i></td>\n",
       "            <td class=\"param\">loss&nbsp;</td>\n",
       "            <td class=\"value\">&#x27;squared_hinge&#x27;</td>\n",
       "        </tr>\n",
       "    \n",
       "\n",
       "        <tr class=\"default\">\n",
       "            <td><i class=\"copy-paste-icon\"\n",
       "                 onclick=\"copyToClipboard('dual',\n",
       "                          this.parentElement.nextElementSibling)\"\n",
       "            ></i></td>\n",
       "            <td class=\"param\">dual&nbsp;</td>\n",
       "            <td class=\"value\">&#x27;auto&#x27;</td>\n",
       "        </tr>\n",
       "    \n",
       "\n",
       "        <tr class=\"default\">\n",
       "            <td><i class=\"copy-paste-icon\"\n",
       "                 onclick=\"copyToClipboard('tol',\n",
       "                          this.parentElement.nextElementSibling)\"\n",
       "            ></i></td>\n",
       "            <td class=\"param\">tol&nbsp;</td>\n",
       "            <td class=\"value\">0.0001</td>\n",
       "        </tr>\n",
       "    \n",
       "\n",
       "        <tr class=\"default\">\n",
       "            <td><i class=\"copy-paste-icon\"\n",
       "                 onclick=\"copyToClipboard('C',\n",
       "                          this.parentElement.nextElementSibling)\"\n",
       "            ></i></td>\n",
       "            <td class=\"param\">C&nbsp;</td>\n",
       "            <td class=\"value\">1.0</td>\n",
       "        </tr>\n",
       "    \n",
       "\n",
       "        <tr class=\"default\">\n",
       "            <td><i class=\"copy-paste-icon\"\n",
       "                 onclick=\"copyToClipboard('multi_class',\n",
       "                          this.parentElement.nextElementSibling)\"\n",
       "            ></i></td>\n",
       "            <td class=\"param\">multi_class&nbsp;</td>\n",
       "            <td class=\"value\">&#x27;ovr&#x27;</td>\n",
       "        </tr>\n",
       "    \n",
       "\n",
       "        <tr class=\"default\">\n",
       "            <td><i class=\"copy-paste-icon\"\n",
       "                 onclick=\"copyToClipboard('fit_intercept',\n",
       "                          this.parentElement.nextElementSibling)\"\n",
       "            ></i></td>\n",
       "            <td class=\"param\">fit_intercept&nbsp;</td>\n",
       "            <td class=\"value\">True</td>\n",
       "        </tr>\n",
       "    \n",
       "\n",
       "        <tr class=\"default\">\n",
       "            <td><i class=\"copy-paste-icon\"\n",
       "                 onclick=\"copyToClipboard('intercept_scaling',\n",
       "                          this.parentElement.nextElementSibling)\"\n",
       "            ></i></td>\n",
       "            <td class=\"param\">intercept_scaling&nbsp;</td>\n",
       "            <td class=\"value\">1</td>\n",
       "        </tr>\n",
       "    \n",
       "\n",
       "        <tr class=\"default\">\n",
       "            <td><i class=\"copy-paste-icon\"\n",
       "                 onclick=\"copyToClipboard('class_weight',\n",
       "                          this.parentElement.nextElementSibling)\"\n",
       "            ></i></td>\n",
       "            <td class=\"param\">class_weight&nbsp;</td>\n",
       "            <td class=\"value\">None</td>\n",
       "        </tr>\n",
       "    \n",
       "\n",
       "        <tr class=\"default\">\n",
       "            <td><i class=\"copy-paste-icon\"\n",
       "                 onclick=\"copyToClipboard('verbose',\n",
       "                          this.parentElement.nextElementSibling)\"\n",
       "            ></i></td>\n",
       "            <td class=\"param\">verbose&nbsp;</td>\n",
       "            <td class=\"value\">0</td>\n",
       "        </tr>\n",
       "    \n",
       "\n",
       "        <tr class=\"default\">\n",
       "            <td><i class=\"copy-paste-icon\"\n",
       "                 onclick=\"copyToClipboard('random_state',\n",
       "                          this.parentElement.nextElementSibling)\"\n",
       "            ></i></td>\n",
       "            <td class=\"param\">random_state&nbsp;</td>\n",
       "            <td class=\"value\">None</td>\n",
       "        </tr>\n",
       "    \n",
       "\n",
       "        <tr class=\"default\">\n",
       "            <td><i class=\"copy-paste-icon\"\n",
       "                 onclick=\"copyToClipboard('max_iter',\n",
       "                          this.parentElement.nextElementSibling)\"\n",
       "            ></i></td>\n",
       "            <td class=\"param\">max_iter&nbsp;</td>\n",
       "            <td class=\"value\">1000</td>\n",
       "        </tr>\n",
       "    \n",
       "                  </tbody>\n",
       "                </table>\n",
       "            </details>\n",
       "        </div>\n",
       "    </div></div></div></div></div></div></div><script>function copyToClipboard(text, element) {\n",
       "    // Get the parameter prefix from the closest toggleable content\n",
       "    const toggleableContent = element.closest('.sk-toggleable__content');\n",
       "    const paramPrefix = toggleableContent ? toggleableContent.dataset.paramPrefix : '';\n",
       "    const fullParamName = paramPrefix ? `${paramPrefix}${text}` : text;\n",
       "\n",
       "    const originalStyle = element.style;\n",
       "    const computedStyle = window.getComputedStyle(element);\n",
       "    const originalWidth = computedStyle.width;\n",
       "    const originalHTML = element.innerHTML.replace('Copied!', '');\n",
       "\n",
       "    navigator.clipboard.writeText(fullParamName)\n",
       "        .then(() => {\n",
       "            element.style.width = originalWidth;\n",
       "            element.style.color = 'green';\n",
       "            element.innerHTML = \"Copied!\";\n",
       "\n",
       "            setTimeout(() => {\n",
       "                element.innerHTML = originalHTML;\n",
       "                element.style = originalStyle;\n",
       "            }, 2000);\n",
       "        })\n",
       "        .catch(err => {\n",
       "            console.error('Failed to copy:', err);\n",
       "            element.style.color = 'red';\n",
       "            element.innerHTML = \"Failed!\";\n",
       "            setTimeout(() => {\n",
       "                element.innerHTML = originalHTML;\n",
       "                element.style = originalStyle;\n",
       "            }, 2000);\n",
       "        });\n",
       "    return false;\n",
       "}\n",
       "\n",
       "document.querySelectorAll('.fa-regular.fa-copy').forEach(function(element) {\n",
       "    const toggleableContent = element.closest('.sk-toggleable__content');\n",
       "    const paramPrefix = toggleableContent ? toggleableContent.dataset.paramPrefix : '';\n",
       "    const paramName = element.parentElement.nextElementSibling.textContent.trim();\n",
       "    const fullParamName = paramPrefix ? `${paramPrefix}${paramName}` : paramName;\n",
       "\n",
       "    element.setAttribute('title', fullParamName);\n",
       "});\n",
       "</script></body>"
      ],
      "text/plain": [
       "Pipeline(steps=[('tfidf', TfidfVectorizer()), ('svm', LinearSVC())])"
      ]
     },
     "execution_count": 66,
     "metadata": {},
     "output_type": "execute_result"
    }
   ],
   "source": [
    "# Build pipeline\n",
    "pipeline = Pipeline([\n",
    "    ('tfidf', TfidfVectorizer()),\n",
    "    ('svm', LinearSVC())\n",
    "])\n",
    "\n",
    "# Train\n",
    "pipeline.fit(train_data['comment_text'], train_data['toxicity'])"
   ]
  },
  {
   "cell_type": "code",
   "execution_count": 67,
   "id": "ae3f7173",
   "metadata": {},
   "outputs": [
    {
     "name": "stdout",
     "output_type": "stream",
     "text": [
      "Accuracy: 0.9180064793189181\n"
     ]
    }
   ],
   "source": [
    "# Predict and evaluate\n",
    "y_pred = pipeline.predict(test_data['comment_text'])\n",
    "print('Accuracy:', accuracy_score(test_data['toxicity'], y_pred))"
   ]
  },
  {
   "cell_type": "code",
   "execution_count": 74,
   "id": "b006cd43",
   "metadata": {},
   "outputs": [
    {
     "name": "stdout",
     "output_type": "stream",
     "text": [
      "Accuracy: 0.8872673849167483\n"
     ]
    }
   ],
   "source": [
    "# Build pipeline\n",
    "pipeline = Pipeline([\n",
    "    ('tfidf', TfidfVectorizer()),\n",
    "    ('nb', MultinomialNB())\n",
    "])\n",
    "\n",
    "# Train\n",
    "pipeline.fit(X_train, y_train)\n",
    "# Predict and evaluate\n",
    "y_pred = pipeline.predict(test_data['comment_text'])\n",
    "print('Accuracy:', accuracy_score(test_data['toxicity'], y_pred))"
   ]
  },
  {
   "cell_type": "code",
   "execution_count": 75,
   "id": "5cd7b4e0",
   "metadata": {},
   "outputs": [
    {
     "name": "stdout",
     "output_type": "stream",
     "text": [
      "Accuracy: 0.9009643637459505\n"
     ]
    }
   ],
   "source": [
    "# Build pipeline\n",
    "pipeline = Pipeline([\n",
    "    ('tfidf', TfidfVectorizer()),\n",
    "    ('rf', RandomForestClassifier(n_estimators=100, random_state=42))\n",
    "])\n",
    "\n",
    "# Train\n",
    "pipeline.fit(X_train, y_train)\n",
    "# Predict and evaluate\n",
    "y_pred = pipeline.predict(test_data['comment_text'])\n",
    "print('Accuracy:', accuracy_score(test_data['toxicity'], y_pred))"
   ]
  },
  {
   "cell_type": "code",
   "execution_count": 80,
   "id": "f3ef5f52",
   "metadata": {},
   "outputs": [
    {
     "name": "stdout",
     "output_type": "stream",
     "text": [
      "Accuracy: 0.9136743765539064\n"
     ]
    }
   ],
   "source": [
    "# Build pipeline\n",
    "pipeline = Pipeline([\n",
    "    ('tfidf', TfidfVectorizer()),\n",
    "    ('rf', xgb.XGBClassifier(objective='multi:softmax', num_class=y_train.nunique(), use_label_encoder=False, eval_metric='mlogloss'))\n",
    "])\n",
    "\n",
    "# Train\n",
    "pipeline.fit(X_train, y_train)\n",
    "# Predict and evaluate\n",
    "y_pred = pipeline.predict(test_data['comment_text'])\n",
    "print('Accuracy:', accuracy_score(test_data['toxicity'], y_pred))"
   ]
  },
  {
   "cell_type": "code",
   "execution_count": null,
   "id": "c5a4350e",
   "metadata": {},
   "outputs": [],
   "source": []
  },
  {
   "cell_type": "code",
   "execution_count": null,
   "id": "ad14b769",
   "metadata": {},
   "outputs": [],
   "source": []
  },
  {
   "cell_type": "markdown",
   "id": "0f3058e0-2414-40b4-bb93-8f7ea1b0baf1",
   "metadata": {},
   "source": [
    "### Release Resources"
   ]
  },
  {
   "cell_type": "code",
   "execution_count": 1,
   "id": "c3c9a2f4-2ef4-42a2-b855-2505301d03ae",
   "metadata": {
    "execution": {
     "iopub.execute_input": "2025-09-27T16:55:19.526231Z",
     "iopub.status.busy": "2025-09-27T16:55:19.525951Z",
     "iopub.status.idle": "2025-09-27T16:55:19.533823Z",
     "shell.execute_reply": "2025-09-27T16:55:19.533191Z",
     "shell.execute_reply.started": "2025-09-27T16:55:19.526210Z"
    }
   },
   "outputs": [
    {
     "data": {
      "text/html": [
       "\n",
       "<p><b>Shutting down your kernel for this notebook to release resources.</b></p>\n",
       "<button class=\"sm-command-button\" data-commandlinker-command=\"kernelmenu:shutdown\" style=\"display:none;\">Shutdown Kernel</button>\n",
       "        \n",
       "<script>\n",
       "try {\n",
       "    els = document.getElementsByClassName(\"sm-command-button\");\n",
       "    els[0].click();\n",
       "}\n",
       "catch(err) {\n",
       "    // NoOp\n",
       "}    \n",
       "</script>\n"
      ],
      "text/plain": [
       "<IPython.core.display.HTML object>"
      ]
     },
     "metadata": {},
     "output_type": "display_data"
    }
   ],
   "source": [
    "%%html\n",
    "\n",
    "<p><b>Shutting down your kernel for this notebook to release resources.</b></p>\n",
    "<button class=\"sm-command-button\" data-commandlinker-command=\"kernelmenu:shutdown\" style=\"display:none;\">Shutdown Kernel</button>\n",
    "        \n",
    "<script>\n",
    "try {\n",
    "    els = document.getElementsByClassName(\"sm-command-button\");\n",
    "    els[0].click();\n",
    "}\n",
    "catch(err) {\n",
    "    // NoOp\n",
    "}    \n",
    "</script>"
   ]
  },
  {
   "cell_type": "code",
   "execution_count": 1,
   "id": "c95fe8ab-8a7d-4c4e-9f51-c9e54383acb8",
   "metadata": {
    "execution": {
     "iopub.execute_input": "2025-09-27T16:55:22.333994Z",
     "iopub.status.busy": "2025-09-27T16:55:22.333616Z",
     "iopub.status.idle": "2025-09-27T16:55:22.340679Z",
     "shell.execute_reply": "2025-09-27T16:55:22.340025Z",
     "shell.execute_reply.started": "2025-09-27T16:55:22.333971Z"
    }
   },
   "outputs": [
    {
     "data": {
      "application/javascript": "\ntry {\n    Jupyter.notebook.save_checkpoint();\n    Jupyter.notebook.session.delete();\n}\ncatch(err) {\n    // NoOp\n}\n",
      "text/plain": [
       "<IPython.core.display.Javascript object>"
      ]
     },
     "metadata": {},
     "output_type": "display_data"
    }
   ],
   "source": [
    "\n",
    "%%javascript\n",
    "\n",
    "try {\n",
    "    Jupyter.notebook.save_checkpoint();\n",
    "    Jupyter.notebook.session.delete();\n",
    "}\n",
    "catch(err) {\n",
    "    // NoOp\n",
    "}"
   ]
  },
  {
   "cell_type": "code",
   "execution_count": null,
   "id": "5b5907ae-ad7d-49a6-bb8e-627ead5640cb",
   "metadata": {},
   "outputs": [],
   "source": []
  }
 ],
 "metadata": {
  "kernelspec": {
   "display_name": "finbert",
   "language": "python",
   "name": "python3"
  },
  "language_info": {
   "codemirror_mode": {
    "name": "ipython",
    "version": 3
   },
   "file_extension": ".py",
   "mimetype": "text/x-python",
   "name": "python",
   "nbconvert_exporter": "python",
   "pygments_lexer": "ipython3",
   "version": "3.10.18"
  }
 },
 "nbformat": 4,
 "nbformat_minor": 5
}
