{
 "cells": [
  {
   "cell_type": "markdown",
   "id": "8abb31b8-2ea3-4850-8c0f-41660a451ec1",
   "metadata": {},
   "source": [
    "This code was borrowed from AAI 540 labs\n",
    "\n",
    "https://github.com/mechristenson/aai-540-labs.git"
   ]
  },
  {
   "cell_type": "markdown",
   "id": "f13af68f-2c5d-4f97-958f-11ac3408c16f",
   "metadata": {},
   "source": [
    "## Create S3 Bucket"
   ]
  },
  {
   "cell_type": "code",
   "execution_count": 1,
   "id": "ec76d1f8-faa4-4808-a017-9c9be3c52586",
   "metadata": {
    "execution": {
     "iopub.execute_input": "2025-09-13T04:24:48.697539Z",
     "iopub.status.busy": "2025-09-13T04:24:48.697035Z",
     "iopub.status.idle": "2025-09-13T04:24:48.701248Z",
     "shell.execute_reply": "2025-09-13T04:24:48.700476Z",
     "shell.execute_reply.started": "2025-09-13T04:24:48.697508Z"
    }
   },
   "outputs": [],
   "source": [
    "#!pip install --upgrade boto3 botocore awscli"
   ]
  },
  {
   "cell_type": "code",
   "execution_count": 2,
   "id": "b845fbfc-08c9-4efc-bc0b-db5f96c6facf",
   "metadata": {
    "execution": {
     "iopub.execute_input": "2025-09-13T04:24:48.702895Z",
     "iopub.status.busy": "2025-09-13T04:24:48.702286Z",
     "iopub.status.idle": "2025-09-13T04:24:51.241953Z",
     "shell.execute_reply": "2025-09-13T04:24:51.241274Z",
     "shell.execute_reply.started": "2025-09-13T04:24:48.702865Z"
    }
   },
   "outputs": [
    {
     "name": "stdout",
     "output_type": "stream",
     "text": [
      "sagemaker.config INFO - Not applying SDK defaults from location: /etc/xdg/sagemaker/config.yaml\n",
      "sagemaker.config INFO - Not applying SDK defaults from location: /home/sagemaker-user/.config/sagemaker/config.yaml\n"
     ]
    }
   ],
   "source": [
    "import boto3\n",
    "import sagemaker\n",
    "\n",
    "session = boto3.session.Session()\n",
    "region = session.region_name\n",
    "sagemaker_session = sagemaker.Session()\n",
    "bucket = sagemaker_session.default_bucket()\n",
    "\n",
    "s3 = boto3.Session().client(service_name=\"s3\", region_name=region)"
   ]
  },
  {
   "cell_type": "code",
   "execution_count": 3,
   "id": "cce119a4-3d07-4df2-a0db-d5504e21a392",
   "metadata": {
    "execution": {
     "iopub.execute_input": "2025-09-13T04:24:51.243264Z",
     "iopub.status.busy": "2025-09-13T04:24:51.242897Z",
     "iopub.status.idle": "2025-09-13T04:24:51.246788Z",
     "shell.execute_reply": "2025-09-13T04:24:51.245813Z",
     "shell.execute_reply.started": "2025-09-13T04:24:51.243233Z"
    }
   },
   "outputs": [],
   "source": [
    "setup_s3_bucket_passed = False"
   ]
  },
  {
   "cell_type": "code",
   "execution_count": 4,
   "id": "081b87f0-2817-4d21-bb3b-03db1bc29ad2",
   "metadata": {
    "execution": {
     "iopub.execute_input": "2025-09-13T04:24:51.247878Z",
     "iopub.status.busy": "2025-09-13T04:24:51.247633Z",
     "iopub.status.idle": "2025-09-13T04:24:51.252618Z",
     "shell.execute_reply": "2025-09-13T04:24:51.251724Z",
     "shell.execute_reply.started": "2025-09-13T04:24:51.247845Z"
    }
   },
   "outputs": [
    {
     "name": "stdout",
     "output_type": "stream",
     "text": [
      "Default bucket: sagemaker-us-east-1-590183687297\n"
     ]
    }
   ],
   "source": [
    "print(\"Default bucket: {}\".format(bucket))"
   ]
  },
  {
   "cell_type": "markdown",
   "id": "507dafcd-fe1e-4abf-9372-f30666136caa",
   "metadata": {},
   "source": [
    "Verify S3_BUCKET Bucket Creation"
   ]
  },
  {
   "cell_type": "code",
   "execution_count": 5,
   "id": "630e5650-f39e-4d65-a60d-3fa56dead63d",
   "metadata": {
    "execution": {
     "iopub.execute_input": "2025-09-13T04:24:51.256334Z",
     "iopub.status.busy": "2025-09-13T04:24:51.256055Z",
     "iopub.status.idle": "2025-09-13T04:24:51.309845Z",
     "shell.execute_reply": "2025-09-13T04:24:51.309137Z",
     "shell.execute_reply.started": "2025-09-13T04:24:51.256305Z"
    }
   },
   "outputs": [
    {
     "name": "stdout",
     "output_type": "stream",
     "text": [
      "{'ResponseMetadata': {'RequestId': 'Z8T1K4VZRAHXFJC2', 'HostId': '0CaeCvCojLhmdqLc70YUNkDLW78nQW3QkBeeNPrlw8v+2E32AeU5TQf27MyE13+4jc1qyDCq9UU=', 'HTTPStatusCode': 200, 'HTTPHeaders': {'x-amz-id-2': '0CaeCvCojLhmdqLc70YUNkDLW78nQW3QkBeeNPrlw8v+2E32AeU5TQf27MyE13+4jc1qyDCq9UU=', 'x-amz-request-id': 'Z8T1K4VZRAHXFJC2', 'date': 'Sat, 13 Sep 2025 04:24:52 GMT', 'x-amz-bucket-region': 'us-east-1', 'x-amz-access-point-alias': 'false', 'content-type': 'application/xml', 'transfer-encoding': 'chunked', 'server': 'AmazonS3'}, 'RetryAttempts': 0}, 'BucketRegion': 'us-east-1', 'AccessPointAlias': False}\n"
     ]
    }
   ],
   "source": [
    "from botocore.client import ClientError\n",
    "\n",
    "response = None\n",
    "\n",
    "try:\n",
    "    response = s3.head_bucket(Bucket=bucket)\n",
    "    print(response)\n",
    "    setup_s3_bucket_passed = True\n",
    "except ClientError as e:\n",
    "    print(\"[ERROR] Cannot find bucket {} in {} due to {}.\".format(bucket, response, e))"
   ]
  },
  {
   "cell_type": "code",
   "execution_count": 6,
   "id": "1fb2f0d1-af79-4552-9edf-502eb24c2ece",
   "metadata": {
    "execution": {
     "iopub.execute_input": "2025-09-13T04:24:51.313019Z",
     "iopub.status.busy": "2025-09-13T04:24:51.312746Z",
     "iopub.status.idle": "2025-09-13T04:24:51.317800Z",
     "shell.execute_reply": "2025-09-13T04:24:51.317020Z",
     "shell.execute_reply.started": "2025-09-13T04:24:51.312998Z"
    }
   },
   "outputs": [
    {
     "name": "stdout",
     "output_type": "stream",
     "text": [
      "Stored 'setup_s3_bucket_passed' (bool)\n"
     ]
    }
   ],
   "source": [
    "%store setup_s3_bucket_passed\n"
   ]
  },
  {
   "cell_type": "code",
   "execution_count": 7,
   "id": "693a9ec5-f03a-42d8-b6ed-c6eca8b52538",
   "metadata": {
    "execution": {
     "iopub.execute_input": "2025-09-13T04:24:51.319642Z",
     "iopub.status.busy": "2025-09-13T04:24:51.318893Z",
     "iopub.status.idle": "2025-09-13T04:24:51.325133Z",
     "shell.execute_reply": "2025-09-13T04:24:51.324505Z",
     "shell.execute_reply.started": "2025-09-13T04:24:51.319611Z"
    }
   },
   "outputs": [
    {
     "name": "stdout",
     "output_type": "stream",
     "text": [
      "Stored variables and their in-db values:\n",
      "ingest_create_athena_db_passed             -> True\n",
      "s3_private_path_parquet                    -> 's3://sagemaker-us-east-1-590183687297/toxicity_pd\n",
      "setup_s3_bucket_passed                     -> True\n"
     ]
    }
   ],
   "source": [
    "%store\n"
   ]
  },
  {
   "cell_type": "markdown",
   "id": "beab2d6a-cbb7-423b-af5c-3b48bd9e7413",
   "metadata": {},
   "source": [
    "## Set up Data lake"
   ]
  },
  {
   "cell_type": "code",
   "execution_count": 8,
   "id": "3bb15d17-8aa9-4fb5-9b91-4246de6220a2",
   "metadata": {
    "execution": {
     "iopub.execute_input": "2025-09-13T04:24:51.328508Z",
     "iopub.status.busy": "2025-09-13T04:24:51.328236Z",
     "iopub.status.idle": "2025-09-13T04:24:52.450498Z",
     "shell.execute_reply": "2025-09-13T04:24:52.449785Z",
     "shell.execute_reply.started": "2025-09-13T04:24:51.328479Z"
    }
   },
   "outputs": [],
   "source": [
    "import boto3\n",
    "import sagemaker\n",
    "import pandas as pd\n",
    "\n",
    "sess = sagemaker.Session()\n",
    "bucket = sess.default_bucket()\n",
    "role = sagemaker.get_execution_role()\n",
    "region = boto3.Session().region_name\n",
    "account_id = boto3.client(\"sts\").get_caller_identity().get(\"Account\")\n",
    "\n",
    "sm = boto3.Session().client(service_name=\"sagemaker\", region_name=region)"
   ]
  },
  {
   "cell_type": "markdown",
   "id": "e37b8cfa-481d-4f49-92d0-df12df250fc3",
   "metadata": {},
   "source": [
    "#### Set S3 Destination Folder"
   ]
  },
  {
   "cell_type": "code",
   "execution_count": 9,
   "id": "d56e7b6c-0530-48b9-a954-7e9b7a3fbaee",
   "metadata": {
    "execution": {
     "iopub.execute_input": "2025-09-13T04:24:52.453808Z",
     "iopub.status.busy": "2025-09-13T04:24:52.453542Z",
     "iopub.status.idle": "2025-09-13T04:24:52.457847Z",
     "shell.execute_reply": "2025-09-13T04:24:52.457102Z",
     "shell.execute_reply.started": "2025-09-13T04:24:52.453780Z"
    }
   },
   "outputs": [
    {
     "name": "stdout",
     "output_type": "stream",
     "text": [
      "s3://sagemaker-us-east-1-590183687297/toxicity_pds/parquet\n"
     ]
    }
   ],
   "source": [
    "s3_private_path_parquet = \"s3://{}/toxicity_pds/parquet\".format(bucket)\n",
    "print(s3_private_path_parquet)"
   ]
  },
  {
   "cell_type": "code",
   "execution_count": 10,
   "id": "396cefc7-4465-4fc8-88ba-19c587f19fa6",
   "metadata": {
    "execution": {
     "iopub.execute_input": "2025-09-13T04:24:52.459054Z",
     "iopub.status.busy": "2025-09-13T04:24:52.458740Z",
     "iopub.status.idle": "2025-09-13T04:24:52.463963Z",
     "shell.execute_reply": "2025-09-13T04:24:52.463252Z",
     "shell.execute_reply.started": "2025-09-13T04:24:52.459026Z"
    }
   },
   "outputs": [
    {
     "name": "stdout",
     "output_type": "stream",
     "text": [
      "Stored 's3_private_path_parquet' (str)\n"
     ]
    }
   ],
   "source": [
    "%store s3_private_path_parquet"
   ]
  },
  {
   "cell_type": "code",
   "execution_count": 11,
   "id": "2bb2aa1e-9f5a-4f0e-94a8-9100fa83047d",
   "metadata": {
    "execution": {
     "iopub.execute_input": "2025-09-13T04:24:52.465035Z",
     "iopub.status.busy": "2025-09-13T04:24:52.464705Z",
     "iopub.status.idle": "2025-09-13T04:24:52.470002Z",
     "shell.execute_reply": "2025-09-13T04:24:52.469335Z",
     "shell.execute_reply.started": "2025-09-13T04:24:52.465007Z"
    }
   },
   "outputs": [],
   "source": [
    "%store -r setup_s3_bucket_passed"
   ]
  },
  {
   "cell_type": "code",
   "execution_count": 12,
   "id": "acfd035d-746e-4b95-8a4d-e9f1134e6dde",
   "metadata": {
    "execution": {
     "iopub.execute_input": "2025-09-13T04:24:52.471722Z",
     "iopub.status.busy": "2025-09-13T04:24:52.471507Z",
     "iopub.status.idle": "2025-09-13T04:24:52.475121Z",
     "shell.execute_reply": "2025-09-13T04:24:52.474495Z",
     "shell.execute_reply.started": "2025-09-13T04:24:52.471704Z"
    }
   },
   "outputs": [],
   "source": [
    "try:\n",
    "    setup_s3_bucket_passed\n",
    "except NameError:\n",
    "    print(\"+++++++++++++++++++++++++++++++\")\n",
    "    print(\"[ERROR] YOU HAVE TO RUN ALL NOTEBOOKS IN THE SETUP FOLDER FIRST. You are missing Setup S3 Bucket.\")\n",
    "    print(\"+++++++++++++++++++++++++++++++\")\n"
   ]
  },
  {
   "cell_type": "code",
   "execution_count": 13,
   "id": "7c7f3517-1096-4ee5-9fe2-c2ddade67bed",
   "metadata": {
    "execution": {
     "iopub.execute_input": "2025-09-13T04:24:52.475943Z",
     "iopub.status.busy": "2025-09-13T04:24:52.475730Z",
     "iopub.status.idle": "2025-09-13T04:24:52.479627Z",
     "shell.execute_reply": "2025-09-13T04:24:52.479066Z",
     "shell.execute_reply.started": "2025-09-13T04:24:52.475925Z"
    }
   },
   "outputs": [],
   "source": [
    "if not setup_s3_bucket_passed:\n",
    "    print(\"+++++++++++++++++++++++++++++++++++++++++++++++++++++++++++++++\")\n",
    "    print(\"[ERROR] YOU HAVE TO RUN ALL NOTEBOOKS IN THE SETUP FOLDER FIRST. You are missing Setup S3 Bucket.\")\n",
    "    print(\"+++++++++++++++++++++++++++++++++++++++++++++++++++++++++++++++\")"
   ]
  },
  {
   "cell_type": "markdown",
   "id": "e554c494-9790-471a-b65e-f005dcd936d5",
   "metadata": {},
   "source": [
    "### Copy data from github to S3 bucket"
   ]
  },
  {
   "cell_type": "code",
   "execution_count": 14,
   "id": "08f5d13d-bc9f-4af3-b93d-fb1dbb350fac",
   "metadata": {
    "execution": {
     "iopub.execute_input": "2025-09-13T04:24:52.483617Z",
     "iopub.status.busy": "2025-09-13T04:24:52.483413Z",
     "iopub.status.idle": "2025-09-13T04:24:54.248284Z",
     "shell.execute_reply": "2025-09-13T04:24:54.247435Z",
     "shell.execute_reply.started": "2025-09-13T04:24:52.483599Z"
    }
   },
   "outputs": [
    {
     "name": "stdout",
     "output_type": "stream",
     "text": [
      "upload: civil/test-00000-of-00001.parquet to s3://sagemaker-us-east-1-590183687297/toxicity_pds/parquet/test-00000-of-00001.parquet\n",
      "upload: civil/validation-00000-of-00001.parquet to s3://sagemaker-us-east-1-590183687297/toxicity_pds/parquet/validation-00000-of-00001.parquet\n",
      "upload: civil/train-00000-of-00001.parquet to s3://sagemaker-us-east-1-590183687297/toxicity_pds/parquet/train-00000-of-00001.parquet\n"
     ]
    }
   ],
   "source": [
    "!aws s3 cp --recursive /home/sagemaker-user/aai540_toxicity_classification/civil $s3_private_path_parquet/ --include \"*\"\n"
   ]
  },
  {
   "cell_type": "markdown",
   "id": "a26650d5-3e61-4fcd-8564-92b352adaf40",
   "metadata": {},
   "source": [
    "### List the files"
   ]
  },
  {
   "cell_type": "code",
   "execution_count": 15,
   "id": "5cc9638e-bc7e-41bd-bdfd-f995ee310f84",
   "metadata": {
    "execution": {
     "iopub.execute_input": "2025-09-13T04:24:54.250775Z",
     "iopub.status.busy": "2025-09-13T04:24:54.250593Z",
     "iopub.status.idle": "2025-09-13T04:24:54.254124Z",
     "shell.execute_reply": "2025-09-13T04:24:54.253472Z",
     "shell.execute_reply.started": "2025-09-13T04:24:54.250753Z"
    }
   },
   "outputs": [
    {
     "name": "stdout",
     "output_type": "stream",
     "text": [
      "s3://sagemaker-us-east-1-590183687297/toxicity_pds/parquet\n"
     ]
    }
   ],
   "source": [
    "print(s3_private_path_parquet)"
   ]
  },
  {
   "cell_type": "code",
   "execution_count": 16,
   "id": "ca677098-c898-4475-a53c-640683623a63",
   "metadata": {
    "execution": {
     "iopub.execute_input": "2025-09-13T04:24:54.255086Z",
     "iopub.status.busy": "2025-09-13T04:24:54.254761Z",
     "iopub.status.idle": "2025-09-13T04:24:55.104126Z",
     "shell.execute_reply": "2025-09-13T04:24:55.103196Z",
     "shell.execute_reply.started": "2025-09-13T04:24:54.255067Z"
    }
   },
   "outputs": [
    {
     "name": "stdout",
     "output_type": "stream",
     "text": [
      "2025-09-13 04:24:54   34099179 test-00000-of-00001.parquet\n",
      "2025-09-13 04:24:54   68844404 train-00000-of-00001.parquet\n",
      "2025-09-13 04:24:54   11697541 validation-00000-of-00001.parquet\n"
     ]
    }
   ],
   "source": [
    "!aws s3 ls $s3_private_path_parquet/"
   ]
  },
  {
   "cell_type": "code",
   "execution_count": 17,
   "id": "c59ed846-a633-4748-ba43-a430448eaa16",
   "metadata": {
    "execution": {
     "iopub.execute_input": "2025-09-13T04:24:55.105333Z",
     "iopub.status.busy": "2025-09-13T04:24:55.104852Z",
     "iopub.status.idle": "2025-09-13T04:24:55.113537Z",
     "shell.execute_reply": "2025-09-13T04:24:55.112697Z",
     "shell.execute_reply.started": "2025-09-13T04:24:55.105301Z"
    }
   },
   "outputs": [
    {
     "name": "stdout",
     "output_type": "stream",
     "text": [
      "Stored variables and their in-db values:\n",
      "ingest_create_athena_db_passed             -> True\n",
      "s3_private_path_parquet                    -> 's3://sagemaker-us-east-1-590183687297/toxicity_pd\n",
      "setup_s3_bucket_passed                     -> True\n"
     ]
    }
   ],
   "source": [
    "%store"
   ]
  },
  {
   "cell_type": "markdown",
   "id": "ce588303-232f-4586-a4ac-cdc8f0a1faa9",
   "metadata": {},
   "source": [
    "## Create Athena Database Schema"
   ]
  },
  {
   "cell_type": "code",
   "execution_count": 18,
   "id": "de4e0b9c-004c-4b9b-a12a-67381dab79c4",
   "metadata": {
    "execution": {
     "iopub.execute_input": "2025-09-13T04:24:55.120464Z",
     "iopub.status.busy": "2025-09-13T04:24:55.120265Z",
     "iopub.status.idle": "2025-09-13T04:24:55.123493Z",
     "shell.execute_reply": "2025-09-13T04:24:55.122744Z",
     "shell.execute_reply.started": "2025-09-13T04:24:55.120446Z"
    }
   },
   "outputs": [],
   "source": [
    "ingest_create_athena_db_passed = False"
   ]
  },
  {
   "cell_type": "code",
   "execution_count": 19,
   "id": "eb624d71-f968-4e8d-912d-4275d6b69215",
   "metadata": {
    "execution": {
     "iopub.execute_input": "2025-09-13T04:24:55.124490Z",
     "iopub.status.busy": "2025-09-13T04:24:55.124280Z",
     "iopub.status.idle": "2025-09-13T04:24:55.128773Z",
     "shell.execute_reply": "2025-09-13T04:24:55.128078Z",
     "shell.execute_reply.started": "2025-09-13T04:24:55.124472Z"
    }
   },
   "outputs": [],
   "source": [
    "%store -r s3_private_path_parquet"
   ]
  },
  {
   "cell_type": "code",
   "execution_count": 20,
   "id": "05163bd8-592c-4231-9e98-5b1b90d2868d",
   "metadata": {
    "execution": {
     "iopub.execute_input": "2025-09-13T04:24:55.130112Z",
     "iopub.status.busy": "2025-09-13T04:24:55.129822Z",
     "iopub.status.idle": "2025-09-13T04:24:55.134065Z",
     "shell.execute_reply": "2025-09-13T04:24:55.133353Z",
     "shell.execute_reply.started": "2025-09-13T04:24:55.130084Z"
    }
   },
   "outputs": [],
   "source": [
    "try:\n",
    "    s3_private_path_parquet\n",
    "except NameError:\n",
    "    print(\"*****************************************************************************\")\n",
    "    print(\"[ERROR] PLEASE RE-RUN THE PREVIOUS COPY TSV TO S3 NOTEBOOK ******************\")\n",
    "    print(\"[ERROR] THIS NOTEBOOK WILL NOT RUN PROPERLY. ********************************\")\n",
    "    print(\"*****************************************************************************\")"
   ]
  },
  {
   "cell_type": "code",
   "execution_count": 21,
   "id": "cd49b362-c02c-49d7-8a72-c9ae4535ff06",
   "metadata": {
    "execution": {
     "iopub.execute_input": "2025-09-13T04:24:55.135403Z",
     "iopub.status.busy": "2025-09-13T04:24:55.135117Z",
     "iopub.status.idle": "2025-09-13T04:24:55.140127Z",
     "shell.execute_reply": "2025-09-13T04:24:55.139480Z",
     "shell.execute_reply.started": "2025-09-13T04:24:55.135374Z"
    }
   },
   "outputs": [
    {
     "name": "stdout",
     "output_type": "stream",
     "text": [
      "s3://sagemaker-us-east-1-590183687297/toxicity_pds/parquet\n"
     ]
    }
   ],
   "source": [
    "print(s3_private_path_parquet)"
   ]
  },
  {
   "cell_type": "markdown",
   "id": "67a0dcef-f7cb-4fde-b279-992f8cba2484",
   "metadata": {},
   "source": [
    "### Import PyAthena"
   ]
  },
  {
   "cell_type": "code",
   "execution_count": 22,
   "id": "989f3d87-dc19-467f-85df-9a432a489f81",
   "metadata": {
    "execution": {
     "iopub.execute_input": "2025-09-13T04:24:55.143096Z",
     "iopub.status.busy": "2025-09-13T04:24:55.142824Z",
     "iopub.status.idle": "2025-09-13T04:24:55.147647Z",
     "shell.execute_reply": "2025-09-13T04:24:55.146973Z",
     "shell.execute_reply.started": "2025-09-13T04:24:55.143077Z"
    }
   },
   "outputs": [],
   "source": [
    "from pyathena import connect"
   ]
  },
  {
   "cell_type": "markdown",
   "id": "e251cf5f-501e-4980-a0a8-61fd02b8cebf",
   "metadata": {},
   "source": [
    "### Create Athena Database"
   ]
  },
  {
   "cell_type": "code",
   "execution_count": 23,
   "id": "033212be-a545-4ab5-8fe8-f29b6bcea18a",
   "metadata": {
    "execution": {
     "iopub.execute_input": "2025-09-13T04:24:55.151035Z",
     "iopub.status.busy": "2025-09-13T04:24:55.150766Z",
     "iopub.status.idle": "2025-09-13T04:24:55.154490Z",
     "shell.execute_reply": "2025-09-13T04:24:55.153992Z",
     "shell.execute_reply.started": "2025-09-13T04:24:55.151014Z"
    }
   },
   "outputs": [],
   "source": [
    "database_name = \"aai540_toxicity_aws\""
   ]
  },
  {
   "cell_type": "code",
   "execution_count": 24,
   "id": "cbc337f9-8c98-4d72-ab0f-454ef7728e36",
   "metadata": {
    "execution": {
     "iopub.execute_input": "2025-09-13T04:24:55.155531Z",
     "iopub.status.busy": "2025-09-13T04:24:55.155185Z",
     "iopub.status.idle": "2025-09-13T04:24:55.161609Z",
     "shell.execute_reply": "2025-09-13T04:24:55.160899Z",
     "shell.execute_reply.started": "2025-09-13T04:24:55.155510Z"
    }
   },
   "outputs": [],
   "source": [
    "# Set S3 staging directory -- this is a temporary directory used for Athena queries\n",
    "s3_staging_dir = \"s3://{0}/athena/staging\".format(bucket)"
   ]
  },
  {
   "cell_type": "code",
   "execution_count": 25,
   "id": "3d0a3191-e984-49f3-a80f-afa73d1eaad5",
   "metadata": {
    "execution": {
     "iopub.execute_input": "2025-09-13T04:24:55.162569Z",
     "iopub.status.busy": "2025-09-13T04:24:55.162333Z",
     "iopub.status.idle": "2025-09-13T04:24:55.272276Z",
     "shell.execute_reply": "2025-09-13T04:24:55.271561Z",
     "shell.execute_reply.started": "2025-09-13T04:24:55.162549Z"
    }
   },
   "outputs": [],
   "source": [
    "conn = connect(region_name=region, s3_staging_dir=s3_staging_dir)"
   ]
  },
  {
   "cell_type": "code",
   "execution_count": 26,
   "id": "fd63c480-2018-444e-b485-28c9b51d49f4",
   "metadata": {
    "execution": {
     "iopub.execute_input": "2025-09-13T04:24:55.273307Z",
     "iopub.status.busy": "2025-09-13T04:24:55.273039Z",
     "iopub.status.idle": "2025-09-13T04:24:55.280063Z",
     "shell.execute_reply": "2025-09-13T04:24:55.277959Z",
     "shell.execute_reply.started": "2025-09-13T04:24:55.273282Z"
    }
   },
   "outputs": [
    {
     "name": "stdout",
     "output_type": "stream",
     "text": [
      "CREATE DATABASE IF NOT EXISTS aai540_toxicity_aws\n"
     ]
    }
   ],
   "source": [
    "statement = \"CREATE DATABASE IF NOT EXISTS {}\".format(database_name)\n",
    "print(statement)"
   ]
  },
  {
   "cell_type": "code",
   "execution_count": 27,
   "id": "beac33dd-1b76-490c-ac34-2dce9cf07e42",
   "metadata": {
    "execution": {
     "iopub.execute_input": "2025-09-13T04:24:55.281750Z",
     "iopub.status.busy": "2025-09-13T04:24:55.281184Z",
     "iopub.status.idle": "2025-09-13T04:24:56.697521Z",
     "shell.execute_reply": "2025-09-13T04:24:56.696649Z",
     "shell.execute_reply.started": "2025-09-13T04:24:55.281720Z"
    }
   },
   "outputs": [
    {
     "name": "stderr",
     "output_type": "stream",
     "text": [
      "/tmp/ipykernel_4868/3803073958.py:3: UserWarning: pandas only supports SQLAlchemy connectable (engine/connection) or database string URI or sqlite3 DBAPI2 connection. Other DBAPI2 objects are not tested. Please consider using SQLAlchemy.\n",
      "  pd.read_sql(statement, conn)\n"
     ]
    },
    {
     "data": {
      "text/html": [
       "<div>\n",
       "<style scoped>\n",
       "    .dataframe tbody tr th:only-of-type {\n",
       "        vertical-align: middle;\n",
       "    }\n",
       "\n",
       "    .dataframe tbody tr th {\n",
       "        vertical-align: top;\n",
       "    }\n",
       "\n",
       "    .dataframe thead th {\n",
       "        text-align: right;\n",
       "    }\n",
       "</style>\n",
       "<table border=\"1\" class=\"dataframe\">\n",
       "  <thead>\n",
       "    <tr style=\"text-align: right;\">\n",
       "      <th></th>\n",
       "    </tr>\n",
       "  </thead>\n",
       "  <tbody>\n",
       "  </tbody>\n",
       "</table>\n",
       "</div>"
      ],
      "text/plain": [
       "Empty DataFrame\n",
       "Columns: []\n",
       "Index: []"
      ]
     },
     "execution_count": 27,
     "metadata": {},
     "output_type": "execute_result"
    }
   ],
   "source": [
    "import pandas as pd\n",
    "\n",
    "pd.read_sql(statement, conn)"
   ]
  },
  {
   "cell_type": "markdown",
   "id": "511f8854-b86d-4b27-a019-6ee63984f9f8",
   "metadata": {},
   "source": [
    "### Verify The Database Has Been Created Succesfully"
   ]
  },
  {
   "cell_type": "code",
   "execution_count": 28,
   "id": "745682ca-b2f7-4433-b11d-ff2bbf07ef3b",
   "metadata": {
    "execution": {
     "iopub.execute_input": "2025-09-13T04:24:56.701068Z",
     "iopub.status.busy": "2025-09-13T04:24:56.700737Z",
     "iopub.status.idle": "2025-09-13T04:24:57.936818Z",
     "shell.execute_reply": "2025-09-13T04:24:57.936206Z",
     "shell.execute_reply.started": "2025-09-13T04:24:56.701039Z"
    }
   },
   "outputs": [
    {
     "name": "stderr",
     "output_type": "stream",
     "text": [
      "/tmp/ipykernel_4868/3999478089.py:3: UserWarning: pandas only supports SQLAlchemy connectable (engine/connection) or database string URI or sqlite3 DBAPI2 connection. Other DBAPI2 objects are not tested. Please consider using SQLAlchemy.\n",
      "  df_show = pd.read_sql(statement, conn)\n"
     ]
    },
    {
     "data": {
      "text/html": [
       "<div>\n",
       "<style scoped>\n",
       "    .dataframe tbody tr th:only-of-type {\n",
       "        vertical-align: middle;\n",
       "    }\n",
       "\n",
       "    .dataframe tbody tr th {\n",
       "        vertical-align: top;\n",
       "    }\n",
       "\n",
       "    .dataframe thead th {\n",
       "        text-align: right;\n",
       "    }\n",
       "</style>\n",
       "<table border=\"1\" class=\"dataframe\">\n",
       "  <thead>\n",
       "    <tr style=\"text-align: right;\">\n",
       "      <th></th>\n",
       "      <th>database_name</th>\n",
       "    </tr>\n",
       "  </thead>\n",
       "  <tbody>\n",
       "    <tr>\n",
       "      <th>0</th>\n",
       "      <td>aai540_toxicity_aws</td>\n",
       "    </tr>\n",
       "    <tr>\n",
       "      <th>1</th>\n",
       "      <td>default</td>\n",
       "    </tr>\n",
       "  </tbody>\n",
       "</table>\n",
       "</div>"
      ],
      "text/plain": [
       "         database_name\n",
       "0  aai540_toxicity_aws\n",
       "1              default"
      ]
     },
     "execution_count": 28,
     "metadata": {},
     "output_type": "execute_result"
    }
   ],
   "source": [
    "statement = \"SHOW DATABASES\"\n",
    "\n",
    "df_show = pd.read_sql(statement, conn)\n",
    "df_show.head(5)"
   ]
  },
  {
   "cell_type": "code",
   "execution_count": 29,
   "id": "db000103-f523-4fd0-af45-1dea59083229",
   "metadata": {
    "execution": {
     "iopub.execute_input": "2025-09-13T04:24:57.937840Z",
     "iopub.status.busy": "2025-09-13T04:24:57.937581Z",
     "iopub.status.idle": "2025-09-13T04:24:57.941177Z",
     "shell.execute_reply": "2025-09-13T04:24:57.940463Z",
     "shell.execute_reply.started": "2025-09-13T04:24:57.937821Z"
    }
   },
   "outputs": [],
   "source": [
    "if database_name in df_show.values:\n",
    "    ingest_create_athena_db_passed = True"
   ]
  },
  {
   "cell_type": "code",
   "execution_count": 30,
   "id": "0dc291a5-0a76-429e-bec0-37e3a2a2d460",
   "metadata": {
    "execution": {
     "iopub.execute_input": "2025-09-13T04:24:57.942139Z",
     "iopub.status.busy": "2025-09-13T04:24:57.941875Z",
     "iopub.status.idle": "2025-09-13T04:24:57.946925Z",
     "shell.execute_reply": "2025-09-13T04:24:57.946179Z",
     "shell.execute_reply.started": "2025-09-13T04:24:57.942121Z"
    }
   },
   "outputs": [
    {
     "name": "stdout",
     "output_type": "stream",
     "text": [
      "Stored 'ingest_create_athena_db_passed' (bool)\n"
     ]
    }
   ],
   "source": [
    "%store ingest_create_athena_db_passed"
   ]
  },
  {
   "cell_type": "code",
   "execution_count": 31,
   "id": "a1c564a9-e549-4706-856a-f69ad341214d",
   "metadata": {
    "execution": {
     "iopub.execute_input": "2025-09-13T04:24:57.947896Z",
     "iopub.status.busy": "2025-09-13T04:24:57.947677Z",
     "iopub.status.idle": "2025-09-13T04:24:57.952484Z",
     "shell.execute_reply": "2025-09-13T04:24:57.951826Z",
     "shell.execute_reply.started": "2025-09-13T04:24:57.947878Z"
    }
   },
   "outputs": [
    {
     "name": "stdout",
     "output_type": "stream",
     "text": [
      "Stored variables and their in-db values:\n",
      "ingest_create_athena_db_passed             -> True\n",
      "s3_private_path_parquet                    -> 's3://sagemaker-us-east-1-590183687297/toxicity_pd\n",
      "setup_s3_bucket_passed                     -> True\n"
     ]
    }
   ],
   "source": [
    "%store"
   ]
  },
  {
   "cell_type": "markdown",
   "id": "fcf5b04d-ec1f-43b1-bed5-2087531eebf4",
   "metadata": {},
   "source": [
    "### Create Tables"
   ]
  },
  {
   "cell_type": "code",
   "execution_count": 32,
   "id": "6867663f-d70b-44fb-b39d-df3cf916dd0b",
   "metadata": {
    "execution": {
     "iopub.execute_input": "2025-09-13T04:24:57.955478Z",
     "iopub.status.busy": "2025-09-13T04:24:57.955163Z",
     "iopub.status.idle": "2025-09-13T04:24:57.958293Z",
     "shell.execute_reply": "2025-09-13T04:24:57.957653Z",
     "shell.execute_reply.started": "2025-09-13T04:24:57.955459Z"
    }
   },
   "outputs": [],
   "source": [
    "ingest_create_athena_table_pqt_passed = False"
   ]
  },
  {
   "cell_type": "code",
   "execution_count": 33,
   "id": "be84fb3f-27ad-4d74-bd81-361fed81cbd7",
   "metadata": {
    "execution": {
     "iopub.execute_input": "2025-09-13T04:24:57.959893Z",
     "iopub.status.busy": "2025-09-13T04:24:57.959695Z",
     "iopub.status.idle": "2025-09-13T04:24:57.963795Z",
     "shell.execute_reply": "2025-09-13T04:24:57.963160Z",
     "shell.execute_reply.started": "2025-09-13T04:24:57.959875Z"
    }
   },
   "outputs": [],
   "source": [
    "table_name = 'toxicity_pqt'\n",
    "train = '%/train-00000-of-00001.parquet'\n",
    "validation = '%/validation-00000-of-00001.parquet'\n",
    "test = '%/test-00000-of-00001.parquet'"
   ]
  },
  {
   "cell_type": "code",
   "execution_count": 34,
   "id": "72840485-7e9c-4eba-a075-46e63264c2ad",
   "metadata": {
    "execution": {
     "iopub.execute_input": "2025-09-13T04:24:57.964489Z",
     "iopub.status.busy": "2025-09-13T04:24:57.964301Z",
     "iopub.status.idle": "2025-09-13T04:24:57.969637Z",
     "shell.execute_reply": "2025-09-13T04:24:57.969073Z",
     "shell.execute_reply.started": "2025-09-13T04:24:57.964471Z"
    }
   },
   "outputs": [
    {
     "data": {
      "text/plain": [
       "'s3://sagemaker-us-east-1-590183687297/toxicity_pds/parquet'"
      ]
     },
     "execution_count": 34,
     "metadata": {},
     "output_type": "execute_result"
    }
   ],
   "source": [
    "s3_private_path_parquet"
   ]
  },
  {
   "cell_type": "code",
   "execution_count": 35,
   "id": "2fe7facc-4b32-4f9e-bd58-a7bfaac50fb6",
   "metadata": {
    "execution": {
     "iopub.execute_input": "2025-09-13T04:24:57.970586Z",
     "iopub.status.busy": "2025-09-13T04:24:57.970365Z",
     "iopub.status.idle": "2025-09-13T04:24:59.234157Z",
     "shell.execute_reply": "2025-09-13T04:24:59.233358Z",
     "shell.execute_reply.started": "2025-09-13T04:24:57.970568Z"
    }
   },
   "outputs": [
    {
     "name": "stderr",
     "output_type": "stream",
     "text": [
      "/tmp/ipykernel_4868/2386943986.py:2: UserWarning: pandas only supports SQLAlchemy connectable (engine/connection) or database string URI or sqlite3 DBAPI2 connection. Other DBAPI2 objects are not tested. Please consider using SQLAlchemy.\n",
      "  pd.read_sql(drop_stmt, conn)\n"
     ]
    },
    {
     "data": {
      "text/html": [
       "<div>\n",
       "<style scoped>\n",
       "    .dataframe tbody tr th:only-of-type {\n",
       "        vertical-align: middle;\n",
       "    }\n",
       "\n",
       "    .dataframe tbody tr th {\n",
       "        vertical-align: top;\n",
       "    }\n",
       "\n",
       "    .dataframe thead th {\n",
       "        text-align: right;\n",
       "    }\n",
       "</style>\n",
       "<table border=\"1\" class=\"dataframe\">\n",
       "  <thead>\n",
       "    <tr style=\"text-align: right;\">\n",
       "      <th></th>\n",
       "    </tr>\n",
       "  </thead>\n",
       "  <tbody>\n",
       "  </tbody>\n",
       "</table>\n",
       "</div>"
      ],
      "text/plain": [
       "Empty DataFrame\n",
       "Columns: []\n",
       "Index: []"
      ]
     },
     "execution_count": 35,
     "metadata": {},
     "output_type": "execute_result"
    }
   ],
   "source": [
    "drop_stmt = \"\"\"DROP TABLE IF EXISTS {}.{}\"\"\".format(database_name, table_name)\n",
    "pd.read_sql(drop_stmt, conn)"
   ]
  },
  {
   "cell_type": "code",
   "execution_count": 36,
   "id": "b9f99e51-24d4-4b64-99fe-f5e190c98b0d",
   "metadata": {
    "execution": {
     "iopub.execute_input": "2025-09-13T04:24:59.235522Z",
     "iopub.status.busy": "2025-09-13T04:24:59.235148Z",
     "iopub.status.idle": "2025-09-13T04:25:00.489034Z",
     "shell.execute_reply": "2025-09-13T04:25:00.481169Z",
     "shell.execute_reply.started": "2025-09-13T04:24:59.235493Z"
    }
   },
   "outputs": [
    {
     "name": "stdout",
     "output_type": "stream",
     "text": [
      "CREATE EXTERNAL TABLE IF NOT EXISTS aai540_toxicity_aws.toxicity_pqt (\n",
      "  uid               BIGINT,\n",
      "  id                BIGINT,\n",
      "  comment_text      STRING,\n",
      "  toxicity          BIGINT,\n",
      "  has_active_attrs  BOOLEAN,\n",
      "  active_attrs      ARRAY<string>,\n",
      "  male              BIGINT,\n",
      "  female            BIGINT,\n",
      "  lgbtq             BIGINT,\n",
      "  christian         BIGINT,\n",
      "  muslim            BIGINT,\n",
      "  other_religions   BIGINT,\n",
      "  black             BIGINT,\n",
      "  white             BIGINT,\n",
      "  identity_any      BIGINT,\n",
      "  severe_toxicity   BIGINT,\n",
      "  obscene           BIGINT,\n",
      "  threat            BIGINT,\n",
      "  insult            BIGINT,\n",
      "  identity_attack   BIGINT,\n",
      "  sexual_explicit   BIGINT\n",
      ")\n",
      "STORED AS PARQUET\n",
      "LOCATION 's3://sagemaker-us-east-1-590183687297/toxicity_pds/parquet/'\n"
     ]
    },
    {
     "name": "stderr",
     "output_type": "stream",
     "text": [
      "/tmp/ipykernel_4868/117541428.py:28: UserWarning: pandas only supports SQLAlchemy connectable (engine/connection) or database string URI or sqlite3 DBAPI2 connection. Other DBAPI2 objects are not tested. Please consider using SQLAlchemy.\n",
      "  pd.read_sql(statement, conn)\n"
     ]
    },
    {
     "data": {
      "text/html": [
       "<div>\n",
       "<style scoped>\n",
       "    .dataframe tbody tr th:only-of-type {\n",
       "        vertical-align: middle;\n",
       "    }\n",
       "\n",
       "    .dataframe tbody tr th {\n",
       "        vertical-align: top;\n",
       "    }\n",
       "\n",
       "    .dataframe thead th {\n",
       "        text-align: right;\n",
       "    }\n",
       "</style>\n",
       "<table border=\"1\" class=\"dataframe\">\n",
       "  <thead>\n",
       "    <tr style=\"text-align: right;\">\n",
       "      <th></th>\n",
       "    </tr>\n",
       "  </thead>\n",
       "  <tbody>\n",
       "  </tbody>\n",
       "</table>\n",
       "</div>"
      ],
      "text/plain": [
       "Empty DataFrame\n",
       "Columns: []\n",
       "Index: []"
      ]
     },
     "execution_count": 36,
     "metadata": {},
     "output_type": "execute_result"
    }
   ],
   "source": [
    "statement = \"\"\"CREATE EXTERNAL TABLE IF NOT EXISTS {}.{} (\n",
    "  uid               BIGINT,\n",
    "  id                BIGINT,\n",
    "  comment_text      STRING,\n",
    "  toxicity          BIGINT,\n",
    "  has_active_attrs  BOOLEAN,\n",
    "  active_attrs      ARRAY<string>,\n",
    "  male              BIGINT,\n",
    "  female            BIGINT,\n",
    "  lgbtq             BIGINT,\n",
    "  christian         BIGINT,\n",
    "  muslim            BIGINT,\n",
    "  other_religions   BIGINT,\n",
    "  black             BIGINT,\n",
    "  white             BIGINT,\n",
    "  identity_any      BIGINT,\n",
    "  severe_toxicity   BIGINT,\n",
    "  obscene           BIGINT,\n",
    "  threat            BIGINT,\n",
    "  insult            BIGINT,\n",
    "  identity_attack   BIGINT,\n",
    "  sexual_explicit   BIGINT\n",
    ")\n",
    "STORED AS PARQUET\n",
    "LOCATION '{}/'\"\"\".format(database_name, table_name, s3_private_path_parquet)\n",
    "\n",
    "print(statement)\n",
    "pd.read_sql(statement, conn)"
   ]
  },
  {
   "cell_type": "code",
   "execution_count": 37,
   "id": "dab3398e-42a7-49a5-b16a-8969a37a7770",
   "metadata": {
    "execution": {
     "iopub.execute_input": "2025-09-13T04:25:00.492615Z",
     "iopub.status.busy": "2025-09-13T04:25:00.491961Z",
     "iopub.status.idle": "2025-09-13T04:25:02.065422Z",
     "shell.execute_reply": "2025-09-13T04:25:02.059019Z",
     "shell.execute_reply.started": "2025-09-13T04:25:00.492578Z"
    }
   },
   "outputs": [
    {
     "name": "stdout",
     "output_type": "stream",
     "text": [
      "CREATE OR REPLACE VIEW aai540_toxicity_aws.toxicity_train AS SELECT * FROM aai540_toxicity_aws.toxicity_pqt WHERE \"$path\" LIKE '%/train-00000-of-00001.parquet'\n"
     ]
    },
    {
     "name": "stderr",
     "output_type": "stream",
     "text": [
      "/tmp/ipykernel_4868/2100174071.py:10: UserWarning: pandas only supports SQLAlchemy connectable (engine/connection) or database string URI or sqlite3 DBAPI2 connection. Other DBAPI2 objects are not tested. Please consider using SQLAlchemy.\n",
      "  pd.read_sql(statement_view, conn)\n"
     ]
    },
    {
     "data": {
      "text/html": [
       "<div>\n",
       "<style scoped>\n",
       "    .dataframe tbody tr th:only-of-type {\n",
       "        vertical-align: middle;\n",
       "    }\n",
       "\n",
       "    .dataframe tbody tr th {\n",
       "        vertical-align: top;\n",
       "    }\n",
       "\n",
       "    .dataframe thead th {\n",
       "        text-align: right;\n",
       "    }\n",
       "</style>\n",
       "<table border=\"1\" class=\"dataframe\">\n",
       "  <thead>\n",
       "    <tr style=\"text-align: right;\">\n",
       "      <th></th>\n",
       "    </tr>\n",
       "  </thead>\n",
       "  <tbody>\n",
       "  </tbody>\n",
       "</table>\n",
       "</div>"
      ],
      "text/plain": [
       "Empty DataFrame\n",
       "Columns: []\n",
       "Index: []"
      ]
     },
     "execution_count": 37,
     "metadata": {},
     "output_type": "execute_result"
    }
   ],
   "source": [
    "train_view = 'toxicity_train'\n",
    "statement_view = \"\"\"CREATE OR REPLACE VIEW {}.{} AS SELECT * FROM {}.{} WHERE \"$path\" LIKE '{}'\"\"\".format(\n",
    "    database_name,\n",
    "    train_view,\n",
    "    database_name,\n",
    "    table_name,\n",
    "    train\n",
    ")\n",
    "print(statement_view)\n",
    "pd.read_sql(statement_view, conn)"
   ]
  },
  {
   "cell_type": "code",
   "execution_count": 38,
   "id": "4d6a64de-bf7b-4dcd-ae62-4798466b2f2d",
   "metadata": {
    "execution": {
     "iopub.execute_input": "2025-09-13T04:25:02.068739Z",
     "iopub.status.busy": "2025-09-13T04:25:02.068363Z",
     "iopub.status.idle": "2025-09-13T04:25:03.351388Z",
     "shell.execute_reply": "2025-09-13T04:25:03.350622Z",
     "shell.execute_reply.started": "2025-09-13T04:25:02.068705Z"
    }
   },
   "outputs": [
    {
     "name": "stdout",
     "output_type": "stream",
     "text": [
      "CREATE OR REPLACE VIEW aai540_toxicity_aws.toxicity_val AS SELECT * FROM aai540_toxicity_aws.toxicity_pqt WHERE \"$path\" LIKE '%/validation-00000-of-00001.parquet'\n"
     ]
    },
    {
     "name": "stderr",
     "output_type": "stream",
     "text": [
      "/tmp/ipykernel_4868/3418994591.py:10: UserWarning: pandas only supports SQLAlchemy connectable (engine/connection) or database string URI or sqlite3 DBAPI2 connection. Other DBAPI2 objects are not tested. Please consider using SQLAlchemy.\n",
      "  pd.read_sql(statement_view, conn)\n"
     ]
    },
    {
     "data": {
      "text/html": [
       "<div>\n",
       "<style scoped>\n",
       "    .dataframe tbody tr th:only-of-type {\n",
       "        vertical-align: middle;\n",
       "    }\n",
       "\n",
       "    .dataframe tbody tr th {\n",
       "        vertical-align: top;\n",
       "    }\n",
       "\n",
       "    .dataframe thead th {\n",
       "        text-align: right;\n",
       "    }\n",
       "</style>\n",
       "<table border=\"1\" class=\"dataframe\">\n",
       "  <thead>\n",
       "    <tr style=\"text-align: right;\">\n",
       "      <th></th>\n",
       "    </tr>\n",
       "  </thead>\n",
       "  <tbody>\n",
       "  </tbody>\n",
       "</table>\n",
       "</div>"
      ],
      "text/plain": [
       "Empty DataFrame\n",
       "Columns: []\n",
       "Index: []"
      ]
     },
     "execution_count": 38,
     "metadata": {},
     "output_type": "execute_result"
    }
   ],
   "source": [
    "validation_view = 'toxicity_val'\n",
    "statement_view = \"\"\"CREATE OR REPLACE VIEW {}.{} AS SELECT * FROM {}.{} WHERE \"$path\" LIKE '{}'\"\"\".format(\n",
    "    database_name,\n",
    "    validation_view,\n",
    "    database_name,\n",
    "    table_name,\n",
    "    validation\n",
    ")\n",
    "print(statement_view)\n",
    "pd.read_sql(statement_view, conn)"
   ]
  },
  {
   "cell_type": "code",
   "execution_count": 39,
   "id": "7b2d87a0-3e43-45c6-97fc-caab36c887f3",
   "metadata": {
    "execution": {
     "iopub.execute_input": "2025-09-13T04:25:03.352727Z",
     "iopub.status.busy": "2025-09-13T04:25:03.352326Z",
     "iopub.status.idle": "2025-09-13T04:25:04.565398Z",
     "shell.execute_reply": "2025-09-13T04:25:04.564684Z",
     "shell.execute_reply.started": "2025-09-13T04:25:03.352688Z"
    }
   },
   "outputs": [
    {
     "name": "stdout",
     "output_type": "stream",
     "text": [
      "CREATE OR REPLACE VIEW aai540_toxicity_aws.toxicity_test AS SELECT * FROM aai540_toxicity_aws.toxicity_pqt WHERE \"$path\" LIKE '%/test-00000-of-00001.parquet'\n"
     ]
    },
    {
     "name": "stderr",
     "output_type": "stream",
     "text": [
      "/tmp/ipykernel_4868/1627434926.py:10: UserWarning: pandas only supports SQLAlchemy connectable (engine/connection) or database string URI or sqlite3 DBAPI2 connection. Other DBAPI2 objects are not tested. Please consider using SQLAlchemy.\n",
      "  pd.read_sql(statement_view, conn)\n"
     ]
    },
    {
     "data": {
      "text/html": [
       "<div>\n",
       "<style scoped>\n",
       "    .dataframe tbody tr th:only-of-type {\n",
       "        vertical-align: middle;\n",
       "    }\n",
       "\n",
       "    .dataframe tbody tr th {\n",
       "        vertical-align: top;\n",
       "    }\n",
       "\n",
       "    .dataframe thead th {\n",
       "        text-align: right;\n",
       "    }\n",
       "</style>\n",
       "<table border=\"1\" class=\"dataframe\">\n",
       "  <thead>\n",
       "    <tr style=\"text-align: right;\">\n",
       "      <th></th>\n",
       "    </tr>\n",
       "  </thead>\n",
       "  <tbody>\n",
       "  </tbody>\n",
       "</table>\n",
       "</div>"
      ],
      "text/plain": [
       "Empty DataFrame\n",
       "Columns: []\n",
       "Index: []"
      ]
     },
     "execution_count": 39,
     "metadata": {},
     "output_type": "execute_result"
    }
   ],
   "source": [
    "test_view = 'toxicity_test'\n",
    "statement_view = \"\"\"CREATE OR REPLACE VIEW {}.{} AS SELECT * FROM {}.{} WHERE \"$path\" LIKE '{}'\"\"\".format(\n",
    "    database_name,\n",
    "    test_view,\n",
    "    database_name,\n",
    "    table_name,\n",
    "    test\n",
    ")\n",
    "print(statement_view)\n",
    "pd.read_sql(statement_view, conn)\n"
   ]
  },
  {
   "cell_type": "markdown",
   "id": "1bf33e6c-0d77-4662-9292-20f6cfda086b",
   "metadata": {},
   "source": [
    "### Verify The Table Has Been Created Succesfully"
   ]
  },
  {
   "cell_type": "code",
   "execution_count": 40,
   "id": "6f61689c-e4d8-4681-aacd-12964423a64c",
   "metadata": {
    "execution": {
     "iopub.execute_input": "2025-09-13T04:25:04.568523Z",
     "iopub.status.busy": "2025-09-13T04:25:04.568183Z",
     "iopub.status.idle": "2025-09-13T04:25:05.809163Z",
     "shell.execute_reply": "2025-09-13T04:25:05.808239Z",
     "shell.execute_reply.started": "2025-09-13T04:25:04.568503Z"
    }
   },
   "outputs": [
    {
     "name": "stderr",
     "output_type": "stream",
     "text": [
      "/tmp/ipykernel_4868/2201015668.py:3: UserWarning: pandas only supports SQLAlchemy connectable (engine/connection) or database string URI or sqlite3 DBAPI2 connection. Other DBAPI2 objects are not tested. Please consider using SQLAlchemy.\n",
      "  df_show = pd.read_sql(statement, conn)\n"
     ]
    },
    {
     "data": {
      "text/html": [
       "<div>\n",
       "<style scoped>\n",
       "    .dataframe tbody tr th:only-of-type {\n",
       "        vertical-align: middle;\n",
       "    }\n",
       "\n",
       "    .dataframe tbody tr th {\n",
       "        vertical-align: top;\n",
       "    }\n",
       "\n",
       "    .dataframe thead th {\n",
       "        text-align: right;\n",
       "    }\n",
       "</style>\n",
       "<table border=\"1\" class=\"dataframe\">\n",
       "  <thead>\n",
       "    <tr style=\"text-align: right;\">\n",
       "      <th></th>\n",
       "      <th>tab_name</th>\n",
       "    </tr>\n",
       "  </thead>\n",
       "  <tbody>\n",
       "    <tr>\n",
       "      <th>0</th>\n",
       "      <td>toxicity_pqt</td>\n",
       "    </tr>\n",
       "    <tr>\n",
       "      <th>1</th>\n",
       "      <td>toxicity_test</td>\n",
       "    </tr>\n",
       "    <tr>\n",
       "      <th>2</th>\n",
       "      <td>toxicity_train</td>\n",
       "    </tr>\n",
       "    <tr>\n",
       "      <th>3</th>\n",
       "      <td>toxicity_val</td>\n",
       "    </tr>\n",
       "  </tbody>\n",
       "</table>\n",
       "</div>"
      ],
      "text/plain": [
       "         tab_name\n",
       "0    toxicity_pqt\n",
       "1   toxicity_test\n",
       "2  toxicity_train\n",
       "3    toxicity_val"
      ]
     },
     "execution_count": 40,
     "metadata": {},
     "output_type": "execute_result"
    }
   ],
   "source": [
    "statement = \"SHOW TABLES in {}\".format(database_name)\n",
    "\n",
    "df_show = pd.read_sql(statement, conn)\n",
    "df_show.head(5)"
   ]
  },
  {
   "cell_type": "code",
   "execution_count": 41,
   "id": "886614ff-c1f7-4dbf-8a7e-09beffb20f4b",
   "metadata": {
    "execution": {
     "iopub.execute_input": "2025-09-13T04:25:05.810867Z",
     "iopub.status.busy": "2025-09-13T04:25:05.810071Z",
     "iopub.status.idle": "2025-09-13T04:25:05.816205Z",
     "shell.execute_reply": "2025-09-13T04:25:05.815555Z",
     "shell.execute_reply.started": "2025-09-13T04:25:05.810835Z"
    }
   },
   "outputs": [
    {
     "name": "stdout",
     "output_type": "stream",
     "text": [
      "True\n"
     ]
    }
   ],
   "source": [
    "if table_name in df_show.values:\n",
    "    ingest_create_athena_table_pqt_passed = True\n",
    "\n",
    "print(ingest_create_athena_table_pqt_passed)"
   ]
  },
  {
   "cell_type": "markdown",
   "id": "da700b56-ae7b-4cc6-ad6d-21901c7e5318",
   "metadata": {},
   "source": [
    "### Run A Sample SQL Query"
   ]
  },
  {
   "cell_type": "code",
   "execution_count": 42,
   "id": "ae706279-3dd6-4b91-a627-ea17c48c7385",
   "metadata": {
    "execution": {
     "iopub.execute_input": "2025-09-13T04:25:05.819437Z",
     "iopub.status.busy": "2025-09-13T04:25:05.819249Z",
     "iopub.status.idle": "2025-09-13T04:27:30.514887Z",
     "shell.execute_reply": "2025-09-13T04:27:30.513770Z",
     "shell.execute_reply.started": "2025-09-13T04:25:05.819419Z"
    }
   },
   "outputs": [
    {
     "name": "stdout",
     "output_type": "stream",
     "text": [
      "SELECT * FROM aai540_toxicity_aws.toxicity_pqt\n"
     ]
    },
    {
     "name": "stderr",
     "output_type": "stream",
     "text": [
      "/tmp/ipykernel_4868/2419674085.py:7: UserWarning: pandas only supports SQLAlchemy connectable (engine/connection) or database string URI or sqlite3 DBAPI2 connection. Other DBAPI2 objects are not tested. Please consider using SQLAlchemy.\n",
      "  df = pd.read_sql(statement, conn)\n"
     ]
    },
    {
     "data": {
      "text/html": [
       "<div>\n",
       "<style scoped>\n",
       "    .dataframe tbody tr th:only-of-type {\n",
       "        vertical-align: middle;\n",
       "    }\n",
       "\n",
       "    .dataframe tbody tr th {\n",
       "        vertical-align: top;\n",
       "    }\n",
       "\n",
       "    .dataframe thead th {\n",
       "        text-align: right;\n",
       "    }\n",
       "</style>\n",
       "<table border=\"1\" class=\"dataframe\">\n",
       "  <thead>\n",
       "    <tr style=\"text-align: right;\">\n",
       "      <th></th>\n",
       "      <th>uid</th>\n",
       "      <th>id</th>\n",
       "      <th>comment_text</th>\n",
       "      <th>toxicity</th>\n",
       "      <th>has_active_attrs</th>\n",
       "      <th>active_attrs</th>\n",
       "      <th>male</th>\n",
       "      <th>female</th>\n",
       "      <th>lgbtq</th>\n",
       "      <th>christian</th>\n",
       "      <th>...</th>\n",
       "      <th>other_religions</th>\n",
       "      <th>black</th>\n",
       "      <th>white</th>\n",
       "      <th>identity_any</th>\n",
       "      <th>severe_toxicity</th>\n",
       "      <th>obscene</th>\n",
       "      <th>threat</th>\n",
       "      <th>insult</th>\n",
       "      <th>identity_attack</th>\n",
       "      <th>sexual_explicit</th>\n",
       "    </tr>\n",
       "  </thead>\n",
       "  <tbody>\n",
       "    <tr>\n",
       "      <th>0</th>\n",
       "      <td>18</td>\n",
       "      <td>5711489</td>\n",
       "      <td>𝑯𝒆 𝒕𝒐𝒍𝒅 𝒑𝒐𝒍𝒊𝒄𝒆 𝒕𝒉𝒂𝒕 𝒉𝒆 𝒃𝒖𝒚𝒔 𝒄𝒐𝒄𝒂𝒊𝒏𝒆 “𝒊𝒏 𝒍𝒂𝒓𝒈𝒆 ...</td>\n",
       "      <td>0</td>\n",
       "      <td>False</td>\n",
       "      <td>[]</td>\n",
       "      <td>0</td>\n",
       "      <td>0</td>\n",
       "      <td>0</td>\n",
       "      <td>0</td>\n",
       "      <td>...</td>\n",
       "      <td>0</td>\n",
       "      <td>0</td>\n",
       "      <td>0</td>\n",
       "      <td>0</td>\n",
       "      <td>0</td>\n",
       "      <td>0</td>\n",
       "      <td>0</td>\n",
       "      <td>0</td>\n",
       "      <td>0</td>\n",
       "      <td>0</td>\n",
       "    </tr>\n",
       "    <tr>\n",
       "      <th>1</th>\n",
       "      <td>21</td>\n",
       "      <td>5295059</td>\n",
       "      <td>为加拿大和中国友谊祝贺。与其想象中国人对加拿大人的看法不如直接去问，不要用自己的想法去猜。本...</td>\n",
       "      <td>0</td>\n",
       "      <td>True</td>\n",
       "      <td>[christian]</td>\n",
       "      <td>0</td>\n",
       "      <td>0</td>\n",
       "      <td>0</td>\n",
       "      <td>1</td>\n",
       "      <td>...</td>\n",
       "      <td>0</td>\n",
       "      <td>0</td>\n",
       "      <td>0</td>\n",
       "      <td>1</td>\n",
       "      <td>0</td>\n",
       "      <td>0</td>\n",
       "      <td>0</td>\n",
       "      <td>0</td>\n",
       "      <td>0</td>\n",
       "      <td>0</td>\n",
       "    </tr>\n",
       "    <tr>\n",
       "      <th>2</th>\n",
       "      <td>26</td>\n",
       "      <td>5753025</td>\n",
       "      <td>♫ Mister we could use a man like Neville Chamb...</td>\n",
       "      <td>0</td>\n",
       "      <td>True</td>\n",
       "      <td>[male]</td>\n",
       "      <td>1</td>\n",
       "      <td>0</td>\n",
       "      <td>0</td>\n",
       "      <td>0</td>\n",
       "      <td>...</td>\n",
       "      <td>0</td>\n",
       "      <td>0</td>\n",
       "      <td>0</td>\n",
       "      <td>1</td>\n",
       "      <td>0</td>\n",
       "      <td>0</td>\n",
       "      <td>0</td>\n",
       "      <td>0</td>\n",
       "      <td>0</td>\n",
       "      <td>0</td>\n",
       "    </tr>\n",
       "    <tr>\n",
       "      <th>3</th>\n",
       "      <td>47</td>\n",
       "      <td>6100226</td>\n",
       "      <td>…so much for your opinion.</td>\n",
       "      <td>0</td>\n",
       "      <td>False</td>\n",
       "      <td>[]</td>\n",
       "      <td>0</td>\n",
       "      <td>0</td>\n",
       "      <td>0</td>\n",
       "      <td>0</td>\n",
       "      <td>...</td>\n",
       "      <td>0</td>\n",
       "      <td>0</td>\n",
       "      <td>0</td>\n",
       "      <td>0</td>\n",
       "      <td>0</td>\n",
       "      <td>0</td>\n",
       "      <td>0</td>\n",
       "      <td>0</td>\n",
       "      <td>0</td>\n",
       "      <td>0</td>\n",
       "    </tr>\n",
       "    <tr>\n",
       "      <th>4</th>\n",
       "      <td>54</td>\n",
       "      <td>974066</td>\n",
       "      <td>…as most everyone knows both parties completel...</td>\n",
       "      <td>0</td>\n",
       "      <td>False</td>\n",
       "      <td>[]</td>\n",
       "      <td>0</td>\n",
       "      <td>0</td>\n",
       "      <td>0</td>\n",
       "      <td>0</td>\n",
       "      <td>...</td>\n",
       "      <td>0</td>\n",
       "      <td>0</td>\n",
       "      <td>0</td>\n",
       "      <td>0</td>\n",
       "      <td>0</td>\n",
       "      <td>0</td>\n",
       "      <td>0</td>\n",
       "      <td>0</td>\n",
       "      <td>0</td>\n",
       "      <td>0</td>\n",
       "    </tr>\n",
       "  </tbody>\n",
       "</table>\n",
       "<p>5 rows × 21 columns</p>\n",
       "</div>"
      ],
      "text/plain": [
       "   uid       id                                       comment_text  toxicity  \\\n",
       "0   18  5711489  𝑯𝒆 𝒕𝒐𝒍𝒅 𝒑𝒐𝒍𝒊𝒄𝒆 𝒕𝒉𝒂𝒕 𝒉𝒆 𝒃𝒖𝒚𝒔 𝒄𝒐𝒄𝒂𝒊𝒏𝒆 “𝒊𝒏 𝒍𝒂𝒓𝒈𝒆 ...         0   \n",
       "1   21  5295059  为加拿大和中国友谊祝贺。与其想象中国人对加拿大人的看法不如直接去问，不要用自己的想法去猜。本...         0   \n",
       "2   26  5753025  ♫ Mister we could use a man like Neville Chamb...         0   \n",
       "3   47  6100226                         …so much for your opinion.         0   \n",
       "4   54   974066  …as most everyone knows both parties completel...         0   \n",
       "\n",
       "   has_active_attrs active_attrs  male  female  lgbtq  christian  ...  \\\n",
       "0             False           []     0       0      0          0  ...   \n",
       "1              True  [christian]     0       0      0          1  ...   \n",
       "2              True       [male]     1       0      0          0  ...   \n",
       "3             False           []     0       0      0          0  ...   \n",
       "4             False           []     0       0      0          0  ...   \n",
       "\n",
       "   other_religions  black  white  identity_any  severe_toxicity  obscene  \\\n",
       "0                0      0      0             0                0        0   \n",
       "1                0      0      0             1                0        0   \n",
       "2                0      0      0             1                0        0   \n",
       "3                0      0      0             0                0        0   \n",
       "4                0      0      0             0                0        0   \n",
       "\n",
       "   threat  insult  identity_attack  sexual_explicit  \n",
       "0       0       0                0                0  \n",
       "1       0       0                0                0  \n",
       "2       0       0                0                0  \n",
       "3       0       0                0                0  \n",
       "4       0       0                0                0  \n",
       "\n",
       "[5 rows x 21 columns]"
      ]
     },
     "execution_count": 42,
     "metadata": {},
     "output_type": "execute_result"
    }
   ],
   "source": [
    "statement = \"\"\"SELECT * FROM {}.{}\"\"\".format(\n",
    "    database_name, table_name\n",
    ")\n",
    "\n",
    "print(statement)\n",
    "\n",
    "df = pd.read_sql(statement, conn)\n",
    "df.head(5)"
   ]
  },
  {
   "cell_type": "code",
   "execution_count": 43,
   "id": "3999a8bc-8e73-472a-b148-1e27b488c18e",
   "metadata": {
    "execution": {
     "iopub.execute_input": "2025-09-13T04:27:30.516372Z",
     "iopub.status.busy": "2025-09-13T04:27:30.515888Z",
     "iopub.status.idle": "2025-09-13T04:27:31.744526Z",
     "shell.execute_reply": "2025-09-13T04:27:31.743855Z",
     "shell.execute_reply.started": "2025-09-13T04:27:30.516337Z"
    }
   },
   "outputs": [
    {
     "name": "stderr",
     "output_type": "stream",
     "text": [
      "/tmp/ipykernel_4868/3130455028.py:3: UserWarning: pandas only supports SQLAlchemy connectable (engine/connection) or database string URI or sqlite3 DBAPI2 connection. Other DBAPI2 objects are not tested. Please consider using SQLAlchemy.\n",
      "  df_show = pd.read_sql(statement, conn)\n"
     ]
    },
    {
     "data": {
      "text/html": [
       "<div>\n",
       "<style scoped>\n",
       "    .dataframe tbody tr th:only-of-type {\n",
       "        vertical-align: middle;\n",
       "    }\n",
       "\n",
       "    .dataframe tbody tr th {\n",
       "        vertical-align: top;\n",
       "    }\n",
       "\n",
       "    .dataframe thead th {\n",
       "        text-align: right;\n",
       "    }\n",
       "</style>\n",
       "<table border=\"1\" class=\"dataframe\">\n",
       "  <thead>\n",
       "    <tr style=\"text-align: right;\">\n",
       "      <th></th>\n",
       "      <th>views</th>\n",
       "    </tr>\n",
       "  </thead>\n",
       "  <tbody>\n",
       "    <tr>\n",
       "      <th>0</th>\n",
       "      <td>toxicity_test</td>\n",
       "    </tr>\n",
       "    <tr>\n",
       "      <th>1</th>\n",
       "      <td>toxicity_train</td>\n",
       "    </tr>\n",
       "    <tr>\n",
       "      <th>2</th>\n",
       "      <td>toxicity_val</td>\n",
       "    </tr>\n",
       "  </tbody>\n",
       "</table>\n",
       "</div>"
      ],
      "text/plain": [
       "            views\n",
       "0   toxicity_test\n",
       "1  toxicity_train\n",
       "2    toxicity_val"
      ]
     },
     "execution_count": 43,
     "metadata": {},
     "output_type": "execute_result"
    }
   ],
   "source": [
    "statement = \"SHOW VIEWS in {}\".format(database_name)\n",
    "\n",
    "df_show = pd.read_sql(statement, conn)\n",
    "df_show.head(5)"
   ]
  },
  {
   "cell_type": "code",
   "execution_count": 44,
   "id": "d6a11766-b9f3-44aa-b0da-bb4372802fc2",
   "metadata": {
    "execution": {
     "iopub.execute_input": "2025-09-13T04:27:31.745437Z",
     "iopub.status.busy": "2025-09-13T04:27:31.745189Z",
     "iopub.status.idle": "2025-09-13T04:28:16.948803Z",
     "shell.execute_reply": "2025-09-13T04:28:16.947955Z",
     "shell.execute_reply.started": "2025-09-13T04:27:31.745417Z"
    }
   },
   "outputs": [
    {
     "name": "stdout",
     "output_type": "stream",
     "text": [
      "SELECT * FROM aai540_toxicity_aws.toxicity_test\n"
     ]
    },
    {
     "name": "stderr",
     "output_type": "stream",
     "text": [
      "/tmp/ipykernel_4868/1810532948.py:7: UserWarning: pandas only supports SQLAlchemy connectable (engine/connection) or database string URI or sqlite3 DBAPI2 connection. Other DBAPI2 objects are not tested. Please consider using SQLAlchemy.\n",
      "  df = pd.read_sql(statement, conn)\n"
     ]
    },
    {
     "data": {
      "text/html": [
       "<div>\n",
       "<style scoped>\n",
       "    .dataframe tbody tr th:only-of-type {\n",
       "        vertical-align: middle;\n",
       "    }\n",
       "\n",
       "    .dataframe tbody tr th {\n",
       "        vertical-align: top;\n",
       "    }\n",
       "\n",
       "    .dataframe thead th {\n",
       "        text-align: right;\n",
       "    }\n",
       "</style>\n",
       "<table border=\"1\" class=\"dataframe\">\n",
       "  <thead>\n",
       "    <tr style=\"text-align: right;\">\n",
       "      <th></th>\n",
       "      <th>uid</th>\n",
       "      <th>id</th>\n",
       "      <th>comment_text</th>\n",
       "      <th>toxicity</th>\n",
       "      <th>has_active_attrs</th>\n",
       "      <th>active_attrs</th>\n",
       "      <th>male</th>\n",
       "      <th>female</th>\n",
       "      <th>lgbtq</th>\n",
       "      <th>christian</th>\n",
       "      <th>...</th>\n",
       "      <th>other_religions</th>\n",
       "      <th>black</th>\n",
       "      <th>white</th>\n",
       "      <th>identity_any</th>\n",
       "      <th>severe_toxicity</th>\n",
       "      <th>obscene</th>\n",
       "      <th>threat</th>\n",
       "      <th>insult</th>\n",
       "      <th>identity_attack</th>\n",
       "      <th>sexual_explicit</th>\n",
       "    </tr>\n",
       "  </thead>\n",
       "  <tbody>\n",
       "    <tr>\n",
       "      <th>0</th>\n",
       "      <td>1</td>\n",
       "      <td>7099334</td>\n",
       "      <td>😳 mean</td>\n",
       "      <td>0</td>\n",
       "      <td>False</td>\n",
       "      <td>[]</td>\n",
       "      <td>0</td>\n",
       "      <td>0</td>\n",
       "      <td>0</td>\n",
       "      <td>0</td>\n",
       "      <td>...</td>\n",
       "      <td>0</td>\n",
       "      <td>0</td>\n",
       "      <td>0</td>\n",
       "      <td>0</td>\n",
       "      <td>0</td>\n",
       "      <td>0</td>\n",
       "      <td>0</td>\n",
       "      <td>0</td>\n",
       "      <td>0</td>\n",
       "      <td>0</td>\n",
       "    </tr>\n",
       "    <tr>\n",
       "      <th>1</th>\n",
       "      <td>3</td>\n",
       "      <td>5848857</td>\n",
       "      <td>😥</td>\n",
       "      <td>0</td>\n",
       "      <td>False</td>\n",
       "      <td>[]</td>\n",
       "      <td>0</td>\n",
       "      <td>0</td>\n",
       "      <td>0</td>\n",
       "      <td>0</td>\n",
       "      <td>...</td>\n",
       "      <td>0</td>\n",
       "      <td>0</td>\n",
       "      <td>0</td>\n",
       "      <td>0</td>\n",
       "      <td>0</td>\n",
       "      <td>0</td>\n",
       "      <td>0</td>\n",
       "      <td>0</td>\n",
       "      <td>0</td>\n",
       "      <td>0</td>\n",
       "    </tr>\n",
       "    <tr>\n",
       "      <th>2</th>\n",
       "      <td>5</td>\n",
       "      <td>7191701</td>\n",
       "      <td>😅😅😅😅😅😅😅😅😅😅. Evangelicals call on Trump😂😂😂😂😂😂.</td>\n",
       "      <td>0</td>\n",
       "      <td>True</td>\n",
       "      <td>[christian]</td>\n",
       "      <td>0</td>\n",
       "      <td>0</td>\n",
       "      <td>0</td>\n",
       "      <td>1</td>\n",
       "      <td>...</td>\n",
       "      <td>0</td>\n",
       "      <td>0</td>\n",
       "      <td>0</td>\n",
       "      <td>1</td>\n",
       "      <td>0</td>\n",
       "      <td>0</td>\n",
       "      <td>0</td>\n",
       "      <td>0</td>\n",
       "      <td>0</td>\n",
       "      <td>0</td>\n",
       "    </tr>\n",
       "    <tr>\n",
       "      <th>3</th>\n",
       "      <td>7</td>\n",
       "      <td>6237092</td>\n",
       "      <td>😂😂😂 she's my lover, man that Suzie Wong 😂😂</td>\n",
       "      <td>0</td>\n",
       "      <td>True</td>\n",
       "      <td>[male]</td>\n",
       "      <td>1</td>\n",
       "      <td>0</td>\n",
       "      <td>0</td>\n",
       "      <td>0</td>\n",
       "      <td>...</td>\n",
       "      <td>0</td>\n",
       "      <td>0</td>\n",
       "      <td>0</td>\n",
       "      <td>1</td>\n",
       "      <td>0</td>\n",
       "      <td>0</td>\n",
       "      <td>0</td>\n",
       "      <td>0</td>\n",
       "      <td>0</td>\n",
       "      <td>0</td>\n",
       "    </tr>\n",
       "    <tr>\n",
       "      <th>4</th>\n",
       "      <td>12</td>\n",
       "      <td>6294419</td>\n",
       "      <td>💙   ScreenViewsHD   💙  is the best to watch nf...</td>\n",
       "      <td>0</td>\n",
       "      <td>False</td>\n",
       "      <td>[]</td>\n",
       "      <td>0</td>\n",
       "      <td>0</td>\n",
       "      <td>0</td>\n",
       "      <td>0</td>\n",
       "      <td>...</td>\n",
       "      <td>0</td>\n",
       "      <td>0</td>\n",
       "      <td>0</td>\n",
       "      <td>0</td>\n",
       "      <td>0</td>\n",
       "      <td>0</td>\n",
       "      <td>0</td>\n",
       "      <td>0</td>\n",
       "      <td>0</td>\n",
       "      <td>0</td>\n",
       "    </tr>\n",
       "  </tbody>\n",
       "</table>\n",
       "<p>5 rows × 21 columns</p>\n",
       "</div>"
      ],
      "text/plain": [
       "   uid       id                                       comment_text  toxicity  \\\n",
       "0    1  7099334                                             😳 mean         0   \n",
       "1    3  5848857                                                  😥         0   \n",
       "2    5  7191701      😅😅😅😅😅😅😅😅😅😅. Evangelicals call on Trump😂😂😂😂😂😂.         0   \n",
       "3    7  6237092         😂😂😂 she's my lover, man that Suzie Wong 😂😂         0   \n",
       "4   12  6294419  💙   ScreenViewsHD   💙  is the best to watch nf...         0   \n",
       "\n",
       "   has_active_attrs active_attrs  male  female  lgbtq  christian  ...  \\\n",
       "0             False           []     0       0      0          0  ...   \n",
       "1             False           []     0       0      0          0  ...   \n",
       "2              True  [christian]     0       0      0          1  ...   \n",
       "3              True       [male]     1       0      0          0  ...   \n",
       "4             False           []     0       0      0          0  ...   \n",
       "\n",
       "   other_religions  black  white  identity_any  severe_toxicity  obscene  \\\n",
       "0                0      0      0             0                0        0   \n",
       "1                0      0      0             0                0        0   \n",
       "2                0      0      0             1                0        0   \n",
       "3                0      0      0             1                0        0   \n",
       "4                0      0      0             0                0        0   \n",
       "\n",
       "   threat  insult  identity_attack  sexual_explicit  \n",
       "0       0       0                0                0  \n",
       "1       0       0                0                0  \n",
       "2       0       0                0                0  \n",
       "3       0       0                0                0  \n",
       "4       0       0                0                0  \n",
       "\n",
       "[5 rows x 21 columns]"
      ]
     },
     "execution_count": 44,
     "metadata": {},
     "output_type": "execute_result"
    }
   ],
   "source": [
    "statement = \"\"\"SELECT * FROM {}.{}\"\"\".format(\n",
    "    database_name, test_view\n",
    ")\n",
    "\n",
    "print(statement)\n",
    "\n",
    "df = pd.read_sql(statement, conn)\n",
    "df.head(5)"
   ]
  },
  {
   "cell_type": "markdown",
   "id": "0f3058e0-2414-40b4-bb93-8f7ea1b0baf1",
   "metadata": {},
   "source": [
    "### Release Resources"
   ]
  },
  {
   "cell_type": "code",
   "execution_count": 46,
   "id": "c3c9a2f4-2ef4-42a2-b855-2505301d03ae",
   "metadata": {
    "execution": {
     "iopub.execute_input": "2025-09-13T04:28:55.146906Z",
     "iopub.status.busy": "2025-09-13T04:28:55.146614Z",
     "iopub.status.idle": "2025-09-13T04:28:55.151977Z",
     "shell.execute_reply": "2025-09-13T04:28:55.151264Z",
     "shell.execute_reply.started": "2025-09-13T04:28:55.146883Z"
    }
   },
   "outputs": [
    {
     "data": {
      "text/html": [
       "\n",
       "<p><b>Shutting down your kernel for this notebook to release resources.</b></p>\n",
       "<button class=\"sm-command-button\" data-commandlinker-command=\"kernelmenu:shutdown\" style=\"display:none;\">Shutdown Kernel</button>\n",
       "        \n",
       "<script>\n",
       "try {\n",
       "    els = document.getElementsByClassName(\"sm-command-button\");\n",
       "    els[0].click();\n",
       "}\n",
       "catch(err) {\n",
       "    // NoOp\n",
       "}    \n",
       "</script>\n"
      ],
      "text/plain": [
       "<IPython.core.display.HTML object>"
      ]
     },
     "metadata": {},
     "output_type": "display_data"
    }
   ],
   "source": [
    "%%html\n",
    "\n",
    "<p><b>Shutting down your kernel for this notebook to release resources.</b></p>\n",
    "<button class=\"sm-command-button\" data-commandlinker-command=\"kernelmenu:shutdown\" style=\"display:none;\">Shutdown Kernel</button>\n",
    "        \n",
    "<script>\n",
    "try {\n",
    "    els = document.getElementsByClassName(\"sm-command-button\");\n",
    "    els[0].click();\n",
    "}\n",
    "catch(err) {\n",
    "    // NoOp\n",
    "}    \n",
    "</script>"
   ]
  },
  {
   "cell_type": "code",
   "execution_count": null,
   "id": "c95fe8ab-8a7d-4c4e-9f51-c9e54383acb8",
   "metadata": {
    "execution": {
     "iopub.status.busy": "2025-09-13T04:28:16.965414Z",
     "iopub.status.idle": "2025-09-13T04:28:16.965675Z",
     "shell.execute_reply": "2025-09-13T04:28:16.965560Z",
     "shell.execute_reply.started": "2025-09-13T04:28:16.965548Z"
    }
   },
   "outputs": [],
   "source": [
    "\n",
    "%%javascript\n",
    "\n",
    "try {\n",
    "    Jupyter.notebook.save_checkpoint();\n",
    "    Jupyter.notebook.session.delete();\n",
    "}\n",
    "catch(err) {\n",
    "    // NoOp\n",
    "}"
   ]
  },
  {
   "cell_type": "code",
   "execution_count": null,
   "id": "5b5907ae-ad7d-49a6-bb8e-627ead5640cb",
   "metadata": {},
   "outputs": [],
   "source": []
  }
 ],
 "metadata": {
  "kernelspec": {
   "display_name": "Python 3 (ipykernel)",
   "language": "python",
   "name": "python3"
  },
  "language_info": {
   "codemirror_mode": {
    "name": "ipython",
    "version": 3
   },
   "file_extension": ".py",
   "mimetype": "text/x-python",
   "name": "python",
   "nbconvert_exporter": "python",
   "pygments_lexer": "ipython3",
   "version": "3.12.9"
  }
 },
 "nbformat": 4,
 "nbformat_minor": 5
}
