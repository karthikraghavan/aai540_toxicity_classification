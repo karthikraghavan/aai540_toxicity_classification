{
 "cells": [
  {
   "cell_type": "markdown",
   "id": "8abb31b8-2ea3-4850-8c0f-41660a451ec1",
   "metadata": {},
   "source": [
    "This code was borrowed from AAI 540 labs\n",
    "\n",
    "https://github.com/mechristenson/aai-540-labs.git"
   ]
  },
  {
   "cell_type": "markdown",
   "id": "f13af68f-2c5d-4f97-958f-11ac3408c16f",
   "metadata": {},
   "source": [
    "## Create S3 Bucket"
   ]
  },
  {
   "cell_type": "code",
   "execution_count": 31,
   "id": "5ebb7ae4-eb5e-425a-ba4b-b5fa71ebd9bb",
   "metadata": {},
   "outputs": [],
   "source": [
    "import pandas as pd\n",
    "import numpy as np\n",
    "import boto3\n",
    "import sagemaker\n",
    "import os, re, sys, json, warnings\n",
    "from sklearn.feature_extraction.text import TfidfVectorizer\n",
    "from sklearn.svm import LinearSVC\n",
    "from sklearn.model_selection import train_test_split, cross_val_score\n",
    "from sklearn.metrics import classification_report, f1_score, accuracy_score\n",
    "from sklearn.naive_bayes import MultinomialNB\n",
    "from sklearn.ensemble import RandomForestClassifier\n",
    "from sklearn.linear_model import LogisticRegression\n",
    "import xgboost as xgb\n",
    "from sklearn.pipeline import Pipeline\n",
    "from sklearn.base import BaseEstimator, TransformerMixin\n",
    "from time import gmtime, strftime\n",
    "\n",
    "warnings.filterwarnings(\"ignore\", category=UserWarning)"
   ]
  },
  {
   "cell_type": "code",
   "execution_count": 2,
   "id": "ec76d1f8-faa4-4808-a017-9c9be3c52586",
   "metadata": {},
   "outputs": [],
   "source": [
    "#!pip install --upgrade boto3 botocore awscli"
   ]
  },
  {
   "cell_type": "code",
   "execution_count": 3,
   "id": "b845fbfc-08c9-4efc-bc0b-db5f96c6facf",
   "metadata": {},
   "outputs": [],
   "source": [
    "session = boto3.session.Session()\n",
    "region = session.region_name\n",
    "sagemaker_session = sagemaker.Session()\n",
    "bucket = sagemaker_session.default_bucket()\n",
    "\n",
    "s3 = boto3.Session().client(service_name=\"s3\", region_name=region)"
   ]
  },
  {
   "cell_type": "code",
   "execution_count": 4,
   "id": "081b87f0-2817-4d21-bb3b-03db1bc29ad2",
   "metadata": {},
   "outputs": [
    {
     "name": "stdout",
     "output_type": "stream",
     "text": [
      "Default bucket: sagemaker-us-east-1-046536196377\n"
     ]
    }
   ],
   "source": [
    "print(\"Default bucket: {}\".format(bucket))"
   ]
  },
  {
   "cell_type": "markdown",
   "id": "507dafcd-fe1e-4abf-9372-f30666136caa",
   "metadata": {},
   "source": [
    "Verify S3_BUCKET Bucket Creation"
   ]
  },
  {
   "cell_type": "code",
   "execution_count": 5,
   "id": "630e5650-f39e-4d65-a60d-3fa56dead63d",
   "metadata": {},
   "outputs": [
    {
     "name": "stdout",
     "output_type": "stream",
     "text": [
      "{'ResponseMetadata': {'RequestId': 'F49DSTC2KE3A4FX0', 'HostId': '5aXM/2DbAUMHdXPvppqiMnqI6a5o++WXIh6gRtfxxf40IlIKCAQbVBZg6GYRhetAucOHFq5UKlw=', 'HTTPStatusCode': 200, 'HTTPHeaders': {'x-amz-id-2': '5aXM/2DbAUMHdXPvppqiMnqI6a5o++WXIh6gRtfxxf40IlIKCAQbVBZg6GYRhetAucOHFq5UKlw=', 'x-amz-request-id': 'F49DSTC2KE3A4FX0', 'date': 'Wed, 08 Oct 2025 04:04:29 GMT', 'x-amz-bucket-region': 'us-east-1', 'x-amz-access-point-alias': 'false', 'content-type': 'application/xml', 'transfer-encoding': 'chunked', 'server': 'AmazonS3'}, 'RetryAttempts': 0}, 'BucketRegion': 'us-east-1', 'AccessPointAlias': False}\n"
     ]
    }
   ],
   "source": [
    "from botocore.client import ClientError\n",
    "\n",
    "response = None\n",
    "\n",
    "try:\n",
    "    response = s3.head_bucket(Bucket=bucket)\n",
    "    print(response)\n",
    "    setup_s3_bucket_passed = True\n",
    "except ClientError as e:\n",
    "    print(\"[ERROR] Cannot find bucket {} in {} due to {}.\".format(bucket, response, e))"
   ]
  },
  {
   "cell_type": "markdown",
   "id": "beab2d6a-cbb7-423b-af5c-3b48bd9e7413",
   "metadata": {},
   "source": [
    "## Set up Data lake"
   ]
  },
  {
   "cell_type": "code",
   "execution_count": 6,
   "id": "3bb15d17-8aa9-4fb5-9b91-4246de6220a2",
   "metadata": {},
   "outputs": [],
   "source": [
    "import boto3\n",
    "import sagemaker\n",
    "import pandas as pd\n",
    "\n",
    "sess = sagemaker.Session()\n",
    "bucket = sess.default_bucket()\n",
    "role = sagemaker.get_execution_role()\n",
    "region = boto3.Session().region_name\n",
    "account_id = boto3.client(\"sts\").get_caller_identity().get(\"Account\")\n",
    "\n",
    "sm = boto3.Session().client(service_name=\"sagemaker\", region_name=region)"
   ]
  },
  {
   "cell_type": "markdown",
   "id": "e37b8cfa-481d-4f49-92d0-df12df250fc3",
   "metadata": {},
   "source": [
    "#### Set S3 Destination Folder"
   ]
  },
  {
   "cell_type": "code",
   "execution_count": 7,
   "id": "d56e7b6c-0530-48b9-a954-7e9b7a3fbaee",
   "metadata": {},
   "outputs": [
    {
     "name": "stdout",
     "output_type": "stream",
     "text": [
      "s3://sagemaker-us-east-1-046536196377/toxicity_pds/parquet\n"
     ]
    }
   ],
   "source": [
    "s3_private_path_parquet = \"s3://{}/toxicity_pds/parquet\".format(bucket)\n",
    "print(s3_private_path_parquet)"
   ]
  },
  {
   "cell_type": "markdown",
   "id": "e554c494-9790-471a-b65e-f005dcd936d5",
   "metadata": {},
   "source": [
    "### Copy data from github to S3 bucket"
   ]
  },
  {
   "cell_type": "code",
   "execution_count": 8,
   "id": "08f5d13d-bc9f-4af3-b93d-fb1dbb350fac",
   "metadata": {},
   "outputs": [
    {
     "name": "stdout",
     "output_type": "stream",
     "text": [
      "upload: civil/validation-00000-of-00001.parquet to s3://sagemaker-us-east-1-046536196377/toxicity_pds/parquet/validation-00000-of-00001.parquet\n",
      "upload: civil/test-00000-of-00001.parquet to s3://sagemaker-us-east-1-046536196377/toxicity_pds/parquet/test-00000-of-00001.parquet\n",
      "upload: civil/train-00000-of-00001.parquet to s3://sagemaker-us-east-1-046536196377/toxicity_pds/parquet/train-00000-of-00001.parquet\n"
     ]
    }
   ],
   "source": [
    "!aws s3 cp --recursive /home/sagemaker-user/aai540_toxicity_classification/civil $s3_private_path_parquet/ --include \"*\"\n"
   ]
  },
  {
   "cell_type": "markdown",
   "id": "a26650d5-3e61-4fcd-8564-92b352adaf40",
   "metadata": {},
   "source": [
    "### List the files"
   ]
  },
  {
   "cell_type": "code",
   "execution_count": 9,
   "id": "5cc9638e-bc7e-41bd-bdfd-f995ee310f84",
   "metadata": {},
   "outputs": [
    {
     "name": "stdout",
     "output_type": "stream",
     "text": [
      "s3://sagemaker-us-east-1-046536196377/toxicity_pds/parquet\n"
     ]
    }
   ],
   "source": [
    "print(s3_private_path_parquet)"
   ]
  },
  {
   "cell_type": "code",
   "execution_count": 10,
   "id": "ca677098-c898-4475-a53c-640683623a63",
   "metadata": {},
   "outputs": [
    {
     "name": "stdout",
     "output_type": "stream",
     "text": [
      "                           PRE 046536196377/\n",
      "                           PRE output/\n",
      "                           PRE query_results/\n",
      "                           PRE test/\n",
      "                           PRE train/\n",
      "                           PRE validation/\n",
      "2025-10-08 04:04:32   34099179 test-00000-of-00001.parquet\n",
      "2025-10-08 04:04:32   68844404 train-00000-of-00001.parquet\n",
      "2025-10-08 04:04:32   11697541 validation-00000-of-00001.parquet\n"
     ]
    }
   ],
   "source": [
    "!aws s3 ls $s3_private_path_parquet/"
   ]
  },
  {
   "cell_type": "markdown",
   "id": "020603df-113d-40f2-aa1e-6f43c1c6e0b7",
   "metadata": {},
   "source": [
    "## Set up Sagemaker Feature store"
   ]
  },
  {
   "cell_type": "code",
   "execution_count": 11,
   "id": "c84246ac-4a92-497e-aa61-519b25f10beb",
   "metadata": {},
   "outputs": [],
   "source": [
    "from sagemaker.session import Session\n",
    "\n",
    "region = boto3.Session().region_name\n",
    "\n",
    "boto_session = boto3.Session(region_name=region)\n",
    "\n",
    "sagemaker_client = boto_session.client(service_name=\"sagemaker\", region_name=region)\n",
    "\n",
    "featurestore_runtime = boto_session.client(\n",
    "    service_name=\"sagemaker-featurestore-runtime\", region_name=region\n",
    ")\n",
    "\n",
    "feature_store_session = Session(\n",
    "    boto_session=boto_session,\n",
    "    sagemaker_client=sagemaker_client,\n",
    "    sagemaker_featurestore_runtime_client=featurestore_runtime,\n",
    ")"
   ]
  },
  {
   "cell_type": "markdown",
   "id": "82f8c92d-9ee4-4d0a-b2f3-d3c0ad96c5a7",
   "metadata": {},
   "source": [
    "### S3 Bucket set up for offline store"
   ]
  },
  {
   "cell_type": "code",
   "execution_count": 12,
   "id": "c0c3ecf4-004e-4aa9-8239-8ff7978bba1f",
   "metadata": {},
   "outputs": [
    {
     "name": "stdout",
     "output_type": "stream",
     "text": [
      "sagemaker-us-east-1-046536196377\n"
     ]
    }
   ],
   "source": [
    "# You can modify the following to use a bucket of your choosing\n",
    "default_s3_bucket_name = feature_store_session.default_bucket()\n",
    "print(default_s3_bucket_name)"
   ]
  },
  {
   "cell_type": "code",
   "execution_count": 13,
   "id": "4b0f8b90-57cb-49f1-b541-f34d16851acf",
   "metadata": {},
   "outputs": [
    {
     "name": "stdout",
     "output_type": "stream",
     "text": [
      "arn:aws:iam::046536196377:role/LabRole\n"
     ]
    }
   ],
   "source": [
    "# set up IAM role\n",
    "from sagemaker import get_execution_role\n",
    "\n",
    "# You can modify the following to use a role of your choosing. See the documentation for how to create this.\n",
    "role = get_execution_role()\n",
    "print(role)"
   ]
  },
  {
   "cell_type": "code",
   "execution_count": 14,
   "id": "fe1ac76d-075f-47ab-9b40-72991aedd5ae",
   "metadata": {},
   "outputs": [
    {
     "data": {
      "text/plain": [
       "'s3://sagemaker-us-east-1-046536196377/toxicity_pds/parquet'"
      ]
     },
     "execution_count": 14,
     "metadata": {},
     "output_type": "execute_result"
    }
   ],
   "source": [
    "s3_private_path_parquet"
   ]
  },
  {
   "cell_type": "code",
   "execution_count": 15,
   "id": "2ed79fa2-0d1f-4f7c-ba34-a4a1192bc5ac",
   "metadata": {},
   "outputs": [
    {
     "data": {
      "text/plain": [
       "['sagemaker-us-east-1-046536196377', 'toxicity_pds/parquet']"
      ]
     },
     "execution_count": 15,
     "metadata": {},
     "output_type": "execute_result"
    }
   ],
   "source": [
    "s3_private_path_parquet.replace(\"s3://\", \"\").split(\"/\", 1)"
   ]
  },
  {
   "cell_type": "code",
   "execution_count": 16,
   "id": "8d948deb-d529-4252-9d8d-b7c128148b72",
   "metadata": {},
   "outputs": [
    {
     "name": "stdout",
     "output_type": "stream",
     "text": [
      "                           PRE 046536196377/\n",
      "                           PRE output/\n",
      "                           PRE query_results/\n",
      "                           PRE test/\n",
      "                           PRE train/\n",
      "                           PRE validation/\n",
      "2025-10-08 04:04:32   34099179 test-00000-of-00001.parquet\n",
      "2025-10-08 04:04:32   68844404 train-00000-of-00001.parquet\n",
      "2025-10-08 04:04:32   11697541 validation-00000-of-00001.parquet\n"
     ]
    }
   ],
   "source": [
    "!aws s3 ls $s3_private_path_parquet/"
   ]
  },
  {
   "cell_type": "code",
   "execution_count": 17,
   "id": "8ef7f2a3",
   "metadata": {},
   "outputs": [
    {
     "data": {
      "text/plain": [
       "'\\nimport pandas as pd\\ntrain = \"civil/train-00000-of-00001.parquet\"\\nvalidation = \"civil/validation-00000-of-00001.parquet\"\\ntest = \"civil/test-00000-of-00001.parquet\"\\n\\ntrain_data = pd.read_parquet(train)\\nvalidation_data = pd.read_parquet(validation)\\ntest_data = pd.read_parquet(test)\\n\\nprint(train_data.shape)\\nprint(validation_data.shape)\\nprint(test_data.shape)\\n'"
      ]
     },
     "execution_count": 17,
     "metadata": {},
     "output_type": "execute_result"
    }
   ],
   "source": [
    "# This is an offline version and not required to be executed in aws\n",
    "'''\n",
    "import pandas as pd\n",
    "train = \"civil/train-00000-of-00001.parquet\"\n",
    "validation = \"civil/validation-00000-of-00001.parquet\"\n",
    "test = \"civil/test-00000-of-00001.parquet\"\n",
    "\n",
    "train_data = pd.read_parquet(train)\n",
    "validation_data = pd.read_parquet(validation)\n",
    "test_data = pd.read_parquet(test)\n",
    "\n",
    "print(train_data.shape)\n",
    "print(validation_data.shape)\n",
    "print(test_data.shape)\n",
    "'''"
   ]
  },
  {
   "cell_type": "code",
   "execution_count": 18,
   "id": "f1a3b7e8-d0f7-4a48-bc29-5d7003b46fd2",
   "metadata": {},
   "outputs": [
    {
     "name": "stdout",
     "output_type": "stream",
     "text": [
      "Train Data Shape: (267516, 21)\n",
      "Train Data Shape: (45047, 21)\n",
      "Test Data Shape: (132730, 21)\n"
     ]
    }
   ],
   "source": [
    "import boto3\n",
    "import pandas as pd\n",
    "import io\n",
    "\n",
    "# Your region & private bucket\n",
    "s3_client = boto3.client(\"s3\", region_name=region)\n",
    "\n",
    "# Split the s3 path into bucket and prefix\n",
    "# Example: if $s3_private_path_csv=\"my-private-bucket/housing-data\"\n",
    "bucket_name, prefix = s3_private_path_parquet.replace(\"s3://\", \"\").split(\"/\", 1)\n",
    "\n",
    "# Define the file keys (relative to prefix)\n",
    "train_file_key = f\"{prefix}/train-00000-of-00001.parquet\"\n",
    "val_file_key = f\"{prefix}/validation-00000-of-00001.parquet\"\n",
    "test_file_key = f\"{prefix}/test-00000-of-00001.parquet\"\n",
    "\n",
    "\n",
    "# Load the files\n",
    "train_data_object = s3_client.get_object(Bucket=bucket_name, Key=train_file_key)\n",
    "validation_data_object = s3_client.get_object(Bucket=bucket_name, Key=val_file_key)\n",
    "test_data_object = s3_client.get_object(Bucket=bucket_name, Key=test_file_key)\n",
    "\n",
    "# Convert to pandas DataFrames\n",
    "train_data = pd.read_parquet(io.BytesIO(train_data_object[\"Body\"].read()))\n",
    "validation_data = pd.read_parquet(io.BytesIO(validation_data_object[\"Body\"].read()))\n",
    "test_data = pd.read_parquet(io.BytesIO(test_data_object[\"Body\"].read()))\n",
    "\n",
    "\n",
    "print(\"Train Data Shape:\", train_data.shape)\n",
    "print(\"Train Data Shape:\", validation_data.shape)\n",
    "print(\"Test Data Shape:\", test_data.shape)\n",
    "\n"
   ]
  },
  {
   "cell_type": "code",
   "execution_count": 19,
   "id": "3a5442a4",
   "metadata": {},
   "outputs": [
    {
     "data": {
      "text/plain": [
       "toxicity\n",
       "0    237173\n",
       "1     30343\n",
       "Name: count, dtype: int64"
      ]
     },
     "execution_count": 19,
     "metadata": {},
     "output_type": "execute_result"
    }
   ],
   "source": [
    "train_data['toxicity'].value_counts()"
   ]
  },
  {
   "cell_type": "code",
   "execution_count": 20,
   "id": "19e9887c-e096-4b19-b1bc-700fc0ce2dcc",
   "metadata": {},
   "outputs": [
    {
     "name": "stdout",
     "output_type": "stream",
     "text": [
      "toxicity\n",
      "0    30000\n",
      "1    30000\n",
      "Name: count, dtype: int64\n",
      "toxicity\n",
      "0    3000\n",
      "1    3000\n",
      "Name: count, dtype: int64\n",
      "toxicity\n",
      "0    3000\n",
      "1    3000\n",
      "Name: count, dtype: int64\n"
     ]
    }
   ],
   "source": [
    "# Sample 10,000 records where toxicity == 0\n",
    "train_tox0 = train_data[train_data['toxicity'] == 0].sample(n=30000, random_state=42)\n",
    "train_tox1 = train_data[train_data['toxicity'] == 1].sample(n=30000, random_state=42)\n",
    "\n",
    "val_tox0 = validation_data[validation_data['toxicity'] == 0].sample(n=3000, random_state=42)\n",
    "val_tox1 = validation_data[validation_data['toxicity'] == 1].sample(n=3000, random_state=42)\n",
    "\n",
    "test_tox0 = test_data[test_data['toxicity'] == 0].sample(n=3000, random_state=42)\n",
    "test_tox1 = test_data[test_data['toxicity'] == 1].sample(n=3000, random_state=42)\n",
    "\n",
    "# Concatenate to create a balanced dataframe\n",
    "train_balanced = pd.concat([train_tox0, train_tox1], ignore_index=True)\n",
    "val_balanced = pd.concat([val_tox0, val_tox1], ignore_index=True)\n",
    "test_balanced = pd.concat([test_tox0, test_tox1], ignore_index=True)\n",
    "\n",
    "# Shuffle the resulting dataframe\n",
    "train_balanced = train_balanced.sample(frac=1, random_state=42).reset_index(drop=True)\n",
    "val_balanced = val_balanced.sample(frac=1, random_state=42).reset_index(drop=True)\n",
    "test_balanced = test_balanced.sample(frac=1, random_state=42).reset_index(drop=True)\n",
    "\n",
    "print(train_balanced['toxicity'].value_counts())\n",
    "print(val_balanced['toxicity'].value_counts())\n",
    "print(test_balanced['toxicity'].value_counts())"
   ]
  },
  {
   "cell_type": "markdown",
   "id": "8f90d599-9b2d-4fb9-9114-b36a0c4ec71b",
   "metadata": {},
   "source": [
    "### Feature Engineering & Preprocessing"
   ]
  },
  {
   "cell_type": "code",
   "execution_count": 21,
   "id": "87684147-e597-4a32-9a0b-3589caf815d6",
   "metadata": {
    "execution": {
     "iopub.execute_input": "2025-10-07T23:39:28.774676Z",
     "iopub.status.busy": "2025-10-07T23:39:28.774394Z",
     "iopub.status.idle": "2025-10-07T23:39:28.778895Z",
     "shell.execute_reply": "2025-10-07T23:39:28.778040Z",
     "shell.execute_reply.started": "2025-10-07T23:39:28.774653Z"
    }
   },
   "outputs": [],
   "source": [
    "import re\n",
    "\n",
    "TAG_RE = re.compile(r'<[^>]+>')\n",
    "\n",
    "def re_tags(text_list): #define remove tag funtion\n",
    "    return [TAG_RE.sub('', str(word)).lower() for word in text_list]"
   ]
  },
  {
   "cell_type": "code",
   "execution_count": 22,
   "id": "f94bf34b-cd63-428c-81d3-1f9864fe6f07",
   "metadata": {
    "execution": {
     "iopub.execute_input": "2025-10-07T23:39:29.003207Z",
     "iopub.status.busy": "2025-10-07T23:39:29.002927Z",
     "iopub.status.idle": "2025-10-07T23:39:31.349320Z",
     "shell.execute_reply": "2025-10-07T23:39:31.348304Z",
     "shell.execute_reply.started": "2025-10-07T23:39:29.003185Z"
    }
   },
   "outputs": [
    {
     "name": "stdout",
     "output_type": "stream",
     "text": [
      "Requirement already satisfied: unidecode in /opt/conda/lib/python3.12/site-packages (1.4.0)\n"
     ]
    }
   ],
   "source": [
    "# Remove Accented Characters\n",
    "!pip install unidecode\n",
    "import unidecode\n",
    "def re_accented_char(text_list):\n",
    "    return [unidecode.unidecode(word.encode().decode('utf-8')) for word in text_list]"
   ]
  },
  {
   "cell_type": "code",
   "execution_count": 23,
   "id": "5e0c7224-7c44-453c-8d61-52e026d2c54f",
   "metadata": {
    "execution": {
     "iopub.execute_input": "2025-10-07T23:39:31.350738Z",
     "iopub.status.busy": "2025-10-07T23:39:31.350503Z",
     "iopub.status.idle": "2025-10-07T23:39:31.356550Z",
     "shell.execute_reply": "2025-10-07T23:39:31.355742Z",
     "shell.execute_reply.started": "2025-10-07T23:39:31.350715Z"
    }
   },
   "outputs": [],
   "source": [
    "# Extended contractions\n",
    "def ex_contractions(text_list):\n",
    "    result=[]\n",
    "    for word in text_list:\n",
    "        # replace contracting withoutsignal\n",
    "        word = word.replace(\"wont\",\"won't\")\n",
    "        word = word.replace(\"cant\",\"can't\")\n",
    "        word = word.replace(\"its\",\"it's\")\n",
    "        word = word.replace(\"youre\",\"you're\")\n",
    "        word = word.replace(\"hes\",\"he's\")\n",
    "        word = word.replace(\"shes\",\"she's\")\n",
    "        word = word.replace(\"its\",\"it's\")\n",
    "        word = word.replace(\"weare\",\"we're\")\n",
    "        word = word.replace(\"theyre\",\"they're\")\n",
    "\n",
    "        # specific\n",
    "        word = re.sub(r\"won\\'t\", \"will not\", str(word))\n",
    "        word = re.sub(r\"can\\'t\", \"can not\", str(word))\n",
    "\n",
    "        # general\n",
    "        word = re.sub(r\"n\\'t\", \" not\", str(word))\n",
    "        word = re.sub(r\"\\'re\", \" are\", str(word))\n",
    "        word = re.sub(r\"\\'s\", \" is\", str(word))\n",
    "        word = re.sub(r\"\\'d\", \" would\", str(word))\n",
    "        word = re.sub(r\"\\'ll\", \" will\", str(word))\n",
    "        word = re.sub(r\"\\'t\", \" not\", str(word))\n",
    "        word = re.sub(r\"\\'ve\", \" have\", str(word))\n",
    "        word = re.sub(r\"\\'m\", \" am\", str(word))\n",
    "        result.append(word)\n",
    "    return result"
   ]
  },
  {
   "cell_type": "code",
   "execution_count": 24,
   "id": "5fdfb3c8-8e29-477b-8120-2f39099d7976",
   "metadata": {
    "execution": {
     "iopub.execute_input": "2025-10-07T23:39:31.357533Z",
     "iopub.status.busy": "2025-10-07T23:39:31.357268Z",
     "iopub.status.idle": "2025-10-07T23:39:31.362381Z",
     "shell.execute_reply": "2025-10-07T23:39:31.361351Z",
     "shell.execute_reply.started": "2025-10-07T23:39:31.357512Z"
    }
   },
   "outputs": [],
   "source": [
    "# Removing Special Characters\n",
    "def re_special_chars(text_list):\n",
    "    return [re.sub(\"[^a-zA-Z0-9]\",\" \",word) for word in text_list]"
   ]
  },
  {
   "cell_type": "markdown",
   "id": "f82f80c1-c896-4c12-9636-a32c92378309",
   "metadata": {},
   "source": [
    "#### Lemmatization"
   ]
  },
  {
   "cell_type": "code",
   "execution_count": 25,
   "id": "7131bf3a-ec16-4b48-ae46-a5ceb528b133",
   "metadata": {
    "execution": {
     "iopub.execute_input": "2025-10-07T23:39:31.363662Z",
     "iopub.status.busy": "2025-10-07T23:39:31.363446Z",
     "iopub.status.idle": "2025-10-07T23:39:31.818362Z",
     "shell.execute_reply": "2025-10-07T23:39:31.817521Z",
     "shell.execute_reply.started": "2025-10-07T23:39:31.363644Z"
    }
   },
   "outputs": [],
   "source": [
    "from nltk.stem import WordNetLemmatizer\n",
    "\n",
    "def lemmatize_text(text_list):\n",
    "    wnl = WordNetLemmatizer()\n",
    "    lemmatizer_sentence = []  \n",
    "    tokenizer=nltk.tokenize.WhitespaceTokenizer()\n",
    "    for word in tokenizer.tokenize(text_list):\n",
    "        lemmatizer_sentence.append(wnl.lemmatize(word,'v'))\n",
    "        lemmatizer_sentence.append(\" \")\n",
    "    \n",
    "    return(\"\".join(lemmatizer_sentence))"
   ]
  },
  {
   "cell_type": "markdown",
   "id": "e7b808b9-7320-48fb-8272-27d0424cadfa",
   "metadata": {},
   "source": [
    "#### Removing Stop Words"
   ]
  },
  {
   "cell_type": "code",
   "execution_count": 26,
   "id": "607bd88c-e994-4b4a-baaa-ee4b38c60dfc",
   "metadata": {
    "execution": {
     "iopub.execute_input": "2025-10-07T23:39:31.820699Z",
     "iopub.status.busy": "2025-10-07T23:39:31.820454Z",
     "iopub.status.idle": "2025-10-07T23:39:31.825082Z",
     "shell.execute_reply": "2025-10-07T23:39:31.824332Z",
     "shell.execute_reply.started": "2025-10-07T23:39:31.820676Z"
    }
   },
   "outputs": [],
   "source": [
    "import nltk\n",
    "from nltk.corpus import stopwords\n",
    "\n",
    "def stopwords_text(text_list):\n",
    "    stop = stopwords.words('english')\n",
    "    sentence_without = []\n",
    "    tokenizer=nltk.tokenize.WhitespaceTokenizer()\n",
    "    for word in tokenizer.tokenize(text_list):\n",
    "        if word not in stop:\n",
    "            sentence_without.append(word)\n",
    "            sentence_without.append(\" \")\n",
    "            \n",
    "    return(\"\".join(sentence_without))"
   ]
  },
  {
   "cell_type": "code",
   "execution_count": 27,
   "id": "4f6c66f7-da83-4dfb-8266-cf8b0af93896",
   "metadata": {
    "execution": {
     "iopub.execute_input": "2025-10-07T23:39:32.283945Z",
     "iopub.status.busy": "2025-10-07T23:39:32.283679Z",
     "iopub.status.idle": "2025-10-07T23:39:32.287597Z",
     "shell.execute_reply": "2025-10-07T23:39:32.286817Z",
     "shell.execute_reply.started": "2025-10-07T23:39:32.283923Z"
    }
   },
   "outputs": [],
   "source": [
    "def re_whitespaces(text_list): \n",
    "    result=[]\n",
    "    for word in text_list:\n",
    "        word=(re.sub(r'\\d','',str(word))) #remove numbers \n",
    "        word = (re.sub(r'\\s+',' ', str(word))) #remove duplicates white spacces\n",
    "        result.append(word)\n",
    "    return result"
   ]
  },
  {
   "cell_type": "markdown",
   "id": "58f07aac-83f9-41bb-b7d8-b6b4a835b374",
   "metadata": {},
   "source": [
    "### Pipeline"
   ]
  },
  {
   "cell_type": "code",
   "execution_count": 28,
   "id": "2a1648c1-61c6-4c5c-b413-f947e8c74fa1",
   "metadata": {
    "execution": {
     "iopub.execute_input": "2025-10-07T23:39:33.171551Z",
     "iopub.status.busy": "2025-10-07T23:39:33.171266Z",
     "iopub.status.idle": "2025-10-07T23:39:33.270035Z",
     "shell.execute_reply": "2025-10-07T23:39:33.269218Z",
     "shell.execute_reply.started": "2025-10-07T23:39:33.171528Z"
    }
   },
   "outputs": [
    {
     "name": "stderr",
     "output_type": "stream",
     "text": [
      "[nltk_data] Downloading package stopwords to /home/sagemaker-\n",
      "[nltk_data]     user/nltk_data...\n",
      "[nltk_data]   Package stopwords is already up-to-date!\n",
      "[nltk_data] Downloading package wordnet to /home/sagemaker-\n",
      "[nltk_data]     user/nltk_data...\n",
      "[nltk_data]   Package wordnet is already up-to-date!\n"
     ]
    },
    {
     "data": {
      "text/plain": [
       "True"
      ]
     },
     "execution_count": 28,
     "metadata": {},
     "output_type": "execute_result"
    }
   ],
   "source": [
    "import nltk\n",
    "nltk.download('stopwords')\n",
    "nltk.download('wordnet')"
   ]
  },
  {
   "cell_type": "code",
   "execution_count": 29,
   "id": "4f8a3d4d-fa1e-456b-a2d8-edb3ee4c35d0",
   "metadata": {
    "execution": {
     "iopub.execute_input": "2025-10-07T23:39:35.666675Z",
     "iopub.status.busy": "2025-10-07T23:39:35.666372Z",
     "iopub.status.idle": "2025-10-07T23:39:35.671506Z",
     "shell.execute_reply": "2025-10-07T23:39:35.670442Z",
     "shell.execute_reply.started": "2025-10-07T23:39:35.666653Z"
    }
   },
   "outputs": [],
   "source": [
    "# Class for regular expressions application\n",
    "class ApplyRegex(BaseEstimator, TransformerMixin):\n",
    "    \n",
    "    def __init__(self, regex_transformers):\n",
    "        self.regex_transformers = regex_transformers\n",
    "        \n",
    "    def fit(self, X, y=None):\n",
    "        return self\n",
    "    \n",
    "    def transform(self, X, y=None):\n",
    "        # Applying all regex functions in the regex_transformers dictionary\n",
    "        for regex_name, regex_function in self.regex_transformers.items():\n",
    "            X = regex_function(X)\n",
    "            \n",
    "        return X"
   ]
  },
  {
   "cell_type": "code",
   "execution_count": 30,
   "id": "b97cb8bb-b449-4ec8-a2e9-a7d6900aa845",
   "metadata": {
    "execution": {
     "iopub.execute_input": "2025-10-07T23:39:36.259961Z",
     "iopub.status.busy": "2025-10-07T23:39:36.259680Z",
     "iopub.status.idle": "2025-10-07T23:39:36.264499Z",
     "shell.execute_reply": "2025-10-07T23:39:36.263552Z",
     "shell.execute_reply.started": "2025-10-07T23:39:36.259940Z"
    }
   },
   "outputs": [],
   "source": [
    "class StopWordsRemoval(BaseEstimator, TransformerMixin):\n",
    "    \n",
    "    def __init__(self, text_stopwords):\n",
    "        self.text_stopwords = text_stopwords\n",
    "    def fit(self, X, y=None):\n",
    "        return self\n",
    "    def transform(self, X, y=None):\n",
    "        return [self.text_stopwords(comment) for comment in X]"
   ]
  },
  {
   "cell_type": "code",
   "execution_count": 31,
   "id": "baa9e9ff-b733-416f-97d3-4fec7ee67910",
   "metadata": {
    "execution": {
     "iopub.execute_input": "2025-10-07T23:39:36.590444Z",
     "iopub.status.busy": "2025-10-07T23:39:36.590174Z",
     "iopub.status.idle": "2025-10-07T23:39:36.594293Z",
     "shell.execute_reply": "2025-10-07T23:39:36.593572Z",
     "shell.execute_reply.started": "2025-10-07T23:39:36.590421Z"
    }
   },
   "outputs": [],
   "source": [
    "class LemmatizeProcess(BaseEstimator, TransformerMixin):\n",
    "    \n",
    "    def __init__(self, Lemmatize):\n",
    "        self.Lemmatizer = Lemmatize\n",
    "    \n",
    "    def fit(self, X, y=None):\n",
    "        return self\n",
    "    \n",
    "    def transform(self, X, y=None):\n",
    "        return [self.Lemmatizer(comment) for comment in X]"
   ]
  },
  {
   "cell_type": "code",
   "execution_count": 32,
   "id": "7be611fb-a16a-41cc-ac03-b10e45943397",
   "metadata": {
    "execution": {
     "iopub.execute_input": "2025-10-07T23:39:43.171584Z",
     "iopub.status.busy": "2025-10-07T23:39:43.171296Z",
     "iopub.status.idle": "2025-10-07T23:39:43.174883Z",
     "shell.execute_reply": "2025-10-07T23:39:43.174264Z",
     "shell.execute_reply.started": "2025-10-07T23:39:43.171561Z"
    }
   },
   "outputs": [],
   "source": [
    "# Defining regex transformers to be applied\n",
    "regex_transformers = {\n",
    "    'remove_tags': re_tags,\n",
    "    'remove_accents': re_accented_char,\n",
    "    'decontracted': ex_contractions,\n",
    "    're_sc': re_special_chars,\n",
    "    'whitespaces': re_whitespaces\n",
    "}\n",
    "\n",
    "# Building a text prep pipeline\n",
    "text_prep_pipeline = Pipeline([\n",
    "    ('regex', ApplyRegex(regex_transformers)),\n",
    "    ('stopwords', StopWordsRemoval(stopwords_text)),\n",
    "    ('lemmatize', LemmatizeProcess(lemmatize_text)),\n",
    "])"
   ]
  },
  {
   "cell_type": "code",
   "execution_count": 33,
   "id": "82b0905f-889d-4fc0-b054-bbcdad24cba7",
   "metadata": {
    "execution": {
     "iopub.execute_input": "2025-10-07T23:39:44.337471Z",
     "iopub.status.busy": "2025-10-07T23:39:44.337201Z",
     "iopub.status.idle": "2025-10-07T23:39:44.379170Z",
     "shell.execute_reply": "2025-10-07T23:39:44.378501Z",
     "shell.execute_reply.started": "2025-10-07T23:39:44.337450Z"
    }
   },
   "outputs": [
    {
     "data": {
      "text/html": [
       "<div>\n",
       "<style scoped>\n",
       "    .dataframe tbody tr th:only-of-type {\n",
       "        vertical-align: middle;\n",
       "    }\n",
       "\n",
       "    .dataframe tbody tr th {\n",
       "        vertical-align: top;\n",
       "    }\n",
       "\n",
       "    .dataframe thead th {\n",
       "        text-align: right;\n",
       "    }\n",
       "</style>\n",
       "<table border=\"1\" class=\"dataframe\">\n",
       "  <thead>\n",
       "    <tr style=\"text-align: right;\">\n",
       "      <th></th>\n",
       "      <th>comment_text</th>\n",
       "    </tr>\n",
       "  </thead>\n",
       "  <tbody>\n",
       "    <tr>\n",
       "      <th>0</th>\n",
       "      <td>\"And two of the candidates — fully half of thi...</td>\n",
       "    </tr>\n",
       "    <tr>\n",
       "      <th>1</th>\n",
       "      <td>How did this pathetic slam against another pos...</td>\n",
       "    </tr>\n",
       "    <tr>\n",
       "      <th>2</th>\n",
       "      <td>It is not a religious sect! It is just a made ...</td>\n",
       "    </tr>\n",
       "    <tr>\n",
       "      <th>3</th>\n",
       "      <td>This is a great ball club that shapiro has put...</td>\n",
       "    </tr>\n",
       "    <tr>\n",
       "      <th>4</th>\n",
       "      <td>I believe the issue is one of bribery- paying ...</td>\n",
       "    </tr>\n",
       "    <tr>\n",
       "      <th>...</th>\n",
       "      <td>...</td>\n",
       "    </tr>\n",
       "    <tr>\n",
       "      <th>59995</th>\n",
       "      <td>What they are NOT entitled to is to expand the...</td>\n",
       "    </tr>\n",
       "    <tr>\n",
       "      <th>59996</th>\n",
       "      <td>Oliver is the funniest guy on Television at th...</td>\n",
       "    </tr>\n",
       "    <tr>\n",
       "      <th>59997</th>\n",
       "      <td>Lol, well by your own reasoning, somewhere in ...</td>\n",
       "    </tr>\n",
       "    <tr>\n",
       "      <th>59998</th>\n",
       "      <td>Pope Francis is an authoritarian and a tyrant....</td>\n",
       "    </tr>\n",
       "    <tr>\n",
       "      <th>59999</th>\n",
       "      <td>The Muslims in Saudi Arabia, Qatar, Iran etc. ...</td>\n",
       "    </tr>\n",
       "  </tbody>\n",
       "</table>\n",
       "<p>60000 rows × 1 columns</p>\n",
       "</div>"
      ],
      "text/plain": [
       "                                            comment_text\n",
       "0      \"And two of the candidates — fully half of thi...\n",
       "1      How did this pathetic slam against another pos...\n",
       "2      It is not a religious sect! It is just a made ...\n",
       "3      This is a great ball club that shapiro has put...\n",
       "4      I believe the issue is one of bribery- paying ...\n",
       "...                                                  ...\n",
       "59995  What they are NOT entitled to is to expand the...\n",
       "59996  Oliver is the funniest guy on Television at th...\n",
       "59997  Lol, well by your own reasoning, somewhere in ...\n",
       "59998  Pope Francis is an authoritarian and a tyrant....\n",
       "59999  The Muslims in Saudi Arabia, Qatar, Iran etc. ...\n",
       "\n",
       "[60000 rows x 1 columns]"
      ]
     },
     "execution_count": 33,
     "metadata": {},
     "output_type": "execute_result"
    }
   ],
   "source": [
    "train_balanced[train_balanced.columns[2:3]]"
   ]
  },
  {
   "cell_type": "code",
   "execution_count": 34,
   "id": "18280303-32ac-4f00-afb2-c51bb546a1ca",
   "metadata": {
    "execution": {
     "iopub.execute_input": "2025-10-07T23:40:43.020670Z",
     "iopub.status.busy": "2025-10-07T23:40:43.020359Z",
     "iopub.status.idle": "2025-10-07T23:41:11.668693Z",
     "shell.execute_reply": "2025-10-07T23:41:11.667885Z",
     "shell.execute_reply.started": "2025-10-07T23:40:43.020648Z"
    }
   },
   "outputs": [],
   "source": [
    "train_balanced['comment_text'] = text_prep_pipeline.fit_transform(train_balanced[train_balanced.columns[2:3]].values)"
   ]
  },
  {
   "cell_type": "code",
   "execution_count": 35,
   "id": "74c2acb2",
   "metadata": {
    "execution": {
     "iopub.execute_input": "2025-10-07T23:41:11.670075Z",
     "iopub.status.busy": "2025-10-07T23:41:11.669752Z",
     "iopub.status.idle": "2025-10-07T23:41:14.278290Z",
     "shell.execute_reply": "2025-10-07T23:41:14.277590Z",
     "shell.execute_reply.started": "2025-10-07T23:41:11.670032Z"
    }
   },
   "outputs": [
    {
     "name": "stderr",
     "output_type": "stream",
     "text": [
      "/opt/conda/lib/python3.12/site-packages/sklearn/pipeline.py:61: FutureWarning: This Pipeline instance is not fitted yet. Call 'fit' with appropriate arguments before using other methods such as transform, predict, etc. This will raise an error in 1.8 instead of the current warning.\n",
      "  warnings.warn(\n"
     ]
    }
   ],
   "source": [
    "test_balanced['comment_text'] = text_prep_pipeline.transform(test_balanced[test_balanced.columns[2:3]].values)"
   ]
  },
  {
   "cell_type": "code",
   "execution_count": 36,
   "id": "ab87f012-566e-4c8c-928a-dcbf9f014ac9",
   "metadata": {
    "execution": {
     "iopub.execute_input": "2025-10-07T23:41:14.279133Z",
     "iopub.status.busy": "2025-10-07T23:41:14.278855Z",
     "iopub.status.idle": "2025-10-07T23:41:16.853735Z",
     "shell.execute_reply": "2025-10-07T23:41:16.852957Z",
     "shell.execute_reply.started": "2025-10-07T23:41:14.279114Z"
    }
   },
   "outputs": [],
   "source": [
    "val_balanced['comment_text'] = text_prep_pipeline.transform(val_balanced[val_balanced.columns[2:3]].values)"
   ]
  },
  {
   "cell_type": "code",
   "execution_count": 37,
   "id": "aab4a93e-2dd3-43e2-9681-2af99bd20e71",
   "metadata": {
    "execution": {
     "iopub.execute_input": "2025-10-07T23:41:16.855597Z",
     "iopub.status.busy": "2025-10-07T23:41:16.855145Z",
     "iopub.status.idle": "2025-10-07T23:41:16.863086Z",
     "shell.execute_reply": "2025-10-07T23:41:16.862217Z",
     "shell.execute_reply.started": "2025-10-07T23:41:16.855566Z"
    }
   },
   "outputs": [
    {
     "data": {
      "text/plain": [
       "toxicity\n",
       "0    3000\n",
       "1    3000\n",
       "Name: count, dtype: int64"
      ]
     },
     "execution_count": 37,
     "metadata": {},
     "output_type": "execute_result"
    }
   ],
   "source": [
    "val_balanced['toxicity'].value_counts()"
   ]
  },
  {
   "cell_type": "markdown",
   "id": "731f237b-e825-4a02-97ba-705ac126d1fb",
   "metadata": {},
   "source": [
    "#### Define FeatureGroups¶"
   ]
  },
  {
   "cell_type": "code",
   "execution_count": 21,
   "id": "d5307578-3980-43fc-9b15-b6f20db0908a",
   "metadata": {},
   "outputs": [],
   "source": [
    "train_feature_group_name = \"train-feature-group\"\n",
    "validation_feature_group_name = \"validation-feature-group\"\n",
    "test_feature_group_name = \"test-feature-group\""
   ]
  },
  {
   "cell_type": "code",
   "execution_count": 22,
   "id": "9bc508b1-a6e5-4625-a8af-64e20451e963",
   "metadata": {},
   "outputs": [
    {
     "data": {
      "text/plain": [
       "\"\\nimport boto3\\n\\nclient = boto3.client('sagemaker')\\nclient.delete_feature_group(FeatureGroupName=train_feature_group_name)\\nclient.delete_feature_group(FeatureGroupName=validation_feature_group_name)\\nclient.delete_feature_group(FeatureGroupName=test_feature_group_name)\\n\""
      ]
     },
     "execution_count": 22,
     "metadata": {},
     "output_type": "execute_result"
    }
   ],
   "source": [
    "'''\n",
    "import boto3\n",
    "\n",
    "client = boto3.client('sagemaker')\n",
    "client.delete_feature_group(FeatureGroupName=train_feature_group_name)\n",
    "client.delete_feature_group(FeatureGroupName=validation_feature_group_name)\n",
    "client.delete_feature_group(FeatureGroupName=test_feature_group_name)\n",
    "'''"
   ]
  },
  {
   "cell_type": "code",
   "execution_count": 23,
   "id": "d9956ac9-a58a-4134-bab8-460d31d8ab50",
   "metadata": {},
   "outputs": [],
   "source": [
    "from sagemaker.feature_store.feature_group import FeatureGroup\n",
    "\n",
    "train_feature_group = FeatureGroup(name=train_feature_group_name, sagemaker_session=feature_store_session)\n",
    "validation_feature_group = FeatureGroup(name=validation_feature_group_name, sagemaker_session=feature_store_session)\n",
    "test_feature_group = FeatureGroup(name=test_feature_group_name, sagemaker_session=feature_store_session)\n"
   ]
  },
  {
   "cell_type": "code",
   "execution_count": 24,
   "id": "3b452554-c88a-4c0f-ae6b-9a096f0354ed",
   "metadata": {},
   "outputs": [],
   "source": [
    "train_df = train_balanced[['id','comment_text','toxicity']]\n",
    "val_df = val_balanced[['id','comment_text','toxicity']]\n",
    "test_df = test_balanced[['id','comment_text','toxicity']]"
   ]
  },
  {
   "cell_type": "code",
   "execution_count": 25,
   "id": "d3df5b52-77b8-4e87-b7e9-aca0d1d6beb7",
   "metadata": {},
   "outputs": [],
   "source": [
    "import time\n",
    "\n",
    "current_time_sec = int(round(time.time()))\n",
    "record_identifier_feature_name = \"id\"\n",
    "event_time_feature_name = \"EventTime\"\n",
    "\n",
    "def cast_object_to_string(data_frame):\n",
    "    for label in data_frame.columns:\n",
    "        if data_frame.dtypes[label] == \"object\":\n",
    "            data_frame[label] = data_frame[label].astype(\"str\").astype(\"string\")\n",
    "    return data_frame\n",
    "\n",
    "\n",
    "def appendEventTime(df):\n",
    "    # append EventTime feature\n",
    "    df[event_time_feature_name] = pd.Series(\n",
    "        [current_time_sec] * len(df), dtype=\"float64\"\n",
    "    )\n",
    "    return df"
   ]
  },
  {
   "cell_type": "code",
   "execution_count": 26,
   "id": "c4dcd52d-4c5e-4376-a3ef-600a6145befd",
   "metadata": {},
   "outputs": [
    {
     "name": "stderr",
     "output_type": "stream",
     "text": [
      "/tmp/ipykernel_231/1403513962.py:10: SettingWithCopyWarning: \n",
      "A value is trying to be set on a copy of a slice from a DataFrame.\n",
      "Try using .loc[row_indexer,col_indexer] = value instead\n",
      "\n",
      "See the caveats in the documentation: https://pandas.pydata.org/pandas-docs/stable/user_guide/indexing.html#returning-a-view-versus-a-copy\n",
      "  data_frame[label] = data_frame[label].astype(\"str\").astype(\"string\")\n",
      "/tmp/ipykernel_231/1403513962.py:10: SettingWithCopyWarning: \n",
      "A value is trying to be set on a copy of a slice from a DataFrame.\n",
      "Try using .loc[row_indexer,col_indexer] = value instead\n",
      "\n",
      "See the caveats in the documentation: https://pandas.pydata.org/pandas-docs/stable/user_guide/indexing.html#returning-a-view-versus-a-copy\n",
      "  data_frame[label] = data_frame[label].astype(\"str\").astype(\"string\")\n",
      "/tmp/ipykernel_231/1403513962.py:10: SettingWithCopyWarning: \n",
      "A value is trying to be set on a copy of a slice from a DataFrame.\n",
      "Try using .loc[row_indexer,col_indexer] = value instead\n",
      "\n",
      "See the caveats in the documentation: https://pandas.pydata.org/pandas-docs/stable/user_guide/indexing.html#returning-a-view-versus-a-copy\n",
      "  data_frame[label] = data_frame[label].astype(\"str\").astype(\"string\")\n",
      "/tmp/ipykernel_231/1403513962.py:16: SettingWithCopyWarning: \n",
      "A value is trying to be set on a copy of a slice from a DataFrame.\n",
      "Try using .loc[row_indexer,col_indexer] = value instead\n",
      "\n",
      "See the caveats in the documentation: https://pandas.pydata.org/pandas-docs/stable/user_guide/indexing.html#returning-a-view-versus-a-copy\n",
      "  df[event_time_feature_name] = pd.Series(\n",
      "/tmp/ipykernel_231/1403513962.py:16: SettingWithCopyWarning: \n",
      "A value is trying to be set on a copy of a slice from a DataFrame.\n",
      "Try using .loc[row_indexer,col_indexer] = value instead\n",
      "\n",
      "See the caveats in the documentation: https://pandas.pydata.org/pandas-docs/stable/user_guide/indexing.html#returning-a-view-versus-a-copy\n",
      "  df[event_time_feature_name] = pd.Series(\n",
      "/tmp/ipykernel_231/1403513962.py:16: SettingWithCopyWarning: \n",
      "A value is trying to be set on a copy of a slice from a DataFrame.\n",
      "Try using .loc[row_indexer,col_indexer] = value instead\n",
      "\n",
      "See the caveats in the documentation: https://pandas.pydata.org/pandas-docs/stable/user_guide/indexing.html#returning-a-view-versus-a-copy\n",
      "  df[event_time_feature_name] = pd.Series(\n"
     ]
    }
   ],
   "source": [
    "# cast object dtype to string. The SageMaker FeatureStore Python SDK will then map the string dtype to String feature type.\n",
    "train_df = cast_object_to_string(train_df)\n",
    "val_df = cast_object_to_string(val_df)\n",
    "test_df = cast_object_to_string(test_df)\n",
    "\n",
    "# append event time\n",
    "\n",
    "train_df = appendEventTime(train_df)\n",
    "val_df = appendEventTime(val_df)\n",
    "test_df = appendEventTime(test_df)"
   ]
  },
  {
   "cell_type": "code",
   "execution_count": 27,
   "id": "d44f3f00-0450-4046-bb65-c8a99d0c594d",
   "metadata": {},
   "outputs": [
    {
     "data": {
      "text/plain": [
       "[FeatureDefinition(feature_name='id', feature_type=<FeatureTypeEnum.INTEGRAL: 'Integral'>, collection_type=None),\n",
       " FeatureDefinition(feature_name='comment_text', feature_type=<FeatureTypeEnum.STRING: 'String'>, collection_type=None),\n",
       " FeatureDefinition(feature_name='toxicity', feature_type=<FeatureTypeEnum.INTEGRAL: 'Integral'>, collection_type=None),\n",
       " FeatureDefinition(feature_name='EventTime', feature_type=<FeatureTypeEnum.FRACTIONAL: 'Fractional'>, collection_type=None)]"
      ]
     },
     "execution_count": 27,
     "metadata": {},
     "output_type": "execute_result"
    }
   ],
   "source": [
    "# load feature definitions to the feature group. SageMaker FeatureStore Python SDK will auto-detect the data schema based on input data.\n",
    "train_feature_group.load_feature_definitions(data_frame=train_df)\n",
    "validation_feature_group.load_feature_definitions(data_frame=val_df)\n",
    "test_feature_group.load_feature_definitions(data_frame=test_df)"
   ]
  },
  {
   "cell_type": "code",
   "execution_count": 28,
   "id": "10828745-add1-4fa9-ba74-7dc475194219",
   "metadata": {},
   "outputs": [
    {
     "name": "stdout",
     "output_type": "stream",
     "text": [
      "train-feature-group\n",
      "✅ Feature group exists. Status: Created\n",
      "validation-feature-group\n",
      "✅ Feature group exists. Status: Created\n",
      "test-feature-group\n",
      "✅ Feature group exists. Status: Created\n"
     ]
    }
   ],
   "source": [
    "def featureGroupExists(feature_group_name):\n",
    "    print(feature_group_name)\n",
    "    # SageMaker client (not session)\n",
    "    sm_client = boto3.client(\"sagemaker\", region_name=region)\n",
    "    featureGroupExists = False\n",
    "    try:\n",
    "        response = sm_client.describe_feature_group(FeatureGroupName=feature_group_name)\n",
    "        featureGroupExists = True\n",
    "        print(f\"✅ Feature group exists. Status: {response['FeatureGroupStatus']}\")\n",
    "    except sm_client.exceptions.ResourceNotFound:\n",
    "        featureGroupExists=False\n",
    "        print(f\"❌ {feature_group_name} does not exist.\")\n",
    "    return featureGroupExists\n",
    "\n",
    "train_feature_group_exists = featureGroupExists(train_feature_group_name)\n",
    "validation_feature_group_exists = featureGroupExists(validation_feature_group_name)\n",
    "test_feature_group_exists = featureGroupExists(test_feature_group_name)"
   ]
  },
  {
   "cell_type": "code",
   "execution_count": 28,
   "id": "fa3e8500-6028-472b-a7f9-4861b41df7c7",
   "metadata": {
    "execution": {
     "iopub.execute_input": "2025-10-08T01:18:40.488281Z",
     "iopub.status.busy": "2025-10-08T01:18:40.488008Z",
     "iopub.status.idle": "2025-10-08T01:18:41.057080Z",
     "shell.execute_reply": "2025-10-08T01:18:41.056303Z",
     "shell.execute_reply.started": "2025-10-08T01:18:40.488262Z"
    }
   },
   "outputs": [
    {
     "name": "stdout",
     "output_type": "stream",
     "text": [
      "train-feature-group\n",
      "✅ Feature group exists. Status: Created\n",
      "train-feature-group already exists\n",
      "validation-feature-group\n",
      "✅ Feature group exists. Status: Created\n",
      "validation-feature-group already exists\n",
      "test-feature-group\n",
      "✅ Feature group exists. Status: Created\n",
      "test-feature-group already exists\n"
     ]
    }
   ],
   "source": [
    "def wait_for_feature_group_creation_complete(feature_group):\n",
    "    status = feature_group.describe().get(\"FeatureGroupStatus\")\n",
    "    while status == \"Creating\":\n",
    "        print(\"Waiting for Feature Group Creation\")\n",
    "        time.sleep(5)\n",
    "        status = feature_group.describe().get(\"FeatureGroupStatus\")\n",
    "    if status != \"Created\":\n",
    "        raise RuntimeError(f\"Failed to create feature group {feature_group.name}\")\n",
    "    print(f\"FeatureGroup {feature_group.name} successfully created.\")\n",
    "\n",
    "def create_feature_group(feature_group, fg_Exists):\n",
    "    fg_Exists = featureGroupExists(feature_group.name)\n",
    "    if not fg_Exists:\n",
    "        feature_group.create(\n",
    "            s3_uri=f\"s3://{default_s3_bucket_name}/{prefix}\",\n",
    "            record_identifier_name=record_identifier_feature_name,\n",
    "            event_time_feature_name=event_time_feature_name,\n",
    "            role_arn=role,\n",
    "            enable_online_store=True,\n",
    "        )\n",
    "        wait_for_feature_group_creation_complete(feature_group)\n",
    "    else:\n",
    "        print(f\"{feature_group.name} already exists\")\n",
    "\n",
    "create_feature_group(train_feature_group,train_feature_group_exists)\n",
    "create_feature_group(validation_feature_group, validation_feature_group_exists)\n",
    "create_feature_group(test_feature_group,test_feature_group_exists)\n",
    "\n"
   ]
  },
  {
   "cell_type": "code",
   "execution_count": 29,
   "id": "4b632aa9-de1c-4283-8766-beb5d7987a02",
   "metadata": {
    "execution": {
     "iopub.execute_input": "2025-10-08T01:18:49.493350Z",
     "iopub.status.busy": "2025-10-08T01:18:49.493054Z",
     "iopub.status.idle": "2025-10-08T01:18:49.506858Z",
     "shell.execute_reply": "2025-10-08T01:18:49.506004Z",
     "shell.execute_reply.started": "2025-10-08T01:18:49.493329Z"
    }
   },
   "outputs": [
    {
     "data": {
      "text/html": [
       "<div>\n",
       "<style scoped>\n",
       "    .dataframe tbody tr th:only-of-type {\n",
       "        vertical-align: middle;\n",
       "    }\n",
       "\n",
       "    .dataframe tbody tr th {\n",
       "        vertical-align: top;\n",
       "    }\n",
       "\n",
       "    .dataframe thead th {\n",
       "        text-align: right;\n",
       "    }\n",
       "</style>\n",
       "<table border=\"1\" class=\"dataframe\">\n",
       "  <thead>\n",
       "    <tr style=\"text-align: right;\">\n",
       "      <th></th>\n",
       "      <th>id</th>\n",
       "      <th>comment_text</th>\n",
       "      <th>toxicity</th>\n",
       "      <th>EventTime</th>\n",
       "    </tr>\n",
       "  </thead>\n",
       "  <tbody>\n",
       "    <tr>\n",
       "      <th>0</th>\n",
       "      <td>303179</td>\n",
       "      <td>\"And two of the candidates — fully half of thi...</td>\n",
       "      <td>0</td>\n",
       "      <td>1.759886e+09</td>\n",
       "    </tr>\n",
       "    <tr>\n",
       "      <th>1</th>\n",
       "      <td>5400711</td>\n",
       "      <td>How did this pathetic slam against another pos...</td>\n",
       "      <td>1</td>\n",
       "      <td>1.759886e+09</td>\n",
       "    </tr>\n",
       "    <tr>\n",
       "      <th>2</th>\n",
       "      <td>5843611</td>\n",
       "      <td>It is not a religious sect! It is just a made ...</td>\n",
       "      <td>1</td>\n",
       "      <td>1.759886e+09</td>\n",
       "    </tr>\n",
       "    <tr>\n",
       "      <th>3</th>\n",
       "      <td>5431675</td>\n",
       "      <td>This is a great ball club that shapiro has put...</td>\n",
       "      <td>0</td>\n",
       "      <td>1.759886e+09</td>\n",
       "    </tr>\n",
       "    <tr>\n",
       "      <th>4</th>\n",
       "      <td>5969175</td>\n",
       "      <td>I believe the issue is one of bribery- paying ...</td>\n",
       "      <td>0</td>\n",
       "      <td>1.759886e+09</td>\n",
       "    </tr>\n",
       "    <tr>\n",
       "      <th>...</th>\n",
       "      <td>...</td>\n",
       "      <td>...</td>\n",
       "      <td>...</td>\n",
       "      <td>...</td>\n",
       "    </tr>\n",
       "    <tr>\n",
       "      <th>59995</th>\n",
       "      <td>5795427</td>\n",
       "      <td>What they are NOT entitled to is to expand the...</td>\n",
       "      <td>1</td>\n",
       "      <td>1.759886e+09</td>\n",
       "    </tr>\n",
       "    <tr>\n",
       "      <th>59996</th>\n",
       "      <td>981527</td>\n",
       "      <td>Oliver is the funniest guy on Television at th...</td>\n",
       "      <td>1</td>\n",
       "      <td>1.759886e+09</td>\n",
       "    </tr>\n",
       "    <tr>\n",
       "      <th>59997</th>\n",
       "      <td>601614</td>\n",
       "      <td>Lol, well by your own reasoning, somewhere in ...</td>\n",
       "      <td>0</td>\n",
       "      <td>1.759886e+09</td>\n",
       "    </tr>\n",
       "    <tr>\n",
       "      <th>59998</th>\n",
       "      <td>901829</td>\n",
       "      <td>Pope Francis is an authoritarian and a tyrant....</td>\n",
       "      <td>0</td>\n",
       "      <td>1.759886e+09</td>\n",
       "    </tr>\n",
       "    <tr>\n",
       "      <th>59999</th>\n",
       "      <td>5397054</td>\n",
       "      <td>The Muslims in Saudi Arabia, Qatar, Iran etc. ...</td>\n",
       "      <td>1</td>\n",
       "      <td>1.759886e+09</td>\n",
       "    </tr>\n",
       "  </tbody>\n",
       "</table>\n",
       "<p>60000 rows × 4 columns</p>\n",
       "</div>"
      ],
      "text/plain": [
       "            id                                       comment_text  toxicity  \\\n",
       "0       303179  \"And two of the candidates — fully half of thi...         0   \n",
       "1      5400711  How did this pathetic slam against another pos...         1   \n",
       "2      5843611  It is not a religious sect! It is just a made ...         1   \n",
       "3      5431675  This is a great ball club that shapiro has put...         0   \n",
       "4      5969175  I believe the issue is one of bribery- paying ...         0   \n",
       "...        ...                                                ...       ...   \n",
       "59995  5795427  What they are NOT entitled to is to expand the...         1   \n",
       "59996   981527  Oliver is the funniest guy on Television at th...         1   \n",
       "59997   601614  Lol, well by your own reasoning, somewhere in ...         0   \n",
       "59998   901829  Pope Francis is an authoritarian and a tyrant....         0   \n",
       "59999  5397054  The Muslims in Saudi Arabia, Qatar, Iran etc. ...         1   \n",
       "\n",
       "          EventTime  \n",
       "0      1.759886e+09  \n",
       "1      1.759886e+09  \n",
       "2      1.759886e+09  \n",
       "3      1.759886e+09  \n",
       "4      1.759886e+09  \n",
       "...             ...  \n",
       "59995  1.759886e+09  \n",
       "59996  1.759886e+09  \n",
       "59997  1.759886e+09  \n",
       "59998  1.759886e+09  \n",
       "59999  1.759886e+09  \n",
       "\n",
       "[60000 rows x 4 columns]"
      ]
     },
     "execution_count": 29,
     "metadata": {},
     "output_type": "execute_result"
    }
   ],
   "source": [
    "train_df"
   ]
  },
  {
   "cell_type": "code",
   "execution_count": 30,
   "id": "6fcc842b-7ae3-40b2-be4c-df1e5bdd44c0",
   "metadata": {
    "execution": {
     "iopub.execute_input": "2025-10-08T01:18:50.841236Z",
     "iopub.status.busy": "2025-10-08T01:18:50.840959Z",
     "iopub.status.idle": "2025-10-08T01:18:50.851702Z",
     "shell.execute_reply": "2025-10-08T01:18:50.850812Z",
     "shell.execute_reply.started": "2025-10-08T01:18:50.841214Z"
    }
   },
   "outputs": [
    {
     "data": {
      "text/html": [
       "<div>\n",
       "<style scoped>\n",
       "    .dataframe tbody tr th:only-of-type {\n",
       "        vertical-align: middle;\n",
       "    }\n",
       "\n",
       "    .dataframe tbody tr th {\n",
       "        vertical-align: top;\n",
       "    }\n",
       "\n",
       "    .dataframe thead th {\n",
       "        text-align: right;\n",
       "    }\n",
       "</style>\n",
       "<table border=\"1\" class=\"dataframe\">\n",
       "  <thead>\n",
       "    <tr style=\"text-align: right;\">\n",
       "      <th></th>\n",
       "      <th>id</th>\n",
       "      <th>comment_text</th>\n",
       "      <th>toxicity</th>\n",
       "      <th>EventTime</th>\n",
       "    </tr>\n",
       "  </thead>\n",
       "  <tbody>\n",
       "    <tr>\n",
       "      <th>0</th>\n",
       "      <td>7142993</td>\n",
       "      <td>Well, poor Harvey.  If only he was a President...</td>\n",
       "      <td>0</td>\n",
       "      <td>1.759886e+09</td>\n",
       "    </tr>\n",
       "    <tr>\n",
       "      <th>1</th>\n",
       "      <td>7128635</td>\n",
       "      <td>Save your outrage for a topic where it actuall...</td>\n",
       "      <td>1</td>\n",
       "      <td>1.759886e+09</td>\n",
       "    </tr>\n",
       "    <tr>\n",
       "      <th>2</th>\n",
       "      <td>7128357</td>\n",
       "      <td>Conservatives also tend to be unfunny.  Perhap...</td>\n",
       "      <td>0</td>\n",
       "      <td>1.759886e+09</td>\n",
       "    </tr>\n",
       "    <tr>\n",
       "      <th>3</th>\n",
       "      <td>702837</td>\n",
       "      <td>So you'd establish a precedent and have to bre...</td>\n",
       "      <td>0</td>\n",
       "      <td>1.759886e+09</td>\n",
       "    </tr>\n",
       "    <tr>\n",
       "      <th>4</th>\n",
       "      <td>5738083</td>\n",
       "      <td>All the knowledge in the world at your fingert...</td>\n",
       "      <td>1</td>\n",
       "      <td>1.759886e+09</td>\n",
       "    </tr>\n",
       "    <tr>\n",
       "      <th>...</th>\n",
       "      <td>...</td>\n",
       "      <td>...</td>\n",
       "      <td>...</td>\n",
       "      <td>...</td>\n",
       "    </tr>\n",
       "    <tr>\n",
       "      <th>5995</th>\n",
       "      <td>5455377</td>\n",
       "      <td>Oh FFS. Can we talk about the atrocities commi...</td>\n",
       "      <td>1</td>\n",
       "      <td>1.759886e+09</td>\n",
       "    </tr>\n",
       "    <tr>\n",
       "      <th>5996</th>\n",
       "      <td>418931</td>\n",
       "      <td>HAH---this newspaper is almost a bigger joke t...</td>\n",
       "      <td>1</td>\n",
       "      <td>1.759886e+09</td>\n",
       "    </tr>\n",
       "    <tr>\n",
       "      <th>5997</th>\n",
       "      <td>5461894</td>\n",
       "      <td>The only reason they are doing this is because...</td>\n",
       "      <td>1</td>\n",
       "      <td>1.759886e+09</td>\n",
       "    </tr>\n",
       "    <tr>\n",
       "      <th>5998</th>\n",
       "      <td>5318889</td>\n",
       "      <td>Christian extremist.\\nWhen body slamming is ju...</td>\n",
       "      <td>1</td>\n",
       "      <td>1.759886e+09</td>\n",
       "    </tr>\n",
       "    <tr>\n",
       "      <th>5999</th>\n",
       "      <td>454153</td>\n",
       "      <td>perfect, I've attracted the attention of the K...</td>\n",
       "      <td>0</td>\n",
       "      <td>1.759886e+09</td>\n",
       "    </tr>\n",
       "  </tbody>\n",
       "</table>\n",
       "<p>6000 rows × 4 columns</p>\n",
       "</div>"
      ],
      "text/plain": [
       "           id                                       comment_text  toxicity  \\\n",
       "0     7142993  Well, poor Harvey.  If only he was a President...         0   \n",
       "1     7128635  Save your outrage for a topic where it actuall...         1   \n",
       "2     7128357  Conservatives also tend to be unfunny.  Perhap...         0   \n",
       "3      702837  So you'd establish a precedent and have to bre...         0   \n",
       "4     5738083  All the knowledge in the world at your fingert...         1   \n",
       "...       ...                                                ...       ...   \n",
       "5995  5455377  Oh FFS. Can we talk about the atrocities commi...         1   \n",
       "5996   418931  HAH---this newspaper is almost a bigger joke t...         1   \n",
       "5997  5461894  The only reason they are doing this is because...         1   \n",
       "5998  5318889  Christian extremist.\\nWhen body slamming is ju...         1   \n",
       "5999   454153  perfect, I've attracted the attention of the K...         0   \n",
       "\n",
       "         EventTime  \n",
       "0     1.759886e+09  \n",
       "1     1.759886e+09  \n",
       "2     1.759886e+09  \n",
       "3     1.759886e+09  \n",
       "4     1.759886e+09  \n",
       "...            ...  \n",
       "5995  1.759886e+09  \n",
       "5996  1.759886e+09  \n",
       "5997  1.759886e+09  \n",
       "5998  1.759886e+09  \n",
       "5999  1.759886e+09  \n",
       "\n",
       "[6000 rows x 4 columns]"
      ]
     },
     "execution_count": 30,
     "metadata": {},
     "output_type": "execute_result"
    }
   ],
   "source": [
    "test_df"
   ]
  },
  {
   "cell_type": "code",
   "execution_count": 49,
   "id": "97d6c250-1c67-40f9-8c8b-ad1cf566be15",
   "metadata": {
    "execution": {
     "iopub.execute_input": "2025-10-07T23:43:43.575988Z",
     "iopub.status.busy": "2025-10-07T23:43:43.575765Z",
     "iopub.status.idle": "2025-10-07T23:47:22.282648Z",
     "shell.execute_reply": "2025-10-07T23:47:22.281878Z",
     "shell.execute_reply.started": "2025-10-07T23:43:43.575969Z"
    }
   },
   "outputs": [
    {
     "data": {
      "text/plain": [
       "IngestionManagerPandas(feature_group_name='train-feature-group', feature_definitions={'id': {'FeatureName': 'id', 'FeatureType': 'Integral'}, 'comment_text': {'FeatureName': 'comment_text', 'FeatureType': 'String'}, 'toxicity': {'FeatureName': 'toxicity', 'FeatureType': 'Integral'}, 'EventTime': {'FeatureName': 'EventTime', 'FeatureType': 'Fractional'}}, sagemaker_fs_runtime_client_config=<botocore.config.Config object at 0x7f609fb91af0>, sagemaker_session=<sagemaker.session.Session object at 0x7f609e8bb8c0>, max_workers=3, max_processes=1, profile_name=None, _async_result=<multiprocess.pool.MapResult object at 0x7f609bf44290>, _processing_pool=<pool ProcessPool(ncpus=1)>, _failed_indices=[])"
      ]
     },
     "execution_count": 49,
     "metadata": {},
     "output_type": "execute_result"
    }
   ],
   "source": [
    "train_feature_group.ingest(data_frame=train_df, max_workers=3, wait=True)"
   ]
  },
  {
   "cell_type": "code",
   "execution_count": 50,
   "id": "db8c24d1-91c0-406b-b690-f33648cd2390",
   "metadata": {
    "execution": {
     "iopub.execute_input": "2025-10-07T23:47:22.284126Z",
     "iopub.status.busy": "2025-10-07T23:47:22.283608Z",
     "iopub.status.idle": "2025-10-07T23:47:45.794772Z",
     "shell.execute_reply": "2025-10-07T23:47:45.793869Z",
     "shell.execute_reply.started": "2025-10-07T23:47:22.284089Z"
    }
   },
   "outputs": [
    {
     "data": {
      "text/plain": [
       "IngestionManagerPandas(feature_group_name='validation-feature-group', feature_definitions={'id': {'FeatureName': 'id', 'FeatureType': 'Integral'}, 'comment_text': {'FeatureName': 'comment_text', 'FeatureType': 'String'}, 'toxicity': {'FeatureName': 'toxicity', 'FeatureType': 'Integral'}, 'EventTime': {'FeatureName': 'EventTime', 'FeatureType': 'Fractional'}}, sagemaker_fs_runtime_client_config=<botocore.config.Config object at 0x7f609fb91af0>, sagemaker_session=<sagemaker.session.Session object at 0x7f609e8bb8c0>, max_workers=3, max_processes=1, profile_name=None, _async_result=<multiprocess.pool.MapResult object at 0x7f609c2cc050>, _processing_pool=<pool ProcessPool(ncpus=1)>, _failed_indices=[])"
      ]
     },
     "execution_count": 50,
     "metadata": {},
     "output_type": "execute_result"
    }
   ],
   "source": [
    "validation_feature_group.ingest(data_frame=val_df, max_workers=3, wait=True)"
   ]
  },
  {
   "cell_type": "code",
   "execution_count": 51,
   "id": "5492d056-a681-4a58-a7ac-a4dbb9a9bfd5",
   "metadata": {
    "execution": {
     "iopub.execute_input": "2025-10-07T23:47:45.795911Z",
     "iopub.status.busy": "2025-10-07T23:47:45.795657Z",
     "iopub.status.idle": "2025-10-07T23:48:09.401349Z",
     "shell.execute_reply": "2025-10-07T23:48:09.400466Z",
     "shell.execute_reply.started": "2025-10-07T23:47:45.795885Z"
    }
   },
   "outputs": [
    {
     "data": {
      "text/plain": [
       "IngestionManagerPandas(feature_group_name='test-feature-group', feature_definitions={'id': {'FeatureName': 'id', 'FeatureType': 'Integral'}, 'comment_text': {'FeatureName': 'comment_text', 'FeatureType': 'String'}, 'toxicity': {'FeatureName': 'toxicity', 'FeatureType': 'Integral'}, 'EventTime': {'FeatureName': 'EventTime', 'FeatureType': 'Fractional'}}, sagemaker_fs_runtime_client_config=<botocore.config.Config object at 0x7f609fb91af0>, sagemaker_session=<sagemaker.session.Session object at 0x7f609e8bb8c0>, max_workers=3, max_processes=1, profile_name=None, _async_result=<multiprocess.pool.MapResult object at 0x7f609c2ce480>, _processing_pool=<pool ProcessPool(ncpus=1)>, _failed_indices=[])"
      ]
     },
     "execution_count": 51,
     "metadata": {},
     "output_type": "execute_result"
    }
   ],
   "source": [
    "test_feature_group.ingest(data_frame=test_df, max_workers=3, wait=True)"
   ]
  },
  {
   "cell_type": "markdown",
   "id": "2d057729-7836-4a5d-a0c1-0c031b99d81b",
   "metadata": {},
   "source": [
    "#### Query Feature values"
   ]
  },
  {
   "cell_type": "code",
   "execution_count": 31,
   "id": "d54e82cc-dc2e-42f4-b238-697015eb0a9f",
   "metadata": {
    "execution": {
     "iopub.execute_input": "2025-10-08T01:18:55.044166Z",
     "iopub.status.busy": "2025-10-08T01:18:55.043873Z",
     "iopub.status.idle": "2025-10-08T01:18:55.239870Z",
     "shell.execute_reply": "2025-10-08T01:18:55.239125Z",
     "shell.execute_reply.started": "2025-10-08T01:18:55.044143Z"
    }
   },
   "outputs": [
    {
     "data": {
      "text/plain": [
       "{'FeatureGroupArn': 'arn:aws:sagemaker:us-east-1:046536196377:feature-group/validation-feature-group',\n",
       " 'FeatureGroupName': 'validation-feature-group',\n",
       " 'RecordIdentifierFeatureName': 'id',\n",
       " 'EventTimeFeatureName': 'EventTime',\n",
       " 'FeatureDefinitions': [{'FeatureName': 'id', 'FeatureType': 'Integral'},\n",
       "  {'FeatureName': 'comment_text', 'FeatureType': 'String'},\n",
       "  {'FeatureName': 'toxicity', 'FeatureType': 'Integral'},\n",
       "  {'FeatureName': 'EventTime', 'FeatureType': 'Fractional'}],\n",
       " 'CreationTime': datetime.datetime(2025, 10, 7, 23, 42, 40, 197000, tzinfo=tzlocal()),\n",
       " 'OnlineStoreConfig': {'EnableOnlineStore': True},\n",
       " 'OfflineStoreConfig': {'S3StorageConfig': {'S3Uri': 's3://sagemaker-us-east-1-046536196377/toxicity_pds/parquet',\n",
       "   'ResolvedOutputS3Uri': 's3://sagemaker-us-east-1-046536196377/toxicity_pds/parquet/046536196377/sagemaker/us-east-1/offline-store/validation-feature-group-1759880560/data'},\n",
       "  'DisableGlueTableCreation': False,\n",
       "  'DataCatalogConfig': {'TableName': 'validation_feature_group_1759880560',\n",
       "   'Catalog': 'AwsDataCatalog',\n",
       "   'Database': 'sagemaker_featurestore'}},\n",
       " 'ThroughputConfig': {'ThroughputMode': 'OnDemand'},\n",
       " 'RoleArn': 'arn:aws:iam::046536196377:role/LabRole',\n",
       " 'FeatureGroupStatus': 'Created',\n",
       " 'OfflineStoreStatus': {'Status': 'Active'},\n",
       " 'OnlineStoreTotalSizeBytes': 0,\n",
       " 'ResponseMetadata': {'RequestId': '08ff69c8-e9e9-4dab-87c0-6e51a5f8ad05',\n",
       "  'HTTPStatusCode': 200,\n",
       "  'HTTPHeaders': {'x-amzn-requestid': '08ff69c8-e9e9-4dab-87c0-6e51a5f8ad05',\n",
       "   'strict-transport-security': 'max-age=47304000; includeSubDomains',\n",
       "   'x-frame-options': 'DENY',\n",
       "   'content-security-policy': \"frame-ancestors 'none'\",\n",
       "   'cache-control': 'no-cache, no-store, must-revalidate',\n",
       "   'x-content-type-options': 'nosniff',\n",
       "   'content-type': 'application/x-amz-json-1.1',\n",
       "   'content-length': '1610',\n",
       "   'date': 'Wed, 08 Oct 2025 01:18:55 GMT'},\n",
       "  'RetryAttempts': 0}}"
      ]
     },
     "execution_count": 31,
     "metadata": {},
     "output_type": "execute_result"
    }
   ],
   "source": [
    "validation_feature_group.describe()"
   ]
  },
  {
   "cell_type": "code",
   "execution_count": 32,
   "id": "adae817c-fefb-4b16-8973-7ea7050e8b9a",
   "metadata": {
    "execution": {
     "iopub.execute_input": "2025-10-08T01:18:58.100400Z",
     "iopub.status.busy": "2025-10-08T01:18:58.100124Z",
     "iopub.status.idle": "2025-10-08T01:18:58.360880Z",
     "shell.execute_reply": "2025-10-08T01:18:58.360287Z",
     "shell.execute_reply.started": "2025-10-08T01:18:58.100378Z"
    }
   },
   "outputs": [
    {
     "data": {
      "text/plain": [
       "{'FeatureGroupArn': 'arn:aws:sagemaker:us-east-1:046536196377:feature-group/train-feature-group',\n",
       " 'FeatureGroupName': 'train-feature-group',\n",
       " 'RecordIdentifierFeatureName': 'id',\n",
       " 'EventTimeFeatureName': 'EventTime',\n",
       " 'FeatureDefinitions': [{'FeatureName': 'id', 'FeatureType': 'Integral'},\n",
       "  {'FeatureName': 'comment_text', 'FeatureType': 'String'},\n",
       "  {'FeatureName': 'toxicity', 'FeatureType': 'Integral'},\n",
       "  {'FeatureName': 'EventTime', 'FeatureType': 'Fractional'}],\n",
       " 'CreationTime': datetime.datetime(2025, 10, 7, 23, 42, 18, 521000, tzinfo=tzlocal()),\n",
       " 'OnlineStoreConfig': {'EnableOnlineStore': True},\n",
       " 'OfflineStoreConfig': {'S3StorageConfig': {'S3Uri': 's3://sagemaker-us-east-1-046536196377/toxicity_pds/parquet',\n",
       "   'ResolvedOutputS3Uri': 's3://sagemaker-us-east-1-046536196377/toxicity_pds/parquet/046536196377/sagemaker/us-east-1/offline-store/train-feature-group-1759880538/data'},\n",
       "  'DisableGlueTableCreation': False,\n",
       "  'DataCatalogConfig': {'TableName': 'train_feature_group_1759880538',\n",
       "   'Catalog': 'AwsDataCatalog',\n",
       "   'Database': 'sagemaker_featurestore'}},\n",
       " 'ThroughputConfig': {'ThroughputMode': 'OnDemand'},\n",
       " 'RoleArn': 'arn:aws:iam::046536196377:role/LabRole',\n",
       " 'FeatureGroupStatus': 'Created',\n",
       " 'OfflineStoreStatus': {'Status': 'Active'},\n",
       " 'OnlineStoreTotalSizeBytes': 0,\n",
       " 'ResponseMetadata': {'RequestId': '103e7275-e742-4bbf-993f-c774c8832bb1',\n",
       "  'HTTPStatusCode': 200,\n",
       "  'HTTPHeaders': {'x-amzn-requestid': '103e7275-e742-4bbf-993f-c774c8832bb1',\n",
       "   'strict-transport-security': 'max-age=47304000; includeSubDomains',\n",
       "   'x-frame-options': 'DENY',\n",
       "   'content-security-policy': \"frame-ancestors 'none'\",\n",
       "   'cache-control': 'no-cache, no-store, must-revalidate',\n",
       "   'x-content-type-options': 'nosniff',\n",
       "   'content-type': 'application/x-amz-json-1.1',\n",
       "   'content-length': '1590',\n",
       "   'date': 'Wed, 08 Oct 2025 01:18:58 GMT'},\n",
       "  'RetryAttempts': 0}}"
      ]
     },
     "execution_count": 32,
     "metadata": {},
     "output_type": "execute_result"
    }
   ],
   "source": [
    "train_feature_group.describe()"
   ]
  },
  {
   "cell_type": "code",
   "execution_count": 33,
   "id": "a86ec633-9091-47ed-a2af-be04a2d8741b",
   "metadata": {
    "execution": {
     "iopub.execute_input": "2025-10-08T01:18:58.770440Z",
     "iopub.status.busy": "2025-10-08T01:18:58.770165Z",
     "iopub.status.idle": "2025-10-08T01:18:58.912068Z",
     "shell.execute_reply": "2025-10-08T01:18:58.911329Z",
     "shell.execute_reply.started": "2025-10-08T01:18:58.770419Z"
    }
   },
   "outputs": [
    {
     "data": {
      "text/plain": [
       "{'FeatureGroupArn': 'arn:aws:sagemaker:us-east-1:046536196377:feature-group/test-feature-group',\n",
       " 'FeatureGroupName': 'test-feature-group',\n",
       " 'RecordIdentifierFeatureName': 'id',\n",
       " 'EventTimeFeatureName': 'EventTime',\n",
       " 'FeatureDefinitions': [{'FeatureName': 'id', 'FeatureType': 'Integral'},\n",
       "  {'FeatureName': 'comment_text', 'FeatureType': 'String'},\n",
       "  {'FeatureName': 'toxicity', 'FeatureType': 'Integral'},\n",
       "  {'FeatureName': 'EventTime', 'FeatureType': 'Fractional'}],\n",
       " 'CreationTime': datetime.datetime(2025, 10, 7, 23, 43, 17, 285000, tzinfo=tzlocal()),\n",
       " 'OnlineStoreConfig': {'EnableOnlineStore': True},\n",
       " 'OfflineStoreConfig': {'S3StorageConfig': {'S3Uri': 's3://sagemaker-us-east-1-046536196377/toxicity_pds/parquet',\n",
       "   'ResolvedOutputS3Uri': 's3://sagemaker-us-east-1-046536196377/toxicity_pds/parquet/046536196377/sagemaker/us-east-1/offline-store/test-feature-group-1759880597/data'},\n",
       "  'DisableGlueTableCreation': False,\n",
       "  'DataCatalogConfig': {'TableName': 'test_feature_group_1759880597',\n",
       "   'Catalog': 'AwsDataCatalog',\n",
       "   'Database': 'sagemaker_featurestore'}},\n",
       " 'ThroughputConfig': {'ThroughputMode': 'OnDemand'},\n",
       " 'RoleArn': 'arn:aws:iam::046536196377:role/LabRole',\n",
       " 'FeatureGroupStatus': 'Created',\n",
       " 'OfflineStoreStatus': {'Status': 'Active'},\n",
       " 'OnlineStoreTotalSizeBytes': 0,\n",
       " 'ResponseMetadata': {'RequestId': '5cf61383-2b80-49e9-b371-15a1b5866f49',\n",
       "  'HTTPStatusCode': 200,\n",
       "  'HTTPHeaders': {'x-amzn-requestid': '5cf61383-2b80-49e9-b371-15a1b5866f49',\n",
       "   'strict-transport-security': 'max-age=47304000; includeSubDomains',\n",
       "   'x-frame-options': 'DENY',\n",
       "   'content-security-policy': \"frame-ancestors 'none'\",\n",
       "   'cache-control': 'no-cache, no-store, must-revalidate',\n",
       "   'x-content-type-options': 'nosniff',\n",
       "   'content-type': 'application/x-amz-json-1.1',\n",
       "   'content-length': '1586',\n",
       "   'date': 'Wed, 08 Oct 2025 01:18:58 GMT'},\n",
       "  'RetryAttempts': 0}}"
      ]
     },
     "execution_count": 33,
     "metadata": {},
     "output_type": "execute_result"
    }
   ],
   "source": [
    "test_feature_group.describe()"
   ]
  },
  {
   "cell_type": "code",
   "execution_count": 43,
   "id": "927ff371-1cef-4d04-9fd4-9d9f3db87dcd",
   "metadata": {},
   "outputs": [
    {
     "name": "stdout",
     "output_type": "stream",
     "text": [
      "(60000, 11)\n"
     ]
    },
    {
     "data": {
      "text/html": [
       "<div>\n",
       "<style scoped>\n",
       "    .dataframe tbody tr th:only-of-type {\n",
       "        vertical-align: middle;\n",
       "    }\n",
       "\n",
       "    .dataframe tbody tr th {\n",
       "        vertical-align: top;\n",
       "    }\n",
       "\n",
       "    .dataframe thead th {\n",
       "        text-align: right;\n",
       "    }\n",
       "</style>\n",
       "<table border=\"1\" class=\"dataframe\">\n",
       "  <thead>\n",
       "    <tr style=\"text-align: right;\">\n",
       "      <th></th>\n",
       "      <th>comment_text</th>\n",
       "      <th>toxicity</th>\n",
       "    </tr>\n",
       "  </thead>\n",
       "  <tbody>\n",
       "    <tr>\n",
       "      <th>0</th>\n",
       "      <td>iso mother silver spoon parasites</td>\n",
       "      <td>1</td>\n",
       "    </tr>\n",
       "    <tr>\n",
       "      <th>1</th>\n",
       "      <td>hey loser gun laws failure typical leave wing ...</td>\n",
       "      <td>1</td>\n",
       "    </tr>\n",
       "    <tr>\n",
       "      <th>2</th>\n",
       "      <td>realize older generation sad showcase year old...</td>\n",
       "      <td>0</td>\n",
       "    </tr>\n",
       "    <tr>\n",
       "      <th>3</th>\n",
       "      <td>iso ncm proceed fee educate n nmore ad hominem...</td>\n",
       "      <td>1</td>\n",
       "    </tr>\n",
       "    <tr>\n",
       "      <th>4</th>\n",
       "      <td>allie please call president poor fool really c...</td>\n",
       "      <td>1</td>\n",
       "    </tr>\n",
       "    <tr>\n",
       "      <th>...</th>\n",
       "      <td>...</td>\n",
       "      <td>...</td>\n",
       "    </tr>\n",
       "    <tr>\n",
       "      <th>59995</th>\n",
       "      <td>live legally pay property tax guess kid afford...</td>\n",
       "      <td>0</td>\n",
       "    </tr>\n",
       "    <tr>\n",
       "      <th>59996</th>\n",
       "      <td>richlynd ketah guest transgender take hormone ...</td>\n",
       "      <td>1</td>\n",
       "    </tr>\n",
       "    <tr>\n",
       "      <th>59997</th>\n",
       "      <td>nothe democrats far perfect dummy republicans ...</td>\n",
       "      <td>1</td>\n",
       "    </tr>\n",
       "    <tr>\n",
       "      <th>59998</th>\n",
       "      <td>corrupt always corrupt</td>\n",
       "      <td>1</td>\n",
       "    </tr>\n",
       "    <tr>\n",
       "      <th>59999</th>\n",
       "      <td>nothey need sell gram max tax</td>\n",
       "      <td>0</td>\n",
       "    </tr>\n",
       "  </tbody>\n",
       "</table>\n",
       "<p>60000 rows × 2 columns</p>\n",
       "</div>"
      ],
      "text/plain": [
       "                                            comment_text  toxicity\n",
       "0                     iso mother silver spoon parasites          1\n",
       "1      hey loser gun laws failure typical leave wing ...         1\n",
       "2      realize older generation sad showcase year old...         0\n",
       "3      iso ncm proceed fee educate n nmore ad hominem...         1\n",
       "4      allie please call president poor fool really c...         1\n",
       "...                                                  ...       ...\n",
       "59995  live legally pay property tax guess kid afford...         0\n",
       "59996  richlynd ketah guest transgender take hormone ...         1\n",
       "59997  nothe democrats far perfect dummy republicans ...         1\n",
       "59998                            corrupt always corrupt          1\n",
       "59999                     nothey need sell gram max tax          0\n",
       "\n",
       "[60000 rows x 2 columns]"
      ]
     },
     "execution_count": 43,
     "metadata": {},
     "output_type": "execute_result"
    }
   ],
   "source": [
    "import pandas as pd\n",
    "import s3fs\n",
    "\n",
    "train_s3_resolved_uri = (\n",
    "    train_feature_group.describe()\n",
    "        .get(\"OfflineStoreConfig\")\n",
    "        .get('S3StorageConfig')\n",
    "        .get('ResolvedOutputS3Uri')\n",
    ")\n",
    "\n",
    "train_feature_data = pd.read_parquet(train_s3_resolved_uri, storage_options={'anon': False})\n",
    "print(train_feature_data.shape)\n",
    "train_feature_data[['comment_text', 'toxicity']]"
   ]
  },
  {
   "cell_type": "code",
   "execution_count": 44,
   "id": "127ac537-5bd8-480e-a398-4e31374309e7",
   "metadata": {},
   "outputs": [
    {
     "name": "stdout",
     "output_type": "stream",
     "text": [
      "(6000, 11)\n"
     ]
    },
    {
     "data": {
      "text/html": [
       "<div>\n",
       "<style scoped>\n",
       "    .dataframe tbody tr th:only-of-type {\n",
       "        vertical-align: middle;\n",
       "    }\n",
       "\n",
       "    .dataframe tbody tr th {\n",
       "        vertical-align: top;\n",
       "    }\n",
       "\n",
       "    .dataframe thead th {\n",
       "        text-align: right;\n",
       "    }\n",
       "</style>\n",
       "<table border=\"1\" class=\"dataframe\">\n",
       "  <thead>\n",
       "    <tr style=\"text-align: right;\">\n",
       "      <th></th>\n",
       "      <th>comment_text</th>\n",
       "      <th>toxicity</th>\n",
       "    </tr>\n",
       "  </thead>\n",
       "  <tbody>\n",
       "    <tr>\n",
       "      <th>0</th>\n",
       "      <td>clinton cash bunch lie mastermind trump new ca...</td>\n",
       "      <td>1</td>\n",
       "    </tr>\n",
       "    <tr>\n",
       "      <th>1</th>\n",
       "      <td>saudi arabia travel ban n nodd dismiss fact ea...</td>\n",
       "      <td>1</td>\n",
       "    </tr>\n",
       "    <tr>\n",
       "      <th>2</th>\n",
       "      <td>disagree mr bruno show true respect america in...</td>\n",
       "      <td>0</td>\n",
       "    </tr>\n",
       "    <tr>\n",
       "      <th>3</th>\n",
       "      <td>alcohol invasive chemical us first americans a...</td>\n",
       "      <td>1</td>\n",
       "    </tr>\n",
       "    <tr>\n",
       "      <th>4</th>\n",
       "      <td>april st</td>\n",
       "      <td>0</td>\n",
       "    </tr>\n",
       "    <tr>\n",
       "      <th>...</th>\n",
       "      <td>...</td>\n",
       "      <td>...</td>\n",
       "    </tr>\n",
       "    <tr>\n",
       "      <th>5995</th>\n",
       "      <td>point could sa edit hell curious would guess l...</td>\n",
       "      <td>0</td>\n",
       "    </tr>\n",
       "    <tr>\n",
       "      <th>5996</th>\n",
       "      <td>nothat crazy harper absolute disdain terrorist...</td>\n",
       "      <td>1</td>\n",
       "    </tr>\n",
       "    <tr>\n",
       "      <th>5997</th>\n",
       "      <td>bad apples every profession include police exc...</td>\n",
       "      <td>0</td>\n",
       "    </tr>\n",
       "    <tr>\n",
       "      <th>5998</th>\n",
       "      <td>trump slip badly time nnazi evil white suprema...</td>\n",
       "      <td>1</td>\n",
       "    </tr>\n",
       "    <tr>\n",
       "      <th>5999</th>\n",
       "      <td>remember clarence thomas run</td>\n",
       "      <td>0</td>\n",
       "    </tr>\n",
       "  </tbody>\n",
       "</table>\n",
       "<p>6000 rows × 2 columns</p>\n",
       "</div>"
      ],
      "text/plain": [
       "                                           comment_text  toxicity\n",
       "0     clinton cash bunch lie mastermind trump new ca...         1\n",
       "1     saudi arabia travel ban n nodd dismiss fact ea...         1\n",
       "2     disagree mr bruno show true respect america in...         0\n",
       "3     alcohol invasive chemical us first americans a...         1\n",
       "4                                             april st          0\n",
       "...                                                 ...       ...\n",
       "5995  point could sa edit hell curious would guess l...         0\n",
       "5996  nothat crazy harper absolute disdain terrorist...         1\n",
       "5997  bad apples every profession include police exc...         0\n",
       "5998  trump slip badly time nnazi evil white suprema...         1\n",
       "5999                      remember clarence thomas run          0\n",
       "\n",
       "[6000 rows x 2 columns]"
      ]
     },
     "execution_count": 44,
     "metadata": {},
     "output_type": "execute_result"
    }
   ],
   "source": [
    "val_s3_resolved_uri = (\n",
    "    validation_feature_group.describe()\n",
    "        .get(\"OfflineStoreConfig\")\n",
    "        .get('S3StorageConfig')\n",
    "        .get('ResolvedOutputS3Uri')\n",
    ")\n",
    "\n",
    "validation_feature_data = pd.read_parquet(val_s3_resolved_uri, storage_options={'anon': False})\n",
    "print(validation_feature_data.shape)\n",
    "validation_feature_data[['comment_text', 'toxicity']]"
   ]
  },
  {
   "cell_type": "code",
   "execution_count": 45,
   "id": "f728213c-fdad-4cd4-a4eb-2c5037b60712",
   "metadata": {},
   "outputs": [
    {
     "name": "stdout",
     "output_type": "stream",
     "text": [
      "(6000, 11)\n"
     ]
    },
    {
     "data": {
      "text/html": [
       "<div>\n",
       "<style scoped>\n",
       "    .dataframe tbody tr th:only-of-type {\n",
       "        vertical-align: middle;\n",
       "    }\n",
       "\n",
       "    .dataframe tbody tr th {\n",
       "        vertical-align: top;\n",
       "    }\n",
       "\n",
       "    .dataframe thead th {\n",
       "        text-align: right;\n",
       "    }\n",
       "</style>\n",
       "<table border=\"1\" class=\"dataframe\">\n",
       "  <thead>\n",
       "    <tr style=\"text-align: right;\">\n",
       "      <th></th>\n",
       "      <th>comment_text</th>\n",
       "      <th>toxicity</th>\n",
       "    </tr>\n",
       "  </thead>\n",
       "  <tbody>\n",
       "    <tr>\n",
       "      <th>0</th>\n",
       "      <td>bdpapa would rather work stink drink get news ...</td>\n",
       "      <td>1</td>\n",
       "    </tr>\n",
       "    <tr>\n",
       "      <th>1</th>\n",
       "      <td>ishe think shoot time</td>\n",
       "      <td>1</td>\n",
       "    </tr>\n",
       "    <tr>\n",
       "      <th>2</th>\n",
       "      <td>difference right wrong conservatives know diff...</td>\n",
       "      <td>0</td>\n",
       "    </tr>\n",
       "    <tr>\n",
       "      <th>3</th>\n",
       "      <td>find amaze anchorage taxi operators ask suppor...</td>\n",
       "      <td>0</td>\n",
       "    </tr>\n",
       "    <tr>\n",
       "      <th>4</th>\n",
       "      <td>notice type crap little hand little device say...</td>\n",
       "      <td>1</td>\n",
       "    </tr>\n",
       "    <tr>\n",
       "      <th>...</th>\n",
       "      <td>...</td>\n",
       "      <td>...</td>\n",
       "    </tr>\n",
       "    <tr>\n",
       "      <th>5995</th>\n",
       "      <td>instead try unite country prime minister try d...</td>\n",
       "      <td>1</td>\n",
       "    </tr>\n",
       "    <tr>\n",
       "      <th>5996</th>\n",
       "      <td>evangelical another word interchangeable hypoc...</td>\n",
       "      <td>1</td>\n",
       "    </tr>\n",
       "    <tr>\n",
       "      <th>5997</th>\n",
       "      <td>year resident propose borough would expect opp...</td>\n",
       "      <td>0</td>\n",
       "    </tr>\n",
       "    <tr>\n",
       "      <th>5998</th>\n",
       "      <td>wonder uh president david lassner would say pr...</td>\n",
       "      <td>1</td>\n",
       "    </tr>\n",
       "    <tr>\n",
       "      <th>5999</th>\n",
       "      <td>know pynchon roth delillo equip continue discu...</td>\n",
       "      <td>0</td>\n",
       "    </tr>\n",
       "  </tbody>\n",
       "</table>\n",
       "<p>6000 rows × 2 columns</p>\n",
       "</div>"
      ],
      "text/plain": [
       "                                           comment_text  toxicity\n",
       "0     bdpapa would rather work stink drink get news ...         1\n",
       "1                                ishe think shoot time          1\n",
       "2     difference right wrong conservatives know diff...         0\n",
       "3     find amaze anchorage taxi operators ask suppor...         0\n",
       "4     notice type crap little hand little device say...         1\n",
       "...                                                 ...       ...\n",
       "5995  instead try unite country prime minister try d...         1\n",
       "5996  evangelical another word interchangeable hypoc...         1\n",
       "5997  year resident propose borough would expect opp...         0\n",
       "5998  wonder uh president david lassner would say pr...         1\n",
       "5999  know pynchon roth delillo equip continue discu...         0\n",
       "\n",
       "[6000 rows x 2 columns]"
      ]
     },
     "execution_count": 45,
     "metadata": {},
     "output_type": "execute_result"
    }
   ],
   "source": [
    "test_s3_resolved_uri = (\n",
    "    test_feature_group.describe()\n",
    "        .get(\"OfflineStoreConfig\")\n",
    "        .get('S3StorageConfig')\n",
    "        .get('ResolvedOutputS3Uri')\n",
    ")\n",
    "\n",
    "test_feature_data = pd.read_parquet(test_s3_resolved_uri, storage_options={'anon': False})\n",
    "print(test_feature_data.shape)\n",
    "test_feature_data[['comment_text', 'toxicity']]"
   ]
  },
  {
   "cell_type": "code",
   "execution_count": 50,
   "id": "f3da1408",
   "metadata": {},
   "outputs": [],
   "source": [
    "X_train, y_train = train_feature_data[\"comment_text\"], train_feature_data[\"toxicity\"]\n",
    "X_val, y_val = validation_feature_data[\"comment_text\"], validation_feature_data[\"toxicity\"]\n",
    "X_test, y_test = test_feature_data[\"comment_text\"], test_feature_data[\"toxicity\"]"
   ]
  },
  {
   "cell_type": "markdown",
   "id": "9dd3dcf1-e35f-4658-93c8-2a7ba2506461",
   "metadata": {},
   "source": [
    "### Model Training"
   ]
  },
  {
   "cell_type": "code",
   "execution_count": 51,
   "id": "7062567b-b95f-45e4-b2ba-d4934eae2be5",
   "metadata": {},
   "outputs": [],
   "source": [
    "import numpy as np\n",
    "# Vectorize text\n",
    "vectorizer = TfidfVectorizer(max_features=1000)\n",
    "X_train_tfidf = vectorizer.fit_transform(X_train)\n",
    "X_val_tfidf = vectorizer.transform(X_val)"
   ]
  },
  {
   "cell_type": "code",
   "execution_count": 38,
   "id": "92c9acd5-df89-4dbe-bb05-70512c9ada74",
   "metadata": {
    "execution": {
     "iopub.execute_input": "2025-10-08T01:19:19.706485Z",
     "iopub.status.busy": "2025-10-08T01:19:19.706218Z",
     "iopub.status.idle": "2025-10-08T01:19:53.085883Z",
     "shell.execute_reply": "2025-10-08T01:19:53.085140Z",
     "shell.execute_reply.started": "2025-10-08T01:19:19.706465Z"
    }
   },
   "outputs": [],
   "source": [
    "# Combine features and labels\n",
    "train_combined = np.hstack([y_train.values.reshape(-1, 1), X_train_tfidf.toarray()])\n",
    "val_combined = np.hstack([y_val.values.reshape(-1, 1), X_val_tfidf.toarray()])\n",
    "\n",
    "\n",
    "# Save to CSV (without index and header)\n",
    "train_df = pd.DataFrame(train_combined)\n",
    "val_df = pd.DataFrame(val_combined)\n",
    "train_df.to_csv('train.csv', index=False, header=False)\n",
    "val_df.to_csv('validation.csv', index=False, header=False)\n",
    "\n",
    "# Upload to S3\n",
    "s3 = boto3.client('s3')\n",
    "s3.upload_file('train.csv', bucket, f\"{prefix}/train/train.csv\")\n",
    "s3.upload_file('validation.csv', bucket, f\"{prefix}/validation/validation.csv\")"
   ]
  },
  {
   "cell_type": "code",
   "execution_count": 40,
   "id": "d6725f5e-a914-4ba8-b101-888fc0e1d342",
   "metadata": {
    "execution": {
     "iopub.execute_input": "2025-10-08T01:20:20.986336Z",
     "iopub.status.busy": "2025-10-08T01:20:20.985989Z",
     "iopub.status.idle": "2025-10-08T01:24:39.401369Z",
     "shell.execute_reply": "2025-10-08T01:24:39.400751Z",
     "shell.execute_reply.started": "2025-10-08T01:20:20.986284Z"
    }
   },
   "outputs": [
    {
     "name": "stderr",
     "output_type": "stream",
     "text": [
      "INFO:sagemaker:Creating training-job with name: xgb-2025-10-08-01-20-20\n"
     ]
    },
    {
     "name": "stdout",
     "output_type": "stream",
     "text": [
      "2025-10-08 01:20:22 Starting - Starting the training job...\n",
      "2025-10-08 01:20:54 Downloading - Downloading input data......\n",
      "2025-10-08 01:21:29 Downloading - Downloading the training image...\n",
      "2025-10-08 01:22:10 Training - Training image download completed. Training in progress..\u001b[34m/miniconda3/lib/python3.9/site-packages/sagemaker_containers/_server.py:22: UserWarning: pkg_resources is deprecated as an API. See https://setuptools.pypa.io/en/latest/pkg_resources.html. The pkg_resources package is slated for removal as early as 2025-11-30. Refrain from using this package or pin to Setuptools<81.\n",
      "  import pkg_resources\u001b[0m\n",
      "\u001b[34m[2025-10-08 01:22:19.868 ip-10-2-204-181.ec2.internal:7 INFO utils.py:28] RULE_JOB_STOP_SIGNAL_FILENAME: None\u001b[0m\n",
      "\u001b[34m[2025-10-08 01:22:19.935 ip-10-2-204-181.ec2.internal:7 INFO profiler_config_parser.py:111] User has disabled profiler.\u001b[0m\n",
      "\u001b[34m[2025-10-08:01:22:20:INFO] Imported framework sagemaker_xgboost_container.training\u001b[0m\n",
      "\u001b[34m[2025-10-08:01:22:20:INFO] Failed to parse hyperparameter eval_metric value auc to Json.\u001b[0m\n",
      "\u001b[34mReturning the value itself\u001b[0m\n",
      "\u001b[34m[2025-10-08:01:22:20:INFO] Failed to parse hyperparameter objective value binary:logistic to Json.\u001b[0m\n",
      "\u001b[34mReturning the value itself\u001b[0m\n",
      "\u001b[34m[2025-10-08:01:22:20:INFO] No GPUs detected (normal if no gpus installed)\u001b[0m\n",
      "\u001b[34m[2025-10-08:01:22:20:INFO] Running XGBoost Sagemaker in algorithm mode\u001b[0m\n",
      "\u001b[34m[2025-10-08:01:22:20:INFO] Determined 0 GPU(s) available on the instance.\u001b[0m\n",
      "\u001b[34m[2025-10-08:01:22:20:INFO] Determined delimiter of CSV input is ','\u001b[0m\n",
      "\u001b[34m[2025-10-08:01:22:20:INFO] Determined delimiter of CSV input is ','\u001b[0m\n",
      "\u001b[34m[2025-10-08:01:22:20:INFO] File path /opt/ml/input/data/train of input files\u001b[0m\n",
      "\u001b[34m[2025-10-08:01:22:20:INFO] Making smlinks from folder /opt/ml/input/data/train to folder /tmp/sagemaker_xgboost_input_data\u001b[0m\n",
      "\u001b[34m[2025-10-08:01:22:20:INFO] creating symlink between Path /opt/ml/input/data/train/train.csv and destination /tmp/sagemaker_xgboost_input_data/train.csv-2275412490662152700\u001b[0m\n",
      "\u001b[34m[2025-10-08:01:22:20:INFO] files path: /tmp/sagemaker_xgboost_input_data\u001b[0m\n",
      "\u001b[34m[2025-10-08:01:22:20:INFO] Determined delimiter of CSV input is ','\u001b[0m\n",
      "\u001b[34m[2025-10-08:01:22:23:INFO] File path /opt/ml/input/data/validation of input files\u001b[0m\n",
      "\u001b[34m[2025-10-08:01:22:23:INFO] Making smlinks from folder /opt/ml/input/data/validation to folder /tmp/sagemaker_xgboost_input_data\u001b[0m\n",
      "\u001b[34m[2025-10-08:01:22:23:INFO] creating symlink between Path /opt/ml/input/data/validation/validation.csv and destination /tmp/sagemaker_xgboost_input_data/validation.csv8468209612641347452\u001b[0m\n",
      "\u001b[34m[2025-10-08:01:22:23:INFO] files path: /tmp/sagemaker_xgboost_input_data\u001b[0m\n",
      "\u001b[34m[2025-10-08:01:22:23:INFO] Determined delimiter of CSV input is ','\u001b[0m\n",
      "\u001b[34m[2025-10-08:01:22:23:INFO] Single node training.\u001b[0m\n",
      "\u001b[34m[2025-10-08:01:22:23:INFO] Train matrix has 60000 rows and 1000 columns\u001b[0m\n",
      "\u001b[34m[2025-10-08:01:22:23:INFO] Validation matrix has 6000 rows\u001b[0m\n",
      "\u001b[34m[2025-10-08 01:22:23.410 ip-10-2-204-181.ec2.internal:7 INFO json_config.py:92] Creating hook from json_config at /opt/ml/input/config/debughookconfig.json.\u001b[0m\n",
      "\u001b[34m[2025-10-08 01:22:23.410 ip-10-2-204-181.ec2.internal:7 INFO hook.py:206] tensorboard_dir has not been set for the hook. SMDebug will not be exporting tensorboard summaries.\u001b[0m\n",
      "\u001b[34m[2025-10-08 01:22:23.411 ip-10-2-204-181.ec2.internal:7 INFO hook.py:259] Saving to /opt/ml/output/tensors\u001b[0m\n",
      "\u001b[34m[2025-10-08 01:22:23.411 ip-10-2-204-181.ec2.internal:7 INFO state_store.py:77] The checkpoint config file /opt/ml/input/config/checkpointconfig.json does not exist.\u001b[0m\n",
      "\u001b[34m[2025-10-08:01:22:23:INFO] Debug hook created from config\u001b[0m\n",
      "\u001b[34m[2025-10-08 01:22:26.804 ip-10-2-204-181.ec2.internal:7 INFO hook.py:427] Monitoring the collections: metrics\u001b[0m\n",
      "\u001b[34m[2025-10-08 01:22:26.809 ip-10-2-204-181.ec2.internal:7 INFO hook.py:491] Hook is writing from the hook with pid: 7\u001b[0m\n",
      "\u001b[34m[0]#011train-auc:0.62084#011validation-auc:0.63239\u001b[0m\n",
      "\u001b[34m[1]#011train-auc:0.64292#011validation-auc:0.65827\u001b[0m\n",
      "\u001b[34m[2]#011train-auc:0.66676#011validation-auc:0.67857\u001b[0m\n",
      "\u001b[34m[3]#011train-auc:0.67861#011validation-auc:0.68968\u001b[0m\n",
      "\u001b[34m[4]#011train-auc:0.69601#011validation-auc:0.71018\u001b[0m\n",
      "\u001b[34m[5]#011train-auc:0.70196#011validation-auc:0.71527\u001b[0m\n",
      "\u001b[34m[6]#011train-auc:0.72509#011validation-auc:0.74089\u001b[0m\n",
      "\u001b[34m[7]#011train-auc:0.73109#011validation-auc:0.74598\u001b[0m\n",
      "\u001b[34m[8]#011train-auc:0.73121#011validation-auc:0.74599\u001b[0m\n",
      "\u001b[34m[9]#011train-auc:0.73897#011validation-auc:0.75382\u001b[0m\n",
      "\u001b[34m[10]#011train-auc:0.74294#011validation-auc:0.75810\u001b[0m\n",
      "\u001b[34m[11]#011train-auc:0.74991#011validation-auc:0.76390\u001b[0m\n",
      "\u001b[34m[12]#011train-auc:0.75564#011validation-auc:0.76988\u001b[0m\n",
      "\u001b[34m[13]#011train-auc:0.76337#011validation-auc:0.77746\u001b[0m\n",
      "\u001b[34m[14]#011train-auc:0.76783#011validation-auc:0.78258\u001b[0m\n",
      "\u001b[34m[15]#011train-auc:0.76819#011validation-auc:0.78307\u001b[0m\n",
      "\u001b[34m[16]#011train-auc:0.77041#011validation-auc:0.78492\u001b[0m\n",
      "\u001b[34m[17]#011train-auc:0.77333#011validation-auc:0.78783\u001b[0m\n",
      "\u001b[34m[18]#011train-auc:0.77743#011validation-auc:0.79067\u001b[0m\n",
      "\u001b[34m[19]#011train-auc:0.77899#011validation-auc:0.79123\u001b[0m\n",
      "\u001b[34m[20]#011train-auc:0.78425#011validation-auc:0.79469\u001b[0m\n",
      "\u001b[34m[21]#011train-auc:0.78453#011validation-auc:0.79499\u001b[0m\n",
      "\u001b[34m[22]#011train-auc:0.79140#011validation-auc:0.80105\u001b[0m\n",
      "\u001b[34m[23]#011train-auc:0.79301#011validation-auc:0.80309\u001b[0m\n",
      "\u001b[34m[24]#011train-auc:0.79687#011validation-auc:0.80581\u001b[0m\n",
      "\u001b[34m[25]#011train-auc:0.79730#011validation-auc:0.80639\u001b[0m\n",
      "\u001b[34m[26]#011train-auc:0.80119#011validation-auc:0.80891\u001b[0m\n",
      "\u001b[34m[27]#011train-auc:0.80345#011validation-auc:0.80994\u001b[0m\n",
      "\u001b[34m[28]#011train-auc:0.80643#011validation-auc:0.81193\u001b[0m\n",
      "\u001b[34m[29]#011train-auc:0.81047#011validation-auc:0.81441\u001b[0m\n",
      "\u001b[34m[30]#011train-auc:0.81347#011validation-auc:0.81701\u001b[0m\n",
      "\u001b[34m[31]#011train-auc:0.81457#011validation-auc:0.81787\u001b[0m\n",
      "\u001b[34m[32]#011train-auc:0.81694#011validation-auc:0.81974\u001b[0m\n",
      "\u001b[34m[33]#011train-auc:0.81712#011validation-auc:0.82010\u001b[0m\n",
      "\u001b[34m[34]#011train-auc:0.81928#011validation-auc:0.82272\u001b[0m\n",
      "\u001b[34m[35]#011train-auc:0.82048#011validation-auc:0.82429\u001b[0m\n",
      "\u001b[34m[36]#011train-auc:0.82258#011validation-auc:0.82605\u001b[0m\n",
      "\u001b[34m[37]#011train-auc:0.82305#011validation-auc:0.82620\u001b[0m\n",
      "\u001b[34m[38]#011train-auc:0.82459#011validation-auc:0.82800\u001b[0m\n",
      "\u001b[34m[39]#011train-auc:0.82479#011validation-auc:0.82823\u001b[0m\n",
      "\u001b[34m[40]#011train-auc:0.82589#011validation-auc:0.82915\u001b[0m\n",
      "\u001b[34m[41]#011train-auc:0.82679#011validation-auc:0.83039\u001b[0m\n",
      "\u001b[34m[42]#011train-auc:0.82819#011validation-auc:0.83177\u001b[0m\n",
      "\u001b[34m[43]#011train-auc:0.82916#011validation-auc:0.83229\u001b[0m\n",
      "\u001b[34m[44]#011train-auc:0.82994#011validation-auc:0.83252\u001b[0m\n",
      "\u001b[34m[45]#011train-auc:0.83141#011validation-auc:0.83425\u001b[0m\n",
      "\u001b[34m[46]#011train-auc:0.83226#011validation-auc:0.83416\u001b[0m\n",
      "\u001b[34m[47]#011train-auc:0.83302#011validation-auc:0.83481\u001b[0m\n",
      "\u001b[34m[48]#011train-auc:0.83383#011validation-auc:0.83522\u001b[0m\n",
      "\u001b[34m[49]#011train-auc:0.83394#011validation-auc:0.83524\u001b[0m\n",
      "\u001b[34m[50]#011train-auc:0.83420#011validation-auc:0.83599\u001b[0m\n",
      "\u001b[34m[51]#011train-auc:0.83487#011validation-auc:0.83643\u001b[0m\n",
      "\u001b[34m[52]#011train-auc:0.83610#011validation-auc:0.83638\u001b[0m\n",
      "\u001b[34m[53]#011train-auc:0.83671#011validation-auc:0.83667\u001b[0m\n",
      "\u001b[34m[54]#011train-auc:0.83730#011validation-auc:0.83650\u001b[0m\n",
      "\u001b[34m[55]#011train-auc:0.83795#011validation-auc:0.83737\u001b[0m\n",
      "\u001b[34m[56]#011train-auc:0.83848#011validation-auc:0.83784\u001b[0m\n",
      "\u001b[34m[57]#011train-auc:0.83949#011validation-auc:0.83892\u001b[0m\n",
      "\u001b[34m[58]#011train-auc:0.84030#011validation-auc:0.83969\u001b[0m\n",
      "\u001b[34m[59]#011train-auc:0.84109#011validation-auc:0.84116\u001b[0m\n",
      "\u001b[34m[60]#011train-auc:0.84149#011validation-auc:0.84142\u001b[0m\n",
      "\u001b[34m[61]#011train-auc:0.84176#011validation-auc:0.84098\u001b[0m\n",
      "\u001b[34m[62]#011train-auc:0.84294#011validation-auc:0.84157\u001b[0m\n",
      "\u001b[34m[63]#011train-auc:0.84312#011validation-auc:0.84187\u001b[0m\n",
      "\u001b[34m[64]#011train-auc:0.84331#011validation-auc:0.84184\u001b[0m\n",
      "\u001b[34m[65]#011train-auc:0.84415#011validation-auc:0.84240\u001b[0m\n",
      "\u001b[34m[66]#011train-auc:0.84446#011validation-auc:0.84272\u001b[0m\n",
      "\u001b[34m[67]#011train-auc:0.84517#011validation-auc:0.84314\u001b[0m\n",
      "\u001b[34m[68]#011train-auc:0.84536#011validation-auc:0.84341\u001b[0m\n",
      "\u001b[34m[69]#011train-auc:0.84572#011validation-auc:0.84374\u001b[0m\n",
      "\u001b[34m[70]#011train-auc:0.84631#011validation-auc:0.84448\u001b[0m\n",
      "\u001b[34m[71]#011train-auc:0.84703#011validation-auc:0.84449\u001b[0m\n",
      "\u001b[34m[72]#011train-auc:0.84745#011validation-auc:0.84511\u001b[0m\n",
      "\u001b[34m[73]#011train-auc:0.84755#011validation-auc:0.84523\u001b[0m\n",
      "\u001b[34m[74]#011train-auc:0.84779#011validation-auc:0.84564\u001b[0m\n",
      "\u001b[34m[75]#011train-auc:0.84825#011validation-auc:0.84595\u001b[0m\n",
      "\u001b[34m[76]#011train-auc:0.84835#011validation-auc:0.84616\u001b[0m\n",
      "\u001b[34m[77]#011train-auc:0.84845#011validation-auc:0.84681\u001b[0m\n",
      "\u001b[34m[78]#011train-auc:0.84901#011validation-auc:0.84777\u001b[0m\n",
      "\u001b[34m[79]#011train-auc:0.84940#011validation-auc:0.84777\u001b[0m\n",
      "\u001b[34m[80]#011train-auc:0.84989#011validation-auc:0.84830\u001b[0m\n",
      "\u001b[34m[81]#011train-auc:0.85058#011validation-auc:0.84811\u001b[0m\n",
      "\u001b[34m[82]#011train-auc:0.85110#011validation-auc:0.84781\u001b[0m\n",
      "\u001b[34m[83]#011train-auc:0.85145#011validation-auc:0.84835\u001b[0m\n",
      "\u001b[34m[84]#011train-auc:0.85162#011validation-auc:0.84808\u001b[0m\n",
      "\u001b[34m[85]#011train-auc:0.85214#011validation-auc:0.84845\u001b[0m\n",
      "\u001b[34m[86]#011train-auc:0.85236#011validation-auc:0.84860\u001b[0m\n",
      "\u001b[34m[87]#011train-auc:0.85272#011validation-auc:0.84897\u001b[0m\n",
      "\u001b[34m[88]#011train-auc:0.85298#011validation-auc:0.84912\u001b[0m\n",
      "\u001b[34m[89]#011train-auc:0.85363#011validation-auc:0.84948\u001b[0m\n",
      "\u001b[34m[90]#011train-auc:0.85393#011validation-auc:0.84956\u001b[0m\n",
      "\u001b[34m[91]#011train-auc:0.85410#011validation-auc:0.84973\u001b[0m\n",
      "\u001b[34m[92]#011train-auc:0.85450#011validation-auc:0.85017\u001b[0m\n",
      "\u001b[34m[93]#011train-auc:0.85474#011validation-auc:0.85048\u001b[0m\n",
      "\u001b[34m[94]#011train-auc:0.85511#011validation-auc:0.85068\u001b[0m\n",
      "\u001b[34m[95]#011train-auc:0.85537#011validation-auc:0.85075\u001b[0m\n",
      "\u001b[34m[96]#011train-auc:0.85575#011validation-auc:0.85050\u001b[0m\n",
      "\u001b[34m[97]#011train-auc:0.85621#011validation-auc:0.85053\u001b[0m\n",
      "\u001b[34m[98]#011train-auc:0.85629#011validation-auc:0.85060\u001b[0m\n",
      "\u001b[34m[99]#011train-auc:0.85675#011validation-auc:0.85043\u001b[0m\n",
      "\n",
      "2025-10-08 01:24:19 Uploading - Uploading generated training model\n",
      "2025-10-08 01:24:19 Completed - Training job completed\n",
      "Training seconds: 205\n",
      "Billable seconds: 205\n",
      "CPU times: user 531 ms, sys: 50.4 ms, total: 581 ms\n",
      "Wall time: 4min 18s\n"
     ]
    }
   ],
   "source": [
    "%%time\n",
    "from time import gmtime, strftime\n",
    "\n",
    "job_name = \"xgb-\" + strftime(\"%Y-%m-%d-%H-%M-%S\", gmtime())\n",
    "output_location = \"s3://{}/{}/output/{}\".format(bucket, prefix, job_name)\n",
    "image = sagemaker.image_uris.retrieve(\n",
    "    framework=\"xgboost\", region=boto3.Session().region_name, version=\"1.7-1\"\n",
    ")\n",
    "\n",
    "sm_estimator = sagemaker.estimator.Estimator(\n",
    "    image,\n",
    "    role,\n",
    "    instance_count=1,\n",
    "    instance_type=\"ml.m5.xlarge\",\n",
    "    volume_size=50,\n",
    "    input_mode=\"File\",\n",
    "    output_path=output_location,\n",
    "    sagemaker_session=sess,\n",
    ")\n",
    "\n",
    "sm_estimator.set_hyperparameters(\n",
    "    objective=\"binary:logistic\",\n",
    "    max_depth=5,\n",
    "    eta=0.2,\n",
    "    gamma=4,\n",
    "    min_child_weight=6,\n",
    "    subsample=0.8,\n",
    "    verbosity=0,\n",
    "    num_round=100,\n",
    "    eval_metric= \"auc\"\n",
    ")\n",
    "\n",
    "train_vect_data = sagemaker.inputs.TrainingInput(\n",
    "    \"s3://{}/{}/train/\".format(bucket, prefix),\n",
    "    distribution=\"FullyReplicated\",\n",
    "    content_type=\"text/csv\",\n",
    "    s3_data_type=\"S3Prefix\",\n",
    ")\n",
    "validation_vect_data = sagemaker.inputs.TrainingInput(\n",
    "    \"s3://{}/{}/validation/\".format(bucket, prefix),\n",
    "    distribution=\"FullyReplicated\",\n",
    "    content_type=\"text/csv\",\n",
    "    s3_data_type=\"S3Prefix\",\n",
    ")\n",
    "\n",
    "data_channels = {\"train\": train_vect_data, \"validation\": validation_vect_data}\n",
    "\n",
    "# Start training by calling the fit method in the estimator\n",
    "sm_estimator.fit(inputs=data_channels, job_name=job_name, logs=True)"
   ]
  },
  {
   "cell_type": "markdown",
   "id": "4403ae80-6487-4ff1-9695-5b8d7235eea1",
   "metadata": {
    "execution": {
     "iopub.execute_input": "2025-10-08T01:02:04.533259Z",
     "iopub.status.busy": "2025-10-08T01:02:04.532961Z",
     "iopub.status.idle": "2025-10-08T01:02:04.538213Z",
     "shell.execute_reply": "2025-10-08T01:02:04.537104Z",
     "shell.execute_reply.started": "2025-10-08T01:02:04.533235Z"
    }
   },
   "source": [
    "### Real time AI Inference"
   ]
  },
  {
   "cell_type": "code",
   "execution_count": 40,
   "id": "2f18f279-b903-4e8c-9d80-201fcc4c3c13",
   "metadata": {},
   "outputs": [
    {
     "name": "stdout",
     "output_type": "stream",
     "text": [
      "\n",
      "2025-10-08 01:24:19 Starting - Preparing the instances for training\n",
      "2025-10-08 01:24:19 Downloading - Downloading the training image\n",
      "2025-10-08 01:24:19 Training - Training image download completed. Training in progress.\n",
      "2025-10-08 01:24:19 Uploading - Uploading generated training model\n",
      "2025-10-08 01:24:19 Completed - Training job completed\n",
      "s3://sagemaker-us-east-1-046536196377/toxicity_pds/parquet/output/xgb-2025-10-08-01-20-20/xgb-2025-10-08-01-20-20/output/model.tar.gz\n"
     ]
    }
   ],
   "source": [
    "from sagemaker.estimator import Estimator\n",
    "\n",
    "job_name = \"xgb-2025-10-08-01-20-20\"\n",
    "output_location = \"s3://{}/{}/output/{}\".format(bucket, prefix, job_name)\n",
    "\n",
    "from sagemaker.estimator import Estimator\n",
    "xgb_model = Estimator.attach(job_name, sagemaker_session=sess)\n",
    "print(xgb_model.model_data)  # same S3 path\n",
    "\n"
   ]
  },
  {
   "cell_type": "code",
   "execution_count": 41,
   "id": "8f2017ad-b3fa-4791-a573-a6eb3920cffe",
   "metadata": {},
   "outputs": [
    {
     "name": "stdout",
     "output_type": "stream",
     "text": [
      "-------!"
     ]
    }
   ],
   "source": [
    "# Deploy Model\n",
    "predictor = xgb_model.deploy(\n",
    "    initial_instance_count=1,\n",
    "    instance_type=\"ml.m5.xlarge\",\n",
    "    serializer=sagemaker.serializers.CSVSerializer(),\n",
    "    deserializer=sagemaker.deserializers.JSONDeserializer(),\n",
    ")\n"
   ]
  },
  {
   "cell_type": "code",
   "execution_count": 58,
   "id": "090e82ce-a102-4f61-bf34-a31041a6eb2e",
   "metadata": {},
   "outputs": [
    {
     "data": {
      "text/html": [
       "<div>\n",
       "<style scoped>\n",
       "    .dataframe tbody tr th:only-of-type {\n",
       "        vertical-align: middle;\n",
       "    }\n",
       "\n",
       "    .dataframe tbody tr th {\n",
       "        vertical-align: top;\n",
       "    }\n",
       "\n",
       "    .dataframe thead th {\n",
       "        text-align: right;\n",
       "    }\n",
       "</style>\n",
       "<table border=\"1\" class=\"dataframe\">\n",
       "  <thead>\n",
       "    <tr style=\"text-align: right;\">\n",
       "      <th></th>\n",
       "      <th>id</th>\n",
       "      <th>comment_text</th>\n",
       "      <th>toxicity</th>\n",
       "      <th>EventTime</th>\n",
       "      <th>write_time</th>\n",
       "      <th>api_invocation_time</th>\n",
       "      <th>is_deleted</th>\n",
       "      <th>year</th>\n",
       "      <th>month</th>\n",
       "      <th>day</th>\n",
       "      <th>hour</th>\n",
       "    </tr>\n",
       "  </thead>\n",
       "  <tbody>\n",
       "    <tr>\n",
       "      <th>0</th>\n",
       "      <td>1062561</td>\n",
       "      <td>bdpapa would rather work stink drink get news ...</td>\n",
       "      <td>1</td>\n",
       "      <td>1.759881e+09</td>\n",
       "      <td>2025-10-07 23:52:42.770000+00:00</td>\n",
       "      <td>2025-10-07 23:47:47+00:00</td>\n",
       "      <td>False</td>\n",
       "      <td>2025</td>\n",
       "      <td>10</td>\n",
       "      <td>7</td>\n",
       "      <td>23</td>\n",
       "    </tr>\n",
       "    <tr>\n",
       "      <th>1</th>\n",
       "      <td>5996417</td>\n",
       "      <td>ishe think shoot time</td>\n",
       "      <td>1</td>\n",
       "      <td>1.759881e+09</td>\n",
       "      <td>2025-10-07 23:52:42.770000+00:00</td>\n",
       "      <td>2025-10-07 23:47:48+00:00</td>\n",
       "      <td>False</td>\n",
       "      <td>2025</td>\n",
       "      <td>10</td>\n",
       "      <td>7</td>\n",
       "      <td>23</td>\n",
       "    </tr>\n",
       "    <tr>\n",
       "      <th>2</th>\n",
       "      <td>5866571</td>\n",
       "      <td>difference right wrong conservatives know diff...</td>\n",
       "      <td>0</td>\n",
       "      <td>1.759881e+09</td>\n",
       "      <td>2025-10-07 23:52:42.770000+00:00</td>\n",
       "      <td>2025-10-07 23:47:48+00:00</td>\n",
       "      <td>False</td>\n",
       "      <td>2025</td>\n",
       "      <td>10</td>\n",
       "      <td>7</td>\n",
       "      <td>23</td>\n",
       "    </tr>\n",
       "    <tr>\n",
       "      <th>3</th>\n",
       "      <td>7175103</td>\n",
       "      <td>find amaze anchorage taxi operators ask suppor...</td>\n",
       "      <td>0</td>\n",
       "      <td>1.759881e+09</td>\n",
       "      <td>2025-10-07 23:52:42.770000+00:00</td>\n",
       "      <td>2025-10-07 23:47:49+00:00</td>\n",
       "      <td>False</td>\n",
       "      <td>2025</td>\n",
       "      <td>10</td>\n",
       "      <td>7</td>\n",
       "      <td>23</td>\n",
       "    </tr>\n",
       "    <tr>\n",
       "      <th>4</th>\n",
       "      <td>6023076</td>\n",
       "      <td>notice type crap little hand little device say...</td>\n",
       "      <td>1</td>\n",
       "      <td>1.759881e+09</td>\n",
       "      <td>2025-10-07 23:52:42.770000+00:00</td>\n",
       "      <td>2025-10-07 23:47:49+00:00</td>\n",
       "      <td>False</td>\n",
       "      <td>2025</td>\n",
       "      <td>10</td>\n",
       "      <td>7</td>\n",
       "      <td>23</td>\n",
       "    </tr>\n",
       "  </tbody>\n",
       "</table>\n",
       "</div>"
      ],
      "text/plain": [
       "        id                                       comment_text  toxicity  \\\n",
       "0  1062561  bdpapa would rather work stink drink get news ...         1   \n",
       "1  5996417                             ishe think shoot time          1   \n",
       "2  5866571  difference right wrong conservatives know diff...         0   \n",
       "3  7175103  find amaze anchorage taxi operators ask suppor...         0   \n",
       "4  6023076  notice type crap little hand little device say...         1   \n",
       "\n",
       "      EventTime                       write_time       api_invocation_time  \\\n",
       "0  1.759881e+09 2025-10-07 23:52:42.770000+00:00 2025-10-07 23:47:47+00:00   \n",
       "1  1.759881e+09 2025-10-07 23:52:42.770000+00:00 2025-10-07 23:47:48+00:00   \n",
       "2  1.759881e+09 2025-10-07 23:52:42.770000+00:00 2025-10-07 23:47:48+00:00   \n",
       "3  1.759881e+09 2025-10-07 23:52:42.770000+00:00 2025-10-07 23:47:49+00:00   \n",
       "4  1.759881e+09 2025-10-07 23:52:42.770000+00:00 2025-10-07 23:47:49+00:00   \n",
       "\n",
       "   is_deleted  year month day hour  \n",
       "0       False  2025    10   7   23  \n",
       "1       False  2025    10   7   23  \n",
       "2       False  2025    10   7   23  \n",
       "3       False  2025    10   7   23  \n",
       "4       False  2025    10   7   23  "
      ]
     },
     "execution_count": 58,
     "metadata": {},
     "output_type": "execute_result"
    }
   ],
   "source": [
    "test_feature_data.head()"
   ]
  },
  {
   "cell_type": "code",
   "execution_count": 69,
   "id": "bdf2ab69-bf6d-4857-ade5-1e23c05a9a65",
   "metadata": {},
   "outputs": [
    {
     "name": "stdout",
     "output_type": "stream",
     "text": [
      "well let set straight guestsquared wrong bad families especially old days us kid protection abuse could imagine none whoopie doo awesome protective family women let tell true many many many women abuse tell appreciate many scar vulnerable really really afraid someone try help n n might millionaire families might hate cause mental problems scar think straight n nsorry harshness sound awfully patronize n nhope kick animals listeninggrasshopper \n",
      "0\n",
      "{'predictions': [{'score': 0.3324480950832367}]}\n"
     ]
    }
   ],
   "source": [
    "import random\n",
    "def preprocess(text_list):\n",
    "    tfidf_features = vectorizer.transform(text_list)\n",
    "    # Convert to dense array and CSV string format (no headers)\n",
    "    csv_features = \",\".join(map(str, tfidf_features.toarray().flatten()))\n",
    "    return csv_features\n",
    "\n",
    "# Preprocess Input Text Before Sending Requests\n",
    "rand_int = random.randint(0, 100)\n",
    "comment_text = test_feature_data[\"comment_text\"][rand_int]\n",
    "toxicity = test_feature_data[\"toxicity\"][rand_int]\n",
    "print(comment_text)\n",
    "print(toxicity)\n",
    "\n",
    "# preprocess & Generate inference\n",
    "input_texts = [comment_text]\n",
    "payload = \"\\n\".join([preprocess([text]) for text in input_texts])\n",
    "\n",
    "response = predictor.predict(payload)\n",
    "print(response)  # The predicted probabilities or labels\n"
   ]
  },
  {
   "cell_type": "markdown",
   "id": "70ecba0a-f59b-4c9a-b496-c94898ebbf9d",
   "metadata": {},
   "source": [
    "### Batch Inference"
   ]
  },
  {
   "cell_type": "code",
   "execution_count": null,
   "id": "22853733-40ce-4e5a-ac1c-5d0487d0092f",
   "metadata": {},
   "outputs": [],
   "source": []
  },
  {
   "cell_type": "code",
   "execution_count": 41,
   "id": "b798f225-5230-4559-a7f3-7ff7dae5b196",
   "metadata": {
    "execution": {
     "iopub.execute_input": "2025-10-08T01:28:50.467269Z",
     "iopub.status.busy": "2025-10-08T01:28:50.466986Z",
     "iopub.status.idle": "2025-10-08T01:28:53.835582Z",
     "shell.execute_reply": "2025-10-08T01:28:53.834820Z",
     "shell.execute_reply.started": "2025-10-08T01:28:50.467249Z"
    }
   },
   "outputs": [],
   "source": [
    "X_test_tfidf = vectorizer.transform(X_test)\n",
    "\n",
    "# Combine features and labels\n",
    "test_combined = np.hstack([y_test.values.reshape(-1, 1), X_test_tfidf.toarray()])\n",
    "\n",
    "# Save to CSV (without index and header)\n",
    "test_df = pd.DataFrame(test_combined)\n",
    "test_df.to_csv('test.csv', index=False, header=False)\n",
    "\n",
    "# Upload to S3\n",
    "s3 = boto3.client('s3')\n",
    "s3.upload_file('test.csv', bucket, f\"{prefix}/test/test.csv\")"
   ]
  },
  {
   "cell_type": "code",
   "execution_count": null,
   "id": "9b536c13-691b-4410-b36a-3241f1d5c16b",
   "metadata": {},
   "outputs": [],
   "source": [
    "import re\n",
    "\n",
    "\n",
    "def get_csv_output_from_s3(s3uri, batch_file):\n",
    "    file_name = \"{}.out\".format(batch_file)\n",
    "    match = re.match(\"s3://([^/]+)/(.*)\", \"{}/{}\".format(s3uri, file_name))\n",
    "    output_bucket, output_prefix = match.group(1), match.group(2)\n",
    "    s3.download_file(output_bucket, output_prefix, file_name)\n",
    "    return pd.read_csv(file_name, sep=\",\", header=None)"
   ]
  },
  {
   "cell_type": "code",
   "execution_count": 43,
   "id": "47897c1c-5ffe-4cdc-850b-6f7ec5137ca4",
   "metadata": {
    "execution": {
     "iopub.execute_input": "2025-10-07T19:47:49.612608Z",
     "iopub.status.busy": "2025-10-07T19:47:49.612329Z",
     "iopub.status.idle": "2025-10-07T19:47:49.616017Z",
     "shell.execute_reply": "2025-10-07T19:47:49.615182Z",
     "shell.execute_reply.started": "2025-10-07T19:47:49.612586Z"
    }
   },
   "outputs": [],
   "source": [
    "def trainmodel(pipeline):\n",
    "    # Train\n",
    "    pipeline.fit(X_train, y_train)\n",
    "\n",
    "    # Predict and evaluate\n",
    "    y_pred = pipeline.predict(X_test)\n",
    "    accuracy = accuracy_score(y_test, y_pred)\n",
    "\n",
    "    return y_pred, accuracy\n",
    "    "
   ]
  },
  {
   "cell_type": "code",
   "execution_count": 44,
   "id": "a81cff68",
   "metadata": {
    "execution": {
     "iopub.execute_input": "2025-10-07T19:47:49.981955Z",
     "iopub.status.busy": "2025-10-07T19:47:49.981677Z",
     "iopub.status.idle": "2025-10-07T19:47:53.441697Z",
     "shell.execute_reply": "2025-10-07T19:47:53.440754Z",
     "shell.execute_reply.started": "2025-10-07T19:47:49.981933Z"
    }
   },
   "outputs": [
    {
     "name": "stdout",
     "output_type": "stream",
     "text": [
      "Accuracy: 0.8121666666666667\n"
     ]
    }
   ],
   "source": [
    "# Build pipeline\n",
    "pipeline_svc = Pipeline([\n",
    "    ('tfidf', TfidfVectorizer()),\n",
    "    ('svm', LinearSVC())\n",
    "])\n",
    "\n",
    "# Train and Predict\n",
    "y_pred, acc_score = trainmodel(pipeline_svc) \n",
    "\n",
    "# Display score\n",
    "print('Accuracy:', acc_score)"
   ]
  },
  {
   "cell_type": "code",
   "execution_count": 77,
   "id": "b006cd43",
   "metadata": {
    "execution": {
     "iopub.execute_input": "2025-10-08T01:06:12.206297Z",
     "iopub.status.busy": "2025-10-08T01:06:12.205580Z",
     "iopub.status.idle": "2025-10-08T01:06:12.230628Z",
     "shell.execute_reply": "2025-10-08T01:06:12.229442Z",
     "shell.execute_reply.started": "2025-10-08T01:06:12.206182Z"
    }
   },
   "outputs": [
    {
     "data": {
      "text/html": [
       "<pre style=\"white-space:pre;overflow-x:auto;line-height:normal;font-family:Menlo,'DejaVu Sans Mono',consolas,'Courier New',monospace\"><span style=\"color: #ff0000; text-decoration-color: #ff0000\">╭─────────────────────────────── </span><span style=\"color: #ff0000; text-decoration-color: #ff0000; font-weight: bold\">Traceback </span><span style=\"color: #ff7f7f; text-decoration-color: #ff7f7f; font-weight: bold\">(most recent call last)</span><span style=\"color: #ff0000; text-decoration-color: #ff0000\"> ────────────────────────────────╮</span>\n",
       "<span style=\"color: #ff0000; text-decoration-color: #ff0000\">│</span> in <span style=\"color: #00ff00; text-decoration-color: #00ff00\">&lt;module&gt;</span>:<span style=\"color: #0000ff; text-decoration-color: #0000ff\">8</span>                                                                                    <span style=\"color: #ff0000; text-decoration-color: #ff0000\">│</span>\n",
       "<span style=\"color: #ff0000; text-decoration-color: #ff0000\">│</span>                                                                                                  <span style=\"color: #ff0000; text-decoration-color: #ff0000\">│</span>\n",
       "<span style=\"color: #ff0000; text-decoration-color: #ff0000\">│</span>   <span style=\"color: #7f7f7f; text-decoration-color: #7f7f7f\"> 5 </span>])                                                                                          <span style=\"color: #ff0000; text-decoration-color: #ff0000\">│</span>\n",
       "<span style=\"color: #ff0000; text-decoration-color: #ff0000\">│</span>   <span style=\"color: #7f7f7f; text-decoration-color: #7f7f7f\"> 6 </span>                                                                                            <span style=\"color: #ff0000; text-decoration-color: #ff0000\">│</span>\n",
       "<span style=\"color: #ff0000; text-decoration-color: #ff0000\">│</span>   <span style=\"color: #7f7f7f; text-decoration-color: #7f7f7f\"> 7 # Train and Predict</span>                                                                         <span style=\"color: #ff0000; text-decoration-color: #ff0000\">│</span>\n",
       "<span style=\"color: #ff0000; text-decoration-color: #ff0000\">│</span> <span style=\"color: #800000; text-decoration-color: #800000\">❱ </span> 8 y_pred, acc_score = <span style=\"font-weight: bold; text-decoration: underline\">trainmodel</span>(pipeline_nb)                                                 <span style=\"color: #ff0000; text-decoration-color: #ff0000\">│</span>\n",
       "<span style=\"color: #ff0000; text-decoration-color: #ff0000\">│</span>   <span style=\"color: #7f7f7f; text-decoration-color: #7f7f7f\"> 9 </span>                                                                                            <span style=\"color: #ff0000; text-decoration-color: #ff0000\">│</span>\n",
       "<span style=\"color: #ff0000; text-decoration-color: #ff0000\">│</span>   <span style=\"color: #7f7f7f; text-decoration-color: #7f7f7f\">10 # Display score</span>                                                                             <span style=\"color: #ff0000; text-decoration-color: #ff0000\">│</span>\n",
       "<span style=\"color: #ff0000; text-decoration-color: #ff0000\">│</span>   <span style=\"color: #7f7f7f; text-decoration-color: #7f7f7f\">11 </span><span style=\"color: #00ffff; text-decoration-color: #00ffff\">print</span>(<span style=\"color: #808000; text-decoration-color: #808000\">'Accuracy:'</span>, acc_score)                                                               <span style=\"color: #ff0000; text-decoration-color: #ff0000\">│</span>\n",
       "<span style=\"color: #ff0000; text-decoration-color: #ff0000\">╰──────────────────────────────────────────────────────────────────────────────────────────────────╯</span>\n",
       "<span style=\"color: #ff0000; text-decoration-color: #ff0000; font-weight: bold\">NameError: </span>name <span style=\"color: #008700; text-decoration-color: #008700\">'trainmodel'</span> is not defined\n",
       "</pre>\n"
      ],
      "text/plain": [
       "\u001b[38;2;255;0;0m╭─\u001b[0m\u001b[38;2;255;0;0m──────────────────────────────\u001b[0m\u001b[38;2;255;0;0m \u001b[0m\u001b[1;38;2;255;0;0mTraceback \u001b[0m\u001b[1;2;38;2;255;0;0m(most recent call last)\u001b[0m\u001b[38;2;255;0;0m \u001b[0m\u001b[38;2;255;0;0m───────────────────────────────\u001b[0m\u001b[38;2;255;0;0m─╮\u001b[0m\n",
       "\u001b[38;2;255;0;0m│\u001b[0m in \u001b[92m<module>\u001b[0m:\u001b[94m8\u001b[0m                                                                                    \u001b[38;2;255;0;0m│\u001b[0m\n",
       "\u001b[38;2;255;0;0m│\u001b[0m                                                                                                  \u001b[38;2;255;0;0m│\u001b[0m\n",
       "\u001b[38;2;255;0;0m│\u001b[0m   \u001b[2m 5 \u001b[0m])                                                                                          \u001b[38;2;255;0;0m│\u001b[0m\n",
       "\u001b[38;2;255;0;0m│\u001b[0m   \u001b[2m 6 \u001b[0m                                                                                            \u001b[38;2;255;0;0m│\u001b[0m\n",
       "\u001b[38;2;255;0;0m│\u001b[0m   \u001b[2m 7 \u001b[0m\u001b[2m# Train and Predict\u001b[0m                                                                         \u001b[38;2;255;0;0m│\u001b[0m\n",
       "\u001b[38;2;255;0;0m│\u001b[0m \u001b[31m❱ \u001b[0m 8 y_pred, acc_score = \u001b[1;4mtrainmodel\u001b[0m(pipeline_nb)                                                 \u001b[38;2;255;0;0m│\u001b[0m\n",
       "\u001b[38;2;255;0;0m│\u001b[0m   \u001b[2m 9 \u001b[0m                                                                                            \u001b[38;2;255;0;0m│\u001b[0m\n",
       "\u001b[38;2;255;0;0m│\u001b[0m   \u001b[2m10 \u001b[0m\u001b[2m# Display score\u001b[0m                                                                             \u001b[38;2;255;0;0m│\u001b[0m\n",
       "\u001b[38;2;255;0;0m│\u001b[0m   \u001b[2m11 \u001b[0m\u001b[96mprint\u001b[0m(\u001b[33m'\u001b[0m\u001b[33mAccuracy:\u001b[0m\u001b[33m'\u001b[0m, acc_score)                                                               \u001b[38;2;255;0;0m│\u001b[0m\n",
       "\u001b[38;2;255;0;0m╰──────────────────────────────────────────────────────────────────────────────────────────────────╯\u001b[0m\n",
       "\u001b[1;91mNameError: \u001b[0mname \u001b[38;2;0;135;0m'trainmodel'\u001b[0m is not defined\n"
      ]
     },
     "metadata": {},
     "output_type": "display_data"
    }
   ],
   "source": [
    "# Build pipeline\n",
    "pipeline_nb = Pipeline([\n",
    "    ('tfidf', TfidfVectorizer()),\n",
    "    ('nb', MultinomialNB())\n",
    "])\n",
    "\n",
    "# Train and Predict\n",
    "y_pred, acc_score = trainmodel(pipeline_nb) \n",
    "\n",
    "# Display score\n",
    "print('Accuracy:', acc_score)"
   ]
  },
  {
   "cell_type": "code",
   "execution_count": 46,
   "id": "5cd7b4e0",
   "metadata": {
    "execution": {
     "iopub.execute_input": "2025-10-07T19:48:48.602702Z",
     "iopub.status.busy": "2025-10-07T19:48:48.602428Z",
     "iopub.status.idle": "2025-10-07T19:54:41.445817Z",
     "shell.execute_reply": "2025-10-07T19:54:41.444862Z",
     "shell.execute_reply.started": "2025-10-07T19:48:48.602681Z"
    }
   },
   "outputs": [
    {
     "name": "stdout",
     "output_type": "stream",
     "text": [
      "Accuracy: 0.795\n"
     ]
    }
   ],
   "source": [
    "# Build pipeline\n",
    "pipeline_rf = Pipeline([\n",
    "    ('tfidf', TfidfVectorizer()),\n",
    "    ('rf', RandomForestClassifier(n_estimators=100, random_state=42))\n",
    "])\n",
    "\n",
    "# Train and Predict\n",
    "y_pred, acc_score = trainmodel(pipeline_rf) \n",
    "\n",
    "# Display score\n",
    "print('Accuracy:', acc_score)"
   ]
  },
  {
   "cell_type": "code",
   "execution_count": 47,
   "id": "f3ef5f52",
   "metadata": {
    "execution": {
     "iopub.execute_input": "2025-10-07T19:54:41.521138Z",
     "iopub.status.busy": "2025-10-07T19:54:41.520846Z",
     "iopub.status.idle": "2025-10-07T19:57:17.577242Z",
     "shell.execute_reply": "2025-10-07T19:57:17.575874Z",
     "shell.execute_reply.started": "2025-10-07T19:54:41.521108Z"
    }
   },
   "outputs": [
    {
     "name": "stdout",
     "output_type": "stream",
     "text": [
      "Accuracy: 0.8018333333333333\n"
     ]
    }
   ],
   "source": [
    "# Build pipeline\n",
    "pipeline_xgb = Pipeline([\n",
    "    ('tfidf', TfidfVectorizer()),\n",
    "    ('rf', xgb.XGBClassifier(objective='multi:softmax', num_class=y_train.nunique(), use_label_encoder=False, eval_metric='mlogloss'))\n",
    "])\n",
    "\n",
    "# Train and Predict\n",
    "y_pred, acc_score = trainmodel(pipeline_xgb) \n",
    "\n",
    "# Display score\n",
    "print('Accuracy:', acc_score)"
   ]
  },
  {
   "cell_type": "code",
   "execution_count": null,
   "id": "c5a4350e",
   "metadata": {},
   "outputs": [],
   "source": []
  },
  {
   "cell_type": "code",
   "execution_count": null,
   "id": "ad14b769",
   "metadata": {},
   "outputs": [],
   "source": []
  },
  {
   "cell_type": "markdown",
   "id": "0f3058e0-2414-40b4-bb93-8f7ea1b0baf1",
   "metadata": {},
   "source": [
    "### Release Resources"
   ]
  },
  {
   "cell_type": "code",
   "execution_count": 51,
   "id": "c3c9a2f4-2ef4-42a2-b855-2505301d03ae",
   "metadata": {
    "execution": {
     "iopub.execute_input": "2025-10-08T02:45:02.479820Z",
     "iopub.status.busy": "2025-10-08T02:45:02.479527Z",
     "iopub.status.idle": "2025-10-08T02:45:02.485577Z",
     "shell.execute_reply": "2025-10-08T02:45:02.484487Z",
     "shell.execute_reply.started": "2025-10-08T02:45:02.479799Z"
    }
   },
   "outputs": [
    {
     "data": {
      "text/html": [
       "\n",
       "<p><b>Shutting down your kernel for this notebook to release resources.</b></p>\n",
       "<button class=\"sm-command-button\" data-commandlinker-command=\"kernelmenu:shutdown\" style=\"display:none;\">Shutdown Kernel</button>\n",
       "        \n",
       "<script>\n",
       "try {\n",
       "    els = document.getElementsByClassName(\"sm-command-button\");\n",
       "    els[0].click();\n",
       "}\n",
       "catch(err) {\n",
       "    // NoOp\n",
       "}    \n",
       "</script>\n"
      ],
      "text/plain": [
       "<IPython.core.display.HTML object>"
      ]
     },
     "metadata": {},
     "output_type": "display_data"
    }
   ],
   "source": [
    "%%html\n",
    "\n",
    "<p><b>Shutting down your kernel for this notebook to release resources.</b></p>\n",
    "<button class=\"sm-command-button\" data-commandlinker-command=\"kernelmenu:shutdown\" style=\"display:none;\">Shutdown Kernel</button>\n",
    "        \n",
    "<script>\n",
    "try {\n",
    "    els = document.getElementsByClassName(\"sm-command-button\");\n",
    "    els[0].click();\n",
    "}\n",
    "catch(err) {\n",
    "    // NoOp\n",
    "}    \n",
    "</script>"
   ]
  },
  {
   "cell_type": "code",
   "execution_count": 1,
   "id": "c95fe8ab-8a7d-4c4e-9f51-c9e54383acb8",
   "metadata": {
    "execution": {
     "iopub.execute_input": "2025-10-08T02:45:08.006008Z",
     "iopub.status.busy": "2025-10-08T02:45:08.005595Z",
     "iopub.status.idle": "2025-10-08T02:45:08.012473Z",
     "shell.execute_reply": "2025-10-08T02:45:08.011776Z",
     "shell.execute_reply.started": "2025-10-08T02:45:08.005983Z"
    }
   },
   "outputs": [
    {
     "data": {
      "application/javascript": [
       "\n",
       "try {\n",
       "    Jupyter.notebook.save_checkpoint();\n",
       "    Jupyter.notebook.session.delete();\n",
       "}\n",
       "catch(err) {\n",
       "    // NoOp\n",
       "}\n"
      ],
      "text/plain": [
       "<IPython.core.display.Javascript object>"
      ]
     },
     "metadata": {},
     "output_type": "display_data"
    }
   ],
   "source": [
    "\n",
    "%%javascript\n",
    "\n",
    "try {\n",
    "    Jupyter.notebook.save_checkpoint();\n",
    "    Jupyter.notebook.session.delete();\n",
    "}\n",
    "catch(err) {\n",
    "    // NoOp\n",
    "}"
   ]
  },
  {
   "cell_type": "code",
   "execution_count": null,
   "id": "5b5907ae-ad7d-49a6-bb8e-627ead5640cb",
   "metadata": {},
   "outputs": [],
   "source": []
  }
 ],
 "metadata": {
  "kernelspec": {
   "display_name": "Python 3 (ipykernel)",
   "language": "python",
   "name": "python3"
  },
  "language_info": {
   "codemirror_mode": {
    "name": "ipython",
    "version": 3
   },
   "file_extension": ".py",
   "mimetype": "text/x-python",
   "name": "python",
   "nbconvert_exporter": "python",
   "pygments_lexer": "ipython3",
   "version": "3.12.9"
  }
 },
 "nbformat": 4,
 "nbformat_minor": 5
}
