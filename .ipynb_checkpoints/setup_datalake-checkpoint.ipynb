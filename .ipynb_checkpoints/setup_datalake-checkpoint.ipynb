{
 "cells": [
  {
   "cell_type": "markdown",
   "id": "8abb31b8-2ea3-4850-8c0f-41660a451ec1",
   "metadata": {},
   "source": [
    "This code was borrowed from AAI 540 labs\n",
    "\n",
    "https://github.com/mechristenson/aai-540-labs.git"
   ]
  },
  {
   "cell_type": "code",
   "execution_count": 1,
   "id": "ec76d1f8-faa4-4808-a017-9c9be3c52586",
   "metadata": {
    "execution": {
     "iopub.execute_input": "2025-09-12T01:52:17.837700Z",
     "iopub.status.busy": "2025-09-12T01:52:17.837345Z",
     "iopub.status.idle": "2025-09-12T01:52:25.444512Z",
     "shell.execute_reply": "2025-09-12T01:52:25.443859Z",
     "shell.execute_reply.started": "2025-09-12T01:52:17.837663Z"
    }
   },
   "outputs": [
    {
     "name": "stdout",
     "output_type": "stream",
     "text": [
      "Requirement already satisfied: boto3 in /opt/conda/lib/python3.12/site-packages (1.37.1)\n",
      "Collecting boto3\n",
      "  Downloading boto3-1.40.29-py3-none-any.whl.metadata (6.7 kB)\n",
      "Requirement already satisfied: botocore in /opt/conda/lib/python3.12/site-packages (1.37.1)\n",
      "Collecting botocore\n",
      "  Downloading botocore-1.40.29-py3-none-any.whl.metadata (5.7 kB)\n",
      "Collecting awscli\n",
      "  Downloading awscli-1.42.29-py3-none-any.whl.metadata (11 kB)\n",
      "Requirement already satisfied: jmespath<2.0.0,>=0.7.1 in /opt/conda/lib/python3.12/site-packages (from boto3) (1.0.1)\n",
      "Collecting s3transfer<0.15.0,>=0.14.0 (from boto3)\n",
      "  Downloading s3transfer-0.14.0-py3-none-any.whl.metadata (1.7 kB)\n",
      "Requirement already satisfied: python-dateutil<3.0.0,>=2.1 in /opt/conda/lib/python3.12/site-packages (from botocore) (2.9.0.post0)\n",
      "Requirement already satisfied: urllib3!=2.2.0,<3,>=1.25.4 in /opt/conda/lib/python3.12/site-packages (from botocore) (1.26.19)\n",
      "Requirement already satisfied: six>=1.5 in /opt/conda/lib/python3.12/site-packages (from python-dateutil<3.0.0,>=2.1->botocore) (1.17.0)\n",
      "Collecting docutils<=0.19,>=0.18.1 (from awscli)\n",
      "  Downloading docutils-0.19-py3-none-any.whl.metadata (2.7 kB)\n",
      "Requirement already satisfied: PyYAML<6.1,>=3.10 in /opt/conda/lib/python3.12/site-packages (from awscli) (6.0.2)\n",
      "Requirement already satisfied: colorama<0.4.7,>=0.2.5 in /opt/conda/lib/python3.12/site-packages (from awscli) (0.4.6)\n",
      "Collecting rsa<4.8,>=3.1.2 (from awscli)\n",
      "  Downloading rsa-4.7.2-py3-none-any.whl.metadata (3.6 kB)\n",
      "Requirement already satisfied: pyasn1>=0.1.3 in /opt/conda/lib/python3.12/site-packages (from rsa<4.8,>=3.1.2->awscli) (0.6.1)\n",
      "Downloading boto3-1.40.29-py3-none-any.whl (139 kB)\n",
      "Downloading botocore-1.40.29-py3-none-any.whl (14.0 MB)\n",
      "\u001b[2K   \u001b[90m━━━━━━━━━━━━━━━━━━━━━━━━━━━━━━━━━━━━━━━━\u001b[0m \u001b[32m14.0/14.0 MB\u001b[0m \u001b[31m191.2 MB/s\u001b[0m  \u001b[33m0:00:00\u001b[0m\n",
      "\u001b[?25hDownloading s3transfer-0.14.0-py3-none-any.whl (85 kB)\n",
      "Downloading awscli-1.42.29-py3-none-any.whl (4.7 MB)\n",
      "\u001b[2K   \u001b[90m━━━━━━━━━━━━━━━━━━━━━━━━━━━━━━━━━━━━━━━━\u001b[0m \u001b[32m4.7/4.7 MB\u001b[0m \u001b[31m160.0 MB/s\u001b[0m  \u001b[33m0:00:00\u001b[0m\n",
      "\u001b[?25hDownloading docutils-0.19-py3-none-any.whl (570 kB)\n",
      "\u001b[2K   \u001b[90m━━━━━━━━━━━━━━━━━━━━━━━━━━━━━━━━━━━━━━━━\u001b[0m \u001b[32m570.5/570.5 kB\u001b[0m \u001b[31m52.8 MB/s\u001b[0m  \u001b[33m0:00:00\u001b[0m\n",
      "\u001b[?25hDownloading rsa-4.7.2-py3-none-any.whl (34 kB)\n",
      "Installing collected packages: rsa, docutils, botocore, s3transfer, boto3, awscli\n",
      "\u001b[2K  Attempting uninstall: rsa\n",
      "\u001b[2K    Found existing installation: rsa 4.9.1\n",
      "\u001b[2K    Uninstalling rsa-4.9.1:\n",
      "\u001b[2K      Successfully uninstalled rsa-4.9.1\n",
      "\u001b[2K  Attempting uninstall: botocorem━━━━━━━━━━━━━━━━━━━━━━━━━━━━━━━━━\u001b[0m \u001b[32m1/6\u001b[0m [docutils]\n",
      "\u001b[2K    Found existing installation: botocore 1.37.1━━━━━━━━━━━━━━\u001b[0m \u001b[32m1/6\u001b[0m [docutils]\n",
      "\u001b[2K    Uninstalling botocore-1.37.1:0m\u001b[90m━━━━━━━━━━━━━━━━━━━━━━━━━━\u001b[0m \u001b[32m2/6\u001b[0m [botocore]\n",
      "\u001b[2K      Successfully uninstalled botocore-1.37.1━━━━━━━━━━━━━━━━\u001b[0m \u001b[32m2/6\u001b[0m [botocore]\n",
      "\u001b[2K  Attempting uninstall: s3transferm\u001b[90m━━━━━━━━━━━━━━━━━━━━━━━━━━\u001b[0m \u001b[32m2/6\u001b[0m [botocore]\n",
      "\u001b[2K    Found existing installation: s3transfer 0.11.3━━━━━━━━━━━━━━━━\u001b[0m \u001b[32m3/6\u001b[0m [s3transfer]\n",
      "\u001b[2K    Uninstalling s3transfer-0.11.3:[0m\u001b[90m━━━━━━━━━━━━━━━━━━━\u001b[0m \u001b[32m3/6\u001b[0m [s3transfer]\n",
      "\u001b[2K      Successfully uninstalled s3transfer-0.11.3━━━━━━━━━━━━━━\u001b[0m \u001b[32m3/6\u001b[0m [s3transfer]\n",
      "\u001b[2K  Attempting uninstall: boto3[90m╺\u001b[0m\u001b[90m━━━━━━━━━━━━━━━━━━━\u001b[0m \u001b[32m3/6\u001b[0m [s3transfer]\n",
      "\u001b[2K    Found existing installation: boto3 1.37.1━━━━━━━━━━━━━━━━━\u001b[0m \u001b[32m3/6\u001b[0m [s3transfer]\n",
      "\u001b[2K    Uninstalling boto3-1.37.1:90m╺\u001b[0m\u001b[90m━━━━━━━━━━━━━━━━━━━\u001b[0m \u001b[32m3/6\u001b[0m [s3transfer]\n",
      "\u001b[2K      Successfully uninstalled boto3-1.37.1━━━━━━━━━━━━━━━━━━━\u001b[0m \u001b[32m3/6\u001b[0m [s3transfer]\n",
      "\u001b[2K   \u001b[90m━━━━━━━━━━━━━━━━━━━━━━━━━━━━━━━━━━━━━━━━\u001b[0m \u001b[32m6/6\u001b[0m [awscli]2m5/6\u001b[0m [awscli]\n",
      "\u001b[1A\u001b[2K\u001b[31mERROR: pip's dependency resolver does not currently take into account all the packages that are installed. This behaviour is the source of the following dependency conflicts.\n",
      "autogluon-multimodal 1.4.0 requires nvidia-ml-py3<8.0,>=7.352.0, which is not installed.\n",
      "aiobotocore 2.21.1 requires botocore<1.37.2,>=1.37.0, but you have botocore 1.40.29 which is incompatible.\n",
      "autogluon-multimodal 1.4.0 requires transformers[sentencepiece]<4.50,>=4.38.0, but you have transformers 4.55.2 which is incompatible.\n",
      "autogluon-timeseries 1.4.0 requires transformers[sentencepiece]<4.50,>=4.38.0, but you have transformers 4.55.2 which is incompatible.\n",
      "sagemaker-studio-analytics-extension 0.2.0 requires sparkmagic==0.22.0, but you have sparkmagic 0.21.0 which is incompatible.\u001b[0m\u001b[31m\n",
      "\u001b[0mSuccessfully installed awscli-1.42.29 boto3-1.40.29 botocore-1.40.29 docutils-0.19 rsa-4.7.2 s3transfer-0.14.0\n",
      "Note: you may need to restart the kernel to use updated packages.\n"
     ]
    }
   ],
   "source": [
    "pip install --upgrade boto3 botocore awscli"
   ]
  },
  {
   "cell_type": "code",
   "execution_count": 2,
   "id": "b845fbfc-08c9-4efc-bc0b-db5f96c6facf",
   "metadata": {
    "execution": {
     "iopub.execute_input": "2025-09-12T01:52:40.857345Z",
     "iopub.status.busy": "2025-09-12T01:52:40.857058Z",
     "iopub.status.idle": "2025-09-12T01:52:43.819582Z",
     "shell.execute_reply": "2025-09-12T01:52:43.818795Z",
     "shell.execute_reply.started": "2025-09-12T01:52:40.857322Z"
    }
   },
   "outputs": [
    {
     "name": "stdout",
     "output_type": "stream",
     "text": [
      "sagemaker.config INFO - Not applying SDK defaults from location: /etc/xdg/sagemaker/config.yaml\n",
      "sagemaker.config INFO - Not applying SDK defaults from location: /home/sagemaker-user/.config/sagemaker/config.yaml\n"
     ]
    }
   ],
   "source": [
    "import boto3\n",
    "import sagemaker\n",
    "\n",
    "session = boto3.session.Session()\n",
    "region = session.region_name\n",
    "sagemaker_session = sagemaker.Session()\n",
    "bucket = sagemaker_session.default_bucket()\n",
    "\n",
    "s3 = boto3.Session().client(service_name=\"s3\", region_name=region)"
   ]
  },
  {
   "cell_type": "code",
   "execution_count": 3,
   "id": "cce119a4-3d07-4df2-a0db-d5504e21a392",
   "metadata": {
    "execution": {
     "iopub.execute_input": "2025-09-12T01:52:53.245370Z",
     "iopub.status.busy": "2025-09-12T01:52:53.245100Z",
     "iopub.status.idle": "2025-09-12T01:52:53.248598Z",
     "shell.execute_reply": "2025-09-12T01:52:53.247920Z",
     "shell.execute_reply.started": "2025-09-12T01:52:53.245349Z"
    }
   },
   "outputs": [],
   "source": [
    "setup_s3_bucket_passed = False"
   ]
  },
  {
   "cell_type": "code",
   "execution_count": 4,
   "id": "081b87f0-2817-4d21-bb3b-03db1bc29ad2",
   "metadata": {
    "execution": {
     "iopub.execute_input": "2025-09-12T01:53:00.028132Z",
     "iopub.status.busy": "2025-09-12T01:53:00.027828Z",
     "iopub.status.idle": "2025-09-12T01:53:00.046013Z",
     "shell.execute_reply": "2025-09-12T01:53:00.044897Z",
     "shell.execute_reply.started": "2025-09-12T01:53:00.028108Z"
    }
   },
   "outputs": [
    {
     "name": "stdout",
     "output_type": "stream",
     "text": [
      "Default bucket: sagemaker-us-east-1-590183687297\n"
     ]
    }
   ],
   "source": [
    "print(\"Default bucket: {}\".format(bucket))"
   ]
  },
  {
   "cell_type": "markdown",
   "id": "507dafcd-fe1e-4abf-9372-f30666136caa",
   "metadata": {},
   "source": [
    "Verify S3_BUCKET Bucket Creation"
   ]
  },
  {
   "cell_type": "code",
   "execution_count": 5,
   "id": "630e5650-f39e-4d65-a60d-3fa56dead63d",
   "metadata": {
    "execution": {
     "iopub.execute_input": "2025-09-12T01:53:30.945430Z",
     "iopub.status.busy": "2025-09-12T01:53:30.945152Z",
     "iopub.status.idle": "2025-09-12T01:53:30.996595Z",
     "shell.execute_reply": "2025-09-12T01:53:30.995931Z",
     "shell.execute_reply.started": "2025-09-12T01:53:30.945409Z"
    }
   },
   "outputs": [
    {
     "name": "stdout",
     "output_type": "stream",
     "text": [
      "{'ResponseMetadata': {'RequestId': 'ENWCNP07276K5ZSB', 'HostId': 'Tg05tJqfeO8P33BBFygDwHi+FlrvGRUDFvM89uM6DVBFbtCt8GexN0hCRra59gw62Ul3uMECRoM=', 'HTTPStatusCode': 200, 'HTTPHeaders': {'x-amz-id-2': 'Tg05tJqfeO8P33BBFygDwHi+FlrvGRUDFvM89uM6DVBFbtCt8GexN0hCRra59gw62Ul3uMECRoM=', 'x-amz-request-id': 'ENWCNP07276K5ZSB', 'date': 'Fri, 12 Sep 2025 01:53:31 GMT', 'x-amz-bucket-region': 'us-east-1', 'x-amz-access-point-alias': 'false', 'content-type': 'application/xml', 'transfer-encoding': 'chunked', 'server': 'AmazonS3'}, 'RetryAttempts': 0}, 'BucketRegion': 'us-east-1', 'AccessPointAlias': False}\n"
     ]
    }
   ],
   "source": [
    "from botocore.client import ClientError\n",
    "\n",
    "response = None\n",
    "\n",
    "try:\n",
    "    response = s3.head_bucket(Bucket=bucket)\n",
    "    print(response)\n",
    "    setup_s3_bucket_passed = True\n",
    "except ClientError as e:\n",
    "    print(\"[ERROR] Cannot find bucket {} in {} due to {}.\".format(bucket, response, e))"
   ]
  },
  {
   "cell_type": "code",
   "execution_count": 6,
   "id": "1fb2f0d1-af79-4552-9edf-502eb24c2ece",
   "metadata": {
    "execution": {
     "iopub.execute_input": "2025-09-12T01:53:44.628325Z",
     "iopub.status.busy": "2025-09-12T01:53:44.627939Z",
     "iopub.status.idle": "2025-09-12T01:53:44.633760Z",
     "shell.execute_reply": "2025-09-12T01:53:44.633075Z",
     "shell.execute_reply.started": "2025-09-12T01:53:44.628293Z"
    }
   },
   "outputs": [
    {
     "name": "stdout",
     "output_type": "stream",
     "text": [
      "Stored 'setup_s3_bucket_passed' (bool)\n"
     ]
    }
   ],
   "source": [
    "%store setup_s3_bucket_passed\n"
   ]
  },
  {
   "cell_type": "code",
   "execution_count": 7,
   "id": "693a9ec5-f03a-42d8-b6ed-c6eca8b52538",
   "metadata": {
    "execution": {
     "iopub.execute_input": "2025-09-12T01:53:50.025496Z",
     "iopub.status.busy": "2025-09-12T01:53:50.025225Z",
     "iopub.status.idle": "2025-09-12T01:53:50.030138Z",
     "shell.execute_reply": "2025-09-12T01:53:50.029435Z",
     "shell.execute_reply.started": "2025-09-12T01:53:50.025476Z"
    }
   },
   "outputs": [
    {
     "name": "stdout",
     "output_type": "stream",
     "text": [
      "Stored variables and their in-db values:\n",
      "setup_s3_bucket_passed             -> True\n"
     ]
    }
   ],
   "source": [
    "%store\n"
   ]
  },
  {
   "cell_type": "markdown",
   "id": "8f7c4f4d-cd99-46f4-acf4-8c33c4208a46",
   "metadata": {},
   "source": [
    "### Release Resources"
   ]
  },
  {
   "cell_type": "code",
   "execution_count": 8,
   "id": "c9560d26-b1b5-4111-8d45-a8b999f5fa65",
   "metadata": {
    "execution": {
     "iopub.execute_input": "2025-09-12T01:54:19.017755Z",
     "iopub.status.busy": "2025-09-12T01:54:19.017379Z",
     "iopub.status.idle": "2025-09-12T01:54:19.028918Z",
     "shell.execute_reply": "2025-09-12T01:54:19.026012Z",
     "shell.execute_reply.started": "2025-09-12T01:54:19.017723Z"
    }
   },
   "outputs": [
    {
     "data": {
      "text/html": [
       "\n",
       "<p><b>Shutting down your kernel for this notebook to release resources.</b></p>\n",
       "<button class=\"sm-command-button\" data-commandlinker-command=\"kernelmenu:shutdown\" style=\"display:none;\">Shutdown Kernel</button>\n",
       "        \n",
       "<script>\n",
       "try {\n",
       "    els = document.getElementsByClassName(\"sm-command-button\");\n",
       "    els[0].click();\n",
       "}\n",
       "catch(err) {\n",
       "    // NoOp\n",
       "}    \n",
       "</script>\n"
      ],
      "text/plain": [
       "<IPython.core.display.HTML object>"
      ]
     },
     "metadata": {},
     "output_type": "display_data"
    }
   ],
   "source": [
    "%%html\n",
    "\n",
    "<p><b>Shutting down your kernel for this notebook to release resources.</b></p>\n",
    "<button class=\"sm-command-button\" data-commandlinker-command=\"kernelmenu:shutdown\" style=\"display:none;\">Shutdown Kernel</button>\n",
    "        \n",
    "<script>\n",
    "try {\n",
    "    els = document.getElementsByClassName(\"sm-command-button\");\n",
    "    els[0].click();\n",
    "}\n",
    "catch(err) {\n",
    "    // NoOp\n",
    "}    \n",
    "</script>"
   ]
  },
  {
   "cell_type": "code",
   "execution_count": 1,
   "id": "7efc18c1-826a-4f70-9252-5327de1725b2",
   "metadata": {
    "execution": {
     "iopub.execute_input": "2025-09-12T01:54:29.021326Z",
     "iopub.status.busy": "2025-09-12T01:54:29.021058Z",
     "iopub.status.idle": "2025-09-12T01:54:29.029559Z",
     "shell.execute_reply": "2025-09-12T01:54:29.028872Z",
     "shell.execute_reply.started": "2025-09-12T01:54:29.021304Z"
    }
   },
   "outputs": [
    {
     "data": {
      "application/javascript": [
       "\n",
       "try {\n",
       "    Jupyter.notebook.save_checkpoint();\n",
       "    Jupyter.notebook.session.delete();\n",
       "}\n",
       "catch(err) {\n",
       "    // NoOp\n",
       "}\n"
      ],
      "text/plain": [
       "<IPython.core.display.Javascript object>"
      ]
     },
     "metadata": {},
     "output_type": "display_data"
    }
   ],
   "source": [
    "%%javascript\n",
    "\n",
    "try {\n",
    "    Jupyter.notebook.save_checkpoint();\n",
    "    Jupyter.notebook.session.delete();\n",
    "}\n",
    "catch(err) {\n",
    "    // NoOp\n",
    "}"
   ]
  },
  {
   "cell_type": "code",
   "execution_count": null,
   "id": "069d71e4-9199-453a-8dbc-fa65edb3c7fe",
   "metadata": {},
   "outputs": [],
   "source": []
  }
 ],
 "metadata": {
  "kernelspec": {
   "display_name": "Python 3 (ipykernel)",
   "language": "python",
   "name": "python3"
  },
  "language_info": {
   "codemirror_mode": {
    "name": "ipython",
    "version": 3
   },
   "file_extension": ".py",
   "mimetype": "text/x-python",
   "name": "python",
   "nbconvert_exporter": "python",
   "pygments_lexer": "ipython3",
   "version": "3.12.9"
  }
 },
 "nbformat": 4,
 "nbformat_minor": 5
}
